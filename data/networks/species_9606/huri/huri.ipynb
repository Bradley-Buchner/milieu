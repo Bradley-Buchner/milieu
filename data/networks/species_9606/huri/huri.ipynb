{
 "cells": [
  {
   "cell_type": "markdown",
   "metadata": {},
   "source": [
    "# Preparing network file for HuRI data.\n",
    "HuRI data at `data/networks/species_9606/huri/_raw/HI-union.tsv` downloaded from http://www.interactome-atlas.org/data/HI-union.tsv on June 18, 2020.  "
   ]
  },
  {
   "cell_type": "code",
   "execution_count": null,
   "metadata": {},
   "outputs": [],
   "source": []
  },
  {
   "cell_type": "code",
   "execution_count": 3,
   "metadata": {},
   "outputs": [],
   "source": [
    "import pandas as pd"
   ]
  },
  {
   "cell_type": "code",
   "execution_count": 42,
   "metadata": {},
   "outputs": [],
   "source": [
    "mapping_df = pd.read_csv(\"_raw/results.txt\", delimiter=\"\\t\")"
   ]
  },
  {
   "cell_type": "code",
   "execution_count": 43,
   "metadata": {},
   "outputs": [],
   "source": [
    "mapping_df = pd.read_csv(\"_raw/mapping.txt\", delimiter=\"\\t\")\n",
    "mapping_df = mapping_df.dropna(subset=[\"Ensembl gene ID\", \"NCBI Gene ID\"])\n",
    "mapping_df[\"ensembl_id\"] = mapping_df[\"Ensembl gene ID\"]\n",
    "mapping_df[\"entrez_id\"] = mapping_df[\"NCBI Gene ID\"].astype(int)\n",
    "mapping_df = mapping_df[[\"ensembl_id\", \"entrez_id\"]]\n",
    "mapping_df.to_csv(\"entrez_to_ensembl.csv\", index=False)"
   ]
  },
  {
   "cell_type": "code",
   "execution_count": 44,
   "metadata": {},
   "outputs": [],
   "source": [
    "network_df = pd.read_csv(\"_raw/HI-union.tsv\", delimiter=\"\\t\")"
   ]
  },
  {
   "cell_type": "code",
   "execution_count": 45,
   "metadata": {},
   "outputs": [],
   "source": [
    "network_df[\"entrez_a\"] = network_df.merge(mapping_df, how=\"left\", left_on=\"ensembl_a\", right_on=\"ensembl_id\")[\"entrez_id\"]\n",
    "network_df[\"entrez_b\"] = network_df.merge(mapping_df, how=\"left\", left_on=\"ensembl_b\", right_on=\"ensembl_id\")[\"entrez_id\"]"
   ]
  },
  {
   "cell_type": "code",
   "execution_count": 51,
   "metadata": {
    "tags": []
   },
   "outputs": [
    {
     "output_type": "stream",
     "name": "stdout",
     "text": "Dropped 1165 interactions because we were missing an entrez ID for one or both of the genes.\n"
    }
   ],
   "source": [
    "df = network_df[[\"entrez_a\", \"entrez_b\"]].dropna().astype(int)\n",
    "n_dropped = len(network_df) - len(df)\n",
    "print(f\"Dropped {n_dropped} interactions because we were missing an entrez ID for one or both of the genes.\")\n",
    "network_df = df"
   ]
  },
  {
   "cell_type": "code",
   "execution_count": 54,
   "metadata": {},
   "outputs": [],
   "source": [
    "network_df.to_csv(\"network.txt\", header=False, index=False, sep=' ')"
   ]
  },
  {
   "cell_type": "code",
   "execution_count": null,
   "metadata": {},
   "outputs": [],
   "source": []
  }
 ],
 "metadata": {
  "language_info": {
   "codemirror_mode": {
    "name": "ipython",
    "version": 3
   },
   "file_extension": ".py",
   "mimetype": "text/x-python",
   "name": "python",
   "nbconvert_exporter": "python",
   "pygments_lexer": "ipython3",
   "version": "3.7.3-final"
  },
  "orig_nbformat": 2,
  "kernelspec": {
   "name": "python37064bitenvvenv8fdb0dce1b0f4fbe8777082838f826c0",
   "display_name": "Python 3.7.0 64-bit ('env': venv)"
  }
 },
 "nbformat": 4,
 "nbformat_minor": 2
}