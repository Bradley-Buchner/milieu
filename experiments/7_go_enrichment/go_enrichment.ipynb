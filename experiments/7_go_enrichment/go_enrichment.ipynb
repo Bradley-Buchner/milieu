{
 "cells": [
  {
   "cell_type": "markdown",
   "metadata": {},
   "source": [
    "# Enrichment Analysis on LCI Predictions\n",
    "\n",
    "Analyzes the enrichment of proteins predicted by LCI"
   ]
  },
  {
   "cell_type": "code",
   "execution_count": 1,
   "metadata": {},
   "outputs": [],
   "source": [
    "%load_ext autoreload\n",
    "%autoreload 2\n",
    "\n",
    "import sys, os\n",
    "import json\n",
    "import pickle\n",
    "\n",
    "import numpy as np\n",
    "import matplotlib.pyplot as plt \n",
    "import torch\n",
    "import seaborn as sns\n",
    "import numpy as np\n",
    "from scipy.stats import pearsonr\n",
    "import pandas as pd\n",
    "import networkx as nx\n",
    "from tqdm import tqdm_notebook as tqdm\n",
    "import goatools\n",
    "from goatools.base import download_go_basic_obo, download_ncbi_associations\n",
    "from goatools.obo_parser import GODag\n",
    "from goatools.associations import read_ncbi_gene2go\n",
    "from goatools.go_enrichment import GOEnrichmentStudy\n",
    "\n",
    "\n",
    "from milieu.paper.methods.lci.lci_method import LCIModule\n",
    "from milieu.paper.experiments.go_enrichment import GOEnrichment\n",
    "from milieu.data.network import Network\n",
    "from milieu.data.go import load_go_annotations\n",
    "from milieu.util.util import Params, prepare_sns, load_mapping\n",
    "from milieu.data.associations import load_diseases\n",
    "os.chdir(\"/Users/sabrieyuboglu/Documents/School/SNAP/projects/disease-protein-prediction\")\n",
    "#os.chdir(\"/dfs/scratch0/sabri/disease-protein-prediction\")\n",
    "prepare_sns(sns, {})\n",
    "\n",
    "%matplotlib inline\n",
    "%config InlineBackend.figure_format = 'retina'"
   ]
  },
  {
   "cell_type": "markdown",
   "metadata": {
    "heading_collapsed": true
   },
   "source": [
    "## Loading Data\n",
    "Load disease associations and protein-protein interaction network."
   ]
  },
  {
   "cell_type": "code",
   "execution_count": 2,
   "metadata": {
    "hidden": true
   },
   "outputs": [],
   "source": [
    "# load diseases\n",
    "diseases_dict = load_diseases(\"data/associations/disgenet-associations.csv\", exclude_splits=['none'])"
   ]
  },
  {
   "cell_type": "code",
   "execution_count": 3,
   "metadata": {
    "hidden": true
   },
   "outputs": [],
   "source": [
    "# load network\n",
    "network = Network(\"data/networks/species_9606/bio-pathways/network.txt\")\n",
    "n = len(network)"
   ]
  },
  {
   "cell_type": "code",
   "execution_count": 6,
   "metadata": {
    "hidden": true
   },
   "outputs": [],
   "source": [
    "# load entrez mapping\n",
    "symbol_to_entrez = load_mapping(\"data/protein/symbol_to_entrez.txt\", \"\\t\")\n",
    "entrez_to_symbol = {int(entrez): symbol for symbol, entrez in symbol_to_entrez.items() if entrez!=\"\"}"
   ]
  },
  {
   "cell_type": "markdown",
   "metadata": {
    "heading_collapsed": true,
    "hidden": true
   },
   "source": [
    "### Load Predictions\n",
    "Load predictions from a disease protein prediction method."
   ]
  },
  {
   "cell_type": "code",
   "execution_count": 7,
   "metadata": {
    "hidden": true
   },
   "outputs": [],
   "source": [
    "preds_df = pd.read_csv(\"experiments/dpp_predict/lci/predictions.csv\", index_col=0)"
   ]
  },
  {
   "cell_type": "markdown",
   "metadata": {
    "hidden": true
   },
   "source": [
    "### Load Evaluation"
   ]
  },
  {
   "cell_type": "code",
   "execution_count": 8,
   "metadata": {
    "hidden": true
   },
   "outputs": [],
   "source": [
    "eval_df = pd.read_csv(\"experiments/aggregation/results.csv\", header=[0, 1], index_col=0)"
   ]
  },
  {
   "cell_type": "markdown",
   "metadata": {
    "heading_collapsed": true,
    "hidden": true
   },
   "source": [
    "### Load Enrichment Analysis\n",
    "Prepare an enrichment study"
   ]
  },
  {
   "cell_type": "code",
   "execution_count": 9,
   "metadata": {
    "hidden": true
   },
   "outputs": [
    {
     "name": "stdout",
     "output_type": "stream",
     "text": [
      "data/go/go-basic.obo: fmt(1.2) rel(2019-01-19) 47,379 GO Terms\n"
     ]
    }
   ],
   "source": [
    "# load gene ontology\n",
    "obodag = GODag(\"data/go/go-basic.obo\")"
   ]
  },
  {
   "cell_type": "code",
   "execution_count": 10,
   "metadata": {
    "hidden": true
   },
   "outputs": [
    {
     "name": "stdout",
     "output_type": "stream",
     "text": [
      "  20,385 items READ: data/go/gene2go.txt\n"
     ]
    }
   ],
   "source": [
    "geneid2go = read_ncbi_gene2go(\"data/go/gene2go.txt\", taxids=[9606])"
   ]
  },
  {
   "cell_type": "code",
   "execution_count": 11,
   "metadata": {
    "hidden": true
   },
   "outputs": [
    {
     "name": "stdout",
     "output_type": "stream",
     "text": [
      "fisher module not installed.  Falling back on scipy.stats.fisher_exact\n"
     ]
    },
    {
     "name": "stderr",
     "output_type": "stream",
     "text": [
      "Propagating term counts to parents ..\n"
     ]
    },
    {
     "name": "stdout",
     "output_type": "stream",
     "text": [
      " 76% 16,420 of 21,557 population items found in association\n"
     ]
    }
   ],
   "source": [
    "goeaobj = GOEnrichmentStudy(network.get_names(), # List of mouse protein-coding genes\n",
    "                            geneid2go, # geneid/GO associations\n",
    "                            obodag, # Ontologies\n",
    "                            propagate_counts = True,\n",
    "                            alpha = 0.05, # default significance cut-off\n",
    "                            methods = ['fdr_bh']) # defult multipletest correction method"
   ]
  },
  {
   "cell_type": "markdown",
   "metadata": {
    "heading_collapsed": true
   },
   "source": [
    "## Perform Enrichment Analysis\n",
    "Perform an enrichment analysis on one disease. "
   ]
  },
  {
   "cell_type": "code",
   "execution_count": 21,
   "metadata": {
    "hidden": true,
    "scrolled": true
   },
   "outputs": [
    {
     "name": "stdout",
     "output_type": "stream",
     "text": [
      "Congenital adrenal hyperplasia: [HTR4, PRKAR1A, POR, AVPR1A, AVPR2, PDE8B, CYP11B1, CYP17A1, STAR, HSD3B2, CYP21A2]\n",
      "(1) AVPR1B, (2) CYP11B2, (3) OXTR, (4) CYP11A1, (5) ZNF653, (6) AVP\n"
     ]
    }
   ],
   "source": [
    "disease_id = \"C0001627\"\n",
    "disease_proteins = set(diseases_dict[disease_id].proteins)\n",
    "disease_symbols = [entrez_to_symbol[entrez] for entrez in disease_proteins if entrez in entrez_to_symbol]\n",
    "symbols_str=str(disease_symbols).replace('\\'', '')\n",
    "print(f\"{diseases_dict[disease_id].name}: {symbols_str}\")\n",
    "sorted_predictions = preds_df.loc[disease_id].sort_values(ascending=False).index\n",
    "print_list([entrez_to_symbol[int(entrez)] for entrez in sorted_predictions[:7] if int(entrez) in entrez_to_symbol])"
   ]
  },
  {
   "cell_type": "code",
   "execution_count": 22,
   "metadata": {
    "hidden": true
   },
   "outputs": [
    {
     "name": "stdout",
     "output_type": "stream",
     "text": [
      "100%     11 of     11 study items found in association\n",
      "100%     11 of     11 study items found in population(21557)\n",
      "Calculating 21,968 uncorrected p-values using fisher_scipy_stats\n",
      "  21,968 GO terms are associated with 16,420 of 21,557 population items\n",
      "     936 GO terms are associated with     11 of     11 study items\n",
      "      85 GO terms found significant (< 0.05=alpha) after multitest correction: statsmodels fdr_bh\n"
     ]
    }
   ],
   "source": [
    "# run disease enrichment\n",
    "disease_results = goeaobj.run_study(disease_proteins)"
   ]
  },
  {
   "cell_type": "code",
   "execution_count": 23,
   "metadata": {
    "hidden": true
   },
   "outputs": [
    {
     "name": "stdout",
     "output_type": "stream",
     "text": [
      " 91%     10 of     11 study items found in association\n",
      "100%     11 of     11 study items found in population(21557)\n",
      "Calculating 21,968 uncorrected p-values using fisher_scipy_stats\n",
      "  21,968 GO terms are associated with 16,420 of 21,557 population items\n",
      "     769 GO terms are associated with     10 of     11 study items\n",
      "      27 GO terms found significant (< 0.05=alpha) after multitest correction: statsmodels fdr_bh\n"
     ]
    }
   ],
   "source": [
    "# run prediction enrichment\n",
    "pred_proteins = set(map(int, sorted_predictions[:len(disease_proteins)]))\n",
    "pred_results = goeaobj.run_study(pred_proteins)"
   ]
  },
  {
   "cell_type": "code",
   "execution_count": 24,
   "metadata": {
    "hidden": true
   },
   "outputs": [],
   "source": [
    "def print_list(term_list):\n",
    "    string = \"\"\n",
    "    for i, term in enumerate(term_list):\n",
    "        string += f\"({i+1}) {term}, \"\n",
    "    print(string[:-2])"
   ]
  },
  {
   "cell_type": "code",
   "execution_count": 25,
   "metadata": {
    "hidden": true
   },
   "outputs": [
    {
     "name": "stdout",
     "output_type": "stream",
     "text": [
      "(1) glucocorticoid metabolic process, (2) glucocorticoid biosynthetic process, (3) hormone biosynthetic process, (4) C21-steroid hormone metabolic process, (5) cellular hormone metabolic process\n",
      "(1) regulation of systemic arterial blood pressure by hormone, (2) endocrine process, (3) regulation of systemic arterial blood pressure mediated by a chemical signal, (4) positive regulation of vasoconstriction, (5) positive regulation of blood pressure\n"
     ]
    }
   ],
   "source": [
    "k = 5\n",
    "disease_top_k = sorted(disease_results, key=lambda x: x.p_fdr_bh)[:k]\n",
    "disease_significant = [r for r in disease_results if r.p_fdr_bh < 0.05]\n",
    "print_list([result.goterm.name for result in disease_top_k])\n",
    "pred_top_k = sorted(pred_results, key=lambda x: x.p_fdr_bh)[:k]\n",
    "pred_significant = [r for r in pred_results if r.p_fdr_bh < 0.05]\n",
    "print_list([result.goterm.name for result in pred_top_k])"
   ]
  },
  {
   "cell_type": "code",
   "execution_count": 26,
   "metadata": {
    "hidden": true
   },
   "outputs": [
    {
     "name": "stdout",
     "output_type": "stream",
     "text": [
      "Jaccard Similarity: 0.0\n"
     ]
    }
   ],
   "source": [
    "intersection = set([result.goterm.name for result in disease_top_k]) & set([result.goterm.name for result in pred_top_k])\n",
    "union = set([result.goterm.name for result in disease_top_k]) | set([result.goterm.name for result in pred_top_k])\n",
    "print(\"Jaccard Similarity: {}\".format(1.0*len(intersection)/len(union)))"
   ]
  },
  {
   "cell_type": "code",
   "execution_count": 27,
   "metadata": {
    "hidden": true
   },
   "outputs": [
    {
     "name": "stdout",
     "output_type": "stream",
     "text": [
      "Jaccard Similarity: 0.15463917525773196\n"
     ]
    }
   ],
   "source": [
    "intersection = set([result.goterm.name for result in pred_significant]) & set([result.goterm.name for result in disease_significant])\n",
    "union = set([result.goterm.name for result in pred_significant]) | set([result.goterm.name for result in disease_significant])\n",
    "\n",
    "print(\"Jaccard Similarity: {}\".format(1.0*len(intersection)/len(union)))"
   ]
  },
  {
   "cell_type": "markdown",
   "metadata": {},
   "source": [
    "## Analyze Enrichment Results\n",
    "Load enrichment study results"
   ]
  },
  {
   "cell_type": "markdown",
   "metadata": {},
   "source": [
    "### Load Enrichment Results"
   ]
  },
  {
   "cell_type": "code",
   "execution_count": 11,
   "metadata": {},
   "outputs": [],
   "source": [
    "experiment_dir = 'experiments/go_enrichment/precompute'"
   ]
  },
  {
   "cell_type": "code",
   "execution_count": 12,
   "metadata": {},
   "outputs": [],
   "source": [
    "outputs_path = os.path.join(experiment_dir, \"outputs.pkl\")\n",
    "if os.path.exists(outputs_path):\n",
    "    with open(outputs_path, 'rb') as f:\n",
    "        outputs = pickle.load(f)"
   ]
  },
  {
   "cell_type": "markdown",
   "metadata": {
    "heading_collapsed": true
   },
   "source": [
    "### Jaccard"
   ]
  },
  {
   "cell_type": "code",
   "execution_count": 14,
   "metadata": {
    "hidden": true
   },
   "outputs": [],
   "source": [
    "def get_significant_terms(output, threshold=0.05):\n",
    "    \"\"\"\n",
    "    \"\"\"\n",
    "    terms, pvalues = list(zip(*output.items()))\n",
    "    significant_idxs = np.where(np.array(pvalues) < threshold)\n",
    "    return np.array(terms)[significant_idxs]"
   ]
  },
  {
   "cell_type": "code",
   "execution_count": 15,
   "metadata": {
    "hidden": true
   },
   "outputs": [],
   "source": [
    "def jaccard(a_terms, b_terms):\n",
    "    \"\"\"\n",
    "    \"\"\"\n",
    "    a_terms = set(a_terms)\n",
    "    b_terms = set(b_terms)\n",
    "    return (len(a_terms & b_terms) / len(a_terms | b_terms) if len(a_terms | b_terms) != 0 else 0)"
   ]
  },
  {
   "cell_type": "code",
   "execution_count": 19,
   "metadata": {
    "hidden": true
   },
   "outputs": [
    {
     "data": {
      "application/vnd.jupyter.widget-view+json": {
       "model_id": "6a240cc56d4a40ca9986f729ad2eab80",
       "version_major": 2,
       "version_minor": 0
      },
      "text/plain": [
       "HBox(children=(IntProgress(value=0, max=1811), HTML(value='')))"
      ]
     },
     "metadata": {},
     "output_type": "display_data"
    }
   ],
   "source": [
    "output = outputs[\"C0013182\"]\n",
    "\n",
    "jaccard_results = {}\n",
    "for disease_id, output in tqdm(outputs.items()):\n",
    "    disease_terms = get_significant_terms(output[\"disease\"], threshold=0.01)\n",
    "    lci_terms = get_significant_terms(output[\"lci\"], threshold=0.01)\n",
    "    rw_terms = get_significant_terms(output[\"random_walk\"], threshold=0.01)\n",
    "    lci_jaccard = jaccard(disease_terms, lci_terms)\n",
    "    rw_jaccard = jaccard(disease_terms, rw_terms)\n",
    "    jaccard_results[disease_id] = {\n",
    "        \"lci\": lci_jaccard,\n",
    "        \"rw\": rw_jaccard\n",
    "    }"
   ]
  },
  {
   "cell_type": "code",
   "execution_count": 21,
   "metadata": {
    "hidden": true
   },
   "outputs": [],
   "source": [
    "jaccard_df = pd.DataFrame(list(jaccard_results.values()), index=list(jaccard_results.keys()))"
   ]
  },
  {
   "cell_type": "code",
   "execution_count": 22,
   "metadata": {
    "hidden": true
   },
   "outputs": [
    {
     "data": {
      "text/plain": [
       "<matplotlib.legend.Legend at 0x34b69d6d8>"
      ]
     },
     "execution_count": 22,
     "metadata": {},
     "output_type": "execute_result"
    },
    {
     "data": {
      "image/png": "[encoded data removed]",
      "text/plain": [
       "<Figure size 432x288 with 1 Axes>"
      ]
     },
     "metadata": {
      "image/png": {
       "height": 270,
       "width": 398
      },
      "needs_background": "light"
     },
     "output_type": "display_data"
    }
   ],
   "source": [
    "sns.distplot(jaccard_df[\"lci\"], bins=22, kde=False, label=\"LCI\", hist_kws={\"range\": (0, 1),\n",
    "                                                                                        \"color\": \"#E03C3F\",\n",
    "                                                                                        \"alpha\":0.8})\n",
    "sns.distplot(jaccard_df[\"rw\"], bins=22, kde=False, label=\"Random Walk\", hist_kws={\"range\": (0, 1),\n",
    "                                                                                      \"color\": \"lightgrey\",\n",
    "                                                                                      \"alpha\": 0.8})\n",
    "sns.despine()\n",
    "plt.yscale('linear')\n",
    "plt.xlabel(\"Jaccard similarity of enriched functional classes\")\n",
    "plt.ylabel(\"# of diseases [linear]\")\n",
    "plt.legend()"
   ]
  },
  {
   "cell_type": "markdown",
   "metadata": {},
   "source": [
    "### Spearman"
   ]
  },
  {
   "cell_type": "code",
   "execution_count": 89,
   "metadata": {},
   "outputs": [],
   "source": [
    "from scipy.stats import spearmanr\n",
    " \n",
    "def compute_spearman_correlation(a_term_to_pval, b_term_to_pval, terms=None):\n",
    "        \"\"\"\n",
    "        \"\"\"\n",
    "        if terms is None:\n",
    "            terms = list(a_term_to_pval.keys())\n",
    "        print(len([a_term_to_pval[term] for term in terms]))\n",
    "        print(len([b_term_to_pval[term] for term in terms]))\n",
    "        print(np.max([a_term_to_pval[term] for term in terms]))\n",
    "\n",
    "        sp_corr, sp_pval = spearmanr([a_term_to_pval[term] for term in terms],\n",
    "                                     [b_term_to_pval[term] for term in terms])\n",
    "        return sp_corr, sp_pval"
   ]
  },
  {
   "cell_type": "code",
   "execution_count": 90,
   "metadata": {},
   "outputs": [
    {
     "name": "stdout",
     "output_type": "stream",
     "text": [
      "21968\n",
      "21968\n",
      "1.0\n"
     ]
    },
    {
     "data": {
      "text/plain": [
       "nan"
      ]
     },
     "execution_count": 90,
     "metadata": {},
     "output_type": "execute_result"
    }
   ],
   "source": [
    "output = outputs[\"C1849295\"]\n",
    "lci_spearman, _ = compute_spearman_correlation(output[\"disease\"], output[\"lci\"])\n",
    "a_term_to_pval = output[\"lci\"]\n",
    "terms = list(a_term_to_pval.keys())\n",
    "np.max(np.isnan([a_term_to_pval[term] for term in terms]))\n",
    "lci_spearman"
   ]
  },
  {
   "cell_type": "code",
   "execution_count": 48,
   "metadata": {},
   "outputs": [
    {
     "data": {
      "application/vnd.jupyter.widget-view+json": {
       "model_id": "95d3c7ca257142e9a1043517930978fa",
       "version_major": 2,
       "version_minor": 0
      },
      "text/plain": [
       "HBox(children=(IntProgress(value=0, max=1811), HTML(value='')))"
      ]
     },
     "metadata": {},
     "output_type": "display_data"
    },
    {
     "name": "stdout",
     "output_type": "stream",
     "text": [
      "C0013182 : 0.36360633290892563\n",
      "C0917798 : 0.3061427794693464\n",
      "C0020295 : 0.14015612031940167\n",
      "C3714796 : 0.2592817408521119\n",
      "C1866134 : 0.1806777413134153\n",
      "C2364082 : 0.4172336371809044\n",
      "C1276035 : 0.2489811102921693\n",
      "C0027022 : 0.3545704337678227\n",
      "C1833225 : 0.10420379190492367\n",
      "C0206620 : 0.32250209318132983\n",
      "C0006413 : 0.18540495185692138\n",
      "C0019158 : 0.2285060156101995\n",
      "C0003126 : 0.4048158453726664\n",
      "C0241074 : 0.3678966896098149\n",
      "C0020459 : 0.2814899870250428\n",
      "C0020541 : 0.37359924042285453\n",
      "C0014474 : 0.27826295390218614\n",
      "C4020838 : 0.2949825518042516\n",
      "C0221170 : 0.27655009296542443\n",
      "C3275417 : 0.34888649858049336\n",
      "C0349204 : 0.3629079179155551\n",
      "C0007787 : 0.09018549377001489\n",
      "C0018916 : 0.14519104993530874\n",
      "C1837485 : 0.15264705639472503\n",
      "C0007222 : 0.27455165474605464\n",
      "C2673410 : 0.41698444839511944\n",
      "C0234182 : 0.2594300082506534\n",
      "C0023493 : 0.3887464610019395\n",
      "C0023434 : 0.39515101068274283\n",
      "C0239946 : 0.36772041030726016\n",
      "C0013336 : 0.22769362549310304\n",
      "C0014591 : 0.3924622044543078\n",
      "C0870082 : 0.3369055150458611\n",
      "C0338715 : 0.10367418723475574\n",
      "C0431904 : 0.17527534553290142\n",
      "C1328931 : 0.1646747632113279\n",
      "C4020958 : 0.13873262733282837\n",
      "C0042510 : 0.45036325197838734\n",
      "C0037293 : 0.23948203407276278\n",
      "C0271578 : 0.42090287759369904\n",
      "C1398312 : 0.3226445672143561\n",
      "C1857202 : 0.5159726337176166\n",
      "C0024301 : 0.10793058781606582\n",
      "C4023397 : 0.3110852103876455\n",
      "C0152031 : 0.3198700994526687\n",
      "C1859117 : 0.3315462599168986\n",
      "C1865060 : 0.12290330902175825\n",
      "C0427063 : 0.05593337939234065\n",
      "C0006157 : 0.22663019888462008\n",
      "C0271388 : 0.22548601864653947\n",
      "C0009676 : 0.2729597753431272\n",
      "C0013604 : 0.388154596608844\n",
      "C1849295 : nan\n",
      "C3161330 : 0.09527735811081661\n",
      "C0234632 : 0.19859108594658592\n",
      "C1846149 : 0.29259707485725134\n",
      "C0019294 : 0.39531028705495913\n",
      "C0026106 : 0.3342703562866276\n",
      "C0024232 : 0.04205413794471453\n",
      "C0263401 : 0.36749449969654396\n",
      "C0311375 : 0.3237700080140723\n",
      "C4021753 : 0.18106333351367604\n",
      "C0019196 : 0.10459693838590495\n",
      "C0752347 : 0.350027752826832\n",
      "C0007138 : 0.40391506904135555\n",
      "C4049796 : 0.3702786702731642\n",
      "C0240063 : 0.30530207792051306\n",
      "C1865992 : 0.4407218081926462\n",
      "C2937358 : 0.3746951858316416\n",
      "C0220981 : 0.31440950753854413\n",
      "C1839758 : 0.019718943648281334\n",
      "C0014850 : 0.15251010121846015\n",
      "C1857486 : 0.2898420713197422\n",
      "C1846460 : 0.14202499870166846\n",
      "C3665596 : 0.22311679210953222\n",
      "C0240310 : 0.43200157907016656\n",
      "C0155552 : 0.37589133777344025\n",
      "C0007194 : 0.2357633928160352\n",
      "C0020615 : 0.259927523034294\n",
      "C0003850 : 0.3671603195352539\n",
      "C1854912 : 0.23950988860313524\n",
      "C1298695 : nan\n",
      "C0231807 : 0.3397020376323594\n",
      "C1850049 : 0.43955507097517815\n",
      "C0004782 : 0.15662928475683577\n",
      "C1856661 : 0.2543242047172009\n",
      "C1851854 : 0.261180092617074\n",
      "C0024809 : 0.32470441049729354\n",
      "C0162538 : 0.2601736716666272\n",
      "C1846439 : 0.4046266515649122\n",
      "C0220994 : 0.2984621337284199\n",
      "C0005937 : 0.09705148380804689\n",
      "C0240379 : 0.29594515085157225\n",
      "C0393706 : nan\n",
      "C0730292 : -0.0011246372429377877\n",
      "C0267812 : 0.1366284284874124\n",
      "C0162835 : 0.24665526869573826\n",
      "C0079773 : 0.3839165827020293\n",
      "C3277697 : 0.1364601016998116\n",
      "C0850715 : 0.16294520256079403\n",
      "C0151514 : 0.36678885164209035\n",
      "C1142166 : 0.4158038315738353\n",
      "C0040336 : 0.34888505991908514\n",
      "C0162671 : 0.2793647395244432\n",
      "C1855773 : 0.16556220310048195\n",
      "C0751466 : 0.04990840059540593\n",
      "C4020851 : 0.030834191144948224\n",
      "C0037926 : 0.21902516946695358\n",
      "C1280433 : 0.33381970680540723\n",
      "C0025521 : -0.0032268257680282395\n",
      "C0162834 : 0.3108463053144809\n",
      "C0241054 : 0.31511881375650846\n",
      "C0542223 : 0.0481368148493382\n",
      "C1840077 : 0.29860402661620805\n",
      "C0349639 : 0.37196428137316995\n",
      "C0566899 : 0.35169604447461594\n",
      "C0040028 : 0.23615999297057047\n",
      "C1834752 : 0.2285498765998886\n",
      "C4025763 : nan\n",
      "C0021364 : 0.301203935275125\n",
      "C0001925 : 0.23507257188928712\n",
      "C0409354 : 0.1990653765953588\n",
      "C0018920 : 0.1843039836187296\n",
      "C0271215 : 0.2351229604675529\n",
      "C0007621 : 0.516804485129888\n",
      "C0036202 : 0.07317811703588373\n",
      "C0004245 : 0.2598406555690018\n",
      "C1865866 : 0.06361588603444557\n",
      "C1840069 : 0.32333588231655097\n",
      "C0266387 : nan\n",
      "C0151747 : 0.0844278477087594\n",
      "C0151908 : 0.36695856424582407\n",
      "C0021361 : 0.15804454018989963\n",
      "C0265677 : 0.27360987696014155\n",
      "C1836735 : 0.3596948765858392\n",
      "C0011854 : 0.38862942667288675\n",
      "C0157733 : 0.15420146413148542\n",
      "C0021051 : 0.4228443113121839\n",
      "C1857287 : 0.5138798008706067\n",
      "C0013421 : 0.24425851993436243\n",
      "C0027658 : 0.006594810700806969\n",
      "\n"
     ]
    },
    {
     "ename": "KeyboardInterrupt",
     "evalue": "",
     "output_type": "error",
     "traceback": [
      "\u001b[0;31m---------------------------------------------------------------------------\u001b[0m",
      "\u001b[0;31mKeyboardInterrupt\u001b[0m                         Traceback (most recent call last)",
      "\u001b[0;32m<ipython-input-48-4d6a64eefdf4>\u001b[0m in \u001b[0;36m<module>\u001b[0;34m\u001b[0m\n\u001b[1;32m      3\u001b[0m     \u001b[0mlci_spearman\u001b[0m\u001b[0;34m,\u001b[0m \u001b[0m_\u001b[0m \u001b[0;34m=\u001b[0m \u001b[0mcompute_spearman_correlation\u001b[0m\u001b[0;34m(\u001b[0m\u001b[0moutput\u001b[0m\u001b[0;34m[\u001b[0m\u001b[0;34m\"disease\"\u001b[0m\u001b[0;34m]\u001b[0m\u001b[0;34m,\u001b[0m \u001b[0moutput\u001b[0m\u001b[0;34m[\u001b[0m\u001b[0;34m\"lci\"\u001b[0m\u001b[0;34m]\u001b[0m\u001b[0;34m)\u001b[0m\u001b[0;34m\u001b[0m\u001b[0;34m\u001b[0m\u001b[0m\n\u001b[1;32m      4\u001b[0m     \u001b[0mprint\u001b[0m\u001b[0;34m(\u001b[0m\u001b[0mdisease_id\u001b[0m\u001b[0;34m,\u001b[0m \u001b[0;34m\":\"\u001b[0m\u001b[0;34m,\u001b[0m \u001b[0mlci_spearman\u001b[0m\u001b[0;34m)\u001b[0m\u001b[0;34m\u001b[0m\u001b[0;34m\u001b[0m\u001b[0m\n\u001b[0;32m----> 5\u001b[0;31m     \u001b[0mrw_spearman\u001b[0m\u001b[0;34m,\u001b[0m \u001b[0m_\u001b[0m \u001b[0;34m=\u001b[0m \u001b[0mcompute_spearman_correlation\u001b[0m\u001b[0;34m(\u001b[0m\u001b[0moutput\u001b[0m\u001b[0;34m[\u001b[0m\u001b[0;34m\"disease\"\u001b[0m\u001b[0;34m]\u001b[0m\u001b[0;34m,\u001b[0m \u001b[0moutput\u001b[0m\u001b[0;34m[\u001b[0m\u001b[0;34m\"random_walk\"\u001b[0m\u001b[0;34m]\u001b[0m\u001b[0;34m)\u001b[0m\u001b[0;34m\u001b[0m\u001b[0;34m\u001b[0m\u001b[0m\n\u001b[0m\u001b[1;32m      6\u001b[0m     spearman_results[disease_id] = {\n\u001b[1;32m      7\u001b[0m         \u001b[0;34m\"lci\"\u001b[0m\u001b[0;34m:\u001b[0m \u001b[0mlci_spearman\u001b[0m\u001b[0;34m,\u001b[0m\u001b[0;34m\u001b[0m\u001b[0;34m\u001b[0m\u001b[0m\n",
      "\u001b[0;32m<ipython-input-9-8d4aca7e96ec>\u001b[0m in \u001b[0;36mcompute_spearman_correlation\u001b[0;34m(a_term_to_pval, b_term_to_pval, terms)\u001b[0m\n\u001b[1;32m      7\u001b[0m             \u001b[0mterms\u001b[0m \u001b[0;34m=\u001b[0m \u001b[0mlist\u001b[0m\u001b[0;34m(\u001b[0m\u001b[0ma_term_to_pval\u001b[0m\u001b[0;34m.\u001b[0m\u001b[0mkeys\u001b[0m\u001b[0;34m(\u001b[0m\u001b[0;34m)\u001b[0m\u001b[0;34m)\u001b[0m\u001b[0;34m\u001b[0m\u001b[0;34m\u001b[0m\u001b[0m\n\u001b[1;32m      8\u001b[0m         sp_corr, sp_pval = spearmanr([a_term_to_pval[term] for term in terms],\n\u001b[0;32m----> 9\u001b[0;31m                                      [b_term_to_pval[term] for term in terms])\n\u001b[0m\u001b[1;32m     10\u001b[0m         \u001b[0;32mreturn\u001b[0m \u001b[0msp_corr\u001b[0m\u001b[0;34m,\u001b[0m \u001b[0msp_pval\u001b[0m\u001b[0;34m\u001b[0m\u001b[0;34m\u001b[0m\u001b[0m\n",
      "\u001b[0;32m~/Documents/School/SNAP/projects/disease-protein-prediction/env/lib/python3.7/site-packages/scipy/stats/stats.py\u001b[0m in \u001b[0;36mspearmanr\u001b[0;34m(a, b, axis, nan_policy)\u001b[0m\n\u001b[1;32m   3345\u001b[0m                 \u001b[0mvariable_has_nan\u001b[0m \u001b[0;34m=\u001b[0m \u001b[0mnp\u001b[0m\u001b[0;34m.\u001b[0m\u001b[0misnan\u001b[0m\u001b[0;34m(\u001b[0m\u001b[0ma\u001b[0m\u001b[0;34m)\u001b[0m\u001b[0;34m.\u001b[0m\u001b[0msum\u001b[0m\u001b[0;34m(\u001b[0m\u001b[0maxis\u001b[0m\u001b[0;34m=\u001b[0m\u001b[0maxisout\u001b[0m\u001b[0;34m)\u001b[0m\u001b[0;34m\u001b[0m\u001b[0;34m\u001b[0m\u001b[0m\n\u001b[1;32m   3346\u001b[0m \u001b[0;34m\u001b[0m\u001b[0m\n\u001b[0;32m-> 3347\u001b[0;31m     \u001b[0ma_ranked\u001b[0m \u001b[0;34m=\u001b[0m \u001b[0mnp\u001b[0m\u001b[0;34m.\u001b[0m\u001b[0mapply_along_axis\u001b[0m\u001b[0;34m(\u001b[0m\u001b[0mrankdata\u001b[0m\u001b[0;34m,\u001b[0m \u001b[0maxisout\u001b[0m\u001b[0;34m,\u001b[0m \u001b[0ma\u001b[0m\u001b[0;34m)\u001b[0m\u001b[0;34m\u001b[0m\u001b[0;34m\u001b[0m\u001b[0m\n\u001b[0m\u001b[1;32m   3348\u001b[0m     \u001b[0mrs\u001b[0m \u001b[0;34m=\u001b[0m \u001b[0mnp\u001b[0m\u001b[0;34m.\u001b[0m\u001b[0mcorrcoef\u001b[0m\u001b[0;34m(\u001b[0m\u001b[0ma_ranked\u001b[0m\u001b[0;34m,\u001b[0m \u001b[0mrowvar\u001b[0m\u001b[0;34m=\u001b[0m\u001b[0maxisout\u001b[0m\u001b[0;34m)\u001b[0m\u001b[0;34m\u001b[0m\u001b[0;34m\u001b[0m\u001b[0m\n\u001b[1;32m   3349\u001b[0m     \u001b[0mdof\u001b[0m \u001b[0;34m=\u001b[0m \u001b[0mn_obs\u001b[0m \u001b[0;34m-\u001b[0m \u001b[0;36m2\u001b[0m  \u001b[0;31m# degrees of freedom\u001b[0m\u001b[0;34m\u001b[0m\u001b[0;34m\u001b[0m\u001b[0m\n",
      "\u001b[0;32m~/Documents/School/SNAP/projects/disease-protein-prediction/env/lib/python3.7/site-packages/numpy/lib/shape_base.py\u001b[0m in \u001b[0;36mapply_along_axis\u001b[0;34m(func1d, axis, arr, *args, **kwargs)\u001b[0m\n\u001b[1;32m    370\u001b[0m     \u001b[0;31m# compute indices for the iteration axes, and append a trailing ellipsis to\u001b[0m\u001b[0;34m\u001b[0m\u001b[0;34m\u001b[0m\u001b[0;34m\u001b[0m\u001b[0m\n\u001b[1;32m    371\u001b[0m     \u001b[0;31m# prevent 0d arrays decaying to scalars, which fixes gh-8642\u001b[0m\u001b[0;34m\u001b[0m\u001b[0;34m\u001b[0m\u001b[0;34m\u001b[0m\u001b[0m\n\u001b[0;32m--> 372\u001b[0;31m     \u001b[0minds\u001b[0m \u001b[0;34m=\u001b[0m \u001b[0mndindex\u001b[0m\u001b[0;34m(\u001b[0m\u001b[0minarr_view\u001b[0m\u001b[0;34m.\u001b[0m\u001b[0mshape\u001b[0m\u001b[0;34m[\u001b[0m\u001b[0;34m:\u001b[0m\u001b[0;34m-\u001b[0m\u001b[0;36m1\u001b[0m\u001b[0;34m]\u001b[0m\u001b[0;34m)\u001b[0m\u001b[0;34m\u001b[0m\u001b[0;34m\u001b[0m\u001b[0m\n\u001b[0m\u001b[1;32m    373\u001b[0m     \u001b[0minds\u001b[0m \u001b[0;34m=\u001b[0m \u001b[0;34m(\u001b[0m\u001b[0mind\u001b[0m \u001b[0;34m+\u001b[0m \u001b[0;34m(\u001b[0m\u001b[0mEllipsis\u001b[0m\u001b[0;34m,\u001b[0m\u001b[0;34m)\u001b[0m \u001b[0;32mfor\u001b[0m \u001b[0mind\u001b[0m \u001b[0;32min\u001b[0m \u001b[0minds\u001b[0m\u001b[0;34m)\u001b[0m\u001b[0;34m\u001b[0m\u001b[0;34m\u001b[0m\u001b[0m\n\u001b[1;32m    374\u001b[0m \u001b[0;34m\u001b[0m\u001b[0m\n",
      "\u001b[0;32m~/Documents/School/SNAP/projects/disease-protein-prediction/env/lib/python3.7/site-packages/numpy/lib/index_tricks.py\u001b[0m in \u001b[0;36m__init__\u001b[0;34m(self, *shape)\u001b[0m\n\u001b[1;32m    638\u001b[0m                        strides=_nx.zeros_like(shape))\n\u001b[1;32m    639\u001b[0m         self._it = _nx.nditer(x, flags=['multi_index', 'zerosize_ok'],\n\u001b[0;32m--> 640\u001b[0;31m                               order='C')\n\u001b[0m\u001b[1;32m    641\u001b[0m \u001b[0;34m\u001b[0m\u001b[0m\n\u001b[1;32m    642\u001b[0m     \u001b[0;32mdef\u001b[0m \u001b[0m__iter__\u001b[0m\u001b[0;34m(\u001b[0m\u001b[0mself\u001b[0m\u001b[0;34m)\u001b[0m\u001b[0;34m:\u001b[0m\u001b[0;34m\u001b[0m\u001b[0;34m\u001b[0m\u001b[0m\n",
      "\u001b[0;31mKeyboardInterrupt\u001b[0m: "
     ]
    }
   ],
   "source": [
    "spearman_results = {}\n",
    "for disease_id, output in tqdm(outputs.items()):\n",
    "    lci_spearman, _ = compute_spearman_correlation(output[\"disease\"], output[\"lci\"])\n",
    "    print(disease_id, \":\", lci_spearman)\n",
    "    rw_spearman, _ = compute_spearman_correlation(output[\"disease\"], output[\"random_walk\"])\n",
    "    spearman_results[disease_id] = {\n",
    "        \"lci\": lci_spearman,\n",
    "        \"rw\": rw_spearman\n",
    "    }"
   ]
  },
  {
   "cell_type": "code",
   "execution_count": 46,
   "metadata": {},
   "outputs": [
    {
     "data": {
      "text/plain": [
       "lci    0.248402\n",
       "rw     0.228240\n",
       "dtype: float64"
      ]
     },
     "execution_count": 46,
     "metadata": {},
     "output_type": "execute_result"
    }
   ],
   "source": [
    "spearman_df = pd.DataFrame(list(spearman_results.values()), index=list(spearman_results.keys()))\n",
    "spearman_df.to_csv(\"experiments/go_enrichment/spearman.csv\")\n",
    "spearman_df.median()"
   ]
  },
  {
   "cell_type": "code",
   "execution_count": 45,
   "metadata": {},
   "outputs": [
    {
     "data": {
      "image/png": "[encoded data removed]",
      "text/plain": [
       "<Figure size 720x360 with 1 Axes>"
      ]
     },
     "metadata": {
      "image/png": {
       "height": 319,
       "width": 678
      }
     },
     "output_type": "display_data"
    }
   ],
   "source": [
    "prepare_sns(sns, kwargs={\"font_scale\": 2,\n",
    "                         \"rc\": {'figure.figsize':(10, 5)}})\n",
    "\n",
    "\n",
    "sns.distplot(spearman_df[\"lci\"], bins=25, kde=False, hist=True, label=\"LCI\", hist_kws={\"range\": (0, 1),\n",
    "                                                                                        \"color\": \"#E03C3F\",\n",
    "                                                                                        \"alpha\":0.8})\n",
    "#sns.distplot(spearman_df[\"rw\"], bins=25, kde=False, hist=True, label=\"Random Walk\", hist_kws={\"range\": (0, 1),\n",
    "#                                                                                      \"color\": \"lightgrey\",\n",
    "#                                                                                      \"alpha\": 0.8})\n",
    "\n",
    "plt.yscale('linear')\n",
    "plt.xlabel(\"Spearman correlation of \\n functional enrichment p-values\")\n",
    "plt.ylabel(\"# of diseases\")\n",
    "#plt.legend()\n",
    "sns.despine()\n",
    "plt.tight_layout()\n",
    "\n",
    "plt.savefig(\"experiments/go_enrichment/lci/leci_go.pdf\")"
   ]
  },
  {
   "cell_type": "markdown",
   "metadata": {},
   "source": [
    "#### Top by Mean Correlation"
   ]
  },
  {
   "cell_type": "code",
   "execution_count": 18,
   "metadata": {},
   "outputs": [],
   "source": [
    "spearman_mean_df = spearman_df[['lci', 'rw']].mean(axis=1)\n",
    "spearman_df.insert(0, column=\"mean\", value=spearman_mean_df)"
   ]
  },
  {
   "cell_type": "code",
   "execution_count": 21,
   "metadata": {},
   "outputs": [
    {
     "data": {
      "image/png": "[encoded data removed]",
      "text/plain": [
       "<Figure size 432x288 with 1 Axes>"
      ]
     },
     "metadata": {
      "image/png": {
       "height": 270,
       "width": 417
      },
      "needs_background": "light"
     },
     "output_type": "display_data"
    }
   ],
   "source": [
    "top_k = 500\n",
    "sns.distplot(spearman_df.nlargest(top_k, \"mean\")[\"lci\"], bins=30, kde=False, hist=True, label=\"LCI\", hist_kws={\n",
    "                                                                                        \"range\": (0.1, 0.8),\n",
    "                                                                                        \"color\": \"#E03C3F\",\n",
    "                                                                                        \"alpha\":0.8})\n",
    "sns.distplot(spearman_df.nlargest(top_k, \"mean\")[\"rw\"], bins=30, kde=False, hist=True, label=\"Random Walk\", hist_kws={\"range\": (0.1, 0.8),\n",
    "                                                                                      \"color\": \"lightgrey\",\n",
    "                                                                                      \"alpha\": 0.8})\n",
    "sns.despine()\n",
    "plt.yscale('linear')\n",
    "plt.xlabel(f\"Spearman correlation of functional enrichment pvalues [top {top_k}]\")\n",
    "plt.ylabel(\"# of diseases\")\n",
    "plt.legend()\n",
    "plt.savefig(\"experiments/go_enrichment/lci/lci_rw_go.pdf\")"
   ]
  },
  {
   "cell_type": "markdown",
   "metadata": {},
   "source": [
    "#### Top by LCI"
   ]
  },
  {
   "cell_type": "code",
   "execution_count": 36,
   "metadata": {},
   "outputs": [],
   "source": [
    "eval_df[\"lci_dpp[DP]\", \"Recall-at-100\"]\n",
    "spearman_df.insert(0, column=\"lci_recall_100\", value=eval_df[\"lci_dpp[DP]\", \"Recall-at-100\"])"
   ]
  },
  {
   "cell_type": "code",
   "execution_count": 44,
   "metadata": {},
   "outputs": [
    {
     "data": {
      "text/plain": [
       "<matplotlib.legend.Legend at 0x7f0d9862ae48>"
      ]
     },
     "execution_count": 44,
     "metadata": {},
     "output_type": "execute_result"
    },
    {
     "data": {
      "image/png": "[encoded data removed]",
      "text/plain": [
       "<Figure size 432x288 with 1 Axes>"
      ]
     },
     "metadata": {
      "needs_background": "light"
     },
     "output_type": "display_data"
    }
   ],
   "source": [
    "top_k = 500\n",
    "sns.distplot(spearman_df.nlargest(top_k, \"lci_recall_100\")[\"lci\"], bins=25, kde=False, hist=True, label=\"LCI\", hist_kws={\n",
    "                                                                                        \"range\": (0.1, 0.8),\n",
    "                                                                                        \"color\": \"#E03C3F\",\n",
    "                                                                                        \"alpha\":0.8})\n",
    "sns.distplot(spearman_df.nlargest(top_k, \"lci_recall_100\")[\"rw\"], bins=25, kde=False, hist=True, label=\"Random Walk\", hist_kws={\"range\": (0.1, 0.8),\n",
    "                                                                                      \"color\": \"lightgrey\",\n",
    "                                                                                      \"alpha\": 0.8})\n",
    "sns.despine()\n",
    "plt.yscale('linear')\n",
    "plt.xlabel(f\"Spearman correlation of functional enrichment pvalues [top {top_k}]\")\n",
    "plt.ylabel(\"# of diseases [linear]\")\n",
    "plt.legend()\n",
    "#plt.savefig(\"../experiments/go_enrichment/lci/lci_rw_go.pdf\")"
   ]
  },
  {
   "cell_type": "markdown",
   "metadata": {},
   "source": [
    "#### Top by RW"
   ]
  },
  {
   "cell_type": "code",
   "execution_count": 38,
   "metadata": {},
   "outputs": [],
   "source": [
    "eval_df[\"lci_dpp[DP]\", \"Recall-at-100\"]\n",
    "spearman_df.insert(0, column=\"rw_recall_100\", value=eval_df[\"rw_dpp[DP]\", \"Recall-at-100\"])"
   ]
  },
  {
   "cell_type": "code",
   "execution_count": 45,
   "metadata": {},
   "outputs": [
    {
     "data": {
      "text/plain": [
       "<matplotlib.legend.Legend at 0x7f0d9868b6a0>"
      ]
     },
     "execution_count": 45,
     "metadata": {},
     "output_type": "execute_result"
    },
    {
     "data": {
      "image/png": "[encoded data removed]",
      "text/plain": [
       "<Figure size 432x288 with 1 Axes>"
      ]
     },
     "metadata": {
      "needs_background": "light"
     },
     "output_type": "display_data"
    }
   ],
   "source": [
    "top_k = 500\n",
    "sns.distplot(spearman_df.nlargest(top_k, \"rw_recall_100\")[\"lci\"], bins=25, kde=False, hist=True, label=\"LCI\", hist_kws={\n",
    "                                                                                        \"range\": (0.1, 0.8),\n",
    "                                                                                        \"color\": \"#E03C3F\",\n",
    "                                                                                        \"alpha\":0.8})\n",
    "sns.distplot(spearman_df.nlargest(top_k, \"rw_recall_100\")[\"rw\"], bins=25, kde=False, hist=True, label=\"Random Walk\", hist_kws={\"range\": (0.1, 0.8),\n",
    "                                                                                      \"color\": \"lightgrey\",\n",
    "                                                                                      \"alpha\": 0.8})\n",
    "sns.despine()\n",
    "plt.yscale('linear')\n",
    "plt.xlabel(f\"Spearman correlation of functional enrichment pvalues [top {top_k}]\")\n",
    "plt.ylabel(\"# of diseases [linear]\")\n",
    "plt.legend()\n",
    "#plt.savefig(\"../experiments/go_enrichment/lci/lci_rw_go.pdf\")"
   ]
  },
  {
   "cell_type": "markdown",
   "metadata": {},
   "source": [
    "#### Filter Terms"
   ]
  },
  {
   "cell_type": "code",
   "execution_count": 8,
   "metadata": {},
   "outputs": [
    {
     "name": "stdout",
     "output_type": "stream",
     "text": [
      "data/go/go-basic.obo: fmt(1.2) rel(2019-01-19) 47,379 GO Terms\n",
      "  20,385 items READ: data/go/gene2go.txt\n"
     ]
    }
   ],
   "source": [
    "term_to_proteins = load_go_annotations(network.get_names(), level=None)"
   ]
  },
  {
   "cell_type": "code",
   "execution_count": 10,
   "metadata": {},
   "outputs": [],
   "source": [
    "def threshold_terms(term_to_proteins, lower, upper):\n",
    "    \"\"\"\n",
    "    Filter terms where the number of proteins does not fall within the \n",
    "    lower and upper bounds. \n",
    "    \"\"\"\n",
    "    return {term: proteins \n",
    "            for term, proteins \n",
    "            in term_to_proteins.items() \n",
    "            if lower <= len(term) <= upper}\n",
    "    "
   ]
  },
  {
   "cell_type": "code",
   "execution_count": 11,
   "metadata": {},
   "outputs": [],
   "source": [
    "params = {\n",
    "    \"lower\": 20, \n",
    "    \"upper\": 200\n",
    "}"
   ]
  },
  {
   "cell_type": "code",
   "execution_count": 14,
   "metadata": {},
   "outputs": [],
   "source": [
    "threshold_terms = threshold_terms(term_to_proteins, **params).keys()"
   ]
  },
  {
   "cell_type": "code",
   "execution_count": 19,
   "metadata": {},
   "outputs": [
    {
     "data": {
      "application/vnd.jupyter.widget-view+json": {
       "model_id": "8202ea7ff9474db9a8f6d67783872052",
       "version_major": 2,
       "version_minor": 0
      },
      "text/plain": [
       "HBox(children=(IntProgress(value=0, max=1811), HTML(value='')))"
      ]
     },
     "metadata": {},
     "output_type": "display_data"
    },
    {
     "name": "stderr",
     "output_type": "stream",
     "text": [
      "/Users/sabrieyuboglu/Documents/School/SNAP/projects/disease-protein-prediction/env/lib/python3.7/site-packages/numpy/lib/function_base.py:2530: RuntimeWarning: invalid value encountered in true_divide\n",
      "  c /= stddev[:, None]\n",
      "/Users/sabrieyuboglu/Documents/School/SNAP/projects/disease-protein-prediction/env/lib/python3.7/site-packages/numpy/lib/function_base.py:2531: RuntimeWarning: invalid value encountered in true_divide\n",
      "  c /= stddev[None, :]\n",
      "/Users/sabrieyuboglu/Documents/School/SNAP/projects/disease-protein-prediction/env/lib/python3.7/site-packages/scipy/stats/_distn_infrastructure.py:877: RuntimeWarning: invalid value encountered in greater\n",
      "  return (self.a < x) & (x < self.b)\n",
      "/Users/sabrieyuboglu/Documents/School/SNAP/projects/disease-protein-prediction/env/lib/python3.7/site-packages/scipy/stats/_distn_infrastructure.py:877: RuntimeWarning: invalid value encountered in less\n",
      "  return (self.a < x) & (x < self.b)\n",
      "/Users/sabrieyuboglu/Documents/School/SNAP/projects/disease-protein-prediction/env/lib/python3.7/site-packages/scipy/stats/_distn_infrastructure.py:1831: RuntimeWarning: invalid value encountered in less_equal\n",
      "  cond2 = cond0 & (x <= self.a)\n"
     ]
    },
    {
     "name": "stdout",
     "output_type": "stream",
     "text": [
      "\n"
     ]
    }
   ],
   "source": [
    "spearman_results = {}\n",
    "for disease_id, output in tqdm(outputs.items()):\n",
    "    lci_spearman, _ = compute_spearman_correlation(output[\"disease\"], output[\"lci\"], threshold_terms)\n",
    "    rw_spearman, _ = compute_spearman_correlation(output[\"disease\"], output[\"random_walk\"], threshold_terms)\n",
    "    spearman_results[disease_id] = {\n",
    "        \"lci\": lci_spearman,\n",
    "        \"rw\": rw_spearman\n",
    "    }"
   ]
  },
  {
   "cell_type": "code",
   "execution_count": 24,
   "metadata": {},
   "outputs": [
    {
     "data": {
      "text/plain": [
       "lci    0.267872\n",
       "rw     0.248970\n",
       "dtype: float64"
      ]
     },
     "execution_count": 24,
     "metadata": {},
     "output_type": "execute_result"
    }
   ],
   "source": [
    "threshold_spearman_df = pd.DataFrame(list(spearman_results.values()), index=list(spearman_results.keys()))\n",
    "threshold_spearman_df.median()"
   ]
  },
  {
   "cell_type": "code",
   "execution_count": 25,
   "metadata": {},
   "outputs": [
    {
     "data": {
      "text/html": [
       "<div>\n",
       "<style scoped>\n",
       "    .dataframe tbody tr th:only-of-type {\n",
       "        vertical-align: middle;\n",
       "    }\n",
       "\n",
       "    .dataframe tbody tr th {\n",
       "        vertical-align: top;\n",
       "    }\n",
       "\n",
       "    .dataframe thead th {\n",
       "        text-align: right;\n",
       "    }\n",
       "</style>\n",
       "<table border=\"1\" class=\"dataframe\">\n",
       "  <thead>\n",
       "    <tr style=\"text-align: right;\">\n",
       "      <th></th>\n",
       "      <th>mean</th>\n",
       "      <th>lci</th>\n",
       "      <th>rw</th>\n",
       "    </tr>\n",
       "  </thead>\n",
       "  <tbody>\n",
       "    <tr>\n",
       "      <th>C0013182</th>\n",
       "      <td>0.380372</td>\n",
       "      <td>0.395963</td>\n",
       "      <td>0.364781</td>\n",
       "    </tr>\n",
       "    <tr>\n",
       "      <th>C0917798</th>\n",
       "      <td>0.265945</td>\n",
       "      <td>0.318151</td>\n",
       "      <td>0.213740</td>\n",
       "    </tr>\n",
       "    <tr>\n",
       "      <th>C0020295</th>\n",
       "      <td>0.287473</td>\n",
       "      <td>0.160225</td>\n",
       "      <td>0.414721</td>\n",
       "    </tr>\n",
       "    <tr>\n",
       "      <th>C3714796</th>\n",
       "      <td>0.284298</td>\n",
       "      <td>0.291277</td>\n",
       "      <td>0.277319</td>\n",
       "    </tr>\n",
       "    <tr>\n",
       "      <th>C1866134</th>\n",
       "      <td>0.283801</td>\n",
       "      <td>0.175673</td>\n",
       "      <td>0.391930</td>\n",
       "    </tr>\n",
       "    <tr>\n",
       "      <th>C2364082</th>\n",
       "      <td>0.442811</td>\n",
       "      <td>0.457180</td>\n",
       "      <td>0.428442</td>\n",
       "    </tr>\n",
       "    <tr>\n",
       "      <th>C1276035</th>\n",
       "      <td>0.177049</td>\n",
       "      <td>0.265299</td>\n",
       "      <td>0.088798</td>\n",
       "    </tr>\n",
       "    <tr>\n",
       "      <th>C0027022</th>\n",
       "      <td>0.373263</td>\n",
       "      <td>0.391417</td>\n",
       "      <td>0.355108</td>\n",
       "    </tr>\n",
       "    <tr>\n",
       "      <th>C1833225</th>\n",
       "      <td>0.079311</td>\n",
       "      <td>0.125677</td>\n",
       "      <td>0.032944</td>\n",
       "    </tr>\n",
       "    <tr>\n",
       "      <th>C0206620</th>\n",
       "      <td>0.351568</td>\n",
       "      <td>0.363231</td>\n",
       "      <td>0.339905</td>\n",
       "    </tr>\n",
       "    <tr>\n",
       "      <th>C0006413</th>\n",
       "      <td>0.271337</td>\n",
       "      <td>0.234278</td>\n",
       "      <td>0.308395</td>\n",
       "    </tr>\n",
       "    <tr>\n",
       "      <th>C0019158</th>\n",
       "      <td>0.281086</td>\n",
       "      <td>0.242958</td>\n",
       "      <td>0.319215</td>\n",
       "    </tr>\n",
       "    <tr>\n",
       "      <th>C0003126</th>\n",
       "      <td>0.450440</td>\n",
       "      <td>0.440491</td>\n",
       "      <td>0.460389</td>\n",
       "    </tr>\n",
       "    <tr>\n",
       "      <th>C0241074</th>\n",
       "      <td>0.396686</td>\n",
       "      <td>0.405162</td>\n",
       "      <td>0.388210</td>\n",
       "    </tr>\n",
       "    <tr>\n",
       "      <th>C0020459</th>\n",
       "      <td>0.316482</td>\n",
       "      <td>0.308427</td>\n",
       "      <td>0.324536</td>\n",
       "    </tr>\n",
       "    <tr>\n",
       "      <th>C0020541</th>\n",
       "      <td>0.410600</td>\n",
       "      <td>0.408652</td>\n",
       "      <td>0.412548</td>\n",
       "    </tr>\n",
       "    <tr>\n",
       "      <th>C0014474</th>\n",
       "      <td>0.195477</td>\n",
       "      <td>0.299323</td>\n",
       "      <td>0.091631</td>\n",
       "    </tr>\n",
       "    <tr>\n",
       "      <th>C4020838</th>\n",
       "      <td>0.238887</td>\n",
       "      <td>0.381454</td>\n",
       "      <td>0.096320</td>\n",
       "    </tr>\n",
       "    <tr>\n",
       "      <th>C0221170</th>\n",
       "      <td>0.150449</td>\n",
       "      <td>0.302831</td>\n",
       "      <td>-0.001932</td>\n",
       "    </tr>\n",
       "    <tr>\n",
       "      <th>C3275417</th>\n",
       "      <td>0.369682</td>\n",
       "      <td>0.340898</td>\n",
       "      <td>0.398466</td>\n",
       "    </tr>\n",
       "    <tr>\n",
       "      <th>C0349204</th>\n",
       "      <td>0.369368</td>\n",
       "      <td>0.385733</td>\n",
       "      <td>0.353003</td>\n",
       "    </tr>\n",
       "    <tr>\n",
       "      <th>C0007787</th>\n",
       "      <td>0.197490</td>\n",
       "      <td>0.088385</td>\n",
       "      <td>0.306594</td>\n",
       "    </tr>\n",
       "    <tr>\n",
       "      <th>C0018916</th>\n",
       "      <td>0.204992</td>\n",
       "      <td>0.138978</td>\n",
       "      <td>0.271006</td>\n",
       "    </tr>\n",
       "    <tr>\n",
       "      <th>C1837485</th>\n",
       "      <td>0.107922</td>\n",
       "      <td>0.216283</td>\n",
       "      <td>-0.000439</td>\n",
       "    </tr>\n",
       "    <tr>\n",
       "      <th>C0007222</th>\n",
       "      <td>0.359498</td>\n",
       "      <td>0.286169</td>\n",
       "      <td>0.432827</td>\n",
       "    </tr>\n",
       "    <tr>\n",
       "      <th>C2673410</th>\n",
       "      <td>0.422662</td>\n",
       "      <td>0.467550</td>\n",
       "      <td>0.377774</td>\n",
       "    </tr>\n",
       "    <tr>\n",
       "      <th>C0234182</th>\n",
       "      <td>0.226707</td>\n",
       "      <td>0.247657</td>\n",
       "      <td>0.205757</td>\n",
       "    </tr>\n",
       "    <tr>\n",
       "      <th>C0023493</th>\n",
       "      <td>0.437723</td>\n",
       "      <td>0.422371</td>\n",
       "      <td>0.453075</td>\n",
       "    </tr>\n",
       "    <tr>\n",
       "      <th>C0023434</th>\n",
       "      <td>0.419831</td>\n",
       "      <td>0.432526</td>\n",
       "      <td>0.407136</td>\n",
       "    </tr>\n",
       "    <tr>\n",
       "      <th>C0239946</th>\n",
       "      <td>0.274272</td>\n",
       "      <td>0.382355</td>\n",
       "      <td>0.166189</td>\n",
       "    </tr>\n",
       "    <tr>\n",
       "      <th>...</th>\n",
       "      <td>...</td>\n",
       "      <td>...</td>\n",
       "      <td>...</td>\n",
       "    </tr>\n",
       "    <tr>\n",
       "      <th>C0747085</th>\n",
       "      <td>0.150162</td>\n",
       "      <td>0.157835</td>\n",
       "      <td>0.142490</td>\n",
       "    </tr>\n",
       "    <tr>\n",
       "      <th>C1849089</th>\n",
       "      <td>0.391694</td>\n",
       "      <td>0.414514</td>\n",
       "      <td>0.368873</td>\n",
       "    </tr>\n",
       "    <tr>\n",
       "      <th>C0018798</th>\n",
       "      <td>0.387247</td>\n",
       "      <td>0.378416</td>\n",
       "      <td>0.396078</td>\n",
       "    </tr>\n",
       "    <tr>\n",
       "      <th>C0006386</th>\n",
       "      <td>0.445904</td>\n",
       "      <td>0.464011</td>\n",
       "      <td>0.427797</td>\n",
       "    </tr>\n",
       "    <tr>\n",
       "      <th>C1864903</th>\n",
       "      <td>0.100542</td>\n",
       "      <td>-0.003553</td>\n",
       "      <td>0.204636</td>\n",
       "    </tr>\n",
       "    <tr>\n",
       "      <th>C0029927</th>\n",
       "      <td>0.196571</td>\n",
       "      <td>0.131362</td>\n",
       "      <td>0.261780</td>\n",
       "    </tr>\n",
       "    <tr>\n",
       "      <th>C0015695</th>\n",
       "      <td>0.373784</td>\n",
       "      <td>0.369353</td>\n",
       "      <td>0.378215</td>\n",
       "    </tr>\n",
       "    <tr>\n",
       "      <th>C0026640</th>\n",
       "      <td>0.361952</td>\n",
       "      <td>0.410238</td>\n",
       "      <td>0.313666</td>\n",
       "    </tr>\n",
       "    <tr>\n",
       "      <th>C4025650</th>\n",
       "      <td>0.217013</td>\n",
       "      <td>0.252602</td>\n",
       "      <td>0.181424</td>\n",
       "    </tr>\n",
       "    <tr>\n",
       "      <th>C0018213</th>\n",
       "      <td>0.127318</td>\n",
       "      <td>0.069589</td>\n",
       "      <td>0.185046</td>\n",
       "    </tr>\n",
       "    <tr>\n",
       "      <th>C1832348</th>\n",
       "      <td>0.134239</td>\n",
       "      <td>0.156401</td>\n",
       "      <td>0.112077</td>\n",
       "    </tr>\n",
       "    <tr>\n",
       "      <th>C0002170</th>\n",
       "      <td>0.391779</td>\n",
       "      <td>0.398655</td>\n",
       "      <td>0.384903</td>\n",
       "    </tr>\n",
       "    <tr>\n",
       "      <th>C1145628</th>\n",
       "      <td>0.156719</td>\n",
       "      <td>0.114613</td>\n",
       "      <td>0.198826</td>\n",
       "    </tr>\n",
       "    <tr>\n",
       "      <th>C1862095</th>\n",
       "      <td>0.180921</td>\n",
       "      <td>0.147832</td>\n",
       "      <td>0.214010</td>\n",
       "    </tr>\n",
       "    <tr>\n",
       "      <th>C0264303</th>\n",
       "      <td>0.317675</td>\n",
       "      <td>0.316988</td>\n",
       "      <td>0.318361</td>\n",
       "    </tr>\n",
       "    <tr>\n",
       "      <th>C0016978</th>\n",
       "      <td>0.360151</td>\n",
       "      <td>0.313976</td>\n",
       "      <td>0.406326</td>\n",
       "    </tr>\n",
       "    <tr>\n",
       "      <th>C0018816</th>\n",
       "      <td>0.291539</td>\n",
       "      <td>0.255377</td>\n",
       "      <td>0.327700</td>\n",
       "    </tr>\n",
       "    <tr>\n",
       "      <th>C0345030</th>\n",
       "      <td>0.108340</td>\n",
       "      <td>0.132519</td>\n",
       "      <td>0.084161</td>\n",
       "    </tr>\n",
       "    <tr>\n",
       "      <th>C0236969</th>\n",
       "      <td>0.237293</td>\n",
       "      <td>0.314035</td>\n",
       "      <td>0.160551</td>\n",
       "    </tr>\n",
       "    <tr>\n",
       "      <th>C0265998</th>\n",
       "      <td>0.350816</td>\n",
       "      <td>0.363558</td>\n",
       "      <td>0.338074</td>\n",
       "    </tr>\n",
       "    <tr>\n",
       "      <th>C0231712</th>\n",
       "      <td>0.189324</td>\n",
       "      <td>0.226649</td>\n",
       "      <td>0.151998</td>\n",
       "    </tr>\n",
       "    <tr>\n",
       "      <th>C0037769</th>\n",
       "      <td>0.099926</td>\n",
       "      <td>0.084931</td>\n",
       "      <td>0.114921</td>\n",
       "    </tr>\n",
       "    <tr>\n",
       "      <th>C0035126</th>\n",
       "      <td>0.554453</td>\n",
       "      <td>0.568374</td>\n",
       "      <td>0.540533</td>\n",
       "    </tr>\n",
       "    <tr>\n",
       "      <th>C0001126</th>\n",
       "      <td>0.057696</td>\n",
       "      <td>0.026405</td>\n",
       "      <td>0.088988</td>\n",
       "    </tr>\n",
       "    <tr>\n",
       "      <th>C1834055</th>\n",
       "      <td>0.386938</td>\n",
       "      <td>0.405073</td>\n",
       "      <td>0.368803</td>\n",
       "    </tr>\n",
       "    <tr>\n",
       "      <th>C3714581</th>\n",
       "      <td>0.202902</td>\n",
       "      <td>0.202220</td>\n",
       "      <td>0.203584</td>\n",
       "    </tr>\n",
       "    <tr>\n",
       "      <th>C1865572</th>\n",
       "      <td>0.211210</td>\n",
       "      <td>0.159966</td>\n",
       "      <td>0.262454</td>\n",
       "    </tr>\n",
       "    <tr>\n",
       "      <th>C1839546</th>\n",
       "      <td>NaN</td>\n",
       "      <td>NaN</td>\n",
       "      <td>NaN</td>\n",
       "    </tr>\n",
       "    <tr>\n",
       "      <th>C0020598</th>\n",
       "      <td>0.110314</td>\n",
       "      <td>0.036296</td>\n",
       "      <td>0.184332</td>\n",
       "    </tr>\n",
       "    <tr>\n",
       "      <th>C0221210</th>\n",
       "      <td>0.167407</td>\n",
       "      <td>NaN</td>\n",
       "      <td>0.167407</td>\n",
       "    </tr>\n",
       "  </tbody>\n",
       "</table>\n",
       "<p>1811 rows × 3 columns</p>\n",
       "</div>"
      ],
      "text/plain": [
       "              mean       lci        rw\n",
       "C0013182  0.380372  0.395963  0.364781\n",
       "C0917798  0.265945  0.318151  0.213740\n",
       "C0020295  0.287473  0.160225  0.414721\n",
       "C3714796  0.284298  0.291277  0.277319\n",
       "C1866134  0.283801  0.175673  0.391930\n",
       "C2364082  0.442811  0.457180  0.428442\n",
       "C1276035  0.177049  0.265299  0.088798\n",
       "C0027022  0.373263  0.391417  0.355108\n",
       "C1833225  0.079311  0.125677  0.032944\n",
       "C0206620  0.351568  0.363231  0.339905\n",
       "C0006413  0.271337  0.234278  0.308395\n",
       "C0019158  0.281086  0.242958  0.319215\n",
       "C0003126  0.450440  0.440491  0.460389\n",
       "C0241074  0.396686  0.405162  0.388210\n",
       "C0020459  0.316482  0.308427  0.324536\n",
       "C0020541  0.410600  0.408652  0.412548\n",
       "C0014474  0.195477  0.299323  0.091631\n",
       "C4020838  0.238887  0.381454  0.096320\n",
       "C0221170  0.150449  0.302831 -0.001932\n",
       "C3275417  0.369682  0.340898  0.398466\n",
       "C0349204  0.369368  0.385733  0.353003\n",
       "C0007787  0.197490  0.088385  0.306594\n",
       "C0018916  0.204992  0.138978  0.271006\n",
       "C1837485  0.107922  0.216283 -0.000439\n",
       "C0007222  0.359498  0.286169  0.432827\n",
       "C2673410  0.422662  0.467550  0.377774\n",
       "C0234182  0.226707  0.247657  0.205757\n",
       "C0023493  0.437723  0.422371  0.453075\n",
       "C0023434  0.419831  0.432526  0.407136\n",
       "C0239946  0.274272  0.382355  0.166189\n",
       "...            ...       ...       ...\n",
       "C0747085  0.150162  0.157835  0.142490\n",
       "C1849089  0.391694  0.414514  0.368873\n",
       "C0018798  0.387247  0.378416  0.396078\n",
       "C0006386  0.445904  0.464011  0.427797\n",
       "C1864903  0.100542 -0.003553  0.204636\n",
       "C0029927  0.196571  0.131362  0.261780\n",
       "C0015695  0.373784  0.369353  0.378215\n",
       "C0026640  0.361952  0.410238  0.313666\n",
       "C4025650  0.217013  0.252602  0.181424\n",
       "C0018213  0.127318  0.069589  0.185046\n",
       "C1832348  0.134239  0.156401  0.112077\n",
       "C0002170  0.391779  0.398655  0.384903\n",
       "C1145628  0.156719  0.114613  0.198826\n",
       "C1862095  0.180921  0.147832  0.214010\n",
       "C0264303  0.317675  0.316988  0.318361\n",
       "C0016978  0.360151  0.313976  0.406326\n",
       "C0018816  0.291539  0.255377  0.327700\n",
       "C0345030  0.108340  0.132519  0.084161\n",
       "C0236969  0.237293  0.314035  0.160551\n",
       "C0265998  0.350816  0.363558  0.338074\n",
       "C0231712  0.189324  0.226649  0.151998\n",
       "C0037769  0.099926  0.084931  0.114921\n",
       "C0035126  0.554453  0.568374  0.540533\n",
       "C0001126  0.057696  0.026405  0.088988\n",
       "C1834055  0.386938  0.405073  0.368803\n",
       "C3714581  0.202902  0.202220  0.203584\n",
       "C1865572  0.211210  0.159966  0.262454\n",
       "C1839546       NaN       NaN       NaN\n",
       "C0020598  0.110314  0.036296  0.184332\n",
       "C0221210  0.167407       NaN  0.167407\n",
       "\n",
       "[1811 rows x 3 columns]"
      ]
     },
     "execution_count": 25,
     "metadata": {},
     "output_type": "execute_result"
    }
   ],
   "source": [
    "threshold_spearman_mean_df = threshold_spearman_df[['lci', 'rw']].mean(axis=1)\n",
    "threshold_spearman_df.insert(0, column=\"mean\", value=threshold_spearman_mean_df)\n",
    "threshold_spearman_df"
   ]
  },
  {
   "cell_type": "code",
   "execution_count": 1,
   "metadata": {},
   "outputs": [
    {
     "ename": "NameError",
     "evalue": "name 'sns' is not defined",
     "output_type": "error",
     "traceback": [
      "\u001b[0;31m---------------------------------------------------------------------------\u001b[0m",
      "\u001b[0;31mNameError\u001b[0m                                 Traceback (most recent call last)",
      "\u001b[0;32m<ipython-input-1-b5b07f669999>\u001b[0m in \u001b[0;36m<module>\u001b[0;34m\u001b[0m\n\u001b[1;32m      1\u001b[0m \u001b[0mtop_k\u001b[0m \u001b[0;34m=\u001b[0m \u001b[0;36m500\u001b[0m\u001b[0;34m\u001b[0m\u001b[0;34m\u001b[0m\u001b[0m\n\u001b[0;32m----> 2\u001b[0;31m sns.distplot(threshold_spearman_df.nlargest(top_k, \"mean\")[\"lci\"], bins=30, kde=False, hist=True, label=\"LCI\", hist_kws={\n\u001b[0m\u001b[1;32m      3\u001b[0m                                                                                         \u001b[0;34m\"range\"\u001b[0m\u001b[0;34m:\u001b[0m \u001b[0;34m(\u001b[0m\u001b[0;36m0.1\u001b[0m\u001b[0;34m,\u001b[0m \u001b[0;36m0.8\u001b[0m\u001b[0;34m)\u001b[0m\u001b[0;34m,\u001b[0m\u001b[0;34m\u001b[0m\u001b[0;34m\u001b[0m\u001b[0m\n\u001b[1;32m      4\u001b[0m                                                                                         \u001b[0;34m\"color\"\u001b[0m\u001b[0;34m:\u001b[0m \u001b[0;34m\"#E03C3F\"\u001b[0m\u001b[0;34m,\u001b[0m\u001b[0;34m\u001b[0m\u001b[0;34m\u001b[0m\u001b[0m\n\u001b[1;32m      5\u001b[0m                                                                                         \"alpha\":0.8})\n",
      "\u001b[0;31mNameError\u001b[0m: name 'sns' is not defined"
     ]
    }
   ],
   "source": [
    "top_k = 500\n",
    "sns.distplot(threshold_spearman_df.nlargest(top_k, \"mean\")[\"lci\"], bins=30, kde=False, hist=True, label=\"LCI\", hist_kws={\n",
    "                                                                                        \"range\": (0.1, 0.8),\n",
    "                                                                                        \"color\": \"#E03C3F\",\n",
    "                                                                                        \"alpha\":0.8})\n",
    "sns.distplot(threshold_spearman_df.nlargest(top_k, \"mean\")[\"rw\"], bins=30, kde=False, hist=True, label=\"Random Walk\", hist_kws={\"range\": (0.1, 0.8),\n",
    "                                                                                      \"color\": \"lightgrey\",\n",
    "                                                                                      \"alpha\": 0.8})\n",
    "sns.despine()\n",
    "plt.yscale('linear')\n",
    "plt.xlabel(f\"Spearman correlation of functional enrichment pvalues [top {top_k}]\")\n",
    "plt.ylabel(\"# of diseases [linear]\")\n",
    "plt.legend()\n",
    "#plt.savefig(\"../experiments/go_enrichment/lci/lci_rw_go.pdf\")"
   ]
  },
  {
   "cell_type": "markdown",
   "metadata": {
    "heading_collapsed": true
   },
   "source": [
    "### Pearson"
   ]
  },
  {
   "cell_type": "code",
   "execution_count": 109,
   "metadata": {
    "hidden": true
   },
   "outputs": [],
   "source": [
    "from scipy.stats import pearsonr\n",
    " \n",
    "def compute_pearson_correlation(a_term_to_pval, b_term_to_pval):\n",
    "        \"\"\"\n",
    "        \"\"\"\n",
    "        terms = list(a_term_to_pval.keys())\n",
    "        sp_corr, sp_pval = pearsonr([a_term_to_pval[term] for term in terms],\n",
    "                                    [b_term_to_pval[term] for term in terms])\n",
    "        return sp_corr, sp_pval"
   ]
  },
  {
   "cell_type": "code",
   "execution_count": 110,
   "metadata": {
    "hidden": true
   },
   "outputs": [
    {
     "name": "stderr",
     "output_type": "stream",
     "text": [
      "100%|██████████| 1811/1811 [00:58<00:00, 39.14it/s]\n"
     ]
    }
   ],
   "source": [
    "pearson_results = {}\n",
    "for disease_id, output in tqdm(outputs.items()):\n",
    "    lci_pearson, _ = compute_pearson_correlation(output[\"disease\"], output[\"lci\"])\n",
    "    rw_pearson, _ = compute_pearson_correlation(output[\"disease\"], output[\"random_walk\"])\n",
    "    pearson_results[disease_id] = {\n",
    "        \"lci\": lci_pearson,\n",
    "        \"rw\": rw_pearson\n",
    "    }\n",
    "    "
   ]
  },
  {
   "cell_type": "code",
   "execution_count": 69,
   "metadata": {
    "hidden": true
   },
   "outputs": [],
   "source": [
    "pearson_df = pd.DataFrame(list(spearman_results.values()), index=list(spearman_results.keys())).join(size_df)"
   ]
  },
  {
   "cell_type": "code",
   "execution_count": 80,
   "metadata": {
    "hidden": true
   },
   "outputs": [
    {
     "name": "stderr",
     "output_type": "stream",
     "text": [
      "/dfs/scratch0/sabri/disease-protein-prediction/env/lib/python3.7/site-packages/numpy/lib/histograms.py:824: RuntimeWarning: invalid value encountered in greater_equal\n",
      "  keep = (tmp_a >= first_edge)\n",
      "/dfs/scratch0/sabri/disease-protein-prediction/env/lib/python3.7/site-packages/numpy/lib/histograms.py:825: RuntimeWarning: invalid value encountered in less_equal\n",
      "  keep &= (tmp_a <= last_edge)\n",
      "/dfs/scratch0/sabri/disease-protein-prediction/env/lib/python3.7/site-packages/numpy/lib/histograms.py:824: RuntimeWarning: invalid value encountered in greater_equal\n",
      "  keep = (tmp_a >= first_edge)\n",
      "/dfs/scratch0/sabri/disease-protein-prediction/env/lib/python3.7/site-packages/numpy/lib/histograms.py:825: RuntimeWarning: invalid value encountered in less_equal\n",
      "  keep &= (tmp_a <= last_edge)\n"
     ]
    },
    {
     "data": {
      "text/plain": [
       "<matplotlib.legend.Legend at 0x7ef86d771630>"
      ]
     },
     "execution_count": 80,
     "metadata": {},
     "output_type": "execute_result"
    },
    {
     "data": {
      "image/png": "[encoded data removed]",
      "text/plain": [
       "<Figure size 432x288 with 1 Axes>"
      ]
     },
     "metadata": {},
     "output_type": "display_data"
    }
   ],
   "source": [
    "sns.distplot(pearson_df.sort_values('size').head(-500)[\"lci\"], bins=25, kde=False, hist=True, label=\"LCI\", hist_kws={\n",
    "                                                                                        \"color\": \"#E03C3F\",\n",
    "                                                                                        \"alpha\":0.8})\n",
    "sns.distplot(pearson_df.sort_values('size').head(-500)[\"rw\"], bins=25, kde=False, hist=True, label=\"Random Walk\", hist_kws={\n",
    "                                                                                      \"color\": \"lightgrey\",\n",
    "                                                                                      \"alpha\": 0.8})\n",
    "sns.despine()\n",
    "plt.yscale('linear')\n",
    "plt.xlabel(\"SpearmanR of Functional Terms (top 250)\")\n",
    "plt.ylabel(\"# of diseases [linear]\")\n",
    "plt.legend()\n",
    "#plt.savefig(\"../experiments/go_enrichment/lci/lci_rw_go.pdf\")"
   ]
  },
  {
   "cell_type": "code",
   "execution_count": 117,
   "metadata": {
    "hidden": true
   },
   "outputs": [
    {
     "data": {
      "text/plain": [
       "0.24662556342597527"
      ]
     },
     "execution_count": 117,
     "metadata": {},
     "output_type": "execute_result"
    }
   ],
   "source": [
    "np.mean(pearson_df[\"lci\"])"
   ]
  },
  {
   "cell_type": "code",
   "execution_count": 118,
   "metadata": {
    "hidden": true
   },
   "outputs": [
    {
     "data": {
      "text/plain": [
       "0.22427117693116"
      ]
     },
     "execution_count": 118,
     "metadata": {},
     "output_type": "execute_result"
    }
   ],
   "source": [
    "np.mean(pearson_df[\"rw\"])"
   ]
  },
  {
   "cell_type": "markdown",
   "metadata": {
    "heading_collapsed": true
   },
   "source": [
    "### Disease Size Analysis"
   ]
  },
  {
   "cell_type": "code",
   "execution_count": 39,
   "metadata": {
    "hidden": true
   },
   "outputs": [],
   "source": [
    "size_dict = {disease.id: len(disease) for disease in diseases_dict.values()}\n",
    "size_df = pd.DataFrame(size_dict.values(), index=size_dict.keys(), columns=[\"size\"])"
   ]
  },
  {
   "cell_type": "code",
   "execution_count": 119,
   "metadata": {
    "hidden": true
   },
   "outputs": [
    {
     "data": {
      "image/png": "[encoded data removed]",
      "text/plain": [
       "<Figure size 432x288 with 1 Axes>"
      ]
     },
     "metadata": {},
     "output_type": "display_data"
    }
   ],
   "source": [
    "sns.scatterplot(data=spearman_df.join(size_df), x=\"size\", y=\"lci\", alpha=0.1)\n",
    "plt.xscale('log')"
   ]
  },
  {
   "cell_type": "code",
   "execution_count": null,
   "metadata": {
    "hidden": true
   },
   "outputs": [],
   "source": []
  }
 ],
 "metadata": {
  "kernelspec": {
   "display_name": "disease-protein-prediction",
   "language": "python",
   "name": "disease-protein-prediction"
  },
  "language_info": {
   "codemirror_mode": {
    "name": "ipython",
    "version": 3
   },
   "file_extension": ".py",
   "mimetype": "text/x-python",
   "name": "python",
   "nbconvert_exporter": "python",
   "pygments_lexer": "ipython3",
   "version": "3.7.1"
  },
  "toc": {
   "base_numbering": 1,
   "nav_menu": {},
   "number_sections": true,
   "sideBar": true,
   "skip_h1_title": true,
   "title_cell": "Table of Contents",
   "title_sidebar": "Contents",
   "toc_cell": false,
   "toc_position": {},
   "toc_section_display": true,
   "toc_window_display": true
  }
 },
 "nbformat": 4,
 "nbformat_minor": 2
}
