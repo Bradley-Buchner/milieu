{
 "cells": [
  {
   "cell_type": "markdown",
   "metadata": {},
   "source": [
    "# Network Statistics"
   ]
  },
  {
   "cell_type": "code",
   "execution_count": 4,
   "metadata": {},
   "outputs": [],
   "source": [
    "%load_ext autoreload\n",
    "%autoreload 2\n",
    "\n",
    "\n",
    "import sys, os\n",
    "\n",
    "import numpy as np\n",
    "import matplotlib.pyplot as plt \n",
    "import seaborn as sns\n",
    "import numpy as np\n",
    "import pandas as pd\n",
    "import networkx as nx\n",
    "from tqdm import tqdm_notebook as tqdm\n",
    "\n",
    "from dpp.data.network import PPINetwork\n",
    "from dpp.util import load_params, prepare_sns\n",
    "from dpp.data.associations import load_diseases\n",
    "\n",
    "os.chdir(\"/Users/sabrieyuboglu/Documents/School/SNAP/projects/disease-protein-prediction\")\n",
    "prepare_sns(sns)\n",
    "%matplotlib inline\n",
    "%config InlineBackend.figure_format = 'retina'"
   ]
  },
  {
   "cell_type": "code",
   "execution_count": 38,
   "metadata": {},
   "outputs": [],
   "source": [
    "from dpp.figures.recall_comparison import RecallComparison\n",
    "figure_dir = \"experiments/dpp_evaluate/_figures/recall_comparison\""
   ]
  },
  {
   "cell_type": "code",
   "execution_count": 47,
   "metadata": {},
   "outputs": [],
   "source": [
    "params = load_params(figure_dir)[\"process_params\"]"
   ]
  },
  {
   "cell_type": "code",
   "execution_count": 48,
   "metadata": {},
   "outputs": [
    {
     "name": "stderr",
     "output_type": "stream",
     "text": [
      "Loading Disease Associations...\n",
      "Loading Results...\n",
      "Recall Comparison\n",
      "Sabri Eyuboglu  -- SNAP Group\n",
      "======================================\n"
     ]
    }
   ],
   "source": [
    "fig = RecallComparison(figure_dir, params)"
   ]
  },
  {
   "cell_type": "code",
   "execution_count": 56,
   "metadata": {},
   "outputs": [
    {
     "name": "stderr",
     "output_type": "stream",
     "text": [
      "/Users/sabrieyuboglu/Documents/School/SNAP/projects/disease-protein-prediction/dpp/figures/recall_comparison.py:71: RuntimeWarning: invalid value encountered in greater\n",
      "  ref_start = np.where(diffs > 0.0)[0][0]\n",
      "/Users/sabrieyuboglu/Documents/School/SNAP/projects/disease-protein-prediction/dpp/figures/recall_comparison.py:72: RuntimeWarning: invalid value encountered in less\n",
      "  method_end = np.where(diffs < 0.0)[-1][-1]\n"
     ]
    },
    {
     "data": {
      "text/plain": [
       "<Figure size 288x216 with 0 Axes>"
      ]
     },
     "metadata": {},
     "output_type": "display_data"
    }
   ],
   "source": [
    "fig._generate()"
   ]
  },
  {
   "cell_type": "code",
   "execution_count": null,
   "metadata": {},
   "outputs": [],
   "source": []
  }
 ],
 "metadata": {
  "kernelspec": {
   "display_name": "Python 3",
   "language": "python",
   "name": "python3"
  },
  "language_info": {
   "codemirror_mode": {
    "name": "ipython",
    "version": 3
   },
   "file_extension": ".py",
   "mimetype": "text/x-python",
   "name": "python",
   "nbconvert_exporter": "python",
   "pygments_lexer": "ipython3",
   "version": "3.7.1"
  }
 },
 "nbformat": 4,
 "nbformat_minor": 2
}
