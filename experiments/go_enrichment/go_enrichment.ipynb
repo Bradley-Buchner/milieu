{
 "cells": [
  {
   "cell_type": "markdown",
   "metadata": {},
   "source": [
    "# Enrichment Analysis on LCI Predictions\n",
    "\n",
    "Analyzes the enrichment of proteins predicted by LCI"
   ]
  },
  {
   "cell_type": "code",
   "execution_count": 2,
   "metadata": {},
   "outputs": [],
   "source": [
    "%load_ext autoreload\n",
    "%autoreload 2\n",
    "\n",
    "import sys, os\n",
    "import json\n",
    "import pickle\n",
    "\n",
    "import numpy as np\n",
    "import matplotlib.pyplot as plt \n",
    "import torch\n",
    "import seaborn as sns\n",
    "import numpy as np\n",
    "from scipy.stats import pearsonr\n",
    "import pandas as pd\n",
    "import networkx as nx\n",
    "from tqdm import tqdm_notebook as tqdm\n",
    "import goatools\n",
    "from goatools.base import download_go_basic_obo, download_ncbi_associations\n",
    "from goatools.obo_parser import GODag\n",
    "from goatools.associations import read_ncbi_gene2go\n",
    "from goatools.go_enrichment import GOEnrichmentStudy\n",
    "\n",
    "\n",
    "from dpp.methods.lci.lci_method import LCIModule\n",
    "from dpp.experiments.go_enrichment import GOEnrichment\n",
    "from dpp.data.network import PPINetwork\n",
    "from dpp.data.go import load_go_annotations\n",
    "from dpp.util import Params, prepare_sns, load_mapping\n",
    "from dpp.data.associations import load_diseases\n",
    "os.chdir(\"/Users/sabrieyuboglu/Documents/School/SNAP/projects/disease-protein-prediction\")\n",
    "#os.chdir(\"/dfs/scratch0/sabri/disease-protein-prediction\")\n",
    "prepare_sns(sns, {})\n",
    "\n",
    "%matplotlib inline\n",
    "%config InlineBackend.figure_format = 'retina'"
   ]
  },
  {
   "cell_type": "markdown",
   "metadata": {
    "heading_collapsed": true
   },
   "source": [
    "## Loading Data\n",
    "Load disease associations and protein-protein interaction network."
   ]
  },
  {
   "cell_type": "code",
   "execution_count": 3,
   "metadata": {
    "hidden": true
   },
   "outputs": [],
   "source": [
    "# load diseases\n",
    "diseases_dict = load_diseases(\"data/associations/disgenet-associations.csv\", exclude_splits=['none'])"
   ]
  },
  {
   "cell_type": "code",
   "execution_count": 4,
   "metadata": {
    "hidden": true
   },
   "outputs": [],
   "source": [
    "# load network\n",
    "network = PPINetwork(\"data/networks/bio-pathways-network.txt\")\n",
    "n = len(network)"
   ]
  },
  {
   "cell_type": "code",
   "execution_count": 5,
   "metadata": {
    "hidden": true
   },
   "outputs": [],
   "source": [
    "# load entrez mapping\n",
    "symbol_to_entrez = load_mapping(\"data/protein/symbol_to_entrez.txt\", \"\\t\")\n",
    "entrez_to_symbol = {int(entrez): symbol for symbol, entrez in symbol_to_entrez.items() if entrez!=\"\"}"
   ]
  },
  {
   "cell_type": "markdown",
   "metadata": {
    "heading_collapsed": true,
    "hidden": true
   },
   "source": [
    "### Load Predictions\n",
    "Load predictions from a disease protein prediction method."
   ]
  },
  {
   "cell_type": "code",
   "execution_count": 6,
   "metadata": {
    "hidden": true
   },
   "outputs": [],
   "source": [
    "preds_df = pd.read_csv(\"experiments/dpp_predict/lci/predictions.csv\", index_col=0)"
   ]
  },
  {
   "cell_type": "markdown",
   "metadata": {
    "hidden": true
   },
   "source": [
    "### Load Evaluation"
   ]
  },
  {
   "cell_type": "code",
   "execution_count": 7,
   "metadata": {
    "hidden": true
   },
   "outputs": [],
   "source": [
    "eval_df = pd.read_csv(\"experiments/aggregation/results.csv\", header=[0, 1], index_col=0)"
   ]
  },
  {
   "cell_type": "markdown",
   "metadata": {
    "heading_collapsed": true,
    "hidden": true
   },
   "source": [
    "### Load Enrichment Analysis\n",
    "Prepare an enrichment study"
   ]
  },
  {
   "cell_type": "code",
   "execution_count": 7,
   "metadata": {
    "hidden": true
   },
   "outputs": [
    {
     "ename": "Exception",
     "evalue": "COULD NOT READ(../data/go/go-basic.obo)\ndownload obo file first\n [http://geneontology.org/ontology/go-basic.obo]",
     "output_type": "error",
     "traceback": [
      "\u001b[0;31m---------------------------------------------------------------------------\u001b[0m",
      "\u001b[0;31mException\u001b[0m                                 Traceback (most recent call last)",
      "\u001b[0;32m<ipython-input-7-4b8b86fec666>\u001b[0m in \u001b[0;36m<module>\u001b[0;34m\u001b[0m\n\u001b[1;32m      1\u001b[0m \u001b[0;31m# load gene ontology\u001b[0m\u001b[0;34m\u001b[0m\u001b[0;34m\u001b[0m\u001b[0;34m\u001b[0m\u001b[0m\n\u001b[0;32m----> 2\u001b[0;31m \u001b[0mobodag\u001b[0m \u001b[0;34m=\u001b[0m \u001b[0mGODag\u001b[0m\u001b[0;34m(\u001b[0m\u001b[0;34m\"../data/go/go-basic.obo\"\u001b[0m\u001b[0;34m)\u001b[0m\u001b[0;34m\u001b[0m\u001b[0;34m\u001b[0m\u001b[0m\n\u001b[0m",
      "\u001b[0;32m~/Documents/School/SNAP/projects/disease-protein-prediction/env/lib/python3.7/site-packages/goatools/obo_parser.py\u001b[0m in \u001b[0;36m__init__\u001b[0;34m(self, obo_file, optional_attrs, load_obsolete, prt)\u001b[0m\n\u001b[1;32m    308\u001b[0m     \u001b[0;32mdef\u001b[0m \u001b[0m__init__\u001b[0m\u001b[0;34m(\u001b[0m\u001b[0mself\u001b[0m\u001b[0;34m,\u001b[0m \u001b[0mobo_file\u001b[0m\u001b[0;34m=\u001b[0m\u001b[0;34m\"go-basic.obo\"\u001b[0m\u001b[0;34m,\u001b[0m \u001b[0moptional_attrs\u001b[0m\u001b[0;34m=\u001b[0m\u001b[0;32mNone\u001b[0m\u001b[0;34m,\u001b[0m \u001b[0mload_obsolete\u001b[0m\u001b[0;34m=\u001b[0m\u001b[0;32mFalse\u001b[0m\u001b[0;34m,\u001b[0m \u001b[0mprt\u001b[0m\u001b[0;34m=\u001b[0m\u001b[0msys\u001b[0m\u001b[0;34m.\u001b[0m\u001b[0mstdout\u001b[0m\u001b[0;34m)\u001b[0m\u001b[0;34m:\u001b[0m\u001b[0;34m\u001b[0m\u001b[0;34m\u001b[0m\u001b[0m\n\u001b[1;32m    309\u001b[0m         \u001b[0msuper\u001b[0m\u001b[0;34m(\u001b[0m\u001b[0mGODag\u001b[0m\u001b[0;34m,\u001b[0m \u001b[0mself\u001b[0m\u001b[0;34m)\u001b[0m\u001b[0;34m.\u001b[0m\u001b[0m__init__\u001b[0m\u001b[0;34m(\u001b[0m\u001b[0;34m)\u001b[0m\u001b[0;34m\u001b[0m\u001b[0;34m\u001b[0m\u001b[0m\n\u001b[0;32m--> 310\u001b[0;31m         \u001b[0mself\u001b[0m\u001b[0;34m.\u001b[0m\u001b[0mversion\u001b[0m \u001b[0;34m=\u001b[0m \u001b[0mself\u001b[0m\u001b[0;34m.\u001b[0m\u001b[0mload_obo_file\u001b[0m\u001b[0;34m(\u001b[0m\u001b[0mobo_file\u001b[0m\u001b[0;34m,\u001b[0m \u001b[0moptional_attrs\u001b[0m\u001b[0;34m,\u001b[0m \u001b[0mload_obsolete\u001b[0m\u001b[0;34m,\u001b[0m \u001b[0mprt\u001b[0m\u001b[0;34m)\u001b[0m\u001b[0;34m\u001b[0m\u001b[0;34m\u001b[0m\u001b[0m\n\u001b[0m\u001b[1;32m    311\u001b[0m \u001b[0;34m\u001b[0m\u001b[0m\n\u001b[1;32m    312\u001b[0m     \u001b[0;32mdef\u001b[0m \u001b[0mload_obo_file\u001b[0m\u001b[0;34m(\u001b[0m\u001b[0mself\u001b[0m\u001b[0;34m,\u001b[0m \u001b[0mobo_file\u001b[0m\u001b[0;34m,\u001b[0m \u001b[0moptional_attrs\u001b[0m\u001b[0;34m,\u001b[0m \u001b[0mload_obsolete\u001b[0m\u001b[0;34m,\u001b[0m \u001b[0mprt\u001b[0m\u001b[0;34m)\u001b[0m\u001b[0;34m:\u001b[0m\u001b[0;34m\u001b[0m\u001b[0;34m\u001b[0m\u001b[0m\n",
      "\u001b[0;32m~/Documents/School/SNAP/projects/disease-protein-prediction/env/lib/python3.7/site-packages/goatools/obo_parser.py\u001b[0m in \u001b[0;36mload_obo_file\u001b[0;34m(self, obo_file, optional_attrs, load_obsolete, prt)\u001b[0m\n\u001b[1;32m    312\u001b[0m     \u001b[0;32mdef\u001b[0m \u001b[0mload_obo_file\u001b[0m\u001b[0;34m(\u001b[0m\u001b[0mself\u001b[0m\u001b[0;34m,\u001b[0m \u001b[0mobo_file\u001b[0m\u001b[0;34m,\u001b[0m \u001b[0moptional_attrs\u001b[0m\u001b[0;34m,\u001b[0m \u001b[0mload_obsolete\u001b[0m\u001b[0;34m,\u001b[0m \u001b[0mprt\u001b[0m\u001b[0;34m)\u001b[0m\u001b[0;34m:\u001b[0m\u001b[0;34m\u001b[0m\u001b[0;34m\u001b[0m\u001b[0m\n\u001b[1;32m    313\u001b[0m         \u001b[0;34m\"\"\"Read obo file. Store results.\"\"\"\u001b[0m\u001b[0;34m\u001b[0m\u001b[0;34m\u001b[0m\u001b[0m\n\u001b[0;32m--> 314\u001b[0;31m         \u001b[0mreader\u001b[0m \u001b[0;34m=\u001b[0m \u001b[0mOBOReader\u001b[0m\u001b[0;34m(\u001b[0m\u001b[0mobo_file\u001b[0m\u001b[0;34m,\u001b[0m \u001b[0moptional_attrs\u001b[0m\u001b[0;34m)\u001b[0m\u001b[0;34m\u001b[0m\u001b[0;34m\u001b[0m\u001b[0m\n\u001b[0m\u001b[1;32m    315\u001b[0m \u001b[0;34m\u001b[0m\u001b[0m\n\u001b[1;32m    316\u001b[0m         \u001b[0;31m# Save alt_ids and their corresponding main GO ID. Add to GODag after populating GO Terms\u001b[0m\u001b[0;34m\u001b[0m\u001b[0;34m\u001b[0m\u001b[0;34m\u001b[0m\u001b[0m\n",
      "\u001b[0;32m~/Documents/School/SNAP/projects/disease-protein-prediction/env/lib/python3.7/site-packages/goatools/obo_parser.py\u001b[0m in \u001b[0;36m__init__\u001b[0;34m(self, obo_file, optional_attrs)\u001b[0m\n\u001b[1;32m     51\u001b[0m                             \u001b[0;34m\"download obo file first\\n \"\u001b[0m\u001b[0;34m\u001b[0m\u001b[0;34m\u001b[0m\u001b[0m\n\u001b[1;32m     52\u001b[0m                             \u001b[0;34m\"[http://geneontology.org/ontology/\"\u001b[0m\u001b[0;34m\u001b[0m\u001b[0;34m\u001b[0m\u001b[0m\n\u001b[0;32m---> 53\u001b[0;31m                             \"go-basic.obo]\".format(OBO=obo_file))\n\u001b[0m\u001b[1;32m     54\u001b[0m \u001b[0;34m\u001b[0m\u001b[0m\n\u001b[1;32m     55\u001b[0m     \u001b[0;32mdef\u001b[0m \u001b[0m__iter__\u001b[0m\u001b[0;34m(\u001b[0m\u001b[0mself\u001b[0m\u001b[0;34m)\u001b[0m\u001b[0;34m:\u001b[0m\u001b[0;34m\u001b[0m\u001b[0;34m\u001b[0m\u001b[0m\n",
      "\u001b[0;31mException\u001b[0m: COULD NOT READ(../data/go/go-basic.obo)\ndownload obo file first\n [http://geneontology.org/ontology/go-basic.obo]"
     ]
    }
   ],
   "source": [
    "# load gene ontology\n",
    "obodag = GODag(\"../data/go/go-basic.obo\")"
   ]
  },
  {
   "cell_type": "code",
   "execution_count": null,
   "metadata": {
    "hidden": true
   },
   "outputs": [],
   "source": [
    "geneid2go = read_ncbi_gene2go(\"../data/go/gene2go.txt\", taxids=[9606])"
   ]
  },
  {
   "cell_type": "code",
   "execution_count": null,
   "metadata": {
    "hidden": true
   },
   "outputs": [],
   "source": [
    "goeaobj = GOEnrichmentStudy(network.get_proteins(), # List of mouse protein-coding genes\n",
    "                            geneid2go, # geneid/GO associations\n",
    "                            obodag, # Ontologies\n",
    "                            propagate_counts = True,\n",
    "                            alpha = 0.05, # default significance cut-off\n",
    "                            methods = ['fdr_bh']) # defult multipletest correction method"
   ]
  },
  {
   "cell_type": "markdown",
   "metadata": {
    "heading_collapsed": true
   },
   "source": [
    "## Perform Enrichment Analysis\n",
    "Perform an enrichment analysis on one disease. "
   ]
  },
  {
   "cell_type": "code",
   "execution_count": 225,
   "metadata": {
    "hidden": true,
    "scrolled": true
   },
   "outputs": [
    {
     "name": "stdout",
     "output_type": "stream",
     "text": [
      "Thrombophilia: [FGA, MYD88, HRG, PLAT, THBD, HABP2, SERPINA10, PIGA, F2, F5, MTHFR, F8, F9, SERPIND1, PROC, PROS1]\n",
      "(1) PROZ, (2) F2RL3, (3) GP5, (4) SERPINA5, (5) F11, (6) SERPINB6, (7) GGCX\n"
     ]
    }
   ],
   "source": [
    "disease_id = \"C0398623\"\n",
    "disease_proteins = set(diseases_dict[disease_id].proteins)\n",
    "disease_symbols = [entrez_to_symbol[entrez] for entrez in disease_proteins if entrez in entrez_to_symbol]\n",
    "symbols_str=str(disease_symbols).replace('\\'', '')\n",
    "print(f\"{diseases_dict[disease_id].name}: {symbols_str}\")\n",
    "sorted_predictions = predictions.loc[disease_id].sort_values(ascending=False).index\n",
    "print_list([entrez_to_symbol[int(entrez)] for entrez in sorted_predictions[:7] if int(entrez) in entrez_to_symbol])"
   ]
  },
  {
   "cell_type": "code",
   "execution_count": 216,
   "metadata": {
    "hidden": true
   },
   "outputs": [
    {
     "name": "stdout",
     "output_type": "stream",
     "text": [
      "100%     12 of     12 study items found in association\n",
      "100%     12 of     12 study items found in population(21557)\n",
      "Calculating 21,968 uncorrected p-values using fisher_scipy_stats\n",
      "  21,968 GO terms are associated with 16,420 of 21,557 population items\n",
      "   1,212 GO terms are associated with     12 of     12 study items\n",
      "     218 GO terms found significant (< 0.05=alpha) after multitest correction: statsmodels fdr_bh\n"
     ]
    }
   ],
   "source": [
    "# run disease enrichment\n",
    "disease_results = goeaobj.run_study(disease_proteins)"
   ]
  },
  {
   "cell_type": "code",
   "execution_count": 212,
   "metadata": {
    "hidden": true
   },
   "outputs": [
    {
     "name": "stdout",
     "output_type": "stream",
     "text": [
      "(1) IL20RA, (2) NLRP2, (3) ATM, (4) LSP1, (5) MRE11\n",
      " 93%     14 of     15 study items found in association\n",
      "100%     15 of     15 study items found in population(21557)\n",
      "Calculating 21,968 uncorrected p-values using fisher_scipy_stats\n",
      "  21,968 GO terms are associated with 16,420 of 21,557 population items\n",
      "     952 GO terms are associated with     14 of     15 study items\n",
      "     179 GO terms found significant (< 0.05=alpha) after multitest correction: statsmodels fdr_bh\n"
     ]
    }
   ],
   "source": [
    "# run prediction enrichment\n",
    "pred_proteins = set(map(int, sorted_predictions[:len(disease_proteins)]))\n",
    "pred_results = goeaobj.run_study(pred_proteins)"
   ]
  },
  {
   "cell_type": "code",
   "execution_count": 206,
   "metadata": {
    "hidden": true
   },
   "outputs": [],
   "source": [
    "def print_list(term_list):\n",
    "    string = \"\"\n",
    "    for i, term in enumerate(term_list):\n",
    "        string += f\"({i+1}) {term}, \"\n",
    "    print(string[:-2])"
   ]
  },
  {
   "cell_type": "code",
   "execution_count": 207,
   "metadata": {
    "hidden": true
   },
   "outputs": [
    {
     "name": "stdout",
     "output_type": "stream",
     "text": [
      "(1) double-strand break repair, (2) cellular response to DNA damage stimulus, (3) DNA repair, (4) DNA metabolic process, (5) double-strand break repair via homologous recombination\n",
      "(1) DNA repair, (2) DNA integrity checkpoint, (3) chromosome organization, (4) telomere maintenance, (5) positive regulation of DNA metabolic process\n"
     ]
    }
   ],
   "source": [
    "k = 5\n",
    "disease_top_k = sorted(disease_results, key=lambda x: x.p_fdr_bh)[:k]\n",
    "disease_significant = [r for r in disease_results if r.p_fdr_bh < 0.05]\n",
    "print_list([result.goterm.name for result in disease_top_k])\n",
    "pred_top_k = sorted(pred_results, key=lambda x: x.p_fdr_bh)[:k]\n",
    "pred_significant = [r for r in pred_results if r.p_fdr_bh < 0.05]\n",
    "print_list([result.goterm.name for result in pred_top_k])"
   ]
  },
  {
   "cell_type": "code",
   "execution_count": 208,
   "metadata": {
    "hidden": true
   },
   "outputs": [
    {
     "name": "stdout",
     "output_type": "stream",
     "text": [
      "Jaccard Similarity: 0.1111111111111111\n"
     ]
    }
   ],
   "source": [
    "intersection = set([result.goterm.name for result in disease_top_k]) & set([result.goterm.name for result in pred_top_k])\n",
    "union = set([result.goterm.name for result in disease_top_k]) | set([result.goterm.name for result in pred_top_k])\n",
    "print(\"Jaccard Similarity: {}\".format(1.0*len(intersection)/len(union)))"
   ]
  },
  {
   "cell_type": "code",
   "execution_count": 209,
   "metadata": {
    "hidden": true
   },
   "outputs": [
    {
     "name": "stdout",
     "output_type": "stream",
     "text": [
      "Jaccard Similarity: 0.36981132075471695\n"
     ]
    }
   ],
   "source": [
    "intersection = set([result.goterm.name for result in pred_significant]) & set([result.goterm.name for result in disease_significant])\n",
    "union = set([result.goterm.name for result in pred_significant]) | set([result.goterm.name for result in disease_significant])\n",
    "\n",
    "print(\"Jaccard Similarity: {}\".format(1.0*len(intersection)/len(union)))"
   ]
  },
  {
   "cell_type": "markdown",
   "metadata": {},
   "source": [
    "## Analyze Enrichment Results\n",
    "Load enrichment study results"
   ]
  },
  {
   "cell_type": "markdown",
   "metadata": {},
   "source": [
    "### Load Enrichment Results"
   ]
  },
  {
   "cell_type": "code",
   "execution_count": 11,
   "metadata": {},
   "outputs": [],
   "source": [
    "experiment_dir = 'experiments/go_enrichment/precompute'"
   ]
  },
  {
   "cell_type": "code",
   "execution_count": 12,
   "metadata": {},
   "outputs": [],
   "source": [
    "outputs_path = os.path.join(experiment_dir, \"outputs.pkl\")\n",
    "if os.path.exists(outputs_path):\n",
    "    with open(outputs_path, 'rb') as f:\n",
    "        outputs = pickle.load(f)"
   ]
  },
  {
   "cell_type": "markdown",
   "metadata": {
    "heading_collapsed": true
   },
   "source": [
    "### Jaccard"
   ]
  },
  {
   "cell_type": "code",
   "execution_count": 14,
   "metadata": {
    "hidden": true
   },
   "outputs": [],
   "source": [
    "def get_significant_terms(output, threshold=0.05):\n",
    "    \"\"\"\n",
    "    \"\"\"\n",
    "    terms, pvalues = list(zip(*output.items()))\n",
    "    significant_idxs = np.where(np.array(pvalues) < threshold)\n",
    "    return np.array(terms)[significant_idxs]"
   ]
  },
  {
   "cell_type": "code",
   "execution_count": 15,
   "metadata": {
    "hidden": true
   },
   "outputs": [],
   "source": [
    "def jaccard(a_terms, b_terms):\n",
    "    \"\"\"\n",
    "    \"\"\"\n",
    "    a_terms = set(a_terms)\n",
    "    b_terms = set(b_terms)\n",
    "    return (len(a_terms & b_terms) / len(a_terms | b_terms) if len(a_terms | b_terms) != 0 else 0)"
   ]
  },
  {
   "cell_type": "code",
   "execution_count": 19,
   "metadata": {
    "hidden": true
   },
   "outputs": [
    {
     "data": {
      "application/vnd.jupyter.widget-view+json": {
       "model_id": "6a240cc56d4a40ca9986f729ad2eab80",
       "version_major": 2,
       "version_minor": 0
      },
      "text/plain": [
       "HBox(children=(IntProgress(value=0, max=1811), HTML(value='')))"
      ]
     },
     "metadata": {},
     "output_type": "display_data"
    }
   ],
   "source": [
    "output = outputs[\"C0013182\"]\n",
    "\n",
    "jaccard_results = {}\n",
    "for disease_id, output in tqdm(outputs.items()):\n",
    "    disease_terms = get_significant_terms(output[\"disease\"], threshold=0.01)\n",
    "    lci_terms = get_significant_terms(output[\"lci\"], threshold=0.01)\n",
    "    rw_terms = get_significant_terms(output[\"random_walk\"], threshold=0.01)\n",
    "    lci_jaccard = jaccard(disease_terms, lci_terms)\n",
    "    rw_jaccard = jaccard(disease_terms, rw_terms)\n",
    "    jaccard_results[disease_id] = {\n",
    "        \"lci\": lci_jaccard,\n",
    "        \"rw\": rw_jaccard\n",
    "    }"
   ]
  },
  {
   "cell_type": "code",
   "execution_count": 21,
   "metadata": {
    "hidden": true
   },
   "outputs": [],
   "source": [
    "jaccard_df = pd.DataFrame(list(jaccard_results.values()), index=list(jaccard_results.keys()))"
   ]
  },
  {
   "cell_type": "code",
   "execution_count": 22,
   "metadata": {
    "hidden": true
   },
   "outputs": [
    {
     "data": {
      "text/plain": [
       "<matplotlib.legend.Legend at 0x34b69d6d8>"
      ]
     },
     "execution_count": 22,
     "metadata": {},
     "output_type": "execute_result"
    },
    {
     "data": {
      "image/png": "[encoded data removed]",
      "text/plain": [
       "<Figure size 432x288 with 1 Axes>"
      ]
     },
     "metadata": {
      "image/png": {
       "height": 270,
       "width": 398
      },
      "needs_background": "light"
     },
     "output_type": "display_data"
    }
   ],
   "source": [
    "sns.distplot(jaccard_df[\"lci\"], bins=22, kde=False, label=\"LCI\", hist_kws={\"range\": (0, 1),\n",
    "                                                                                        \"color\": \"#E03C3F\",\n",
    "                                                                                        \"alpha\":0.8})\n",
    "sns.distplot(jaccard_df[\"rw\"], bins=22, kde=False, label=\"Random Walk\", hist_kws={\"range\": (0, 1),\n",
    "                                                                                      \"color\": \"lightgrey\",\n",
    "                                                                                      \"alpha\": 0.8})\n",
    "sns.despine()\n",
    "plt.yscale('linear')\n",
    "plt.xlabel(\"Jaccard similarity of enriched functional classes\")\n",
    "plt.ylabel(\"# of diseases [linear]\")\n",
    "plt.legend()"
   ]
  },
  {
   "cell_type": "markdown",
   "metadata": {},
   "source": [
    "### Spearman"
   ]
  },
  {
   "cell_type": "code",
   "execution_count": 13,
   "metadata": {},
   "outputs": [],
   "source": [
    "from scipy.stats import spearmanr\n",
    " \n",
    "def compute_spearman_correlation(a_term_to_pval, b_term_to_pval, terms=None):\n",
    "        \"\"\"\n",
    "        \"\"\"\n",
    "        if terms is None:\n",
    "            terms = list(a_term_to_pval.keys())\n",
    "        sp_corr, sp_pval = spearmanr([a_term_to_pval[term] for term in terms],\n",
    "                                     [b_term_to_pval[term] for term in terms])\n",
    "        return sp_corr, sp_pval"
   ]
  },
  {
   "cell_type": "code",
   "execution_count": 14,
   "metadata": {},
   "outputs": [
    {
     "data": {
      "application/vnd.jupyter.widget-view+json": {
       "model_id": "81c5905086614a3987810f6be6d1708f",
       "version_major": 2,
       "version_minor": 0
      },
      "text/plain": [
       "HBox(children=(IntProgress(value=0, max=1811), HTML(value='')))"
      ]
     },
     "metadata": {},
     "output_type": "display_data"
    },
    {
     "name": "stderr",
     "output_type": "stream",
     "text": [
      "/Users/sabrieyuboglu/Documents/School/SNAP/projects/disease-protein-prediction/env/lib/python3.7/site-packages/numpy/lib/function_base.py:2530: RuntimeWarning: invalid value encountered in true_divide\n",
      "  c /= stddev[:, None]\n",
      "/Users/sabrieyuboglu/Documents/School/SNAP/projects/disease-protein-prediction/env/lib/python3.7/site-packages/numpy/lib/function_base.py:2531: RuntimeWarning: invalid value encountered in true_divide\n",
      "  c /= stddev[None, :]\n",
      "/Users/sabrieyuboglu/Documents/School/SNAP/projects/disease-protein-prediction/env/lib/python3.7/site-packages/scipy/stats/_distn_infrastructure.py:877: RuntimeWarning: invalid value encountered in greater\n",
      "  return (self.a < x) & (x < self.b)\n",
      "/Users/sabrieyuboglu/Documents/School/SNAP/projects/disease-protein-prediction/env/lib/python3.7/site-packages/scipy/stats/_distn_infrastructure.py:877: RuntimeWarning: invalid value encountered in less\n",
      "  return (self.a < x) & (x < self.b)\n",
      "/Users/sabrieyuboglu/Documents/School/SNAP/projects/disease-protein-prediction/env/lib/python3.7/site-packages/scipy/stats/_distn_infrastructure.py:1831: RuntimeWarning: invalid value encountered in less_equal\n",
      "  cond2 = cond0 & (x <= self.a)\n"
     ]
    },
    {
     "name": "stdout",
     "output_type": "stream",
     "text": [
      "\n"
     ]
    }
   ],
   "source": [
    "spearman_results = {}\n",
    "for disease_id, output in tqdm(outputs.items()):\n",
    "    lci_spearman, _ = compute_spearman_correlation(output[\"disease\"], output[\"lci\"])\n",
    "    rw_spearman, _ = compute_spearman_correlation(output[\"disease\"], output[\"random_walk\"])\n",
    "    spearman_results[disease_id] = {\n",
    "        \"lci\": lci_spearman,\n",
    "        \"rw\": rw_spearman\n",
    "    }"
   ]
  },
  {
   "cell_type": "code",
   "execution_count": 15,
   "metadata": {},
   "outputs": [
    {
     "data": {
      "text/plain": [
       "lci    0.246626\n",
       "rw     0.224271\n",
       "dtype: float64"
      ]
     },
     "execution_count": 15,
     "metadata": {},
     "output_type": "execute_result"
    }
   ],
   "source": [
    "spearman_df = pd.DataFrame(list(spearman_results.values()), index=list(spearman_results.keys()))\n",
    "spearman_df.mean()"
   ]
  },
  {
   "cell_type": "code",
   "execution_count": 17,
   "metadata": {},
   "outputs": [
    {
     "data": {
      "text/plain": [
       "<matplotlib.legend.Legend at 0x44ad07a58>"
      ]
     },
     "execution_count": 17,
     "metadata": {},
     "output_type": "execute_result"
    },
    {
     "data": {
      "image/png": "[encoded data removed]",
      "text/plain": [
       "<Figure size 432x288 with 1 Axes>"
      ]
     },
     "metadata": {
      "image/png": {
       "height": 270,
       "width": 398
      },
      "needs_background": "light"
     },
     "output_type": "display_data"
    }
   ],
   "source": [
    "sns.distplot(spearman_df[\"lci\"], bins=25, kde=False, hist=True, label=\"LCI\", hist_kws={\"range\": (0, 1),\n",
    "                                                                                        \"color\": \"#E03C3F\",\n",
    "                                                                                        \"alpha\":0.8})\n",
    "#sns.distplot(spearman_df[\"rw\"], bins=25, kde=False, hist=True, label=\"Random Walk\", hist_kws={\"range\": (0, 1),\n",
    "#                                                                                      \"color\": \"lightgrey\",\n",
    "#                                                                                      \"alpha\": 0.8})\n",
    "sns.despine()\n",
    "plt.yscale('linear')\n",
    "plt.xlabel(\"Spearman correlation of functional enrichment pvalues\")\n",
    "plt.ylabel(\"# of diseases [linear]\")\n",
    "plt.legend()\n",
    "#plt.savefig(\"../experiments/go_enrichment/lci/lci_rw_go.pdf\")"
   ]
  },
  {
   "cell_type": "markdown",
   "metadata": {},
   "source": [
    "#### Top by Mean Correlation"
   ]
  },
  {
   "cell_type": "code",
   "execution_count": 30,
   "metadata": {},
   "outputs": [],
   "source": [
    "spearman_mean_df = spearman_df[['lci', 'rw']].mean(axis=1)\n",
    "spearman_df.insert(0, column=\"mean\", value=spearman_mean_df)"
   ]
  },
  {
   "cell_type": "code",
   "execution_count": 31,
   "metadata": {},
   "outputs": [
    {
     "data": {
      "text/plain": [
       "<matplotlib.legend.Legend at 0x212c35a20>"
      ]
     },
     "execution_count": 31,
     "metadata": {},
     "output_type": "execute_result"
    },
    {
     "data": {
      "image/png": "[encoded data removed]",
      "text/plain": [
       "<Figure size 432x288 with 1 Axes>"
      ]
     },
     "metadata": {
      "image/png": {
       "height": 270,
       "width": 417
      },
      "needs_background": "light"
     },
     "output_type": "display_data"
    }
   ],
   "source": [
    "top_k = 500\n",
    "sns.distplot(spearman_df.nlargest(top_k, \"mean\")[\"lci\"], bins=30, kde=False, hist=True, label=\"LCI\", hist_kws={\n",
    "                                                                                        \"range\": (0.1, 0.8),\n",
    "                                                                                        \"color\": \"#E03C3F\",\n",
    "                                                                                        \"alpha\":0.8})\n",
    "sns.distplot(spearman_df.nlargest(top_k, \"mean\")[\"rw\"], bins=30, kde=False, hist=True, label=\"Random Walk\", hist_kws={\"range\": (0.1, 0.8),\n",
    "                                                                                      \"color\": \"lightgrey\",\n",
    "                                                                                      \"alpha\": 0.8})\n",
    "sns.despine()\n",
    "plt.yscale('linear')\n",
    "plt.xlabel(f\"Spearman correlation of functional enrichment pvalues [top {top_k}]\")\n",
    "plt.ylabel(\"# of diseases [linear]\")\n",
    "plt.legend()\n",
    "#plt.savefig(\"../experiments/go_enrichment/lci/lci_rw_go.pdf\")"
   ]
  },
  {
   "cell_type": "markdown",
   "metadata": {},
   "source": [
    "#### Top by LCI"
   ]
  },
  {
   "cell_type": "code",
   "execution_count": 36,
   "metadata": {},
   "outputs": [],
   "source": [
    "eval_df[\"lci_dpp[DP]\", \"Recall-at-100\"]\n",
    "spearman_df.insert(0, column=\"lci_recall_100\", value=eval_df[\"lci_dpp[DP]\", \"Recall-at-100\"])"
   ]
  },
  {
   "cell_type": "code",
   "execution_count": 44,
   "metadata": {},
   "outputs": [
    {
     "data": {
      "text/plain": [
       "<matplotlib.legend.Legend at 0x7f0d9862ae48>"
      ]
     },
     "execution_count": 44,
     "metadata": {},
     "output_type": "execute_result"
    },
    {
     "data": {
      "image/png": "[encoded data removed]",
      "text/plain": [
       "<Figure size 432x288 with 1 Axes>"
      ]
     },
     "metadata": {
      "needs_background": "light"
     },
     "output_type": "display_data"
    }
   ],
   "source": [
    "top_k = 500\n",
    "sns.distplot(spearman_df.nlargest(top_k, \"lci_recall_100\")[\"lci\"], bins=25, kde=False, hist=True, label=\"LCI\", hist_kws={\n",
    "                                                                                        \"range\": (0.1, 0.8),\n",
    "                                                                                        \"color\": \"#E03C3F\",\n",
    "                                                                                        \"alpha\":0.8})\n",
    "sns.distplot(spearman_df.nlargest(top_k, \"lci_recall_100\")[\"rw\"], bins=25, kde=False, hist=True, label=\"Random Walk\", hist_kws={\"range\": (0.1, 0.8),\n",
    "                                                                                      \"color\": \"lightgrey\",\n",
    "                                                                                      \"alpha\": 0.8})\n",
    "sns.despine()\n",
    "plt.yscale('linear')\n",
    "plt.xlabel(f\"Spearman correlation of functional enrichment pvalues [top {top_k}]\")\n",
    "plt.ylabel(\"# of diseases [linear]\")\n",
    "plt.legend()\n",
    "#plt.savefig(\"../experiments/go_enrichment/lci/lci_rw_go.pdf\")"
   ]
  },
  {
   "cell_type": "markdown",
   "metadata": {},
   "source": [
    "#### Top by RW"
   ]
  },
  {
   "cell_type": "code",
   "execution_count": 38,
   "metadata": {},
   "outputs": [],
   "source": [
    "eval_df[\"lci_dpp[DP]\", \"Recall-at-100\"]\n",
    "spearman_df.insert(0, column=\"rw_recall_100\", value=eval_df[\"rw_dpp[DP]\", \"Recall-at-100\"])"
   ]
  },
  {
   "cell_type": "code",
   "execution_count": 45,
   "metadata": {},
   "outputs": [
    {
     "data": {
      "text/plain": [
       "<matplotlib.legend.Legend at 0x7f0d9868b6a0>"
      ]
     },
     "execution_count": 45,
     "metadata": {},
     "output_type": "execute_result"
    },
    {
     "data": {
      "image/png": "[encoded data removed]",
      "text/plain": [
       "<Figure size 432x288 with 1 Axes>"
      ]
     },
     "metadata": {
      "needs_background": "light"
     },
     "output_type": "display_data"
    }
   ],
   "source": [
    "top_k = 500\n",
    "sns.distplot(spearman_df.nlargest(top_k, \"rw_recall_100\")[\"lci\"], bins=25, kde=False, hist=True, label=\"LCI\", hist_kws={\n",
    "                                                                                        \"range\": (0.1, 0.8),\n",
    "                                                                                        \"color\": \"#E03C3F\",\n",
    "                                                                                        \"alpha\":0.8})\n",
    "sns.distplot(spearman_df.nlargest(top_k, \"rw_recall_100\")[\"rw\"], bins=25, kde=False, hist=True, label=\"Random Walk\", hist_kws={\"range\": (0.1, 0.8),\n",
    "                                                                                      \"color\": \"lightgrey\",\n",
    "                                                                                      \"alpha\": 0.8})\n",
    "sns.despine()\n",
    "plt.yscale('linear')\n",
    "plt.xlabel(f\"Spearman correlation of functional enrichment pvalues [top {top_k}]\")\n",
    "plt.ylabel(\"# of diseases [linear]\")\n",
    "plt.legend()\n",
    "#plt.savefig(\"../experiments/go_enrichment/lci/lci_rw_go.pdf\")"
   ]
  },
  {
   "cell_type": "markdown",
   "metadata": {},
   "source": [
    "#### Filter Terms"
   ]
  },
  {
   "cell_type": "code",
   "execution_count": 8,
   "metadata": {},
   "outputs": [
    {
     "name": "stdout",
     "output_type": "stream",
     "text": [
      "data/go/go-basic.obo: fmt(1.2) rel(2019-01-19) 47,379 GO Terms\n",
      "  20,385 items READ: data/go/gene2go.txt\n"
     ]
    }
   ],
   "source": [
    "term_to_proteins = load_go_annotations(network.get_proteins(), level=None)"
   ]
  },
  {
   "cell_type": "code",
   "execution_count": 10,
   "metadata": {},
   "outputs": [],
   "source": [
    "def threshold_terms(term_to_proteins, lower, upper):\n",
    "    \"\"\"\n",
    "    Filter terms where the number of proteins does not fall within the \n",
    "    lower and upper bounds. \n",
    "    \"\"\"\n",
    "    return {term: proteins \n",
    "            for term, proteins \n",
    "            in term_to_proteins.items() \n",
    "            if lower <= len(term) <= upper}\n",
    "    "
   ]
  },
  {
   "cell_type": "code",
   "execution_count": 11,
   "metadata": {},
   "outputs": [],
   "source": [
    "params = {\n",
    "    \"lower\": 20, \n",
    "    \"upper\": 200\n",
    "}"
   ]
  },
  {
   "cell_type": "code",
   "execution_count": 14,
   "metadata": {},
   "outputs": [],
   "source": [
    "threshold_terms = threshold_terms(term_to_proteins, **params).keys()"
   ]
  },
  {
   "cell_type": "code",
   "execution_count": 19,
   "metadata": {},
   "outputs": [
    {
     "data": {
      "application/vnd.jupyter.widget-view+json": {
       "model_id": "8202ea7ff9474db9a8f6d67783872052",
       "version_major": 2,
       "version_minor": 0
      },
      "text/plain": [
       "HBox(children=(IntProgress(value=0, max=1811), HTML(value='')))"
      ]
     },
     "metadata": {},
     "output_type": "display_data"
    },
    {
     "name": "stderr",
     "output_type": "stream",
     "text": [
      "/Users/sabrieyuboglu/Documents/School/SNAP/projects/disease-protein-prediction/env/lib/python3.7/site-packages/numpy/lib/function_base.py:2530: RuntimeWarning: invalid value encountered in true_divide\n",
      "  c /= stddev[:, None]\n",
      "/Users/sabrieyuboglu/Documents/School/SNAP/projects/disease-protein-prediction/env/lib/python3.7/site-packages/numpy/lib/function_base.py:2531: RuntimeWarning: invalid value encountered in true_divide\n",
      "  c /= stddev[None, :]\n",
      "/Users/sabrieyuboglu/Documents/School/SNAP/projects/disease-protein-prediction/env/lib/python3.7/site-packages/scipy/stats/_distn_infrastructure.py:877: RuntimeWarning: invalid value encountered in greater\n",
      "  return (self.a < x) & (x < self.b)\n",
      "/Users/sabrieyuboglu/Documents/School/SNAP/projects/disease-protein-prediction/env/lib/python3.7/site-packages/scipy/stats/_distn_infrastructure.py:877: RuntimeWarning: invalid value encountered in less\n",
      "  return (self.a < x) & (x < self.b)\n",
      "/Users/sabrieyuboglu/Documents/School/SNAP/projects/disease-protein-prediction/env/lib/python3.7/site-packages/scipy/stats/_distn_infrastructure.py:1831: RuntimeWarning: invalid value encountered in less_equal\n",
      "  cond2 = cond0 & (x <= self.a)\n"
     ]
    },
    {
     "name": "stdout",
     "output_type": "stream",
     "text": [
      "\n"
     ]
    }
   ],
   "source": [
    "spearman_results = {}\n",
    "for disease_id, output in tqdm(outputs.items()):\n",
    "    lci_spearman, _ = compute_spearman_correlation(output[\"disease\"], output[\"lci\"], threshold_terms)\n",
    "    rw_spearman, _ = compute_spearman_correlation(output[\"disease\"], output[\"random_walk\"], threshold_terms)\n",
    "    spearman_results[disease_id] = {\n",
    "        \"lci\": lci_spearman,\n",
    "        \"rw\": rw_spearman\n",
    "    }"
   ]
  },
  {
   "cell_type": "code",
   "execution_count": 24,
   "metadata": {},
   "outputs": [
    {
     "data": {
      "text/plain": [
       "lci    0.267872\n",
       "rw     0.248970\n",
       "dtype: float64"
      ]
     },
     "execution_count": 24,
     "metadata": {},
     "output_type": "execute_result"
    }
   ],
   "source": [
    "threshold_spearman_df = pd.DataFrame(list(spearman_results.values()), index=list(spearman_results.keys()))\n",
    "threshold_spearman_df.median()"
   ]
  },
  {
   "cell_type": "code",
   "execution_count": 25,
   "metadata": {},
   "outputs": [
    {
     "data": {
      "text/html": [
       "<div>\n",
       "<style scoped>\n",
       "    .dataframe tbody tr th:only-of-type {\n",
       "        vertical-align: middle;\n",
       "    }\n",
       "\n",
       "    .dataframe tbody tr th {\n",
       "        vertical-align: top;\n",
       "    }\n",
       "\n",
       "    .dataframe thead th {\n",
       "        text-align: right;\n",
       "    }\n",
       "</style>\n",
       "<table border=\"1\" class=\"dataframe\">\n",
       "  <thead>\n",
       "    <tr style=\"text-align: right;\">\n",
       "      <th></th>\n",
       "      <th>mean</th>\n",
       "      <th>lci</th>\n",
       "      <th>rw</th>\n",
       "    </tr>\n",
       "  </thead>\n",
       "  <tbody>\n",
       "    <tr>\n",
       "      <th>C0013182</th>\n",
       "      <td>0.380372</td>\n",
       "      <td>0.395963</td>\n",
       "      <td>0.364781</td>\n",
       "    </tr>\n",
       "    <tr>\n",
       "      <th>C0917798</th>\n",
       "      <td>0.265945</td>\n",
       "      <td>0.318151</td>\n",
       "      <td>0.213740</td>\n",
       "    </tr>\n",
       "    <tr>\n",
       "      <th>C0020295</th>\n",
       "      <td>0.287473</td>\n",
       "      <td>0.160225</td>\n",
       "      <td>0.414721</td>\n",
       "    </tr>\n",
       "    <tr>\n",
       "      <th>C3714796</th>\n",
       "      <td>0.284298</td>\n",
       "      <td>0.291277</td>\n",
       "      <td>0.277319</td>\n",
       "    </tr>\n",
       "    <tr>\n",
       "      <th>C1866134</th>\n",
       "      <td>0.283801</td>\n",
       "      <td>0.175673</td>\n",
       "      <td>0.391930</td>\n",
       "    </tr>\n",
       "    <tr>\n",
       "      <th>C2364082</th>\n",
       "      <td>0.442811</td>\n",
       "      <td>0.457180</td>\n",
       "      <td>0.428442</td>\n",
       "    </tr>\n",
       "    <tr>\n",
       "      <th>C1276035</th>\n",
       "      <td>0.177049</td>\n",
       "      <td>0.265299</td>\n",
       "      <td>0.088798</td>\n",
       "    </tr>\n",
       "    <tr>\n",
       "      <th>C0027022</th>\n",
       "      <td>0.373263</td>\n",
       "      <td>0.391417</td>\n",
       "      <td>0.355108</td>\n",
       "    </tr>\n",
       "    <tr>\n",
       "      <th>C1833225</th>\n",
       "      <td>0.079311</td>\n",
       "      <td>0.125677</td>\n",
       "      <td>0.032944</td>\n",
       "    </tr>\n",
       "    <tr>\n",
       "      <th>C0206620</th>\n",
       "      <td>0.351568</td>\n",
       "      <td>0.363231</td>\n",
       "      <td>0.339905</td>\n",
       "    </tr>\n",
       "    <tr>\n",
       "      <th>C0006413</th>\n",
       "      <td>0.271337</td>\n",
       "      <td>0.234278</td>\n",
       "      <td>0.308395</td>\n",
       "    </tr>\n",
       "    <tr>\n",
       "      <th>C0019158</th>\n",
       "      <td>0.281086</td>\n",
       "      <td>0.242958</td>\n",
       "      <td>0.319215</td>\n",
       "    </tr>\n",
       "    <tr>\n",
       "      <th>C0003126</th>\n",
       "      <td>0.450440</td>\n",
       "      <td>0.440491</td>\n",
       "      <td>0.460389</td>\n",
       "    </tr>\n",
       "    <tr>\n",
       "      <th>C0241074</th>\n",
       "      <td>0.396686</td>\n",
       "      <td>0.405162</td>\n",
       "      <td>0.388210</td>\n",
       "    </tr>\n",
       "    <tr>\n",
       "      <th>C0020459</th>\n",
       "      <td>0.316482</td>\n",
       "      <td>0.308427</td>\n",
       "      <td>0.324536</td>\n",
       "    </tr>\n",
       "    <tr>\n",
       "      <th>C0020541</th>\n",
       "      <td>0.410600</td>\n",
       "      <td>0.408652</td>\n",
       "      <td>0.412548</td>\n",
       "    </tr>\n",
       "    <tr>\n",
       "      <th>C0014474</th>\n",
       "      <td>0.195477</td>\n",
       "      <td>0.299323</td>\n",
       "      <td>0.091631</td>\n",
       "    </tr>\n",
       "    <tr>\n",
       "      <th>C4020838</th>\n",
       "      <td>0.238887</td>\n",
       "      <td>0.381454</td>\n",
       "      <td>0.096320</td>\n",
       "    </tr>\n",
       "    <tr>\n",
       "      <th>C0221170</th>\n",
       "      <td>0.150449</td>\n",
       "      <td>0.302831</td>\n",
       "      <td>-0.001932</td>\n",
       "    </tr>\n",
       "    <tr>\n",
       "      <th>C3275417</th>\n",
       "      <td>0.369682</td>\n",
       "      <td>0.340898</td>\n",
       "      <td>0.398466</td>\n",
       "    </tr>\n",
       "    <tr>\n",
       "      <th>C0349204</th>\n",
       "      <td>0.369368</td>\n",
       "      <td>0.385733</td>\n",
       "      <td>0.353003</td>\n",
       "    </tr>\n",
       "    <tr>\n",
       "      <th>C0007787</th>\n",
       "      <td>0.197490</td>\n",
       "      <td>0.088385</td>\n",
       "      <td>0.306594</td>\n",
       "    </tr>\n",
       "    <tr>\n",
       "      <th>C0018916</th>\n",
       "      <td>0.204992</td>\n",
       "      <td>0.138978</td>\n",
       "      <td>0.271006</td>\n",
       "    </tr>\n",
       "    <tr>\n",
       "      <th>C1837485</th>\n",
       "      <td>0.107922</td>\n",
       "      <td>0.216283</td>\n",
       "      <td>-0.000439</td>\n",
       "    </tr>\n",
       "    <tr>\n",
       "      <th>C0007222</th>\n",
       "      <td>0.359498</td>\n",
       "      <td>0.286169</td>\n",
       "      <td>0.432827</td>\n",
       "    </tr>\n",
       "    <tr>\n",
       "      <th>C2673410</th>\n",
       "      <td>0.422662</td>\n",
       "      <td>0.467550</td>\n",
       "      <td>0.377774</td>\n",
       "    </tr>\n",
       "    <tr>\n",
       "      <th>C0234182</th>\n",
       "      <td>0.226707</td>\n",
       "      <td>0.247657</td>\n",
       "      <td>0.205757</td>\n",
       "    </tr>\n",
       "    <tr>\n",
       "      <th>C0023493</th>\n",
       "      <td>0.437723</td>\n",
       "      <td>0.422371</td>\n",
       "      <td>0.453075</td>\n",
       "    </tr>\n",
       "    <tr>\n",
       "      <th>C0023434</th>\n",
       "      <td>0.419831</td>\n",
       "      <td>0.432526</td>\n",
       "      <td>0.407136</td>\n",
       "    </tr>\n",
       "    <tr>\n",
       "      <th>C0239946</th>\n",
       "      <td>0.274272</td>\n",
       "      <td>0.382355</td>\n",
       "      <td>0.166189</td>\n",
       "    </tr>\n",
       "    <tr>\n",
       "      <th>...</th>\n",
       "      <td>...</td>\n",
       "      <td>...</td>\n",
       "      <td>...</td>\n",
       "    </tr>\n",
       "    <tr>\n",
       "      <th>C0747085</th>\n",
       "      <td>0.150162</td>\n",
       "      <td>0.157835</td>\n",
       "      <td>0.142490</td>\n",
       "    </tr>\n",
       "    <tr>\n",
       "      <th>C1849089</th>\n",
       "      <td>0.391694</td>\n",
       "      <td>0.414514</td>\n",
       "      <td>0.368873</td>\n",
       "    </tr>\n",
       "    <tr>\n",
       "      <th>C0018798</th>\n",
       "      <td>0.387247</td>\n",
       "      <td>0.378416</td>\n",
       "      <td>0.396078</td>\n",
       "    </tr>\n",
       "    <tr>\n",
       "      <th>C0006386</th>\n",
       "      <td>0.445904</td>\n",
       "      <td>0.464011</td>\n",
       "      <td>0.427797</td>\n",
       "    </tr>\n",
       "    <tr>\n",
       "      <th>C1864903</th>\n",
       "      <td>0.100542</td>\n",
       "      <td>-0.003553</td>\n",
       "      <td>0.204636</td>\n",
       "    </tr>\n",
       "    <tr>\n",
       "      <th>C0029927</th>\n",
       "      <td>0.196571</td>\n",
       "      <td>0.131362</td>\n",
       "      <td>0.261780</td>\n",
       "    </tr>\n",
       "    <tr>\n",
       "      <th>C0015695</th>\n",
       "      <td>0.373784</td>\n",
       "      <td>0.369353</td>\n",
       "      <td>0.378215</td>\n",
       "    </tr>\n",
       "    <tr>\n",
       "      <th>C0026640</th>\n",
       "      <td>0.361952</td>\n",
       "      <td>0.410238</td>\n",
       "      <td>0.313666</td>\n",
       "    </tr>\n",
       "    <tr>\n",
       "      <th>C4025650</th>\n",
       "      <td>0.217013</td>\n",
       "      <td>0.252602</td>\n",
       "      <td>0.181424</td>\n",
       "    </tr>\n",
       "    <tr>\n",
       "      <th>C0018213</th>\n",
       "      <td>0.127318</td>\n",
       "      <td>0.069589</td>\n",
       "      <td>0.185046</td>\n",
       "    </tr>\n",
       "    <tr>\n",
       "      <th>C1832348</th>\n",
       "      <td>0.134239</td>\n",
       "      <td>0.156401</td>\n",
       "      <td>0.112077</td>\n",
       "    </tr>\n",
       "    <tr>\n",
       "      <th>C0002170</th>\n",
       "      <td>0.391779</td>\n",
       "      <td>0.398655</td>\n",
       "      <td>0.384903</td>\n",
       "    </tr>\n",
       "    <tr>\n",
       "      <th>C1145628</th>\n",
       "      <td>0.156719</td>\n",
       "      <td>0.114613</td>\n",
       "      <td>0.198826</td>\n",
       "    </tr>\n",
       "    <tr>\n",
       "      <th>C1862095</th>\n",
       "      <td>0.180921</td>\n",
       "      <td>0.147832</td>\n",
       "      <td>0.214010</td>\n",
       "    </tr>\n",
       "    <tr>\n",
       "      <th>C0264303</th>\n",
       "      <td>0.317675</td>\n",
       "      <td>0.316988</td>\n",
       "      <td>0.318361</td>\n",
       "    </tr>\n",
       "    <tr>\n",
       "      <th>C0016978</th>\n",
       "      <td>0.360151</td>\n",
       "      <td>0.313976</td>\n",
       "      <td>0.406326</td>\n",
       "    </tr>\n",
       "    <tr>\n",
       "      <th>C0018816</th>\n",
       "      <td>0.291539</td>\n",
       "      <td>0.255377</td>\n",
       "      <td>0.327700</td>\n",
       "    </tr>\n",
       "    <tr>\n",
       "      <th>C0345030</th>\n",
       "      <td>0.108340</td>\n",
       "      <td>0.132519</td>\n",
       "      <td>0.084161</td>\n",
       "    </tr>\n",
       "    <tr>\n",
       "      <th>C0236969</th>\n",
       "      <td>0.237293</td>\n",
       "      <td>0.314035</td>\n",
       "      <td>0.160551</td>\n",
       "    </tr>\n",
       "    <tr>\n",
       "      <th>C0265998</th>\n",
       "      <td>0.350816</td>\n",
       "      <td>0.363558</td>\n",
       "      <td>0.338074</td>\n",
       "    </tr>\n",
       "    <tr>\n",
       "      <th>C0231712</th>\n",
       "      <td>0.189324</td>\n",
       "      <td>0.226649</td>\n",
       "      <td>0.151998</td>\n",
       "    </tr>\n",
       "    <tr>\n",
       "      <th>C0037769</th>\n",
       "      <td>0.099926</td>\n",
       "      <td>0.084931</td>\n",
       "      <td>0.114921</td>\n",
       "    </tr>\n",
       "    <tr>\n",
       "      <th>C0035126</th>\n",
       "      <td>0.554453</td>\n",
       "      <td>0.568374</td>\n",
       "      <td>0.540533</td>\n",
       "    </tr>\n",
       "    <tr>\n",
       "      <th>C0001126</th>\n",
       "      <td>0.057696</td>\n",
       "      <td>0.026405</td>\n",
       "      <td>0.088988</td>\n",
       "    </tr>\n",
       "    <tr>\n",
       "      <th>C1834055</th>\n",
       "      <td>0.386938</td>\n",
       "      <td>0.405073</td>\n",
       "      <td>0.368803</td>\n",
       "    </tr>\n",
       "    <tr>\n",
       "      <th>C3714581</th>\n",
       "      <td>0.202902</td>\n",
       "      <td>0.202220</td>\n",
       "      <td>0.203584</td>\n",
       "    </tr>\n",
       "    <tr>\n",
       "      <th>C1865572</th>\n",
       "      <td>0.211210</td>\n",
       "      <td>0.159966</td>\n",
       "      <td>0.262454</td>\n",
       "    </tr>\n",
       "    <tr>\n",
       "      <th>C1839546</th>\n",
       "      <td>NaN</td>\n",
       "      <td>NaN</td>\n",
       "      <td>NaN</td>\n",
       "    </tr>\n",
       "    <tr>\n",
       "      <th>C0020598</th>\n",
       "      <td>0.110314</td>\n",
       "      <td>0.036296</td>\n",
       "      <td>0.184332</td>\n",
       "    </tr>\n",
       "    <tr>\n",
       "      <th>C0221210</th>\n",
       "      <td>0.167407</td>\n",
       "      <td>NaN</td>\n",
       "      <td>0.167407</td>\n",
       "    </tr>\n",
       "  </tbody>\n",
       "</table>\n",
       "<p>1811 rows × 3 columns</p>\n",
       "</div>"
      ],
      "text/plain": [
       "              mean       lci        rw\n",
       "C0013182  0.380372  0.395963  0.364781\n",
       "C0917798  0.265945  0.318151  0.213740\n",
       "C0020295  0.287473  0.160225  0.414721\n",
       "C3714796  0.284298  0.291277  0.277319\n",
       "C1866134  0.283801  0.175673  0.391930\n",
       "C2364082  0.442811  0.457180  0.428442\n",
       "C1276035  0.177049  0.265299  0.088798\n",
       "C0027022  0.373263  0.391417  0.355108\n",
       "C1833225  0.079311  0.125677  0.032944\n",
       "C0206620  0.351568  0.363231  0.339905\n",
       "C0006413  0.271337  0.234278  0.308395\n",
       "C0019158  0.281086  0.242958  0.319215\n",
       "C0003126  0.450440  0.440491  0.460389\n",
       "C0241074  0.396686  0.405162  0.388210\n",
       "C0020459  0.316482  0.308427  0.324536\n",
       "C0020541  0.410600  0.408652  0.412548\n",
       "C0014474  0.195477  0.299323  0.091631\n",
       "C4020838  0.238887  0.381454  0.096320\n",
       "C0221170  0.150449  0.302831 -0.001932\n",
       "C3275417  0.369682  0.340898  0.398466\n",
       "C0349204  0.369368  0.385733  0.353003\n",
       "C0007787  0.197490  0.088385  0.306594\n",
       "C0018916  0.204992  0.138978  0.271006\n",
       "C1837485  0.107922  0.216283 -0.000439\n",
       "C0007222  0.359498  0.286169  0.432827\n",
       "C2673410  0.422662  0.467550  0.377774\n",
       "C0234182  0.226707  0.247657  0.205757\n",
       "C0023493  0.437723  0.422371  0.453075\n",
       "C0023434  0.419831  0.432526  0.407136\n",
       "C0239946  0.274272  0.382355  0.166189\n",
       "...            ...       ...       ...\n",
       "C0747085  0.150162  0.157835  0.142490\n",
       "C1849089  0.391694  0.414514  0.368873\n",
       "C0018798  0.387247  0.378416  0.396078\n",
       "C0006386  0.445904  0.464011  0.427797\n",
       "C1864903  0.100542 -0.003553  0.204636\n",
       "C0029927  0.196571  0.131362  0.261780\n",
       "C0015695  0.373784  0.369353  0.378215\n",
       "C0026640  0.361952  0.410238  0.313666\n",
       "C4025650  0.217013  0.252602  0.181424\n",
       "C0018213  0.127318  0.069589  0.185046\n",
       "C1832348  0.134239  0.156401  0.112077\n",
       "C0002170  0.391779  0.398655  0.384903\n",
       "C1145628  0.156719  0.114613  0.198826\n",
       "C1862095  0.180921  0.147832  0.214010\n",
       "C0264303  0.317675  0.316988  0.318361\n",
       "C0016978  0.360151  0.313976  0.406326\n",
       "C0018816  0.291539  0.255377  0.327700\n",
       "C0345030  0.108340  0.132519  0.084161\n",
       "C0236969  0.237293  0.314035  0.160551\n",
       "C0265998  0.350816  0.363558  0.338074\n",
       "C0231712  0.189324  0.226649  0.151998\n",
       "C0037769  0.099926  0.084931  0.114921\n",
       "C0035126  0.554453  0.568374  0.540533\n",
       "C0001126  0.057696  0.026405  0.088988\n",
       "C1834055  0.386938  0.405073  0.368803\n",
       "C3714581  0.202902  0.202220  0.203584\n",
       "C1865572  0.211210  0.159966  0.262454\n",
       "C1839546       NaN       NaN       NaN\n",
       "C0020598  0.110314  0.036296  0.184332\n",
       "C0221210  0.167407       NaN  0.167407\n",
       "\n",
       "[1811 rows x 3 columns]"
      ]
     },
     "execution_count": 25,
     "metadata": {},
     "output_type": "execute_result"
    }
   ],
   "source": [
    "threshold_spearman_mean_df = threshold_spearman_df[['lci', 'rw']].mean(axis=1)\n",
    "threshold_spearman_df.insert(0, column=\"mean\", value=threshold_spearman_mean_df)\n",
    "threshold_spearman_df"
   ]
  },
  {
   "cell_type": "code",
   "execution_count": 23,
   "metadata": {},
   "outputs": [
    {
     "name": "stderr",
     "output_type": "stream",
     "text": [
      "/Users/sabrieyuboglu/Documents/School/SNAP/projects/disease-protein-prediction/env/lib/python3.7/site-packages/numpy/lib/histograms.py:824: RuntimeWarning: invalid value encountered in greater_equal\n",
      "  keep = (tmp_a >= first_edge)\n",
      "/Users/sabrieyuboglu/Documents/School/SNAP/projects/disease-protein-prediction/env/lib/python3.7/site-packages/numpy/lib/histograms.py:825: RuntimeWarning: invalid value encountered in less_equal\n",
      "  keep &= (tmp_a <= last_edge)\n"
     ]
    },
    {
     "data": {
      "text/plain": [
       "<matplotlib.legend.Legend at 0x2e08af208>"
      ]
     },
     "execution_count": 23,
     "metadata": {},
     "output_type": "execute_result"
    },
    {
     "data": {
      "image/png": "[encoded data removed]",
      "text/plain": [
       "<Figure size 432x288 with 1 Axes>"
      ]
     },
     "metadata": {
      "image/png": {
       "height": 270,
       "width": 417
      },
      "needs_background": "light"
     },
     "output_type": "display_data"
    }
   ],
   "source": [
    "top_k = 500\n",
    "sns.distplot(threshold_spearman_df.nlargest(top_k, \"mean\")[\"lci\"], bins=30, kde=False, hist=True, label=\"LCI\", hist_kws={\n",
    "                                                                                        \"range\": (0.1, 0.8),\n",
    "                                                                                        \"color\": \"#E03C3F\",\n",
    "                                                                                        \"alpha\":0.8})\n",
    "sns.distplot(threshold_spearman_df.nlargest(top_k, \"mean\")[\"rw\"], bins=30, kde=False, hist=True, label=\"Random Walk\", hist_kws={\"range\": (0.1, 0.8),\n",
    "                                                                                      \"color\": \"lightgrey\",\n",
    "                                                                                      \"alpha\": 0.8})\n",
    "sns.despine()\n",
    "plt.yscale('linear')\n",
    "plt.xlabel(f\"Spearman correlation of functional enrichment pvalues [top {top_k}]\")\n",
    "plt.ylabel(\"# of diseases [linear]\")\n",
    "plt.legend()\n",
    "#plt.savefig(\"../experiments/go_enrichment/lci/lci_rw_go.pdf\")"
   ]
  },
  {
   "cell_type": "markdown",
   "metadata": {
    "heading_collapsed": true
   },
   "source": [
    "### Pearson"
   ]
  },
  {
   "cell_type": "code",
   "execution_count": 109,
   "metadata": {
    "hidden": true
   },
   "outputs": [],
   "source": [
    "from scipy.stats import pearsonr\n",
    " \n",
    "def compute_pearson_correlation(a_term_to_pval, b_term_to_pval):\n",
    "        \"\"\"\n",
    "        \"\"\"\n",
    "        terms = list(a_term_to_pval.keys())\n",
    "        sp_corr, sp_pval = pearsonr([a_term_to_pval[term] for term in terms],\n",
    "                                    [b_term_to_pval[term] for term in terms])\n",
    "        return sp_corr, sp_pval"
   ]
  },
  {
   "cell_type": "code",
   "execution_count": 110,
   "metadata": {
    "hidden": true
   },
   "outputs": [
    {
     "name": "stderr",
     "output_type": "stream",
     "text": [
      "100%|██████████| 1811/1811 [00:58<00:00, 39.14it/s]\n"
     ]
    }
   ],
   "source": [
    "pearson_results = {}\n",
    "for disease_id, output in tqdm(outputs.items()):\n",
    "    lci_pearson, _ = compute_pearson_correlation(output[\"disease\"], output[\"lci\"])\n",
    "    rw_pearson, _ = compute_pearson_correlation(output[\"disease\"], output[\"random_walk\"])\n",
    "    pearson_results[disease_id] = {\n",
    "        \"lci\": lci_pearson,\n",
    "        \"rw\": rw_pearson\n",
    "    }\n",
    "    "
   ]
  },
  {
   "cell_type": "code",
   "execution_count": 69,
   "metadata": {
    "hidden": true
   },
   "outputs": [],
   "source": [
    "pearson_df = pd.DataFrame(list(spearman_results.values()), index=list(spearman_results.keys())).join(size_df)"
   ]
  },
  {
   "cell_type": "code",
   "execution_count": 80,
   "metadata": {
    "hidden": true
   },
   "outputs": [
    {
     "name": "stderr",
     "output_type": "stream",
     "text": [
      "/dfs/scratch0/sabri/disease-protein-prediction/env/lib/python3.7/site-packages/numpy/lib/histograms.py:824: RuntimeWarning: invalid value encountered in greater_equal\n",
      "  keep = (tmp_a >= first_edge)\n",
      "/dfs/scratch0/sabri/disease-protein-prediction/env/lib/python3.7/site-packages/numpy/lib/histograms.py:825: RuntimeWarning: invalid value encountered in less_equal\n",
      "  keep &= (tmp_a <= last_edge)\n",
      "/dfs/scratch0/sabri/disease-protein-prediction/env/lib/python3.7/site-packages/numpy/lib/histograms.py:824: RuntimeWarning: invalid value encountered in greater_equal\n",
      "  keep = (tmp_a >= first_edge)\n",
      "/dfs/scratch0/sabri/disease-protein-prediction/env/lib/python3.7/site-packages/numpy/lib/histograms.py:825: RuntimeWarning: invalid value encountered in less_equal\n",
      "  keep &= (tmp_a <= last_edge)\n"
     ]
    },
    {
     "data": {
      "text/plain": [
       "<matplotlib.legend.Legend at 0x7ef86d771630>"
      ]
     },
     "execution_count": 80,
     "metadata": {},
     "output_type": "execute_result"
    },
    {
     "data": {
      "image/png": "[encoded data removed]",
      "text/plain": [
       "<Figure size 432x288 with 1 Axes>"
      ]
     },
     "metadata": {},
     "output_type": "display_data"
    }
   ],
   "source": [
    "sns.distplot(pearson_df.sort_values('size').head(-500)[\"lci\"], bins=25, kde=False, hist=True, label=\"LCI\", hist_kws={\n",
    "                                                                                        \"color\": \"#E03C3F\",\n",
    "                                                                                        \"alpha\":0.8})\n",
    "sns.distplot(pearson_df.sort_values('size').head(-500)[\"rw\"], bins=25, kde=False, hist=True, label=\"Random Walk\", hist_kws={\n",
    "                                                                                      \"color\": \"lightgrey\",\n",
    "                                                                                      \"alpha\": 0.8})\n",
    "sns.despine()\n",
    "plt.yscale('linear')\n",
    "plt.xlabel(\"SpearmanR of Functional Terms (top 250)\")\n",
    "plt.ylabel(\"# of diseases [linear]\")\n",
    "plt.legend()\n",
    "#plt.savefig(\"../experiments/go_enrichment/lci/lci_rw_go.pdf\")"
   ]
  },
  {
   "cell_type": "code",
   "execution_count": 117,
   "metadata": {
    "hidden": true
   },
   "outputs": [
    {
     "data": {
      "text/plain": [
       "0.24662556342597527"
      ]
     },
     "execution_count": 117,
     "metadata": {},
     "output_type": "execute_result"
    }
   ],
   "source": [
    "np.mean(pearson_df[\"lci\"])"
   ]
  },
  {
   "cell_type": "code",
   "execution_count": 118,
   "metadata": {
    "hidden": true
   },
   "outputs": [
    {
     "data": {
      "text/plain": [
       "0.22427117693116"
      ]
     },
     "execution_count": 118,
     "metadata": {},
     "output_type": "execute_result"
    }
   ],
   "source": [
    "np.mean(pearson_df[\"rw\"])"
   ]
  },
  {
   "cell_type": "markdown",
   "metadata": {
    "heading_collapsed": true
   },
   "source": [
    "### Disease Size Analysis"
   ]
  },
  {
   "cell_type": "code",
   "execution_count": 39,
   "metadata": {
    "hidden": true
   },
   "outputs": [],
   "source": [
    "size_dict = {disease.id: len(disease) for disease in diseases_dict.values()}\n",
    "size_df = pd.DataFrame(size_dict.values(), index=size_dict.keys(), columns=[\"size\"])"
   ]
  },
  {
   "cell_type": "code",
   "execution_count": 119,
   "metadata": {
    "hidden": true
   },
   "outputs": [
    {
     "data": {
      "image/png": "[encoded data removed]",
      "text/plain": [
       "<Figure size 432x288 with 1 Axes>"
      ]
     },
     "metadata": {},
     "output_type": "display_data"
    }
   ],
   "source": [
    "sns.scatterplot(data=spearman_df.join(size_df), x=\"size\", y=\"lci\", alpha=0.1)\n",
    "plt.xscale('log')"
   ]
  },
  {
   "cell_type": "code",
   "execution_count": null,
   "metadata": {
    "hidden": true
   },
   "outputs": [],
   "source": []
  }
 ],
 "metadata": {
  "kernelspec": {
   "display_name": "disease-protein-prediction",
   "language": "python",
   "name": "disease-protein-prediction"
  },
  "language_info": {
   "codemirror_mode": {
    "name": "ipython",
    "version": 3
   },
   "file_extension": ".py",
   "mimetype": "text/x-python",
   "name": "python",
   "nbconvert_exporter": "python",
   "pygments_lexer": "ipython3",
   "version": "3.7.1"
  },
  "toc": {
   "base_numbering": 1,
   "nav_menu": {},
   "number_sections": true,
   "sideBar": true,
   "skip_h1_title": true,
   "title_cell": "Table of Contents",
   "title_sidebar": "Contents",
   "toc_cell": false,
   "toc_position": {},
   "toc_section_display": true,
   "toc_window_display": true
  }
 },
 "nbformat": 4,
 "nbformat_minor": 2
}
