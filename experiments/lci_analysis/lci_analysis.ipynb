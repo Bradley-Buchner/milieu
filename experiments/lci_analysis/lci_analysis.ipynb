{
 "cells": [
  {
   "cell_type": "code",
   "execution_count": 8,
   "metadata": {},
   "outputs": [
    {
     "name": "stdout",
     "output_type": "stream",
     "text": [
      "The autoreload extension is already loaded. To reload it, use:\n",
      "  %reload_ext autoreload\n"
     ]
    }
   ],
   "source": [
    "%load_ext autoreload\n",
    "%autoreload 2\n",
    "\n",
    "\n",
    "import sys, os\n",
    "import pickle\n",
    "from collections import defaultdict\n",
    "\n",
    "import numpy as np\n",
    "import matplotlib.pyplot as plt \n",
    "import torch\n",
    "import seaborn as sns\n",
    "import numpy as np\n",
    "from scipy.stats import pearsonr\n",
    "import pandas as pd\n",
    "import networkx as nx\n",
    "from tqdm import tqdm_notebook as tqdm\n",
    "import goatools\n",
    "from goatools.base import download_go_basic_obo, download_ncbi_associations\n",
    "from goatools.obo_parser import GODag\n",
    "from goatools.associations import read_ncbi_gene2go\n",
    "from goatools.go_enrichment import GOEnrichmentStudy\n",
    "#from tqdm import tqdm_notebook as tqdm\n",
    "\n",
    "from dpp.data.network import PPINetwork\n",
    "from dpp.util import Params, prepare_sns, load_mapping, build_degree_buckets, compute_pvalue\n",
    "from dpp.data.associations import load_diseases\n",
    "\n",
    "os.chdir(\"/Users/sabrieyuboglu/Documents/School/SNAP/projects/disease-protein-prediction\")\n",
    "#os.chdir(\"/dfs/scratch0/sabri/disease-protein-prediction\")\n",
    "prepare_sns(sns)\n",
    "%matplotlib inline\n",
    "%config InlineBackend.figure_format = 'retina'"
   ]
  },
  {
   "cell_type": "code",
   "execution_count": 2,
   "metadata": {},
   "outputs": [],
   "source": [
    "diseases = load_diseases(\"data/associations/disgenet-associations.csv\", exclude_splits=[\"none\"])\n",
    "entrez_to_name = load_mapping(\"data/protein/symbol_to_entrez.txt\", \"\\t\", reverse=True,\n",
    "                              b_transform=int)"
   ]
  },
  {
   "cell_type": "code",
   "execution_count": 3,
   "metadata": {},
   "outputs": [],
   "source": [
    "network = PPINetwork(\"data/networks/bio-pathways-network.txt\")"
   ]
  },
  {
   "cell_type": "code",
   "execution_count": 4,
   "metadata": {},
   "outputs": [],
   "source": [
    "experiment_dir = \"experiments/dpp_predict/lci_new\""
   ]
  },
  {
   "cell_type": "markdown",
   "metadata": {},
   "source": [
    "# LCI"
   ]
  },
  {
   "cell_type": "markdown",
   "metadata": {},
   "source": [
    "#### Load Weights\n",
    "Specify a split from which to load weights"
   ]
  },
  {
   "cell_type": "code",
   "execution_count": 5,
   "metadata": {},
   "outputs": [],
   "source": [
    "with open(os.path.join(experiment_dir, \"models\", \"models.tar\"), \"rb\") as f:\n",
    "    split_to_model = pickle.load(f)"
   ]
  },
  {
   "cell_type": "code",
   "execution_count": 6,
   "metadata": {},
   "outputs": [
    {
     "data": {
      "application/vnd.jupyter.widget-view+json": {
       "model_id": "11e3a3d7f8e140d198808137a5f8c270",
       "version_major": 2,
       "version_minor": 0
      },
      "text/plain": [
       "HBox(children=(IntProgress(value=0, max=10), HTML(value='')))"
      ]
     },
     "metadata": {},
     "output_type": "display_data"
    },
    {
     "name": "stdout",
     "output_type": "stream",
     "text": [
      "\n"
     ]
    },
    {
     "data": {
      "text/html": [
       "<div>\n",
       "<style scoped>\n",
       "    .dataframe tbody tr th:only-of-type {\n",
       "        vertical-align: middle;\n",
       "    }\n",
       "\n",
       "    .dataframe tbody tr th {\n",
       "        vertical-align: top;\n",
       "    }\n",
       "\n",
       "    .dataframe thead th {\n",
       "        text-align: right;\n",
       "    }\n",
       "</style>\n",
       "<table border=\"1\" class=\"dataframe\">\n",
       "  <thead>\n",
       "    <tr style=\"text-align: right;\">\n",
       "      <th></th>\n",
       "      <th>weight</th>\n",
       "      <th>bias</th>\n",
       "      <th>mean_z</th>\n",
       "    </tr>\n",
       "  </thead>\n",
       "  <tbody>\n",
       "    <tr>\n",
       "      <th>0</th>\n",
       "      <td>17.550322</td>\n",
       "      <td>-0.811245</td>\n",
       "      <td>0.241408</td>\n",
       "    </tr>\n",
       "    <tr>\n",
       "      <th>1</th>\n",
       "      <td>17.876070</td>\n",
       "      <td>-0.723686</td>\n",
       "      <td>0.220373</td>\n",
       "    </tr>\n",
       "    <tr>\n",
       "      <th>2</th>\n",
       "      <td>16.029150</td>\n",
       "      <td>-1.334732</td>\n",
       "      <td>0.229375</td>\n",
       "    </tr>\n",
       "    <tr>\n",
       "      <th>3</th>\n",
       "      <td>16.782249</td>\n",
       "      <td>-0.696910</td>\n",
       "      <td>0.212054</td>\n",
       "    </tr>\n",
       "    <tr>\n",
       "      <th>4</th>\n",
       "      <td>18.501001</td>\n",
       "      <td>-1.084714</td>\n",
       "      <td>0.215662</td>\n",
       "    </tr>\n",
       "    <tr>\n",
       "      <th>5</th>\n",
       "      <td>15.429231</td>\n",
       "      <td>-1.496836</td>\n",
       "      <td>0.192651</td>\n",
       "    </tr>\n",
       "    <tr>\n",
       "      <th>6</th>\n",
       "      <td>16.680628</td>\n",
       "      <td>-0.571429</td>\n",
       "      <td>0.226772</td>\n",
       "    </tr>\n",
       "    <tr>\n",
       "      <th>7</th>\n",
       "      <td>12.891609</td>\n",
       "      <td>-1.300265</td>\n",
       "      <td>0.302289</td>\n",
       "    </tr>\n",
       "    <tr>\n",
       "      <th>8</th>\n",
       "      <td>17.751625</td>\n",
       "      <td>-0.990272</td>\n",
       "      <td>0.245099</td>\n",
       "    </tr>\n",
       "    <tr>\n",
       "      <th>9</th>\n",
       "      <td>16.344975</td>\n",
       "      <td>-0.574154</td>\n",
       "      <td>0.196769</td>\n",
       "    </tr>\n",
       "  </tbody>\n",
       "</table>\n",
       "</div>"
      ],
      "text/plain": [
       "      weight      bias    mean_z\n",
       "0  17.550322 -0.811245  0.241408\n",
       "1  17.876070 -0.723686  0.220373\n",
       "2  16.029150 -1.334732  0.229375\n",
       "3  16.782249 -0.696910  0.212054\n",
       "4  18.501001 -1.084714  0.215662\n",
       "5  15.429231 -1.496836  0.192651\n",
       "6  16.680628 -0.571429  0.226772\n",
       "7  12.891609 -1.300265  0.302289\n",
       "8  17.751625 -0.990272  0.245099\n",
       "9  16.344975 -0.574154  0.196769"
      ]
     },
     "execution_count": 6,
     "metadata": {},
     "output_type": "execute_result"
    }
   ],
   "source": [
    "dicts = []\n",
    "for split in tqdm(range(10)):\n",
    "    model = split_to_model[split]\n",
    "    model_stats = {\n",
    "        \"weight\": model['linear_layer.weight'].item(), \n",
    "        \"bias\": model['linear_layer.bias'].item(), \n",
    "        \"mean_z\": np.mean(model['ci_weight'][0, 0].numpy())\n",
    "    }\n",
    "    dicts.append(model_stats)\n",
    "model_df = pd.DataFrame(dicts, columns=[\"weight\", \"bias\", \"mean_z\"])\n",
    "model_df"
   ]
  },
  {
   "cell_type": "code",
   "execution_count": 7,
   "metadata": {},
   "outputs": [],
   "source": [
    "ci_weights = np.mean([model['ci_weight'][0, 0].numpy() for model in split_to_model.values()], axis=0)"
   ]
  },
  {
   "cell_type": "markdown",
   "metadata": {},
   "source": [
    "#### Weight Distribution"
   ]
  },
  {
   "cell_type": "code",
   "execution_count": 8,
   "metadata": {},
   "outputs": [
    {
     "data": {
      "image/png": "[encoded data removed]",
      "text/plain": [
       "<Figure size 432x288 with 1 Axes>"
      ]
     },
     "metadata": {
      "needs_background": "light"
     },
     "output_type": "display_data"
    }
   ],
   "source": [
    "sns.distplot(ci_weights, kde=False)\n",
    "plt.yscale('log')\n",
    "plt.xlabel(\"ci_weight\")\n",
    "plt.ylabel(\"# of proteins [linear]\")\n",
    "sns.despine()"
   ]
  },
  {
   "cell_type": "markdown",
   "metadata": {},
   "source": [
    "#### Degree Distribution\n"
   ]
  },
  {
   "cell_type": "code",
   "execution_count": 9,
   "metadata": {},
   "outputs": [],
   "source": [
    "degrees = np.array(list(dict(network.nx.degree()).values()))"
   ]
  },
  {
   "cell_type": "code",
   "execution_count": 10,
   "metadata": {},
   "outputs": [
    {
     "data": {
      "image/png": "[encoded data removed]",
      "text/plain": [
       "<Figure size 432x288 with 1 Axes>"
      ]
     },
     "metadata": {
      "needs_background": "light"
     },
     "output_type": "display_data"
    }
   ],
   "source": [
    "sns.distplot(degrees, kde=False)\n",
    "plt.yscale('log')\n",
    "plt.xlabel(\"degree\")\n",
    "plt.ylabel(\"num_proteins\")\n",
    "sns.despine()"
   ]
  },
  {
   "cell_type": "code",
   "execution_count": 11,
   "metadata": {},
   "outputs": [
    {
     "data": {
      "image/png": "[encoded data removed]",
      "text/plain": [
       "<Figure size 432x288 with 1 Axes>"
      ]
     },
     "metadata": {
      "needs_background": "light"
     },
     "output_type": "display_data"
    }
   ],
   "source": [
    "sns.scatterplot(ci_weights, degrees, alpha=0.1)\n",
    "plt.yscale('log')\n",
    "plt.ylabel(\"degree\")\n",
    "plt.xlabel(\"ci_weight_degree_normalized\")\n",
    "sns.despine()"
   ]
  },
  {
   "cell_type": "code",
   "execution_count": 12,
   "metadata": {},
   "outputs": [
    {
     "data": {
      "image/png": "[encoded data removed]",
      "text/plain": [
       "<Figure size 432x288 with 1 Axes>"
      ]
     },
     "metadata": {
      "needs_background": "light"
     },
     "output_type": "display_data"
    }
   ],
   "source": [
    "sns.scatterplot(ci_weights / (np.sqrt(degrees)), degrees, alpha=0.1)\n",
    "plt.yscale('log')\n",
    "plt.ylabel(\"degree\")\n",
    "plt.xlabel(\"ci_weight_degree_normalized\")\n",
    "sns.despine()"
   ]
  },
  {
   "cell_type": "code",
   "execution_count": 13,
   "metadata": {},
   "outputs": [],
   "source": [
    "degree_df = pd.DataFrame({\"degree\": degrees,\n",
    "                          \"ci_weight\": ci_weights})\n",
    "mean_degree_df = degree_df.groupby(\"degree\").mean()"
   ]
  },
  {
   "cell_type": "code",
   "execution_count": 14,
   "metadata": {},
   "outputs": [
    {
     "data": {
      "text/plain": [
       "Text(0, 0.5, 'mean normalized weight')"
      ]
     },
     "execution_count": 14,
     "metadata": {},
     "output_type": "execute_result"
    },
    {
     "data": {
      "image/png": "[encoded data removed]",
      "text/plain": [
       "<Figure size 432x288 with 1 Axes>"
      ]
     },
     "metadata": {
      "needs_background": "light"
     },
     "output_type": "display_data"
    }
   ],
   "source": [
    "mean_degree_df = degree_df.groupby(\"degree\").mean()\n",
    "mean_norm_weights = mean_degree_df[\"ci_weight\"] / np.power(mean_degree_df.index, 1/2) #/np.sqrt(mean_degree_df.index) # normalize by degree\n",
    "mean_norm_weights = mean_norm_weights / mean_norm_weights.sum()\n",
    "sns.lineplot(x=mean_degree_df.index, y=mean_norm_weights, label='w/ weight z')\n",
    "y = 1/np.power(mean_degree_df.index, 1/2)\n",
    "y = y/y.values.sum()\n",
    "sns.lineplot(x=mean_degree_df.index, y=y, label='w/o weight z')\n",
    "plt.xscale('log')\n",
    "plt.yscale('linear')\n",
    "plt.xlabel('degree')\n",
    "plt.ylabel('mean normalized weight')"
   ]
  },
  {
   "cell_type": "markdown",
   "metadata": {},
   "source": [
    "#### Triangle Clustering Coefficient"
   ]
  },
  {
   "cell_type": "code",
   "execution_count": 15,
   "metadata": {},
   "outputs": [],
   "source": [
    "triangles = nx.clustering(network.nx)"
   ]
  },
  {
   "cell_type": "code",
   "execution_count": 16,
   "metadata": {},
   "outputs": [],
   "source": [
    "triangles = np.array(list(triangles.values()))"
   ]
  },
  {
   "cell_type": "code",
   "execution_count": 71,
   "metadata": {},
   "outputs": [
    {
     "data": {
      "image/png": "[encoded data removed]",
      "text/plain": [
       "<Figure size 432x288 with 1 Axes>"
      ]
     },
     "metadata": {
      "needs_background": "light"
     },
     "output_type": "display_data"
    }
   ],
   "source": [
    "sns.regplot(ci_weights, triangles)\n",
    "plt.yscale('linear')\n",
    "plt.xscale('linear')\n",
    "plt.ylabel(\"triangle clustering\")\n",
    "plt.xlabel(\"ci_weight_degree_normalized\")\n",
    "sns.despine()"
   ]
  },
  {
   "cell_type": "markdown",
   "metadata": {},
   "source": [
    "#### Square Clustering Coefficient"
   ]
  },
  {
   "cell_type": "code",
   "execution_count": 72,
   "metadata": {},
   "outputs": [],
   "source": [
    "squares = nx.square_clustering(network.nx)\n",
    "squares = np.array(list(squares.values()))"
   ]
  },
  {
   "cell_type": "code",
   "execution_count": 83,
   "metadata": {},
   "outputs": [],
   "source": [
    "squares[5185] = 0.0"
   ]
  },
  {
   "cell_type": "code",
   "execution_count": 84,
   "metadata": {},
   "outputs": [
    {
     "data": {
      "image/png": "[encoded data removed]",
      "text/plain": [
       "<Figure size 432x288 with 1 Axes>"
      ]
     },
     "metadata": {
      "needs_background": "light"
     },
     "output_type": "display_data"
    }
   ],
   "source": [
    "sns.regplot(ci_weights / np.sqrt(degrees), squares)\n",
    "plt.yscale('linear')\n",
    "plt.xscale('linear')\n",
    "plt.ylabel(\"square clustering\")\n",
    "plt.xlabel(\"ci_weight_degree_normalized\")\n",
    "sns.despine()"
   ]
  },
  {
   "cell_type": "markdown",
   "metadata": {},
   "source": [
    "#### Gene Ontology Terms"
   ]
  },
  {
   "cell_type": "code",
   "execution_count": 17,
   "metadata": {},
   "outputs": [
    {
     "name": "stdout",
     "output_type": "stream",
     "text": [
      "data/go/go-basic.obo: fmt(1.2) rel(2019-01-19) 47,379 GO Terms\n"
     ]
    }
   ],
   "source": [
    "obodag = GODag(\"data/go/go-basic.obo\")"
   ]
  },
  {
   "cell_type": "code",
   "execution_count": 18,
   "metadata": {},
   "outputs": [
    {
     "name": "stdout",
     "output_type": "stream",
     "text": [
      "  20,385 items READ: data/go/gene2go.txt\n"
     ]
    }
   ],
   "source": [
    "geneid2go = read_ncbi_gene2go(\"data/go/gene2go.txt\", taxids=[9606])"
   ]
  },
  {
   "cell_type": "code",
   "execution_count": 19,
   "metadata": {},
   "outputs": [],
   "source": [
    "def get_annotations(genes, level=1):\n",
    "    genes_to_annotations = {gene: set() for gene in genes}\n",
    "    for gene in genes:\n",
    "        doids = geneid2go[gene]\n",
    "        for doid in doids:\n",
    "            for parent in obodag[doid].get_all_parents():\n",
    "                if obodag[parent].level == level:\n",
    "                    genes_to_annotations[gene].add(obodag[parent].name)\n",
    "\n",
    "    return genes_to_annotations"
   ]
  },
  {
   "cell_type": "code",
   "execution_count": 20,
   "metadata": {
    "scrolled": true
   },
   "outputs": [
    {
     "data": {
      "application/vnd.jupyter.widget-view+json": {
       "model_id": "4b2690a9624f4783990265144d89af9a",
       "version_major": 2,
       "version_minor": 0
      },
      "text/plain": [
       "HBox(children=(IntProgress(value=0, max=21557), HTML(value='')))"
      ]
     },
     "metadata": {},
     "output_type": "display_data"
    },
    {
     "name": "stdout",
     "output_type": "stream",
     "text": [
      "\n"
     ]
    }
   ],
   "source": [
    "term_to_proteins = defaultdict(set)\n",
    "protein_to_terms = defaultdict(set)\n",
    "for protein in tqdm(network.get_proteins()):\n",
    "    terms = get_annotations([protein], level=1)[protein]\n",
    "    protein_to_terms[protein] = terms\n",
    "    for term in terms:\n",
    "        term_to_proteins[term].add(protein)"
   ]
  },
  {
   "cell_type": "markdown",
   "metadata": {},
   "source": [
    "#### Term PValues"
   ]
  },
  {
   "cell_type": "code",
   "execution_count": 21,
   "metadata": {},
   "outputs": [],
   "source": [
    "degree_to_bucket = build_degree_buckets(network, min_len=100)"
   ]
  },
  {
   "cell_type": "code",
   "execution_count": 22,
   "metadata": {},
   "outputs": [],
   "source": [
    "def get_null_pathways(pathway, quantity=1):\n",
    "        \"\"\"\n",
    "        Given a reference pathway, generate quantity \n",
    "        \"\"\"\n",
    "        null_pathways = np.zeros((quantity, len(pathway)), dtype=int)\n",
    "        for i, node in enumerate(pathway):\n",
    "            degree = network.nx.degree[node]\n",
    "            null_nodes = np.random.choice(degree_to_bucket[degree], \n",
    "                                          size=quantity, \n",
    "                                          replace=True)\n",
    "            null_pathways[:, i] = null_nodes\n",
    "    \n",
    "        return null_pathways"
   ]
  },
  {
   "cell_type": "code",
   "execution_count": 23,
   "metadata": {},
   "outputs": [],
   "source": [
    "# compute pvalues\n",
    "def functional_pvalue(values):\n",
    "    \"\"\"\n",
    "    \"\"\"\n",
    "    term_to_stats = {}\n",
    "    for term, proteins in tqdm(term_to_proteins.items()):\n",
    "        nodes = network.get_nodes(term_to_proteins[term])\n",
    "        term_median = np.median(values[nodes])\n",
    "        null_proteins = get_null_pathways(nodes, quantity=1000)\n",
    "        null_medians = np.median(values[null_proteins], axis=1)\n",
    "\n",
    "        pvalue = compute_pvalue(term_median, null_medians)\n",
    "\n",
    "        term_to_stats[term] = {\n",
    "            \"pvalue\": pvalue,\n",
    "            \"median_weight\": term_median, \n",
    "            \"num_proteins\": len(nodes)\n",
    "        }\n",
    "    return term_to_stats"
   ]
  },
  {
   "cell_type": "code",
   "execution_count": 24,
   "metadata": {
    "scrolled": true
   },
   "outputs": [
    {
     "data": {
      "application/vnd.jupyter.widget-view+json": {
       "model_id": "8996605c28a34b2fb0a676244b994540",
       "version_major": 2,
       "version_minor": 0
      },
      "text/plain": [
       "HBox(children=(IntProgress(value=0, max=51), HTML(value='')))"
      ]
     },
     "metadata": {},
     "output_type": "display_data"
    },
    {
     "name": "stdout",
     "output_type": "stream",
     "text": [
      "\n"
     ]
    }
   ],
   "source": [
    "term_to_stats = functional_pvalue(ci_weights/np.sqrt(degrees))"
   ]
  },
  {
   "cell_type": "code",
   "execution_count": 83,
   "metadata": {},
   "outputs": [
    {
     "data": {
      "text/html": [
       "<div>\n",
       "<style scoped>\n",
       "    .dataframe tbody tr th:only-of-type {\n",
       "        vertical-align: middle;\n",
       "    }\n",
       "\n",
       "    .dataframe tbody tr th {\n",
       "        vertical-align: top;\n",
       "    }\n",
       "\n",
       "    .dataframe thead th {\n",
       "        text-align: right;\n",
       "    }\n",
       "</style>\n",
       "<table border=\"1\" class=\"dataframe\">\n",
       "  <thead>\n",
       "    <tr style=\"text-align: right;\">\n",
       "      <th></th>\n",
       "      <th>median_weight</th>\n",
       "      <th>num_proteins</th>\n",
       "      <th>pvalue</th>\n",
       "    </tr>\n",
       "  </thead>\n",
       "  <tbody>\n",
       "    <tr>\n",
       "      <th>localization</th>\n",
       "      <td>0.017672</td>\n",
       "      <td>4361</td>\n",
       "      <td>0.000</td>\n",
       "    </tr>\n",
       "    <tr>\n",
       "      <th>membrane-enclosed lumen</th>\n",
       "      <td>0.026441</td>\n",
       "      <td>1184</td>\n",
       "      <td>0.000</td>\n",
       "    </tr>\n",
       "    <tr>\n",
       "      <th>cell part</th>\n",
       "      <td>0.014150</td>\n",
       "      <td>14714</td>\n",
       "      <td>0.165</td>\n",
       "    </tr>\n",
       "    <tr>\n",
       "      <th>extracellular region part</th>\n",
       "      <td>0.022696</td>\n",
       "      <td>3159</td>\n",
       "      <td>0.000</td>\n",
       "    </tr>\n",
       "    <tr>\n",
       "      <th>cellular process</th>\n",
       "      <td>0.015438</td>\n",
       "      <td>12622</td>\n",
       "      <td>0.000</td>\n",
       "    </tr>\n",
       "    <tr>\n",
       "      <th>immune system process</th>\n",
       "      <td>0.025622</td>\n",
       "      <td>1962</td>\n",
       "      <td>0.000</td>\n",
       "    </tr>\n",
       "    <tr>\n",
       "      <th>organelle</th>\n",
       "      <td>0.014459</td>\n",
       "      <td>10244</td>\n",
       "      <td>0.056</td>\n",
       "    </tr>\n",
       "    <tr>\n",
       "      <th>organelle part</th>\n",
       "      <td>0.014355</td>\n",
       "      <td>9029</td>\n",
       "      <td>0.110</td>\n",
       "    </tr>\n",
       "    <tr>\n",
       "      <th>response to stimulus</th>\n",
       "      <td>0.022697</td>\n",
       "      <td>4664</td>\n",
       "      <td>0.000</td>\n",
       "    </tr>\n",
       "    <tr>\n",
       "      <th>biological regulation</th>\n",
       "      <td>0.015923</td>\n",
       "      <td>10640</td>\n",
       "      <td>0.000</td>\n",
       "    </tr>\n",
       "    <tr>\n",
       "      <th>developmental process</th>\n",
       "      <td>0.019939</td>\n",
       "      <td>4536</td>\n",
       "      <td>0.000</td>\n",
       "    </tr>\n",
       "    <tr>\n",
       "      <th>binding</th>\n",
       "      <td>0.013556</td>\n",
       "      <td>13744</td>\n",
       "      <td>0.193</td>\n",
       "    </tr>\n",
       "    <tr>\n",
       "      <th>cellular component organization or biogenesis</th>\n",
       "      <td>0.014477</td>\n",
       "      <td>4948</td>\n",
       "      <td>0.359</td>\n",
       "    </tr>\n",
       "    <tr>\n",
       "      <th>metabolic process</th>\n",
       "      <td>0.015777</td>\n",
       "      <td>7736</td>\n",
       "      <td>0.000</td>\n",
       "    </tr>\n",
       "    <tr>\n",
       "      <th>molecular function regulator</th>\n",
       "      <td>0.017925</td>\n",
       "      <td>1737</td>\n",
       "      <td>0.000</td>\n",
       "    </tr>\n",
       "    <tr>\n",
       "      <th>catalytic activity</th>\n",
       "      <td>0.015984</td>\n",
       "      <td>5387</td>\n",
       "      <td>0.000</td>\n",
       "    </tr>\n",
       "    <tr>\n",
       "      <th>multicellular organismal process</th>\n",
       "      <td>0.022697</td>\n",
       "      <td>3065</td>\n",
       "      <td>0.000</td>\n",
       "    </tr>\n",
       "    <tr>\n",
       "      <th>membrane part</th>\n",
       "      <td>0.018151</td>\n",
       "      <td>5396</td>\n",
       "      <td>0.000</td>\n",
       "    </tr>\n",
       "    <tr>\n",
       "      <th>membrane</th>\n",
       "      <td>0.017179</td>\n",
       "      <td>5951</td>\n",
       "      <td>0.000</td>\n",
       "    </tr>\n",
       "    <tr>\n",
       "      <th>locomotion</th>\n",
       "      <td>0.028024</td>\n",
       "      <td>975</td>\n",
       "      <td>0.000</td>\n",
       "    </tr>\n",
       "    <tr>\n",
       "      <th>rhythmic process</th>\n",
       "      <td>0.065382</td>\n",
       "      <td>193</td>\n",
       "      <td>0.000</td>\n",
       "    </tr>\n",
       "    <tr>\n",
       "      <th>multi-organism process</th>\n",
       "      <td>0.025951</td>\n",
       "      <td>1304</td>\n",
       "      <td>0.000</td>\n",
       "    </tr>\n",
       "    <tr>\n",
       "      <th>protein-containing complex</th>\n",
       "      <td>0.016115</td>\n",
       "      <td>4731</td>\n",
       "      <td>0.033</td>\n",
       "    </tr>\n",
       "    <tr>\n",
       "      <th>reproductive process</th>\n",
       "      <td>0.023053</td>\n",
       "      <td>1290</td>\n",
       "      <td>0.000</td>\n",
       "    </tr>\n",
       "    <tr>\n",
       "      <th>behavior</th>\n",
       "      <td>0.030288</td>\n",
       "      <td>518</td>\n",
       "      <td>0.000</td>\n",
       "    </tr>\n",
       "    <tr>\n",
       "      <th>cargo receptor activity</th>\n",
       "      <td>0.012632</td>\n",
       "      <td>73</td>\n",
       "      <td>0.381</td>\n",
       "    </tr>\n",
       "    <tr>\n",
       "      <th>molecular transducer activity</th>\n",
       "      <td>0.031372</td>\n",
       "      <td>1043</td>\n",
       "      <td>0.000</td>\n",
       "    </tr>\n",
       "    <tr>\n",
       "      <th>transporter activity</th>\n",
       "      <td>0.016755</td>\n",
       "      <td>1024</td>\n",
       "      <td>0.000</td>\n",
       "    </tr>\n",
       "    <tr>\n",
       "      <th>translation regulator activity</th>\n",
       "      <td>0.007688</td>\n",
       "      <td>125</td>\n",
       "      <td>0.987</td>\n",
       "    </tr>\n",
       "    <tr>\n",
       "      <th>synapse part</th>\n",
       "      <td>0.022697</td>\n",
       "      <td>879</td>\n",
       "      <td>0.000</td>\n",
       "    </tr>\n",
       "    <tr>\n",
       "      <th>transcription regulator activity</th>\n",
       "      <td>0.015495</td>\n",
       "      <td>1867</td>\n",
       "      <td>0.283</td>\n",
       "    </tr>\n",
       "    <tr>\n",
       "      <th>biological adhesion</th>\n",
       "      <td>0.021227</td>\n",
       "      <td>821</td>\n",
       "      <td>0.000</td>\n",
       "    </tr>\n",
       "    <tr>\n",
       "      <th>cell population proliferation</th>\n",
       "      <td>0.050479</td>\n",
       "      <td>295</td>\n",
       "      <td>0.000</td>\n",
       "    </tr>\n",
       "    <tr>\n",
       "      <th>growth</th>\n",
       "      <td>0.027660</td>\n",
       "      <td>292</td>\n",
       "      <td>0.000</td>\n",
       "    </tr>\n",
       "    <tr>\n",
       "      <th>cell junction</th>\n",
       "      <td>0.023047</td>\n",
       "      <td>763</td>\n",
       "      <td>0.000</td>\n",
       "    </tr>\n",
       "    <tr>\n",
       "      <th>synapse</th>\n",
       "      <td>0.025464</td>\n",
       "      <td>495</td>\n",
       "      <td>0.000</td>\n",
       "    </tr>\n",
       "    <tr>\n",
       "      <th>detoxification</th>\n",
       "      <td>0.036990</td>\n",
       "      <td>113</td>\n",
       "      <td>0.000</td>\n",
       "    </tr>\n",
       "    <tr>\n",
       "      <th>nucleoid</th>\n",
       "      <td>0.011542</td>\n",
       "      <td>43</td>\n",
       "      <td>0.610</td>\n",
       "    </tr>\n",
       "    <tr>\n",
       "      <th>signaling</th>\n",
       "      <td>0.029300</td>\n",
       "      <td>582</td>\n",
       "      <td>0.000</td>\n",
       "    </tr>\n",
       "    <tr>\n",
       "      <th>extracellular region</th>\n",
       "      <td>0.027999</td>\n",
       "      <td>15</td>\n",
       "      <td>0.053</td>\n",
       "    </tr>\n",
       "    <tr>\n",
       "      <th>structural molecule activity</th>\n",
       "      <td>0.021945</td>\n",
       "      <td>598</td>\n",
       "      <td>0.037</td>\n",
       "    </tr>\n",
       "    <tr>\n",
       "      <th>supramolecular complex</th>\n",
       "      <td>0.014022</td>\n",
       "      <td>668</td>\n",
       "      <td>0.916</td>\n",
       "    </tr>\n",
       "    <tr>\n",
       "      <th>cell aggregation</th>\n",
       "      <td>0.166170</td>\n",
       "      <td>18</td>\n",
       "      <td>0.000</td>\n",
       "    </tr>\n",
       "    <tr>\n",
       "      <th>cell killing</th>\n",
       "      <td>0.014084</td>\n",
       "      <td>72</td>\n",
       "      <td>0.398</td>\n",
       "    </tr>\n",
       "    <tr>\n",
       "      <th>antioxidant activity</th>\n",
       "      <td>0.048626</td>\n",
       "      <td>67</td>\n",
       "      <td>0.000</td>\n",
       "    </tr>\n",
       "    <tr>\n",
       "      <th>pigmentation</th>\n",
       "      <td>0.031177</td>\n",
       "      <td>11</td>\n",
       "      <td>0.202</td>\n",
       "    </tr>\n",
       "    <tr>\n",
       "      <th>other organism part</th>\n",
       "      <td>0.035576</td>\n",
       "      <td>35</td>\n",
       "      <td>0.108</td>\n",
       "    </tr>\n",
       "    <tr>\n",
       "      <th>nitrogen utilization</th>\n",
       "      <td>0.223281</td>\n",
       "      <td>2</td>\n",
       "      <td>0.042</td>\n",
       "    </tr>\n",
       "    <tr>\n",
       "      <th>molecular carrier activity</th>\n",
       "      <td>0.007047</td>\n",
       "      <td>41</td>\n",
       "      <td>0.836</td>\n",
       "    </tr>\n",
       "    <tr>\n",
       "      <th>reproduction</th>\n",
       "      <td>0.059908</td>\n",
       "      <td>9</td>\n",
       "      <td>0.014</td>\n",
       "    </tr>\n",
       "    <tr>\n",
       "      <th>small molecule sensor activity</th>\n",
       "      <td>-0.005770</td>\n",
       "      <td>4</td>\n",
       "      <td>0.896</td>\n",
       "    </tr>\n",
       "  </tbody>\n",
       "</table>\n",
       "</div>"
      ],
      "text/plain": [
       "                                               median_weight  num_proteins  \\\n",
       "localization                                        0.017672          4361   \n",
       "membrane-enclosed lumen                             0.026441          1184   \n",
       "cell part                                           0.014150         14714   \n",
       "extracellular region part                           0.022696          3159   \n",
       "cellular process                                    0.015438         12622   \n",
       "immune system process                               0.025622          1962   \n",
       "organelle                                           0.014459         10244   \n",
       "organelle part                                      0.014355          9029   \n",
       "response to stimulus                                0.022697          4664   \n",
       "biological regulation                               0.015923         10640   \n",
       "developmental process                               0.019939          4536   \n",
       "binding                                             0.013556         13744   \n",
       "cellular component organization or biogenesis       0.014477          4948   \n",
       "metabolic process                                   0.015777          7736   \n",
       "molecular function regulator                        0.017925          1737   \n",
       "catalytic activity                                  0.015984          5387   \n",
       "multicellular organismal process                    0.022697          3065   \n",
       "membrane part                                       0.018151          5396   \n",
       "membrane                                            0.017179          5951   \n",
       "locomotion                                          0.028024           975   \n",
       "rhythmic process                                    0.065382           193   \n",
       "multi-organism process                              0.025951          1304   \n",
       "protein-containing complex                          0.016115          4731   \n",
       "reproductive process                                0.023053          1290   \n",
       "behavior                                            0.030288           518   \n",
       "cargo receptor activity                             0.012632            73   \n",
       "molecular transducer activity                       0.031372          1043   \n",
       "transporter activity                                0.016755          1024   \n",
       "translation regulator activity                      0.007688           125   \n",
       "synapse part                                        0.022697           879   \n",
       "transcription regulator activity                    0.015495          1867   \n",
       "biological adhesion                                 0.021227           821   \n",
       "cell population proliferation                       0.050479           295   \n",
       "growth                                              0.027660           292   \n",
       "cell junction                                       0.023047           763   \n",
       "synapse                                             0.025464           495   \n",
       "detoxification                                      0.036990           113   \n",
       "nucleoid                                            0.011542            43   \n",
       "signaling                                           0.029300           582   \n",
       "extracellular region                                0.027999            15   \n",
       "structural molecule activity                        0.021945           598   \n",
       "supramolecular complex                              0.014022           668   \n",
       "cell aggregation                                    0.166170            18   \n",
       "cell killing                                        0.014084            72   \n",
       "antioxidant activity                                0.048626            67   \n",
       "pigmentation                                        0.031177            11   \n",
       "other organism part                                 0.035576            35   \n",
       "nitrogen utilization                                0.223281             2   \n",
       "molecular carrier activity                          0.007047            41   \n",
       "reproduction                                        0.059908             9   \n",
       "small molecule sensor activity                     -0.005770             4   \n",
       "\n",
       "                                               pvalue  \n",
       "localization                                    0.000  \n",
       "membrane-enclosed lumen                         0.000  \n",
       "cell part                                       0.165  \n",
       "extracellular region part                       0.000  \n",
       "cellular process                                0.000  \n",
       "immune system process                           0.000  \n",
       "organelle                                       0.056  \n",
       "organelle part                                  0.110  \n",
       "response to stimulus                            0.000  \n",
       "biological regulation                           0.000  \n",
       "developmental process                           0.000  \n",
       "binding                                         0.193  \n",
       "cellular component organization or biogenesis   0.359  \n",
       "metabolic process                               0.000  \n",
       "molecular function regulator                    0.000  \n",
       "catalytic activity                              0.000  \n",
       "multicellular organismal process                0.000  \n",
       "membrane part                                   0.000  \n",
       "membrane                                        0.000  \n",
       "locomotion                                      0.000  \n",
       "rhythmic process                                0.000  \n",
       "multi-organism process                          0.000  \n",
       "protein-containing complex                      0.033  \n",
       "reproductive process                            0.000  \n",
       "behavior                                        0.000  \n",
       "cargo receptor activity                         0.381  \n",
       "molecular transducer activity                   0.000  \n",
       "transporter activity                            0.000  \n",
       "translation regulator activity                  0.987  \n",
       "synapse part                                    0.000  \n",
       "transcription regulator activity                0.283  \n",
       "biological adhesion                             0.000  \n",
       "cell population proliferation                   0.000  \n",
       "growth                                          0.000  \n",
       "cell junction                                   0.000  \n",
       "synapse                                         0.000  \n",
       "detoxification                                  0.000  \n",
       "nucleoid                                        0.610  \n",
       "signaling                                       0.000  \n",
       "extracellular region                            0.053  \n",
       "structural molecule activity                    0.037  \n",
       "supramolecular complex                          0.916  \n",
       "cell aggregation                                0.000  \n",
       "cell killing                                    0.398  \n",
       "antioxidant activity                            0.000  \n",
       "pigmentation                                    0.202  \n",
       "other organism part                             0.108  \n",
       "nitrogen utilization                            0.042  \n",
       "molecular carrier activity                      0.836  \n",
       "reproduction                                    0.014  \n",
       "small molecule sensor activity                  0.896  "
      ]
     },
     "execution_count": 83,
     "metadata": {},
     "output_type": "execute_result"
    }
   ],
   "source": [
    "norm_term_df = pd.DataFrame(term_to_stats.values(), index=term_to_stats.keys())\n",
    "norm_term_df.to_csv(\"experiments/lci_analysis/terms.csv\")\n",
    "norm_term_df"
   ]
  },
  {
   "cell_type": "code",
   "execution_count": 84,
   "metadata": {
    "scrolled": true
   },
   "outputs": [
    {
     "data": {
      "text/html": [
       "<div>\n",
       "<style scoped>\n",
       "    .dataframe tbody tr th:only-of-type {\n",
       "        vertical-align: middle;\n",
       "    }\n",
       "\n",
       "    .dataframe tbody tr th {\n",
       "        vertical-align: top;\n",
       "    }\n",
       "\n",
       "    .dataframe thead th {\n",
       "        text-align: right;\n",
       "    }\n",
       "</style>\n",
       "<table border=\"1\" class=\"dataframe\">\n",
       "  <thead>\n",
       "    <tr style=\"text-align: right;\">\n",
       "      <th></th>\n",
       "      <th>median_weight</th>\n",
       "      <th>num_proteins</th>\n",
       "      <th>pvalue</th>\n",
       "    </tr>\n",
       "  </thead>\n",
       "  <tbody>\n",
       "    <tr>\n",
       "      <th>localization</th>\n",
       "      <td>0.017672</td>\n",
       "      <td>4361</td>\n",
       "      <td>0.000</td>\n",
       "    </tr>\n",
       "    <tr>\n",
       "      <th>membrane-enclosed lumen</th>\n",
       "      <td>0.026441</td>\n",
       "      <td>1184</td>\n",
       "      <td>0.000</td>\n",
       "    </tr>\n",
       "    <tr>\n",
       "      <th>cell part</th>\n",
       "      <td>0.014150</td>\n",
       "      <td>14714</td>\n",
       "      <td>0.165</td>\n",
       "    </tr>\n",
       "    <tr>\n",
       "      <th>extracellular region part</th>\n",
       "      <td>0.022696</td>\n",
       "      <td>3159</td>\n",
       "      <td>0.000</td>\n",
       "    </tr>\n",
       "    <tr>\n",
       "      <th>cellular process</th>\n",
       "      <td>0.015438</td>\n",
       "      <td>12622</td>\n",
       "      <td>0.000</td>\n",
       "    </tr>\n",
       "    <tr>\n",
       "      <th>immune system process</th>\n",
       "      <td>0.025622</td>\n",
       "      <td>1962</td>\n",
       "      <td>0.000</td>\n",
       "    </tr>\n",
       "    <tr>\n",
       "      <th>organelle</th>\n",
       "      <td>0.014459</td>\n",
       "      <td>10244</td>\n",
       "      <td>0.056</td>\n",
       "    </tr>\n",
       "    <tr>\n",
       "      <th>organelle part</th>\n",
       "      <td>0.014355</td>\n",
       "      <td>9029</td>\n",
       "      <td>0.110</td>\n",
       "    </tr>\n",
       "    <tr>\n",
       "      <th>response to stimulus</th>\n",
       "      <td>0.022697</td>\n",
       "      <td>4664</td>\n",
       "      <td>0.000</td>\n",
       "    </tr>\n",
       "    <tr>\n",
       "      <th>biological regulation</th>\n",
       "      <td>0.015923</td>\n",
       "      <td>10640</td>\n",
       "      <td>0.000</td>\n",
       "    </tr>\n",
       "    <tr>\n",
       "      <th>developmental process</th>\n",
       "      <td>0.019939</td>\n",
       "      <td>4536</td>\n",
       "      <td>0.000</td>\n",
       "    </tr>\n",
       "    <tr>\n",
       "      <th>binding</th>\n",
       "      <td>0.013556</td>\n",
       "      <td>13744</td>\n",
       "      <td>0.193</td>\n",
       "    </tr>\n",
       "    <tr>\n",
       "      <th>cellular component organization or biogenesis</th>\n",
       "      <td>0.014477</td>\n",
       "      <td>4948</td>\n",
       "      <td>0.359</td>\n",
       "    </tr>\n",
       "    <tr>\n",
       "      <th>metabolic process</th>\n",
       "      <td>0.015777</td>\n",
       "      <td>7736</td>\n",
       "      <td>0.000</td>\n",
       "    </tr>\n",
       "    <tr>\n",
       "      <th>molecular function regulator</th>\n",
       "      <td>0.017925</td>\n",
       "      <td>1737</td>\n",
       "      <td>0.000</td>\n",
       "    </tr>\n",
       "    <tr>\n",
       "      <th>catalytic activity</th>\n",
       "      <td>0.015984</td>\n",
       "      <td>5387</td>\n",
       "      <td>0.000</td>\n",
       "    </tr>\n",
       "    <tr>\n",
       "      <th>multicellular organismal process</th>\n",
       "      <td>0.022697</td>\n",
       "      <td>3065</td>\n",
       "      <td>0.000</td>\n",
       "    </tr>\n",
       "    <tr>\n",
       "      <th>membrane part</th>\n",
       "      <td>0.018151</td>\n",
       "      <td>5396</td>\n",
       "      <td>0.000</td>\n",
       "    </tr>\n",
       "    <tr>\n",
       "      <th>membrane</th>\n",
       "      <td>0.017179</td>\n",
       "      <td>5951</td>\n",
       "      <td>0.000</td>\n",
       "    </tr>\n",
       "    <tr>\n",
       "      <th>locomotion</th>\n",
       "      <td>0.028024</td>\n",
       "      <td>975</td>\n",
       "      <td>0.000</td>\n",
       "    </tr>\n",
       "    <tr>\n",
       "      <th>rhythmic process</th>\n",
       "      <td>0.065382</td>\n",
       "      <td>193</td>\n",
       "      <td>0.000</td>\n",
       "    </tr>\n",
       "    <tr>\n",
       "      <th>multi-organism process</th>\n",
       "      <td>0.025951</td>\n",
       "      <td>1304</td>\n",
       "      <td>0.000</td>\n",
       "    </tr>\n",
       "    <tr>\n",
       "      <th>protein-containing complex</th>\n",
       "      <td>0.016115</td>\n",
       "      <td>4731</td>\n",
       "      <td>0.033</td>\n",
       "    </tr>\n",
       "    <tr>\n",
       "      <th>reproductive process</th>\n",
       "      <td>0.023053</td>\n",
       "      <td>1290</td>\n",
       "      <td>0.000</td>\n",
       "    </tr>\n",
       "    <tr>\n",
       "      <th>behavior</th>\n",
       "      <td>0.030288</td>\n",
       "      <td>518</td>\n",
       "      <td>0.000</td>\n",
       "    </tr>\n",
       "    <tr>\n",
       "      <th>cargo receptor activity</th>\n",
       "      <td>0.012632</td>\n",
       "      <td>73</td>\n",
       "      <td>0.381</td>\n",
       "    </tr>\n",
       "    <tr>\n",
       "      <th>molecular transducer activity</th>\n",
       "      <td>0.031372</td>\n",
       "      <td>1043</td>\n",
       "      <td>0.000</td>\n",
       "    </tr>\n",
       "    <tr>\n",
       "      <th>transporter activity</th>\n",
       "      <td>0.016755</td>\n",
       "      <td>1024</td>\n",
       "      <td>0.000</td>\n",
       "    </tr>\n",
       "    <tr>\n",
       "      <th>translation regulator activity</th>\n",
       "      <td>0.007688</td>\n",
       "      <td>125</td>\n",
       "      <td>0.987</td>\n",
       "    </tr>\n",
       "    <tr>\n",
       "      <th>synapse part</th>\n",
       "      <td>0.022697</td>\n",
       "      <td>879</td>\n",
       "      <td>0.000</td>\n",
       "    </tr>\n",
       "    <tr>\n",
       "      <th>transcription regulator activity</th>\n",
       "      <td>0.015495</td>\n",
       "      <td>1867</td>\n",
       "      <td>0.283</td>\n",
       "    </tr>\n",
       "    <tr>\n",
       "      <th>biological adhesion</th>\n",
       "      <td>0.021227</td>\n",
       "      <td>821</td>\n",
       "      <td>0.000</td>\n",
       "    </tr>\n",
       "    <tr>\n",
       "      <th>cell population proliferation</th>\n",
       "      <td>0.050479</td>\n",
       "      <td>295</td>\n",
       "      <td>0.000</td>\n",
       "    </tr>\n",
       "    <tr>\n",
       "      <th>growth</th>\n",
       "      <td>0.027660</td>\n",
       "      <td>292</td>\n",
       "      <td>0.000</td>\n",
       "    </tr>\n",
       "    <tr>\n",
       "      <th>cell junction</th>\n",
       "      <td>0.023047</td>\n",
       "      <td>763</td>\n",
       "      <td>0.000</td>\n",
       "    </tr>\n",
       "    <tr>\n",
       "      <th>synapse</th>\n",
       "      <td>0.025464</td>\n",
       "      <td>495</td>\n",
       "      <td>0.000</td>\n",
       "    </tr>\n",
       "    <tr>\n",
       "      <th>detoxification</th>\n",
       "      <td>0.036990</td>\n",
       "      <td>113</td>\n",
       "      <td>0.000</td>\n",
       "    </tr>\n",
       "    <tr>\n",
       "      <th>nucleoid</th>\n",
       "      <td>0.011542</td>\n",
       "      <td>43</td>\n",
       "      <td>0.610</td>\n",
       "    </tr>\n",
       "    <tr>\n",
       "      <th>signaling</th>\n",
       "      <td>0.029300</td>\n",
       "      <td>582</td>\n",
       "      <td>0.000</td>\n",
       "    </tr>\n",
       "    <tr>\n",
       "      <th>extracellular region</th>\n",
       "      <td>0.027999</td>\n",
       "      <td>15</td>\n",
       "      <td>0.053</td>\n",
       "    </tr>\n",
       "    <tr>\n",
       "      <th>structural molecule activity</th>\n",
       "      <td>0.021945</td>\n",
       "      <td>598</td>\n",
       "      <td>0.037</td>\n",
       "    </tr>\n",
       "    <tr>\n",
       "      <th>supramolecular complex</th>\n",
       "      <td>0.014022</td>\n",
       "      <td>668</td>\n",
       "      <td>0.916</td>\n",
       "    </tr>\n",
       "    <tr>\n",
       "      <th>cell aggregation</th>\n",
       "      <td>0.166170</td>\n",
       "      <td>18</td>\n",
       "      <td>0.000</td>\n",
       "    </tr>\n",
       "    <tr>\n",
       "      <th>cell killing</th>\n",
       "      <td>0.014084</td>\n",
       "      <td>72</td>\n",
       "      <td>0.398</td>\n",
       "    </tr>\n",
       "    <tr>\n",
       "      <th>antioxidant activity</th>\n",
       "      <td>0.048626</td>\n",
       "      <td>67</td>\n",
       "      <td>0.000</td>\n",
       "    </tr>\n",
       "    <tr>\n",
       "      <th>pigmentation</th>\n",
       "      <td>0.031177</td>\n",
       "      <td>11</td>\n",
       "      <td>0.202</td>\n",
       "    </tr>\n",
       "    <tr>\n",
       "      <th>other organism part</th>\n",
       "      <td>0.035576</td>\n",
       "      <td>35</td>\n",
       "      <td>0.108</td>\n",
       "    </tr>\n",
       "    <tr>\n",
       "      <th>nitrogen utilization</th>\n",
       "      <td>0.223281</td>\n",
       "      <td>2</td>\n",
       "      <td>0.042</td>\n",
       "    </tr>\n",
       "    <tr>\n",
       "      <th>molecular carrier activity</th>\n",
       "      <td>0.007047</td>\n",
       "      <td>41</td>\n",
       "      <td>0.836</td>\n",
       "    </tr>\n",
       "    <tr>\n",
       "      <th>reproduction</th>\n",
       "      <td>0.059908</td>\n",
       "      <td>9</td>\n",
       "      <td>0.014</td>\n",
       "    </tr>\n",
       "    <tr>\n",
       "      <th>small molecule sensor activity</th>\n",
       "      <td>-0.005770</td>\n",
       "      <td>4</td>\n",
       "      <td>0.896</td>\n",
       "    </tr>\n",
       "  </tbody>\n",
       "</table>\n",
       "</div>"
      ],
      "text/plain": [
       "                                               median_weight  num_proteins  \\\n",
       "localization                                        0.017672          4361   \n",
       "membrane-enclosed lumen                             0.026441          1184   \n",
       "cell part                                           0.014150         14714   \n",
       "extracellular region part                           0.022696          3159   \n",
       "cellular process                                    0.015438         12622   \n",
       "immune system process                               0.025622          1962   \n",
       "organelle                                           0.014459         10244   \n",
       "organelle part                                      0.014355          9029   \n",
       "response to stimulus                                0.022697          4664   \n",
       "biological regulation                               0.015923         10640   \n",
       "developmental process                               0.019939          4536   \n",
       "binding                                             0.013556         13744   \n",
       "cellular component organization or biogenesis       0.014477          4948   \n",
       "metabolic process                                   0.015777          7736   \n",
       "molecular function regulator                        0.017925          1737   \n",
       "catalytic activity                                  0.015984          5387   \n",
       "multicellular organismal process                    0.022697          3065   \n",
       "membrane part                                       0.018151          5396   \n",
       "membrane                                            0.017179          5951   \n",
       "locomotion                                          0.028024           975   \n",
       "rhythmic process                                    0.065382           193   \n",
       "multi-organism process                              0.025951          1304   \n",
       "protein-containing complex                          0.016115          4731   \n",
       "reproductive process                                0.023053          1290   \n",
       "behavior                                            0.030288           518   \n",
       "cargo receptor activity                             0.012632            73   \n",
       "molecular transducer activity                       0.031372          1043   \n",
       "transporter activity                                0.016755          1024   \n",
       "translation regulator activity                      0.007688           125   \n",
       "synapse part                                        0.022697           879   \n",
       "transcription regulator activity                    0.015495          1867   \n",
       "biological adhesion                                 0.021227           821   \n",
       "cell population proliferation                       0.050479           295   \n",
       "growth                                              0.027660           292   \n",
       "cell junction                                       0.023047           763   \n",
       "synapse                                             0.025464           495   \n",
       "detoxification                                      0.036990           113   \n",
       "nucleoid                                            0.011542            43   \n",
       "signaling                                           0.029300           582   \n",
       "extracellular region                                0.027999            15   \n",
       "structural molecule activity                        0.021945           598   \n",
       "supramolecular complex                              0.014022           668   \n",
       "cell aggregation                                    0.166170            18   \n",
       "cell killing                                        0.014084            72   \n",
       "antioxidant activity                                0.048626            67   \n",
       "pigmentation                                        0.031177            11   \n",
       "other organism part                                 0.035576            35   \n",
       "nitrogen utilization                                0.223281             2   \n",
       "molecular carrier activity                          0.007047            41   \n",
       "reproduction                                        0.059908             9   \n",
       "small molecule sensor activity                     -0.005770             4   \n",
       "\n",
       "                                               pvalue  \n",
       "localization                                    0.000  \n",
       "membrane-enclosed lumen                         0.000  \n",
       "cell part                                       0.165  \n",
       "extracellular region part                       0.000  \n",
       "cellular process                                0.000  \n",
       "immune system process                           0.000  \n",
       "organelle                                       0.056  \n",
       "organelle part                                  0.110  \n",
       "response to stimulus                            0.000  \n",
       "biological regulation                           0.000  \n",
       "developmental process                           0.000  \n",
       "binding                                         0.193  \n",
       "cellular component organization or biogenesis   0.359  \n",
       "metabolic process                               0.000  \n",
       "molecular function regulator                    0.000  \n",
       "catalytic activity                              0.000  \n",
       "multicellular organismal process                0.000  \n",
       "membrane part                                   0.000  \n",
       "membrane                                        0.000  \n",
       "locomotion                                      0.000  \n",
       "rhythmic process                                0.000  \n",
       "multi-organism process                          0.000  \n",
       "protein-containing complex                      0.033  \n",
       "reproductive process                            0.000  \n",
       "behavior                                        0.000  \n",
       "cargo receptor activity                         0.381  \n",
       "molecular transducer activity                   0.000  \n",
       "transporter activity                            0.000  \n",
       "translation regulator activity                  0.987  \n",
       "synapse part                                    0.000  \n",
       "transcription regulator activity                0.283  \n",
       "biological adhesion                             0.000  \n",
       "cell population proliferation                   0.000  \n",
       "growth                                          0.000  \n",
       "cell junction                                   0.000  \n",
       "synapse                                         0.000  \n",
       "detoxification                                  0.000  \n",
       "nucleoid                                        0.610  \n",
       "signaling                                       0.000  \n",
       "extracellular region                            0.053  \n",
       "structural molecule activity                    0.037  \n",
       "supramolecular complex                          0.916  \n",
       "cell aggregation                                0.000  \n",
       "cell killing                                    0.398  \n",
       "antioxidant activity                            0.000  \n",
       "pigmentation                                    0.202  \n",
       "other organism part                             0.108  \n",
       "nitrogen utilization                            0.042  \n",
       "molecular carrier activity                      0.836  \n",
       "reproduction                                    0.014  \n",
       "small molecule sensor activity                  0.896  "
      ]
     },
     "execution_count": 84,
     "metadata": {},
     "output_type": "execute_result"
    }
   ],
   "source": [
    "term_df = pd.DataFrame(term_to_stats.values(), index=term_to_stats.keys())\n",
    "term_df.to_csv(\"experiments/lci_analysis/level_1.csv\")\n",
    "term_df"
   ]
  },
  {
   "cell_type": "markdown",
   "metadata": {},
   "source": [
    "## Functional Enrichment of Heavily Weighted Proteins\n",
    "How does the enrichment of the top-k proteins compare "
   ]
  },
  {
   "cell_type": "code",
   "execution_count": 9,
   "metadata": {},
   "outputs": [
    {
     "name": "stdout",
     "output_type": "stream",
     "text": [
      "fisher module not installed.  Falling back on scipy.stats.fisher_exact\n"
     ]
    },
    {
     "name": "stderr",
     "output_type": "stream",
     "text": [
      "Propagating term counts to parents ..\n"
     ]
    },
    {
     "name": "stdout",
     "output_type": "stream",
     "text": [
      " 76% 16,420 of 21,557 population items found in association\n"
     ]
    }
   ],
   "source": [
    "goeaobj = GOEnrichmentStudy(network.get_proteins(), # List of mouse protein-coding genes\n",
    "                            geneid2go, # geneid/GO associations\n",
    "                            obodag, # Ontologies\n",
    "                            propagate_counts = True,\n",
    "                            alpha = 0.05, # default significance cut-off\n",
    "                            methods = ['fdr_bh']) # defult multipletest correction method"
   ]
  },
  {
   "cell_type": "code",
   "execution_count": 45,
   "metadata": {},
   "outputs": [],
   "source": [
    "# get top proteins\n",
    "ci_weights_norm = ci_weights / degrees\n",
    "top_nodes = np.argsort(ci_weights_norm)[-75:]\n",
    "top_proteins = network.get_proteins(top_nodes)"
   ]
  },
  {
   "cell_type": "code",
   "execution_count": 46,
   "metadata": {},
   "outputs": [
    {
     "name": "stdout",
     "output_type": "stream",
     "text": [
      " 89%     67 of     75 study items found in association\n",
      "100%     75 of     75 study items found in population(21557)\n",
      "Calculating 21,968 uncorrected p-values using fisher_scipy_stats\n",
      "  21,968 GO terms are associated with 16,420 of 21,557 population items\n",
      "   2,252 GO terms are associated with     67 of     75 study items\n",
      "      49 GO terms found significant (< 0.05=alpha) after multitest correction: statsmodels fdr_bh\n"
     ]
    }
   ],
   "source": [
    "results = goeaobj.run_study(set(top_proteins))"
   ]
  },
  {
   "cell_type": "code",
   "execution_count": 48,
   "metadata": {},
   "outputs": [],
   "source": [
    "significant = {r.name: r.p_fdr_bh for r in results if r.p_fdr_bh < 0.05}"
   ]
  },
  {
   "cell_type": "code",
   "execution_count": 49,
   "metadata": {},
   "outputs": [
    {
     "data": {
      "text/plain": [
       "{'signal transduction': 0.0005938844649390932,\n",
       " 'cell surface receptor signaling pathway': 0.0025603925031880766,\n",
       " 'cell-cell signaling': 0.0033180978748671435,\n",
       " 'G protein-coupled receptor signaling pathway': 0.0040166786054991925,\n",
       " 'homeostatic process': 0.006388227529843405,\n",
       " 'signaling': 0.006388227529843405,\n",
       " 'positive regulation of catecholamine secretion': 0.010775868048983098,\n",
       " 'cellular chemical homeostasis': 0.01266088447326542,\n",
       " 'cellular homeostasis': 0.013101441361932685,\n",
       " 'regulation of multicellular organismal process': 0.013101441361932685,\n",
       " 'cell communication': 0.013101441361932685,\n",
       " 'neuropeptide signaling pathway': 0.013101441361932685,\n",
       " 'developmental process': 0.015097235875968208,\n",
       " 'phosphatidylinositol-3-phosphate biosynthetic process': 0.015097235875968208,\n",
       " 'phosphatidylinositol phosphorylation': 0.02053010404010572,\n",
       " 'peptidyl-tyrosine phosphorylation': 0.02182335713005853,\n",
       " 'peptidyl-tyrosine modification': 0.023352145909529096,\n",
       " 'lipid phosphorylation': 0.03282623954336811,\n",
       " 'regulation of signaling receptor activity': 0.033448923350569315,\n",
       " 'regulation of cytosolic calcium ion concentration': 0.03656960729149789,\n",
       " 'intrinsic component of membrane': 0.00011026047756846937,\n",
       " 'plasma membrane part': 0.0016841568218040237,\n",
       " 'membrane part': 0.0016841568218040237,\n",
       " 'integral component of membrane': 0.0031720467750280335,\n",
       " 'integral component of plasma membrane': 0.013101441361932685,\n",
       " 'plasma membrane': 0.013101441361932685,\n",
       " 'extracellular region': 0.014681820742044995,\n",
       " 'intrinsic component of plasma membrane': 0.019450120401685873,\n",
       " 'nucleus': 0.01774093856243981,\n",
       " 'cytosol': 0.03656960729149789,\n",
       " 'signaling receptor activity': 8.646915880110747e-05,\n",
       " 'transmembrane signaling receptor activity': 8.646915880110747e-05,\n",
       " 'molecular transducer activity': 9.332582385062093e-05,\n",
       " 'signaling receptor binding': 0.0016841568218040237,\n",
       " 'G protein-coupled receptor activity': 0.0020706408764374156,\n",
       " 'fibroblast growth factor receptor binding': 0.0020706408764374156,\n",
       " 'hormone binding': 0.002360669029526053,\n",
       " 'phosphatidylinositol-4,5-bisphosphate 3-kinase activity': 0.004630288113784045,\n",
       " 'phosphatidylinositol bisphosphate kinase activity': 0.005435970871245557,\n",
       " 'G protein-coupled peptide receptor activity': 0.007570864871905674,\n",
       " 'phosphatidylinositol 3-kinase activity': 0.007570864871905674,\n",
       " 'peptide receptor activity': 0.008998390928261666,\n",
       " '1-phosphatidylinositol-3-kinase activity': 0.01252422413977501,\n",
       " 'growth factor activity': 0.013101441361932685,\n",
       " 'receptor ligand activity': 0.013101441361932685,\n",
       " 'peptide hormone binding': 0.015097235875968208,\n",
       " 'phosphatidylinositol kinase activity': 0.01593622631157009,\n",
       " 'receptor regulator activity': 0.018290673824118753,\n",
       " 'growth factor receptor binding': 0.03927962887938281}"
      ]
     },
     "execution_count": 49,
     "metadata": {},
     "output_type": "execute_result"
    }
   ],
   "source": [
    "significant"
   ]
  },
  {
   "cell_type": "markdown",
   "metadata": {},
   "source": [
    "# Common Interactors"
   ]
  },
  {
   "cell_type": "code",
   "execution_count": 23,
   "metadata": {},
   "outputs": [],
   "source": [
    "def compute_common_interactors(diseases, network, null=False): \n",
    "    \"\"\"\n",
    "    \"\"\"\n",
    "    adj = network.adj_matrix\n",
    "    ci_pairs = [set() for i in range(len(network))]\n",
    "    ci_diseases = [set() for i in range(len(network))]\n",
    "    for disease in tqdm(diseases.values()):\n",
    "        proteins = disease.to_node_array(network)\n",
    "        if null:\n",
    "            proteins = np.random.choice(adj.shape[0], len(proteins), replace=False)\n",
    "\n",
    "        for a, protein_a in enumerate(proteins):\n",
    "            for b, protein_b in enumerate(proteins):\n",
    "                if a < b:\n",
    "                    break \n",
    "                neighbors_a = adj[protein_a, :]\n",
    "                neighbors_b = adj[protein_b, :]\n",
    "                cis = np.where(np.multiply(neighbors_a, neighbors_b) == 1)[0]\n",
    "                for ci in cis:\n",
    "                    ci_pairs[ci].add((protein_a, protein_b))\n",
    "                    ci_diseases[ci].add(disease.id)\n",
    "    return ci_pairs, ci_diseases"
   ]
  },
  {
   "cell_type": "code",
   "execution_count": 24,
   "metadata": {
    "collapsed": true
   },
   "outputs": [
    {
     "name": "stderr",
     "output_type": "stream",
     "text": [
      "100%|██████████| 2297/2297 [04:10<00:00,  9.16it/s]  \n",
      "100%|██████████| 2297/2297 [04:04<00:00,  9.39it/s]  \n",
      "100%|██████████| 2297/2297 [04:02<00:00,  9.48it/s]  \n",
      "100%|██████████| 2297/2297 [04:03<00:00,  9.43it/s]  \n",
      "100%|██████████| 2297/2297 [04:03<00:00,  9.44it/s]  \n",
      "100%|██████████| 2297/2297 [04:04<00:00,  9.40it/s]  \n",
      "100%|██████████| 2297/2297 [04:05<00:00,  9.37it/s]  \n",
      "100%|██████████| 2297/2297 [04:12<00:00,  9.09it/s]  \n",
      "100%|██████████| 2297/2297 [05:35<00:00,  6.85it/s]  \n",
      "100%|██████████| 2297/2297 [06:24<00:00,  5.97it/s]  \n",
      "100%|██████████| 2297/2297 [04:58<00:00,  7.68it/s]  \n",
      "100%|██████████| 2297/2297 [04:33<00:00,  8.41it/s]  \n",
      "100%|██████████| 2297/2297 [04:30<00:00,  8.49it/s]  \n",
      "100%|██████████| 2297/2297 [04:03<00:00,  9.44it/s]  \n",
      "100%|██████████| 2297/2297 [04:24<00:00,  8.67it/s]  \n",
      "100%|██████████| 2297/2297 [04:32<00:00,  8.42it/s]  \n",
      "100%|██████████| 2297/2297 [04:10<00:00,  9.18it/s]  \n",
      "100%|██████████| 2297/2297 [04:55<00:00,  7.78it/s]  \n",
      "100%|██████████| 2297/2297 [04:32<00:00,  8.44it/s]  \n",
      "100%|██████████| 2297/2297 [03:53<00:00,  9.83it/s]  \n",
      "100%|██████████| 2297/2297 [04:08<00:00,  9.25it/s]  \n",
      "100%|██████████| 2297/2297 [04:37<00:00,  8.27it/s]  \n",
      "100%|██████████| 2297/2297 [04:45<00:00,  8.03it/s]  \n",
      "100%|██████████| 2297/2297 [04:03<00:00,  9.45it/s]  \n",
      "100%|██████████| 2297/2297 [04:05<00:00,  9.35it/s]  \n",
      "100%|██████████| 2297/2297 [04:35<00:00,  8.33it/s]  \n",
      "100%|██████████| 2297/2297 [04:20<00:00,  8.81it/s]  \n",
      "100%|██████████| 2297/2297 [04:41<00:00,  8.16it/s]  \n",
      "100%|██████████| 2297/2297 [04:33<00:00,  8.40it/s]  \n",
      "100%|██████████| 2297/2297 [04:01<00:00,  9.53it/s]  \n"
     ]
    }
   ],
   "source": [
    "null_pairs = []\n",
    "null_diseases = []\n",
    "for i in range(30): \n",
    "    ci_pairs, ci_diseases  = compute_common_interactors(diseases, network, null=True)\n",
    "    null_pairs.append(ci_pairs)\n",
    "    null_diseases.append(ci_diseases)"
   ]
  },
  {
   "cell_type": "code",
   "execution_count": 25,
   "metadata": {},
   "outputs": [],
   "source": [
    "null_n_pairs = [np.array(map(len, pairs)) for pairs in null_pairs]"
   ]
  },
  {
   "cell_type": "code",
   "execution_count": null,
   "metadata": {},
   "outputs": [],
   "source": [
    "with open(\"experiments/dpp_evaluate/lci/null_pairs.pkl\",'wb') as f:\n",
    "    pickle.dump(null_pairs, f)"
   ]
  },
  {
   "cell_type": "code",
   "execution_count": null,
   "metadata": {},
   "outputs": [],
   "source": [
    "np.stack(null_n_pairs, axis=1).shape"
   ]
  },
  {
   "cell_type": "code",
   "execution_count": null,
   "metadata": {},
   "outputs": [],
   "source": [
    "mean_null_n_pairs = np.mean(np.stack(null_n_pairs, axis=1), axis=1)"
   ]
  },
  {
   "cell_type": "code",
   "execution_count": null,
   "metadata": {},
   "outputs": [],
   "source": [
    "degree_vec = np.array([network.nx.degree(node) for node in range(len(network))])"
   ]
  },
  {
   "cell_type": "code",
   "execution_count": null,
   "metadata": {},
   "outputs": [],
   "source": []
  }
 ],
 "metadata": {
  "kernelspec": {
   "display_name": "disease-protein-prediction",
   "language": "python",
   "name": "disease-protein-prediction"
  },
  "language_info": {
   "codemirror_mode": {
    "name": "ipython",
    "version": 3
   },
   "file_extension": ".py",
   "mimetype": "text/x-python",
   "name": "python",
   "nbconvert_exporter": "python",
   "pygments_lexer": "ipython3",
   "version": "3.7.1"
  },
  "toc": {
   "base_numbering": 1,
   "nav_menu": {},
   "number_sections": true,
   "sideBar": true,
   "skip_h1_title": false,
   "title_cell": "Table of Contents",
   "title_sidebar": "Contents",
   "toc_cell": false,
   "toc_position": {},
   "toc_section_display": true,
   "toc_window_display": false
  }
 },
 "nbformat": 4,
 "nbformat_minor": 2
}
