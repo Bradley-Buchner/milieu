{
 "cells": [
  {
   "cell_type": "code",
   "execution_count": 2,
   "metadata": {},
   "outputs": [],
   "source": [
    "%load_ext autoreload\n",
    "%autoreload 2\n",
    "\n",
    "import sys, os\n",
    "sys.path.append(os.path.abspath(os.path.join('..')))\n",
    "\n",
    "import matplotlib.pyplot as plt \n",
    "import torch\n",
    "import torch.nn as nn\n",
    "import seaborn as sns\n",
    "import numpy as np\n",
    "from scipy.stats import pearsonr\n",
    "import pandas as pd\n",
    "import networkx as nx\n",
    "from tqdm import tqdm_notebook as tqdm\n",
    "import goatools\n",
    "from goatools.base import download_go_basic_obo, download_ncbi_associations\n",
    "from goatools.obo_parser import GODag\n",
    "from goatools.associations import read_ncbi_gene2go\n",
    "from goatools.go_enrichment import GOEnrichmentStudy\n",
    "\n",
    "\n",
    "from dpp.util import Params, prepare_sns, load_mapping\n",
    "from dpp.data.associations import load_diseases\n",
    "\n",
    "prepare_sns(sns, {})"
   ]
  },
  {
   "cell_type": "code",
   "execution_count": 3,
   "metadata": {},
   "outputs": [],
   "source": [
    "num_nodes = 10\n",
    "embedding_size = 8"
   ]
  },
  {
   "cell_type": "code",
   "execution_count": 24,
   "metadata": {},
   "outputs": [],
   "source": [
    "adj = torch.randint(low=0, high=2, size=(num_nodes, num_nodes))\n",
    "# enforce symmetry \n",
    "for row in range(adj.shape[0]):\n",
    "    for col in range(adj.shape[1]):\n",
    "        if row > col:\n",
    "            adj[row, col] = adj[col, row]"
   ]
  },
  {
   "cell_type": "code",
   "execution_count": 25,
   "metadata": {},
   "outputs": [
    {
     "name": "stdout",
     "output_type": "stream",
     "text": [
      "tensor([[0.6506, 0.7550, 0.8824, 0.7077, 0.0434, 0.7944, 0.4711, 0.3924],\n",
      "        [0.7747, 0.9373, 0.3369, 0.7672, 0.4132, 0.9224, 0.5649, 0.8292],\n",
      "        [0.7782, 0.4631, 0.8377, 0.0066, 0.3016, 0.8193, 0.6468, 0.5768],\n",
      "        [0.4460, 0.1819, 0.7086, 0.5556, 0.9397, 0.8525, 0.1167, 0.2807],\n",
      "        [0.4184, 0.2806, 0.7493, 0.4164, 0.1621, 0.7129, 0.4619, 0.1291],\n",
      "        [0.3676, 0.0625, 0.3834, 0.9405, 0.7357, 0.8351, 0.2951, 0.0453],\n",
      "        [0.0531, 0.7144, 0.6921, 0.1820, 0.4543, 0.0888, 0.5622, 0.2063],\n",
      "        [0.7748, 0.7176, 0.3569, 0.3097, 0.5829, 0.7407, 0.2536, 0.0636],\n",
      "        [0.4108, 0.2819, 0.2285, 0.9151, 0.2669, 0.4498, 0.9203, 0.8702],\n",
      "        [0.7773, 0.1691, 0.2494, 0.1585, 0.0511, 0.3216, 0.5251, 0.6897]])\n"
     ]
    }
   ],
   "source": [
    "embeddings = torch.rand(size=(num_nodes, embedding_size))\n",
    "print(embeddings)\n",
    "embeddings = nn.Embedding.from_pretrained(embeddings)"
   ]
  },
  {
   "cell_type": "code",
   "execution_count": 26,
   "metadata": {},
   "outputs": [],
   "source": [
    "disease_node = torch.tensor(0) \n",
    "query_node = torch.tensor(4)"
   ]
  },
  {
   "cell_type": "code",
   "execution_count": 27,
   "metadata": {},
   "outputs": [],
   "source": [
    "mutual_interactors = torch.nonzero(adj[disease_node] * adj[query_node]).squeeze()"
   ]
  },
  {
   "cell_type": "code",
   "execution_count": 28,
   "metadata": {},
   "outputs": [],
   "source": [
    "bilinear = nn.Bilinear(embedding_size, embedding_size, embedding_size)"
   ]
  },
  {
   "cell_type": "code",
   "execution_count": 31,
   "metadata": {},
   "outputs": [
    {
     "data": {
      "text/plain": [
       "torch.Size([3, 8])"
      ]
     },
     "execution_count": 31,
     "metadata": {},
     "output_type": "execute_result"
    }
   ],
   "source": [
    "embeddings(mutual_interactors).shape"
   ]
  },
  {
   "cell_type": "code",
   "execution_count": 33,
   "metadata": {},
   "outputs": [],
   "source": [
    "disease_projs = bilinear(embeddings(disease_node).unsqueeze(0).expand(mutual_interactors.shape[0], -1), embeddings(mutual_interactors))"
   ]
  },
  {
   "cell_type": "code",
   "execution_count": 35,
   "metadata": {},
   "outputs": [],
   "source": [
    "query_projs = bilinear(embeddings(disease_node).unsqueeze(0).expand(mutual_interactors.shape[0], -1), embeddings(mutual_interactors))"
   ]
  },
  {
   "cell_type": "code",
   "execution_count": 39,
   "metadata": {},
   "outputs": [
    {
     "name": "stdout",
     "output_type": "stream",
     "text": [
      "torch.Size([3, 8])\n",
      "torch.Size([3, 8])\n"
     ]
    }
   ],
   "source": [
    "print(query_projs.shape)\n",
    "print(disease_projs.shape)"
   ]
  },
  {
   "cell_type": "code",
   "execution_count": 44,
   "metadata": {},
   "outputs": [
    {
     "data": {
      "text/plain": [
       "tensor([5.5901, 2.4591, 3.0949], grad_fn=<SqueezeBackward0>)"
      ]
     },
     "execution_count": 44,
     "metadata": {},
     "output_type": "execute_result"
    }
   ],
   "source": [
    "torch.bmm(disease_projs.unsqueeze(1), query_projs.unsqueeze(2)).squeeze()"
   ]
  },
  {
   "cell_type": "code",
   "execution_count": 57,
   "metadata": {},
   "outputs": [
    {
     "data": {
      "text/plain": [
       "0.2480499777325702"
      ]
     },
     "execution_count": 57,
     "metadata": {},
     "output_type": "execute_result"
    }
   ],
   "source": [
    "np.random.rand()"
   ]
  },
  {
   "cell_type": "code",
   "execution_count": null,
   "metadata": {},
   "outputs": [],
   "source": []
  }
 ],
 "metadata": {
  "kernelspec": {
   "display_name": "disease-protein-prediction",
   "language": "python",
   "name": "disease-protein-prediction"
  },
  "language_info": {
   "codemirror_mode": {
    "name": "ipython",
    "version": 3
   },
   "file_extension": ".py",
   "mimetype": "text/x-python",
   "name": "python",
   "nbconvert_exporter": "python",
   "pygments_lexer": "ipython3",
   "version": "3.7.1"
  },
  "toc": {
   "base_numbering": 1,
   "nav_menu": {},
   "number_sections": true,
   "sideBar": true,
   "skip_h1_title": false,
   "title_cell": "Table of Contents",
   "title_sidebar": "Contents",
   "toc_cell": false,
   "toc_position": {},
   "toc_section_display": true,
   "toc_window_display": false
  }
 },
 "nbformat": 4,
 "nbformat_minor": 2
}
