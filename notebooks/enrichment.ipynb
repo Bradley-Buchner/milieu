{
 "cells": [
  {
   "cell_type": "markdown",
   "metadata": {},
   "source": [
    "# Enrichment Analysis on LCI Predictions\n",
    "\n",
    "Analyzes the enrichment of proteins predicted by LCI"
   ]
  },
  {
   "cell_type": "code",
   "execution_count": 47,
   "metadata": {},
   "outputs": [
    {
     "name": "stdout",
     "output_type": "stream",
     "text": [
      "The autoreload extension is already loaded. To reload it, use:\n",
      "  %reload_ext autoreload\n"
     ]
    }
   ],
   "source": [
    "%load_ext autoreload\n",
    "%autoreload 2\n",
    "\n",
    "import sys, os\n",
    "sys.path.append(os.path.abspath(os.path.join('..')))\n",
    "\n",
    "import numpy as np\n",
    "import matplotlib.pyplot as plt \n",
    "import torch\n",
    "import numpy as np\n",
    "import pandas as pd\n",
    "import networkx as nx\n",
    "from tqdm import tqdm_notebook as tqdm\n",
    "import goatools\n",
    "from goatools.base import download_go_basic_obo, download_ncbi_associations\n",
    "from goatools.obo_parser import GODag\n",
    "from goatools.associations import read_ncbi_gene2go\n",
    "from goatools.go_enrichment import GOEnrichmentStudy\n",
    "\n",
    "\n",
    "from dpp.methods.lci.lci_method import LCIModule\n",
    "from dpp.data.network import PPINetwork\n",
    "from dpp.util import Params\n",
    "from dpp.data.associations import load_diseases"
   ]
  },
  {
   "cell_type": "markdown",
   "metadata": {},
   "source": [
    "## Loading Data\n",
    "Load disease associations and protein-protein interaction network."
   ]
  },
  {
   "cell_type": "code",
   "execution_count": 2,
   "metadata": {},
   "outputs": [],
   "source": [
    "# load diseases\n",
    "diseases_dict = load_diseases(\"../data/associations/disgenet-associations.csv\", exclude_splits=['none'])"
   ]
  },
  {
   "cell_type": "code",
   "execution_count": 4,
   "metadata": {},
   "outputs": [],
   "source": [
    "# load network\n",
    "network = PPINetwork(\"../data/networks/bio-pathways-network.txt\")\n",
    "n = len(network)"
   ]
  },
  {
   "cell_type": "markdown",
   "metadata": {},
   "source": [
    "## Load Predictions\n",
    "Load predictions from a disease protein prediction method."
   ]
  },
  {
   "cell_type": "code",
   "execution_count": 13,
   "metadata": {},
   "outputs": [],
   "source": [
    "predictions= pd.read_csv(\"../experiments/bio-pathways/dpp_predict/lci/predictions.csv\", index_col=0)"
   ]
  },
  {
   "cell_type": "code",
   "execution_count": null,
   "metadata": {},
   "outputs": [],
   "source": [
    "# The directory of the LCI experiment to use\n",
    "experiment_dir = \"../../experiments/disgenet/bio-pathways/dpp-10/learned_cn/cv/nodup7-cc7\""
   ]
  },
  {
   "cell_type": "code",
   "execution_count": null,
   "metadata": {},
   "outputs": [],
   "source": [
    "params = Params(os.path.join(experiment_dir, \"params.json\"))"
   ]
  },
  {
   "cell_type": "code",
   "execution_count": null,
   "metadata": {},
   "outputs": [],
   "source": [
    "model = LCIModule(params, ppi_network_adj)"
   ]
  },
  {
   "cell_type": "code",
   "execution_count": null,
   "metadata": {},
   "outputs": [],
   "source": [
    "# diseases used in enrichment analysis\n",
    "disease_ids = [\"C1862314\"] #\"C0006845\", \"C0086795\", \"C0028326\", \"C0855740\", \"C0008325\"]\n",
    "diseases = map(diseases_dict.get, disease_ids)"
   ]
  },
  {
   "cell_type": "code",
   "execution_count": null,
   "metadata": {},
   "outputs": [],
   "source": [
    "# GPU settings\n",
    "cuda = True"
   ]
  },
  {
   "cell_type": "code",
   "execution_count": null,
   "metadata": {},
   "outputs": [],
   "source": [
    "# apply \n",
    "disease_to_ranks = {}\n",
    "for disease in tqdm(diseases):\n",
    "    # load correct model from cross validation\n",
    "    weights_path = os.path.join(experiment_dir, \"models\", \"model_{}.tar\".format(disease.split))\n",
    "    model.load_state_dict(torch.load(weights_path))\n",
    "    model.eval()\n",
    "    if cuda:\n",
    "        model.cuda()\n",
    "    \n",
    "    disease_nodes = disease.to_node_array(protein_to_node)\n",
    "    \n",
    "    # prepare input matrix\n",
    "    N, _ = ppi_network_adj.shape\n",
    "    X = torch.zeros(1, N)\n",
    "    X[0, disease_nodes] = 1\n",
    "    if cuda:\n",
    "        X = X.cuda()\n",
    "    \n",
    "    Y = model(X)\n",
    "    scores = Y.cpu().detach().numpy().squeeze()\n",
    "    scores[disease_nodes] = 0\n",
    "    ranked_nodes = np.argsort(scores)\n",
    "    disease_to_ranks[disease.id] = ranked_nodes\n",
    "    "
   ]
  },
  {
   "cell_type": "markdown",
   "metadata": {},
   "source": [
    "## Load Enrichment Analysis\n",
    "Prepare an enrichment study"
   ]
  },
  {
   "cell_type": "code",
   "execution_count": 14,
   "metadata": {},
   "outputs": [
    {
     "name": "stderr",
     "output_type": "stream",
     "text": [
      "  wget.download(http://purl.obolibrary.org/obo/go/go-basic.obo out=go-basic.obo)\n"
     ]
    }
   ],
   "source": [
    "# download GOA obo file\n",
    "obo_fname = download_go_basic_obo();"
   ]
  },
  {
   "cell_type": "code",
   "execution_count": 16,
   "metadata": {},
   "outputs": [
    {
     "name": "stdout",
     "output_type": "stream",
     "text": [
      "../data/go/go-basic.obo: fmt(1.2) rel(2019-01-19) 47,379 GO Terms\n"
     ]
    }
   ],
   "source": [
    "# load gene ontology\n",
    "obodag = GODag(\"../data/go/go-basic.obo\")"
   ]
  },
  {
   "cell_type": "code",
   "execution_count": 17,
   "metadata": {},
   "outputs": [
    {
     "name": "stdout",
     "output_type": "stream",
     "text": [
      "  20,385 items READ: ../data/go/gene2go.txt\n"
     ]
    }
   ],
   "source": [
    "geneid2go = read_ncbi_gene2go(\"../data/go/gene2go.txt\", taxids=[9606])"
   ]
  },
  {
   "cell_type": "code",
   "execution_count": 23,
   "metadata": {},
   "outputs": [
    {
     "name": "stdout",
     "output_type": "stream",
     "text": [
      "fisher module not installed.  Falling back on scipy.stats.fisher_exact\n"
     ]
    },
    {
     "name": "stderr",
     "output_type": "stream",
     "text": [
      "Propagating term counts to parents ..\n"
     ]
    },
    {
     "name": "stdout",
     "output_type": "stream",
     "text": [
      " 76% 16,420 of 21,557 population items found in association\n"
     ]
    }
   ],
   "source": [
    "goeaobj = GOEnrichmentStudy(network.get_proteins(), # List of mouse protein-coding genes\n",
    "                            geneid2go, # geneid/GO associations\n",
    "                            obodag, # Ontologies\n",
    "                            propagate_counts = True,\n",
    "                            alpha = 0.05, # default significance cut-off\n",
    "                            methods = ['fdr_bh']) # defult multipletest correction method"
   ]
  },
  {
   "cell_type": "markdown",
   "metadata": {},
   "source": [
    "## Perform Enrichment Analysis\n",
    "Perform an enrichment analysis on one disease. "
   ]
  },
  {
   "cell_type": "code",
   "execution_count": 69,
   "metadata": {},
   "outputs": [
    {
     "data": {
      "text/plain": [
       "Index(['26532', '91703', '10121', '80228', '5967', '389203', '55709', '832564',\n",
       "       '60684', '134391',\n",
       "       ...\n",
       "       '84450', '126075', '389799', '27111', '220042', '84236', '10998',\n",
       "       '83475', '8435', '84293'],\n",
       "      dtype='object', length=21557)"
      ]
     },
     "execution_count": 69,
     "metadata": {},
     "output_type": "execute_result"
    }
   ],
   "source": [
    "predictions.loc[disease_id].sort_values(ascending=False).index"
   ]
  },
  {
   "cell_type": "code",
   "execution_count": 65,
   "metadata": {},
   "outputs": [
    {
     "data": {
      "text/plain": [
       "{1643,\n",
       " 2068,\n",
       " 2071,\n",
       " 2072,\n",
       " 2073,\n",
       " 2956,\n",
       " 3265,\n",
       " 3845,\n",
       " 4000,\n",
       " 4292,\n",
       " 4436,\n",
       " 4893,\n",
       " 5395,\n",
       " 5429,\n",
       " 5727,\n",
       " 5921,\n",
       " 6608,\n",
       " 7508,\n",
       " 8643,\n",
       " 9401,\n",
       " 11322,\n",
       " 23405,\n",
       " 51684}"
      ]
     },
     "execution_count": 65,
     "metadata": {},
     "output_type": "execute_result"
    }
   ],
   "source": [
    "disease_id = \"C1862314\"\n",
    "disease_proteins = diseases_dict[disease_id].proteins\n",
    "disease_proteins"
   ]
  },
  {
   "cell_type": "code",
   "execution_count": 66,
   "metadata": {},
   "outputs": [
    {
     "name": "stdout",
     "output_type": "stream",
     "text": [
      "100%     23 of     23 study items found in association\n",
      "100%     23 of     23 study items found in population(21557)\n",
      "Calculating 21,968 uncorrected p-values using fisher_scipy_stats\n",
      "  21,968 GO terms are associated with 16,420 of 21,557 population items\n",
      "   1,564 GO terms are associated with     23 of     23 study items\n",
      "     334 GO terms found significant (< 0.05=alpha) after multitest correction: statsmodels fdr_bh\n",
      " 78%     18 of     23 study items found in association\n",
      "100%     23 of     23 study items found in population(21557)\n",
      "Calculating 21,968 uncorrected p-values using fisher_scipy_stats\n",
      "  21,968 GO terms are associated with 16,420 of 21,557 population items\n",
      "   1,067 GO terms are associated with     18 of     23 study items\n",
      "       0 GO terms found significant (< 0.05=alpha) after multitest correction: statsmodels fdr_bh\n"
     ]
    }
   ],
   "source": [
    "disease_id = \"C1862314\"\n",
    "disease_proteins = diseases_dict[disease_id].proteins\n",
    "pred_proteins = set(map(int, predictions.loc[disease_id].sort_values(ascending=False).index[:len(disease_proteins)]))\n",
    "disease_results = goeaobj.run_study(disease_proteins)\n",
    "\n",
    "pred_results = goeaobj.run_study(pred_proteins)"
   ]
  },
  {
   "cell_type": "code",
   "execution_count": 85,
   "metadata": {},
   "outputs": [],
   "source": [
    "k = 10\n",
    "disease_top_k = sorted(disease_results, key=lambda x: x.p_fdr_bh)[:k]\n",
    "disease_significant = [r for r in disease_results if r.p_fdr_bh < 0.02]\n",
    "\n",
    "pred_top_k = sorted(pred_results, key=lambda x: x.p_fdr_bh)[:k]\n",
    "pred_significant = [r for r in pred_results if r.p_fdr_bh < 0.02]"
   ]
  },
  {
   "cell_type": "code",
   "execution_count": 86,
   "metadata": {},
   "outputs": [
    {
     "name": "stdout",
     "output_type": "stream",
     "text": [
      "Jaccard Similarity: 0.25\n",
      "set(['cellular response to DNA damage stimulus', 'DNA repair', 'damaged DNA binding', 'DNA metabolic process'])\n"
     ]
    }
   ],
   "source": [
    "intersection = set([result.goterm.name for result in disease_top_k]) & set([result.goterm.name for result in pred_top_k])\n",
    "union = set([result.goterm.name for result in disease_top_k]) | set([result.goterm.name for result in pred_top_k])\n",
    "\n",
    "print(\"Jaccard Similarity: {}\".format(1.0*len(intersection)/len(union)))\n",
    "print(intersection)"
   ]
  },
  {
   "cell_type": "code",
   "execution_count": 87,
   "metadata": {},
   "outputs": [
    {
     "name": "stdout",
     "output_type": "stream",
     "text": [
      "Jaccard Similarity: 0.290243902439\n",
      "set(['cell cycle process', 'oxidized DNA binding', 'negative regulation of DNA metabolic process', 'protein-DNA complex subunit organization', 'organic substance metabolic process', 'mitotic cell cycle checkpoint', 'regulation of DNA replication', 'nucleobase-containing compound metabolic process', 'regulation of nucleobase-containing compound metabolic process', 'intracellular organelle part', 'DNA repair complex', 'regulation of smoothened signaling pathway', 'UV protection', 'cellular response to abiotic stimulus', 'DNA repair', 'intrinsic apoptotic signaling pathway in response to DNA damage', 'regulation of helicase activity', 'nucleoside-triphosphatase activity', 'cellular aromatic compound metabolic process', 'organic cyclic compound metabolic process', 'nucleic acid metabolic process', 'pyrophosphatase activity', 'apoptotic signaling pathway', 'ATPase activity, coupled', 'mismatch repair', 'organic cyclic compound binding', 'hydrolase activity, acting on acid anhydrides', 'meiosis I cell cycle process', 'DNA damage checkpoint', 'cellular component organization', 'nucleoplasm', 'primary metabolic process', 'response to stress', 'negative regulation of mitotic cell cycle', 'response to UV', 'single-stranded DNA binding', 'cellular response to DNA damage stimulus', 'regulation of biological process', 'chromosomal part', 'oxidized purine DNA binding', 'cellular response to stress', 'cellular response to environmental stimulus', 'DNA duplex unwinding', 'ATPase activity', 'nuclear part', 'regulation of DNA metabolic process', 'cellular nitrogen compound metabolic process', 'DNA-dependent ATPase activity', 'positive regulation of cellular component biogenesis', 'response to abiotic stimulus', 'regulation of nitrogen compound metabolic process', 'regulation of macromolecule metabolic process', 'cellular metabolic process', 'cellular response to radiation', 'hydrolase activity, acting on acid anhydrides, in phosphorus-containing anhydrides', 'chromosome organization', 'cellular process', 'nitrogen compound metabolic process', 'damaged DNA binding', 'regulation of cellular process', 'cell cycle checkpoint', 'macromolecule metabolic process', 'regulation of primary metabolic process', 'positive regulation of cellular component organization', 'DNA binding', 'cellular response to light stimulus', 'regulation of response to stimulus', 'heterocycle metabolic process', 'UV-damage excision repair', 'regulation of protein complex assembly', 'regulation of metabolic process', 'global genome nucleotide-excision repair', 'nucleic acid phosphodiester bond hydrolysis', 'regulation of cellular component biogenesis', 'positive regulation of protein complex assembly', 'DNA metabolic process', 'response to light stimulus', 'nucleotide-excision repair, DNA incision', 'protein N-terminus binding', 'nucleotide-excision repair, preincision complex assembly', 'DNA recombination', 'nuclear chromosome part', 'hydrolase activity', \"nucleotide-excision repair, DNA incision, 5'-to lesion\", 'metabolic process', 'positive regulation of DNA metabolic process', 'RNA polymerase II CTD heptapeptide repeat kinase activity', 'nucleotide-excision repair, preincision complex stabilization', 'cellular response to stimulus', 'organelle organization', 'transcription factor TFIIH core complex', 'cellular macromolecule metabolic process', 'transcription factor TFIIH holo complex', 'regulation of cell cycle', 'organelle part', 'protein-DNA complex assembly', 'positive regulation of helicase activity', 'DNA integrity checkpoint', 'regulation of cellular metabolic process', 'nucleotide-excision repair', 'negative regulation of nucleobase-containing compound metabolic process', 'double-strand break repair', 'carboxy-terminal domain protein kinase complex', 'response to radiation', 'nucleus', 'cellular component organization or biogenesis', 'intrinsic apoptotic signaling pathway', 'transcription factor TFIID complex', 'cellular response to UV', 'heterocyclic compound binding', 'response to stimulus', 'nucleic acid binding', 'DNA geometric change', 'catalytic activity', 'nucleotide-excision repair complex', 'pyrimidine dimer repair', 'cellular protein-containing complex assembly', 'protein binding', 'transcription-coupled nucleotide-excision repair'])\n"
     ]
    }
   ],
   "source": [
    "intersection = set([result.goterm.name for result in pred_significant]) & set([result.goterm.name for result in disease_significant])\n",
    "union = set([result.goterm.name for result in pred_significant]) | set([result.goterm.name for result in disease_significant])\n",
    "\n",
    "print(\"Jaccard Similarity: {}\".format(1.0*len(intersection)/len(union)))\n",
    "print(intersection)"
   ]
  },
  {
   "cell_type": "code",
   "execution_count": null,
   "metadata": {},
   "outputs": [],
   "source": [
    "# compute jaccard similarity for all diseases\n",
    "# find ten diseases "
   ]
  }
 ],
 "metadata": {
  "kernelspec": {
   "display_name": "disease-protein-prediction",
   "language": "python",
   "name": "disease-protein-prediction"
  },
  "language_info": {
   "codemirror_mode": {
    "name": "ipython",
    "version": 3
   },
   "file_extension": ".py",
   "mimetype": "text/x-python",
   "name": "python",
   "nbconvert_exporter": "python",
   "pygments_lexer": "ipython3",
   "version": "3.7.1"
  }
 },
 "nbformat": 4,
 "nbformat_minor": 2
}
