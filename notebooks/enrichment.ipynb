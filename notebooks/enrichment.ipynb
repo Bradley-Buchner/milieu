{
 "cells": [
  {
   "cell_type": "markdown",
   "metadata": {},
   "source": [
    "# Enrichment Analysis on LCI Predictions\n",
    "\n",
    "Analyzes the enrichment of proteins predicted by LCI"
   ]
  },
  {
   "cell_type": "code",
   "execution_count": 6,
   "metadata": {},
   "outputs": [
    {
     "name": "stdout",
     "output_type": "stream",
     "text": [
      "The autoreload extension is already loaded. To reload it, use:\n",
      "  %reload_ext autoreload\n"
     ]
    },
    {
     "ename": "ModuleNotFoundError",
     "evalue": "No module named 'parse'",
     "output_type": "error",
     "traceback": [
      "\u001b[0;31m---------------------------------------------------------------------------\u001b[0m",
      "\u001b[0;31mModuleNotFoundError\u001b[0m                       Traceback (most recent call last)",
      "\u001b[0;32m<ipython-input-6-4dc0588703e1>\u001b[0m in \u001b[0;36m<module>\u001b[0;34m\u001b[0m\n\u001b[1;32m     18\u001b[0m \u001b[0;34m\u001b[0m\u001b[0m\n\u001b[1;32m     19\u001b[0m \u001b[0;34m\u001b[0m\u001b[0m\n\u001b[0;32m---> 20\u001b[0;31m \u001b[0;32mfrom\u001b[0m \u001b[0mdpp\u001b[0m\u001b[0;34m.\u001b[0m\u001b[0mmethods\u001b[0m\u001b[0;34m.\u001b[0m\u001b[0mlci\u001b[0m\u001b[0;34m.\u001b[0m\u001b[0mlci_method\u001b[0m \u001b[0;32mimport\u001b[0m \u001b[0mLCIModule\u001b[0m\u001b[0;34m\u001b[0m\u001b[0;34m\u001b[0m\u001b[0m\n\u001b[0m\u001b[1;32m     21\u001b[0m \u001b[0;32mfrom\u001b[0m \u001b[0mdpp\u001b[0m\u001b[0;34m.\u001b[0m\u001b[0mdata\u001b[0m\u001b[0;34m.\u001b[0m\u001b[0mnetwork\u001b[0m \u001b[0;32mimport\u001b[0m \u001b[0mPPINetwork\u001b[0m\u001b[0;34m\u001b[0m\u001b[0;34m\u001b[0m\u001b[0m\n\u001b[1;32m     22\u001b[0m \u001b[0;32mfrom\u001b[0m \u001b[0mdpp\u001b[0m\u001b[0;34m.\u001b[0m\u001b[0mutil\u001b[0m \u001b[0;32mimport\u001b[0m \u001b[0mParams\u001b[0m\u001b[0;34m\u001b[0m\u001b[0;34m\u001b[0m\u001b[0m\n",
      "\u001b[0;32m~/Documents/School/SNAP/projects/disease-protein-prediction/dpp/methods/lci/lci_method.py\u001b[0m in \u001b[0;36m<module>\u001b[0;34m\u001b[0m\n\u001b[1;32m     17\u001b[0m \u001b[0;32mfrom\u001b[0m \u001b[0mtqdm\u001b[0m \u001b[0;32mimport\u001b[0m \u001b[0mtqdm\u001b[0m\u001b[0;34m\u001b[0m\u001b[0;34m\u001b[0m\u001b[0m\n\u001b[1;32m     18\u001b[0m \u001b[0;32mfrom\u001b[0m \u001b[0mscipy\u001b[0m\u001b[0;34m.\u001b[0m\u001b[0msparse\u001b[0m \u001b[0;32mimport\u001b[0m \u001b[0mcoo_matrix\u001b[0m\u001b[0;34m,\u001b[0m \u001b[0mcsr_matrix\u001b[0m\u001b[0;34m\u001b[0m\u001b[0;34m\u001b[0m\u001b[0m\n\u001b[0;32m---> 19\u001b[0;31m \u001b[0;32mimport\u001b[0m \u001b[0mparse\u001b[0m\u001b[0;34m\u001b[0m\u001b[0;34m\u001b[0m\u001b[0m\n\u001b[0m\u001b[1;32m     20\u001b[0m \u001b[0;34m\u001b[0m\u001b[0m\n\u001b[1;32m     21\u001b[0m \u001b[0;32mfrom\u001b[0m \u001b[0mdpp\u001b[0m\u001b[0;34m.\u001b[0m\u001b[0mmethods\u001b[0m\u001b[0;34m.\u001b[0m\u001b[0mmethod\u001b[0m \u001b[0;32mimport\u001b[0m \u001b[0mDPPMethod\u001b[0m\u001b[0;34m\u001b[0m\u001b[0;34m\u001b[0m\u001b[0m\n",
      "\u001b[0;31mModuleNotFoundError\u001b[0m: No module named 'parse'"
     ]
    }
   ],
   "source": [
    "%load_ext autoreload\n",
    "%autoreload 2\n",
    "\n",
    "import sys, os\n",
    "sys.path.append(os.path.abspath(os.path.join('..')))\n",
    "\n",
    "import numpy as np\n",
    "import matplotlib.pyplot as plt \n",
    "import torch\n",
    "import numpy as np\n",
    "import networkx as nx\n",
    "from tqdm import tqdm_notebook as tqdm\n",
    "import goatools\n",
    "from goatools.base import download_go_basic_obo, download_ncbi_associations\n",
    "from goatools.obo_parser import GODag\n",
    "from goatools.associations import read_ncbi_gene2go\n",
    "from goatools.go_enrichment import GOEnrichmentStudy\n",
    "\n",
    "\n",
    "from dpp.methods.lci.lci_method import LCIModule\n",
    "from dpp.data.network import PPINetwork\n",
    "from dpp.util import Params\n",
    "from dpp.data.associations import load_diseases"
   ]
  },
  {
   "cell_type": "markdown",
   "metadata": {},
   "source": [
    "## Loading Data\n",
    "Load disease associations and protein-protein interaction network."
   ]
  },
  {
   "cell_type": "code",
   "execution_count": 2,
   "metadata": {},
   "outputs": [],
   "source": [
    "# load diseases\n",
    "diseases_dict = load_diseases(\"../../data/associations/disgenet-associations-nodup7-cv-cc7.csv\", exclude_splits=['none'])"
   ]
  },
  {
   "cell_type": "code",
   "execution_count": 3,
   "metadata": {},
   "outputs": [],
   "source": [
    "# load network\n",
    "ppi_networkx, ppi_network_adj, protein_to_node = load_network(\"../../data/networks/bio-pathways-network.txt\")\n",
    "n = ppi_network_adj.shape[0]\n",
    "node_to_protein = {node: protein for protein, node in protein_to_node.items()}"
   ]
  },
  {
   "cell_type": "markdown",
   "metadata": {},
   "source": [
    "## Load Model\n",
    "Load a pre-trained LCI Model"
   ]
  },
  {
   "cell_type": "code",
   "execution_count": 4,
   "metadata": {},
   "outputs": [],
   "source": [
    "# The directory of the LCI experiment to use\n",
    "experiment_dir = \"../../experiments/disgenet/bio-pathways/dpp-10/learned_cn/cv/nodup7-cc7\""
   ]
  },
  {
   "cell_type": "code",
   "execution_count": 5,
   "metadata": {},
   "outputs": [],
   "source": [
    "params = Params(os.path.join(experiment_dir, \"params.json\"))"
   ]
  },
  {
   "cell_type": "code",
   "execution_count": 6,
   "metadata": {},
   "outputs": [],
   "source": [
    "model = LCIModule(params, ppi_network_adj)"
   ]
  },
  {
   "cell_type": "markdown",
   "metadata": {},
   "source": [
    "## Compute Rankings\n",
    "For each disease compute rankings over all other nodes"
   ]
  },
  {
   "cell_type": "code",
   "execution_count": 7,
   "metadata": {},
   "outputs": [],
   "source": [
    "# diseases used in enrichment analysis\n",
    "disease_ids = [\"C1862314\"] #\"C0006845\", \"C0086795\", \"C0028326\", \"C0855740\", \"C0008325\"]\n",
    "diseases = map(diseases_dict.get, disease_ids)"
   ]
  },
  {
   "cell_type": "code",
   "execution_count": 8,
   "metadata": {},
   "outputs": [],
   "source": [
    "# GPU settings\n",
    "cuda = True"
   ]
  },
  {
   "cell_type": "code",
   "execution_count": 93,
   "metadata": {},
   "outputs": [
    {
     "data": {
      "application/vnd.jupyter.widget-view+json": {
       "model_id": "ffd8f4ee465742409803792e76ba320e",
       "version_major": 2,
       "version_minor": 0
      },
      "text/plain": [
       "HBox(children=(IntProgress(value=0, max=1), HTML(value=u'')))"
      ]
     },
     "metadata": {},
     "output_type": "display_data"
    },
    {
     "name": "stdout",
     "output_type": "stream",
     "text": [
      "\n"
     ]
    }
   ],
   "source": [
    "# apply \n",
    "disease_to_ranks = {}\n",
    "for disease in tqdm(diseases):\n",
    "    # load correct model from cross validation\n",
    "    weights_path = os.path.join(experiment_dir, \"models\", \"model_{}.tar\".format(disease.split))\n",
    "    model.load_state_dict(torch.load(weights_path))\n",
    "    model.eval()\n",
    "    if cuda:\n",
    "        model.cuda()\n",
    "    \n",
    "    disease_nodes = disease.to_node_array(protein_to_node)\n",
    "    \n",
    "    # prepare input matrix\n",
    "    N, _ = ppi_network_adj.shape\n",
    "    X = torch.zeros(1, N)\n",
    "    X[0, disease_nodes] = 1\n",
    "    if cuda:\n",
    "        X = X.cuda()\n",
    "    \n",
    "    Y = model(X)\n",
    "    scores = Y.cpu().detach().numpy().squeeze()\n",
    "    scores[disease_nodes] = 0\n",
    "    ranked_nodes = np.argsort(scores)\n",
    "    disease_to_ranks[disease.id] = ranked_nodes\n",
    "    "
   ]
  },
  {
   "cell_type": "markdown",
   "metadata": {},
   "source": [
    "## Load Enrichment Analysis\n",
    "Load gene ontology and prepare enrichment analysis"
   ]
  },
  {
   "cell_type": "code",
   "execution_count": 21,
   "metadata": {},
   "outputs": [
    {
     "name": "stdout",
     "output_type": "stream",
     "text": [
      "  EXISTS: go-basic.obo\n"
     ]
    }
   ],
   "source": [
    "# download GOA obo file\n",
    "obo_fname = download_go_basic_obo();"
   ]
  },
  {
   "cell_type": "code",
   "execution_count": 22,
   "metadata": {},
   "outputs": [
    {
     "name": "stdout",
     "output_type": "stream",
     "text": [
      "go-basic.obo: fmt(1.2) rel(2019-01-16) 47,377 GO Terms\n"
     ]
    }
   ],
   "source": [
    "# load gene ontology\n",
    "obodag = GODag(\"go-basic.obo\");"
   ]
  },
  {
   "cell_type": "code",
   "execution_count": 12,
   "metadata": {},
   "outputs": [
    {
     "name": "stdout",
     "output_type": "stream",
     "text": [
      "  20,385 items READ: gene2go\n"
     ]
    }
   ],
   "source": [
    "geneid2go = read_ncbi_gene2go(\"gene2go\", taxids=[9606])"
   ]
  },
  {
   "cell_type": "code",
   "execution_count": 23,
   "metadata": {},
   "outputs": [
    {
     "name": "stdout",
     "output_type": "stream",
     "text": [
      "fisher module not installed.  Falling back on scipy.stats.fisher_exact\n"
     ]
    },
    {
     "name": "stderr",
     "output_type": "stream",
     "text": [
      "Propagating term counts to parents ..\n"
     ]
    },
    {
     "name": "stdout",
     "output_type": "stream",
     "text": [
      " 76% 16,420 of 21,557 population items found in association\n"
     ]
    }
   ],
   "source": [
    "goeaobj = GOEnrichmentStudy(protein_to_node.keys(), # List of mouse protein-coding genes\n",
    "                            geneid2go, # geneid/GO associations\n",
    "                            obodag, # Ontologies\n",
    "                            propagate_counts = True,\n",
    "                            alpha = 0.05, # default significance cut-off\n",
    "                            methods = ['fdr_bh']) # defult multipletest correction method"
   ]
  },
  {
   "cell_type": "markdown",
   "metadata": {},
   "source": [
    "## Perform Enrichment Analysis\n",
    "Perform an enrichment analysis on one disease. "
   ]
  },
  {
   "cell_type": "code",
   "execution_count": 94,
   "metadata": {},
   "outputs": [
    {
     "name": "stdout",
     "output_type": "stream",
     "text": [
      "100%     23 of     23 study items found in association\n",
      "100%     23 of     23 study items found in population(21557)\n",
      "Calculating 21,968 uncorrected p-values using fisher_scipy_stats\n",
      "  21,968 GO terms are associated with 16,420 of 21,557 population items\n",
      "   1,564 GO terms are associated with     23 of     23 study items\n",
      "     334 GO terms found significant (< 0.05=alpha) after multitest correction: statsmodels fdr_bh\n",
      " 70%     16 of     23 study items found in association\n",
      "100%     23 of     23 study items found in population(21557)\n",
      "Calculating 21,968 uncorrected p-values using fisher_scipy_stats\n",
      "  21,968 GO terms are associated with 16,420 of 21,557 population items\n",
      "     521 GO terms are associated with     16 of     23 study items\n",
      "      14 GO terms found significant (< 0.05=alpha) after multitest correction: statsmodels fdr_bh\n"
     ]
    }
   ],
   "source": [
    "disease_id = \"C1862314\"\n",
    "disease_proteins = diseases_dict[disease_id].proteins\n",
    "ranked_nodes = disease_to_ranks[disease_id]\n",
    "pred_proteins = map(node_to_protein.get, ranked_nodes[-len(disease_proteins):])\n",
    "\n",
    "disease_results = goeaobj.run_study(disease_proteins)\n",
    "\n",
    "pred_results = goeaobj.run_study(pred_proteins)"
   ]
  },
  {
   "cell_type": "code",
   "execution_count": 85,
   "metadata": {},
   "outputs": [],
   "source": [
    "k = 10\n",
    "disease_top_k = sorted(disease_results, key=lambda x: x.p_fdr_bh)[:k]\n",
    "disease_significant = [r for r in disease_results if r.p_fdr_bh < 0.02]\n",
    "\n",
    "pred_top_k = sorted(pred_results, key=lambda x: x.p_fdr_bh)[:k]\n",
    "pred_significant = [r for r in pred_results if r.p_fdr_bh < 0.02]"
   ]
  },
  {
   "cell_type": "code",
   "execution_count": 86,
   "metadata": {},
   "outputs": [
    {
     "name": "stdout",
     "output_type": "stream",
     "text": [
      "Jaccard Similarity: 0.25\n",
      "set(['cellular response to DNA damage stimulus', 'DNA repair', 'damaged DNA binding', 'DNA metabolic process'])\n"
     ]
    }
   ],
   "source": [
    "intersection = set([result.goterm.name for result in disease_top_k]) & set([result.goterm.name for result in pred_top_k])\n",
    "union = set([result.goterm.name for result in disease_top_k]) | set([result.goterm.name for result in pred_top_k])\n",
    "\n",
    "print(\"Jaccard Similarity: {}\".format(1.0*len(intersection)/len(union)))\n",
    "print(intersection)"
   ]
  },
  {
   "cell_type": "code",
   "execution_count": 87,
   "metadata": {},
   "outputs": [
    {
     "name": "stdout",
     "output_type": "stream",
     "text": [
      "Jaccard Similarity: 0.290243902439\n",
      "set(['cell cycle process', 'oxidized DNA binding', 'negative regulation of DNA metabolic process', 'protein-DNA complex subunit organization', 'organic substance metabolic process', 'mitotic cell cycle checkpoint', 'regulation of DNA replication', 'nucleobase-containing compound metabolic process', 'regulation of nucleobase-containing compound metabolic process', 'intracellular organelle part', 'DNA repair complex', 'regulation of smoothened signaling pathway', 'UV protection', 'cellular response to abiotic stimulus', 'DNA repair', 'intrinsic apoptotic signaling pathway in response to DNA damage', 'regulation of helicase activity', 'nucleoside-triphosphatase activity', 'cellular aromatic compound metabolic process', 'organic cyclic compound metabolic process', 'nucleic acid metabolic process', 'pyrophosphatase activity', 'apoptotic signaling pathway', 'ATPase activity, coupled', 'mismatch repair', 'organic cyclic compound binding', 'hydrolase activity, acting on acid anhydrides', 'meiosis I cell cycle process', 'DNA damage checkpoint', 'cellular component organization', 'nucleoplasm', 'primary metabolic process', 'response to stress', 'negative regulation of mitotic cell cycle', 'response to UV', 'single-stranded DNA binding', 'cellular response to DNA damage stimulus', 'regulation of biological process', 'chromosomal part', 'oxidized purine DNA binding', 'cellular response to stress', 'cellular response to environmental stimulus', 'DNA duplex unwinding', 'ATPase activity', 'nuclear part', 'regulation of DNA metabolic process', 'cellular nitrogen compound metabolic process', 'DNA-dependent ATPase activity', 'positive regulation of cellular component biogenesis', 'response to abiotic stimulus', 'regulation of nitrogen compound metabolic process', 'regulation of macromolecule metabolic process', 'cellular metabolic process', 'cellular response to radiation', 'hydrolase activity, acting on acid anhydrides, in phosphorus-containing anhydrides', 'chromosome organization', 'cellular process', 'nitrogen compound metabolic process', 'damaged DNA binding', 'regulation of cellular process', 'cell cycle checkpoint', 'macromolecule metabolic process', 'regulation of primary metabolic process', 'positive regulation of cellular component organization', 'DNA binding', 'cellular response to light stimulus', 'regulation of response to stimulus', 'heterocycle metabolic process', 'UV-damage excision repair', 'regulation of protein complex assembly', 'regulation of metabolic process', 'global genome nucleotide-excision repair', 'nucleic acid phosphodiester bond hydrolysis', 'regulation of cellular component biogenesis', 'positive regulation of protein complex assembly', 'DNA metabolic process', 'response to light stimulus', 'nucleotide-excision repair, DNA incision', 'protein N-terminus binding', 'nucleotide-excision repair, preincision complex assembly', 'DNA recombination', 'nuclear chromosome part', 'hydrolase activity', \"nucleotide-excision repair, DNA incision, 5'-to lesion\", 'metabolic process', 'positive regulation of DNA metabolic process', 'RNA polymerase II CTD heptapeptide repeat kinase activity', 'nucleotide-excision repair, preincision complex stabilization', 'cellular response to stimulus', 'organelle organization', 'transcription factor TFIIH core complex', 'cellular macromolecule metabolic process', 'transcription factor TFIIH holo complex', 'regulation of cell cycle', 'organelle part', 'protein-DNA complex assembly', 'positive regulation of helicase activity', 'DNA integrity checkpoint', 'regulation of cellular metabolic process', 'nucleotide-excision repair', 'negative regulation of nucleobase-containing compound metabolic process', 'double-strand break repair', 'carboxy-terminal domain protein kinase complex', 'response to radiation', 'nucleus', 'cellular component organization or biogenesis', 'intrinsic apoptotic signaling pathway', 'transcription factor TFIID complex', 'cellular response to UV', 'heterocyclic compound binding', 'response to stimulus', 'nucleic acid binding', 'DNA geometric change', 'catalytic activity', 'nucleotide-excision repair complex', 'pyrimidine dimer repair', 'cellular protein-containing complex assembly', 'protein binding', 'transcription-coupled nucleotide-excision repair'])\n"
     ]
    }
   ],
   "source": [
    "intersection = set([result.goterm.name for result in pred_significant]) & set([result.goterm.name for result in disease_significant])\n",
    "union = set([result.goterm.name for result in pred_significant]) | set([result.goterm.name for result in disease_significant])\n",
    "\n",
    "print(\"Jaccard Similarity: {}\".format(1.0*len(intersection)/len(union)))\n",
    "print(intersection)"
   ]
  },
  {
   "cell_type": "code",
   "execution_count": null,
   "metadata": {},
   "outputs": [],
   "source": [
    "# compute jaccard similarity for all diseases\n",
    "# find ten diseases "
   ]
  }
 ],
 "metadata": {
  "kernelspec": {
   "display_name": "disease-protein-prediction",
   "language": "python",
   "name": "disease-protein-prediction"
  },
  "language_info": {
   "codemirror_mode": {
    "name": "ipython",
    "version": 3
   },
   "file_extension": ".py",
   "mimetype": "text/x-python",
   "name": "python",
   "nbconvert_exporter": "python",
   "pygments_lexer": "ipython3",
   "version": "3.7.1"
  }
 },
 "nbformat": 4,
 "nbformat_minor": 2
}
