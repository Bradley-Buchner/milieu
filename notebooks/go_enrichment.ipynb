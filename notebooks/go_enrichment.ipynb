{
 "cells": [
  {
   "cell_type": "markdown",
   "metadata": {},
   "source": [
    "# Enrichment Analysis on LCI Predictions\n",
    "\n",
    "Analyzes the enrichment of proteins predicted by LCI"
   ]
  },
  {
   "cell_type": "code",
   "execution_count": 59,
   "metadata": {},
   "outputs": [
    {
     "name": "stdout",
     "output_type": "stream",
     "text": [
      "The autoreload extension is already loaded. To reload it, use:\n",
      "  %reload_ext autoreload\n"
     ]
    }
   ],
   "source": [
    "%load_ext autoreload\n",
    "%autoreload 2\n",
    "\n",
    "import sys, os\n",
    "import json\n",
    "import pickle\n",
    "\n",
    "import numpy as np\n",
    "import matplotlib.pyplot as plt \n",
    "import torch\n",
    "import seaborn as sns\n",
    "import numpy as np\n",
    "from scipy.stats import pearsonr\n",
    "import pandas as pd\n",
    "import networkx as nx\n",
    "from tqdm import tqdm\n",
    "import goatools\n",
    "from goatools.base import download_go_basic_obo, download_ncbi_associations\n",
    "from goatools.obo_parser import GODag\n",
    "from goatools.associations import read_ncbi_gene2go\n",
    "from goatools.go_enrichment import GOEnrichmentStudy\n",
    "\n",
    "\n",
    "from dpp.methods.lci.lci_method import LCIModule\n",
    "from dpp.experiments.go_enrichment import GOEnrichment\n",
    "from dpp.data.network import PPINetwork\n",
    "from dpp.util import Params, prepare_sns, load_mapping\n",
    "from dpp.data.associations import load_diseases\n",
    "os.chdir(\"/Users/sabrieyuboglu/Documents/School/SNAP/projects/disease-protein-prediction\")\n",
    "prepare_sns(sns, {})"
   ]
  },
  {
   "cell_type": "markdown",
   "metadata": {},
   "source": [
    "## Loading Data\n",
    "Load disease associations and protein-protein interaction network."
   ]
  },
  {
   "cell_type": "code",
   "execution_count": 3,
   "metadata": {},
   "outputs": [],
   "source": [
    "# load diseases\n",
    "diseases_dict = load_diseases(\"data/associations/disgenet-associations.csv\", exclude_splits=['none'])"
   ]
  },
  {
   "cell_type": "code",
   "execution_count": 4,
   "metadata": {},
   "outputs": [],
   "source": [
    "# load network\n",
    "network = PPINetwork(\"data/networks/bio-pathways-network.txt\")\n",
    "n = len(network)"
   ]
  },
  {
   "cell_type": "code",
   "execution_count": 115,
   "metadata": {},
   "outputs": [
    {
     "data": {
      "text/plain": [
       "{1: 'A1BG',\n",
       " 503538: 'A1BG-AS1',\n",
       " 29974: 'A1CF',\n",
       " 2: 'A2M',\n",
       " 144571: 'A2M-AS1',\n",
       " 144568: 'A2ML1',\n",
       " 100874108: 'A2ML1-AS1',\n",
       " 106478979: 'A2ML1-AS2',\n",
       " 3: 'A2MP1',\n",
       " 127550: 'A3GALT2',\n",
       " 53947: 'A4GALT',\n",
       " 51146: 'A4GNT',\n",
       " 8086: 'AAAS',\n",
       " 65985: 'AACS',\n",
       " 729522: 'AACSP1',\n",
       " 13: 'AADAC',\n",
       " 344752: 'AADACL2',\n",
       " 101928142: 'AADACL2-AS1',\n",
       " 126767: 'AADACL3',\n",
       " 343066: 'AADACL4',\n",
       " 201651: 'AADACP1',\n",
       " 51166: 'AADAT',\n",
       " 195827: 'AAED1',\n",
       " 79719: 'AAGAB',\n",
       " 22848: 'AAK1',\n",
       " 28971: 'AAMDC',\n",
       " 14: 'AAMP',\n",
       " 15: 'AANAT',\n",
       " 25980: 'AAR2',\n",
       " 441376: 'AARD',\n",
       " 16: 'AARS',\n",
       " 57505: 'AARS2',\n",
       " 80755: 'AARSD1',\n",
       " 106480683: 'AARSP1',\n",
       " 132949: 'AASDH',\n",
       " 60496: 'AASDHPPT',\n",
       " 10157: 'AASS',\n",
       " 284837: 'AATBC',\n",
       " 26574: 'AATF',\n",
       " 9625: 'AATK',\n",
       " 17: 'AAVS1',\n",
       " 103021294: 'ABALON',\n",
       " 18: 'ABAT',\n",
       " 19: 'ABCA1',\n",
       " 20: 'ABCA2',\n",
       " 21: 'ABCA3',\n",
       " 24: 'ABCA4',\n",
       " 23461: 'ABCA5',\n",
       " 23460: 'ABCA6',\n",
       " 10347: 'ABCA7',\n",
       " 10351: 'ABCA8',\n",
       " 10350: 'ABCA9',\n",
       " 104355297: 'ABCA9-AS1',\n",
       " 10349: 'ABCA10',\n",
       " 79963: 'ABCA11P',\n",
       " 26154: 'ABCA12',\n",
       " 154664: 'ABCA13',\n",
       " 650655: 'ABCA17P',\n",
       " 5243: 'ABCB1',\n",
       " 5244: 'ABCB4',\n",
       " 340273: 'ABCB5',\n",
       " 10058: 'ABCB6',\n",
       " 22: 'ABCB7',\n",
       " 11194: 'ABCB8',\n",
       " 23457: 'ABCB9',\n",
       " 23456: 'ABCB10',\n",
       " 56476: 'ABCB10P1',\n",
       " 728248: 'ABCB10P3',\n",
       " 100132289: 'ABCB10P4',\n",
       " 8647: 'ABCB11',\n",
       " 4363: 'ABCC1',\n",
       " 1244: 'ABCC2',\n",
       " 8714: 'ABCC3',\n",
       " 10257: 'ABCC4',\n",
       " 10057: 'ABCC5',\n",
       " 100873982: 'ABCC5-AS1',\n",
       " 368: 'ABCC6',\n",
       " 653190: 'ABCC6P1',\n",
       " 730013: 'ABCC6P2',\n",
       " 6833: 'ABCC8',\n",
       " 10060: 'ABCC9',\n",
       " 89845: 'ABCC10',\n",
       " 85320: 'ABCC11',\n",
       " 94160: 'ABCC12',\n",
       " 150000: 'ABCC13',\n",
       " 215: 'ABCD1',\n",
       " 23785: 'ABCD1P1',\n",
       " 26983: 'ABCD1P2',\n",
       " 26982: 'ABCD1P3',\n",
       " 26957: 'ABCD1P4',\n",
       " 642762: 'ABCD1P5',\n",
       " 225: 'ABCD2',\n",
       " 5825: 'ABCD3',\n",
       " 5826: 'ABCD4',\n",
       " 6059: 'ABCE1',\n",
       " 23: 'ABCF1',\n",
       " 107986587: 'ABCF1-DT',\n",
       " 10061: 'ABCF2',\n",
       " 344653: 'ABCF2P1',\n",
       " 100422059: 'ABCF2P2',\n",
       " 55324: 'ABCF3',\n",
       " 9619: 'ABCG1',\n",
       " 9429: 'ABCG2',\n",
       " 64137: 'ABCG4',\n",
       " 64240: 'ABCG5',\n",
       " 64241: 'ABCG8',\n",
       " 84696: 'ABHD1',\n",
       " 11057: 'ABHD2',\n",
       " 171586: 'ABHD3',\n",
       " 63874: 'ABHD4',\n",
       " 51099: 'ABHD5',\n",
       " 57406: 'ABHD6',\n",
       " 79575: 'ABHD8',\n",
       " 55347: 'ABHD10',\n",
       " 83451: 'ABHD11',\n",
       " 171022: 'ABHD11-AS1',\n",
       " 26090: 'ABHD12',\n",
       " 145447: 'ABHD12B',\n",
       " 84945: 'ABHD13',\n",
       " 25864: 'ABHD14A',\n",
       " 100526760: 'ABHD14A-ACY1',\n",
       " 84836: 'ABHD14B',\n",
       " 116236: 'ABHD15',\n",
       " 104355133: 'ABHD15-AS1',\n",
       " 7920: 'ABHD16A',\n",
       " 140701: 'ABHD16B',\n",
       " 81926: 'ABHD17A',\n",
       " 728917: 'ABHD17AP1',\n",
       " 648359: 'ABHD17AP3',\n",
       " 729495: 'ABHD17AP4',\n",
       " 91219: 'ABHD17AP5',\n",
       " 644988: 'ABHD17AP6',\n",
       " 100133212: 'ABHD17AP7',\n",
       " 647144: 'ABHD17AP8',\n",
       " 100132251: 'ABHD17AP9',\n",
       " 51104: 'ABHD17B',\n",
       " 58489: 'ABHD17C',\n",
       " 80167: 'ABHD18',\n",
       " 10006: 'ABI1',\n",
       " 326268: 'ABI1P1',\n",
       " 10152: 'ABI2',\n",
       " 51225: 'ABI3',\n",
       " 25890: 'ABI3BP',\n",
       " 25: 'ABL1',\n",
       " 27: 'ABL2',\n",
       " 3983: 'ABLIM1',\n",
       " 84448: 'ABLIM2',\n",
       " 22885: 'ABLIM3',\n",
       " 28: 'ABO',\n",
       " 29: 'ABR',\n",
       " 137735: 'ABRA',\n",
       " 58527: 'ABRACL',\n",
       " 84142: 'ABRAXAS1',\n",
       " 23172: 'ABRAXAS2',\n",
       " 29777: 'ABT1',\n",
       " 100420695: 'ABT1P1',\n",
       " 80325: 'ABTB1',\n",
       " 25841: 'ABTB2',\n",
       " 30: 'ACAA1',\n",
       " 10449: 'ACAA2',\n",
       " 31: 'ACACA',\n",
       " 32: 'ACACB',\n",
       " 27034: 'ACAD8',\n",
       " 28976: 'ACAD9',\n",
       " 80724: 'ACAD10',\n",
       " 84129: 'ACAD11',\n",
       " 33: 'ACADL',\n",
       " 34: 'ACADM',\n",
       " 35: 'ACADS',\n",
       " 36: 'ACADSB',\n",
       " 37: 'ACADVL',\n",
       " 176: 'ACAN',\n",
       " 9744: 'ACAP1',\n",
       " 23527: 'ACAP2',\n",
       " 100874306: 'ACAP2-IT1',\n",
       " 116983: 'ACAP3',\n",
       " 38: 'ACAT1',\n",
       " 39: 'ACAT2',\n",
       " 64746: 'ACBD3',\n",
       " 107985353: 'ACBD3-AS1',\n",
       " 79777: 'ACBD4',\n",
       " 91452: 'ACBD5',\n",
       " 84320: 'ACBD6',\n",
       " 414149: 'ACBD7',\n",
       " 84680: 'ACCS',\n",
       " 390110: 'ACCSL',\n",
       " 65057: 'ACD',\n",
       " 1636: 'ACE',\n",
       " 59272: 'ACE2',\n",
       " 100129123: 'ACE3P',\n",
       " 125981: 'ACER1',\n",
       " 340485: 'ACER2',\n",
       " 55331: 'ACER3',\n",
       " 43: 'ACHE',\n",
       " 22985: 'ACIN1',\n",
       " 2532: 'ACKR1',\n",
       " 1238: 'ACKR2',\n",
       " 57007: 'ACKR3',\n",
       " 51554: 'ACKR4',\n",
       " 46: 'ACLS',\n",
       " 47: 'ACLY',\n",
       " 130013: 'ACMSD',\n",
       " 48: 'ACO1',\n",
       " 50: 'ACO2',\n",
       " 730249: 'ACOD1',\n",
       " 641371: 'ACOT1',\n",
       " 10965: 'ACOT2',\n",
       " 122970: 'ACOT4',\n",
       " 641372: 'ACOT6',\n",
       " 11332: 'ACOT7',\n",
       " 10005: 'ACOT8',\n",
       " 23597: 'ACOT9',\n",
       " 26027: 'ACOT11',\n",
       " 134526: 'ACOT12',\n",
       " 55856: 'ACOT13',\n",
       " 51: 'ACOX1',\n",
       " 8309: 'ACOX2',\n",
       " 8310: 'ACOX3',\n",
       " 55289: 'ACOXL',\n",
       " 400997: 'ACOXL-AS1',\n",
       " 52: 'ACP1',\n",
       " 53: 'ACP2',\n",
       " 93650: 'ACP4',\n",
       " 54: 'ACP5',\n",
       " 51205: 'ACP6',\n",
       " 390928: 'ACP7',\n",
       " 55: 'ACPP',\n",
       " 49: 'ACR',\n",
       " 84519: 'ACRBP',\n",
       " 56: 'ACRV1',\n",
       " 23205: 'ACSBG1',\n",
       " 81616: 'ACSBG2',\n",
       " 80221: 'ACSF2',\n",
       " 197322: 'ACSF3',\n",
       " 2180: 'ACSL1',\n",
       " 2181: 'ACSL3',\n",
       " 2182: 'ACSL4',\n",
       " 51703: 'ACSL5',\n",
       " 23305: 'ACSL6',\n",
       " 116285: 'ACSM1',\n",
       " 123876: 'ACSM2A',\n",
       " 348158: 'ACSM2B',\n",
       " 6296: 'ACSM3',\n",
       " 341392: 'ACSM4',\n",
       " 54988: 'ACSM5',\n",
       " 100421779: 'ACSM5P1',\n",
       " 142827: 'ACSM6',\n",
       " 84532: 'ACSS1',\n",
       " 55902: 'ACSS2',\n",
       " 79611: 'ACSS3',\n",
       " 58: 'ACTA1',\n",
       " 59: 'ACTA2',\n",
       " 100132116: 'ACTA2-AS1',\n",
       " 60: 'ACTB',\n",
       " 345651: 'ACTBL2',\n",
       " 643309: 'ACTBP1',\n",
       " 62: 'ACTBP2',\n",
       " 63: 'ACTBP3',\n",
       " 64: 'ACTBP4',\n",
       " 66: 'ACTBP6',\n",
       " 67: 'ACTBP7',\n",
       " 68: 'ACTBP8',\n",
       " 69: 'ACTBP9',\n",
       " 446207: 'ACTBP10',\n",
       " 644220: 'ACTBP11',\n",
       " 100462767: 'ACTBP12',\n",
       " 389120: 'ACTBP13',\n",
       " 389976: 'ACTBP14',\n",
       " 70: 'ACTC1',\n",
       " 71: 'ACTG1',\n",
       " 73: 'ACTG1P1',\n",
       " 74: 'ACTG1P2',\n",
       " 75: 'ACTG1P3',\n",
       " 648740: 'ACTG1P4',\n",
       " 78: 'ACTG1P6',\n",
       " 79: 'ACTG1P7',\n",
       " 80: 'ACTG1P8',\n",
       " 82: 'ACTG1P9',\n",
       " 83: 'ACTG1P10',\n",
       " 414754: 'ACTG1P11',\n",
       " 100418921: 'ACTG1P12',\n",
       " 100418920: 'ACTG1P13',\n",
       " 100418910: 'ACTG1P14',\n",
       " 100418951: 'ACTG1P15',\n",
       " 100418960: 'ACTG1P16',\n",
       " 283693: 'ACTG1P17',\n",
       " 100418924: 'ACTG1P18',\n",
       " 644160: 'ACTG1P19',\n",
       " 644961: 'ACTG1P20',\n",
       " 100131291: 'ACTG1P21',\n",
       " 100131953: 'ACTG1P22',\n",
       " 442097: 'ACTG1P23',\n",
       " 441783: 'ACTG1P24',\n",
       " 72: 'ACTG2',\n",
       " 86: 'ACTL6A',\n",
       " 51412: 'ACTL6B',\n",
       " 10881: 'ACTL7A',\n",
       " 10880: 'ACTL7B',\n",
       " 81569: 'ACTL8',\n",
       " 284382: 'ACTL9',\n",
       " 170487: 'ACTL10',\n",
       " 87: 'ACTN1',\n",
       " 161159: 'ACTN1-AS1',\n",
       " 88: 'ACTN2',\n",
       " 89: 'ACTN3',\n",
       " 81: 'ACTN4',\n",
       " 344978: 'ACTN4P1',\n",
       " 391026: 'ACTN4P2',\n",
       " 106480335: 'ACTP1',\n",
       " 10121: 'ACTR1A',\n",
       " 10120: 'ACTR1B',\n",
       " 10097: 'ACTR2',\n",
       " 10096: 'ACTR3',\n",
       " 57180: 'ACTR3B',\n",
       " 643050: 'ACTR3BP1',\n",
       " 440888: 'ACTR3BP2',\n",
       " 647156: 'ACTR3BP3',\n",
       " 777774: 'ACTR3BP4',\n",
       " 399746: 'ACTR3BP5',\n",
       " 644773: 'ACTR3BP6',\n",
       " 653857: 'ACTR3C',\n",
       " 100288580: 'ACTR3P1',\n",
       " 100129013: 'ACTR3P2',\n",
       " 100128020: 'ACTR3P3',\n",
       " 79913: 'ACTR5',\n",
       " 64431: 'ACTR6',\n",
       " 100421495: 'ACTR6P1',\n",
       " 93973: 'ACTR8',\n",
       " 55860: 'ACTR10',\n",
       " 139741: 'ACTRT1',\n",
       " 140625: 'ACTRT2',\n",
       " 84517: 'ACTRT3',\n",
       " 90: 'ACVR1',\n",
       " 91: 'ACVR1B',\n",
       " 130399: 'ACVR1C',\n",
       " 92: 'ACVR2A',\n",
       " 93: 'ACVR2B',\n",
       " 100128640: 'ACVR2B-AS1',\n",
       " 94: 'ACVRL1',\n",
       " 95: 'ACY1',\n",
       " 91703: 'ACY3',\n",
       " 97: 'ACYP1',\n",
       " 98: 'ACYP2',\n",
       " 8081: 'AD5',\n",
       " 100: 'ADA',\n",
       " 51816: 'ADA2',\n",
       " 132612: 'ADAD1',\n",
       " 100422386: 'ADAD1P1',\n",
       " 100422407: 'ADAD1P2',\n",
       " 161931: 'ADAD2',\n",
       " 161823: 'ADAL',\n",
       " 8759: 'ADAM1A',\n",
       " 100420505: 'ADAM1B',\n",
       " 2515: 'ADAM2',\n",
       " 1587: 'ADAM3A',\n",
       " 1596: 'ADAM3B',\n",
       " 255926: 'ADAM5',\n",
       " 8755: 'ADAM6',\n",
       " 8756: 'ADAM7',\n",
       " 101: 'ADAM8',\n",
       " 8754: 'ADAM9',\n",
       " 102: 'ADAM10',\n",
       " 4185: 'ADAM11',\n",
       " 8038: 'ADAM12',\n",
       " 8751: 'ADAM15',\n",
       " 6868: 'ADAM17',\n",
       " 8749: 'ADAM18',\n",
       " 8728: 'ADAM19',\n",
       " 8748: 'ADAM20',\n",
       " 317760: 'ADAM20P1',\n",
       " 100533671: 'ADAM20P2',\n",
       " 644325: 'ADAM20P3',\n",
       " 8747: 'ADAM21',\n",
       " 145241: 'ADAM21P1',\n",
       " 53616: 'ADAM22',\n",
       " 8745: 'ADAM23',\n",
       " 646479: 'ADAM24P',\n",
       " 10863: 'ADAM28',\n",
       " 11086: 'ADAM29',\n",
       " 11085: 'ADAM30',\n",
       " 203102: 'ADAM32',\n",
       " 80332: 'ADAM33',\n",
       " 27299: 'ADAMDEC1',\n",
       " 9510: 'ADAMTS1',\n",
       " 9509: 'ADAMTS2',\n",
       " 9508: 'ADAMTS3',\n",
       " 9507: 'ADAMTS4',\n",
       " 11096: 'ADAMTS5',\n",
       " 11174: 'ADAMTS6',\n",
       " 11173: 'ADAMTS7',\n",
       " 390660: 'ADAMTS7P1',\n",
       " 400406: 'ADAMTS7P3',\n",
       " 642935: 'ADAMTS7P4',\n",
       " 11095: 'ADAMTS8',\n",
       " 56999: 'ADAMTS9',\n",
       " 101929335: 'ADAMTS9-AS1',\n",
       " 100507098: 'ADAMTS9-AS2',\n",
       " 81794: 'ADAMTS10',\n",
       " 81792: 'ADAMTS12',\n",
       " 11093: 'ADAMTS13',\n",
       " 140766: 'ADAMTS14',\n",
       " 170689: 'ADAMTS15',\n",
       " 170690: 'ADAMTS16',\n",
       " 170691: 'ADAMTS17',\n",
       " 170692: 'ADAMTS18',\n",
       " 171019: 'ADAMTS19',\n",
       " 103689846: 'ADAMTS19-AS1',\n",
       " 80070: 'ADAMTS20',\n",
       " 92949: 'ADAMTSL1',\n",
       " 9719: 'ADAMTSL2',\n",
       " 57188: 'ADAMTSL3',\n",
       " 54507: 'ADAMTSL4',\n",
       " 574406: 'ADAMTSL4-AS1',\n",
       " 339366: 'ADAMTSL5',\n",
       " 11033: 'ADAP1',\n",
       " 55803: 'ADAP2',\n",
       " 103: 'ADAR',\n",
       " 104: 'ADARB1',\n",
       " 105: 'ADARB2',\n",
       " 642394: 'ADARB2-AS1',\n",
       " 23536: 'ADAT1',\n",
       " 134637: 'ADAT2',\n",
       " 113179: 'ADAT3',\n",
       " 57143: 'ADCK1',\n",
       " 90956: 'ADCK2',\n",
       " 203054: 'ADCK5',\n",
       " 106: 'ADCP1',\n",
       " 107: 'ADCY1',\n",
       " 108: 'ADCY2',\n",
       " 109: 'ADCY3',\n",
       " 196883: 'ADCY4',\n",
       " 111: 'ADCY5',\n",
       " 112: 'ADCY6',\n",
       " 113: 'ADCY7',\n",
       " 114: 'ADCY8',\n",
       " 115: 'ADCY9',\n",
       " 55811: 'ADCY10',\n",
       " 221442: 'ADCY10P1',\n",
       " 116: 'ADCYAP1',\n",
       " 117: 'ADCYAP1R1',\n",
       " 118: 'ADD1',\n",
       " 119: 'ADD2',\n",
       " 120: 'ADD3',\n",
       " 100505933: 'ADD3-AS1',\n",
       " 122: 'ADFN',\n",
       " 79747: 'ADGB',\n",
       " 84435: 'ADGRA1',\n",
       " 100128127: 'ADGRA1-AS1',\n",
       " 25960: 'ADGRA2',\n",
       " 166647: 'ADGRA3',\n",
       " 575: 'ADGRB1',\n",
       " 576: 'ADGRB2',\n",
       " 577: 'ADGRB3',\n",
       " 283383: 'ADGRD1',\n",
       " 105755954: 'ADGRD1-AS1',\n",
       " 347088: 'ADGRD2',\n",
       " 2015: 'ADGRE1',\n",
       " 30817: 'ADGRE2',\n",
       " 84658: 'ADGRE3',\n",
       " 326342: 'ADGRE4P',\n",
       " 976: 'ADGRE5',\n",
       " 266977: 'ADGRF1',\n",
       " 222611: 'ADGRF2',\n",
       " 165082: 'ADGRF3',\n",
       " 221393: 'ADGRF4',\n",
       " 221395: 'ADGRF5',\n",
       " 389740: 'ADGRF5P1',\n",
       " 441416: 'ADGRF5P2',\n",
       " 9289: 'ADGRG1',\n",
       " 10149: 'ADGRG2',\n",
       " 222487: 'ADGRG3',\n",
       " 139378: 'ADGRG4',\n",
       " 221188: 'ADGRG5',\n",
       " 57211: 'ADGRG6',\n",
       " 84873: 'ADGRG7',\n",
       " 22859: 'ADGRL1',\n",
       " 23266: 'ADGRL2',\n",
       " 23284: 'ADGRL3',\n",
       " 101927186: 'ADGRL3-AS1',\n",
       " 64123: 'ADGRL4',\n",
       " 84059: 'ADGRV1',\n",
       " 124: 'ADH1A',\n",
       " 125: 'ADH1B',\n",
       " 126: 'ADH1C',\n",
       " 127: 'ADH4',\n",
       " 128: 'ADH5',\n",
       " 343296: 'ADH5P2',\n",
       " 100131810: 'ADH5P3',\n",
       " 642443: 'ADH5P4',\n",
       " 130: 'ADH6',\n",
       " 131: 'ADH7',\n",
       " 137872: 'ADHFE1',\n",
       " 55256: 'ADI1',\n",
       " 100130936: 'ADI1P1',\n",
       " 100288971: 'ADI1P2',\n",
       " 100288129: 'ADI1P3',\n",
       " 149685: 'ADIG',\n",
       " 9370: 'ADIPOQ',\n",
       " 100874095: 'ADIPOQ-AS1',\n",
       " 51094: 'ADIPOR1',\n",
       " 645220: 'ADIPOR1P1',\n",
       " 390503: 'ADIPOR1P2',\n",
       " 79602: 'ADIPOR2',\n",
       " 10974: 'ADIRF',\n",
       " 100133190: 'ADIRF-AS1',\n",
       " 132: 'ADK',\n",
       " 133: 'ADM',\n",
       " 79924: 'ADM2',\n",
       " 199800: 'ADM5',\n",
       " 23394: 'ADNP',\n",
       " 101927631: 'ADNP-AS1',\n",
       " 22850: 'ADNP2',\n",
       " 84890: 'ADO',\n",
       " 134: 'ADORA1',\n",
       " 135: 'ADORA2A',\n",
       " 646023: 'ADORA2A-AS1',\n",
       " 136: 'ADORA2B',\n",
       " 137: 'ADORA2BP1',\n",
       " 140: 'ADORA3',\n",
       " 83440: 'ADPGK',\n",
       " 100287559: 'ADPGK-AS1',\n",
       " 141: 'ADPRH',\n",
       " 113622: 'ADPRHL1',\n",
       " 54936: 'ADPRHL2',\n",
       " 56985: 'ADPRM',\n",
       " 148: 'ADRA1A',\n",
       " 147: 'ADRA1B',\n",
       " 146: 'ADRA1D',\n",
       " 150: 'ADRA2A',\n",
       " 151: 'ADRA2B',\n",
       " 152: 'ADRA2C',\n",
       " 153: 'ADRB1',\n",
       " 154: 'ADRB2',\n",
       " 155: 'ADRB3',\n",
       " 11047: 'ADRM1',\n",
       " 158: 'ADSL',\n",
       " 159: 'ADSS',\n",
       " 122622: 'ADSSL1',\n",
       " 84830: 'ADTRP',\n",
       " 165: 'AEBP1',\n",
       " 121536: 'AEBP2',\n",
       " 64782: 'AEN',\n",
       " 166: 'AES',\n",
       " 169: 'AF8T',\n",
       " 170: 'AFA',\n",
       " 60312: 'AFAP1',\n",
       " 84740: 'AFAP1-AS1',\n",
       " 134265: 'AFAP1L1',\n",
       " 84632: 'AFAP1L2',\n",
       " 171: 'AFD1',\n",
       " 4301: 'AFDN',\n",
       " 653483: 'AFDN-DT',\n",
       " 4299: 'AFF1',\n",
       " 100506746: 'AFF1-AS1',\n",
       " 2334: 'AFF2',\n",
       " 100874269: 'AFF2-IT1',\n",
       " 3899: 'AFF3',\n",
       " 27125: 'AFF4',\n",
       " 246269: 'AFG1L',\n",
       " 172: 'AFG3L1P',\n",
       " 10939: 'AFG3L2',\n",
       " 347028: 'AFG3L2P1',\n",
       " 173: 'AFM',\n",
       " 125061: 'AFMID',\n",
       " 174: 'AFP',\n",
       " 54812: 'AFTPH',\n",
       " 175: 'AGA',\n",
       " 116987: 'AGAP1',\n",
       " 100506749: 'AGAP1-IT1',\n",
       " 116986: 'AGAP2',\n",
       " 100130776: 'AGAP2-AS1',\n",
       " 116988: 'AGAP3',\n",
       " 119016: 'AGAP4',\n",
       " 729092: 'AGAP5',\n",
       " 414189: 'AGAP6',\n",
       " 653268: 'AGAP7P',\n",
       " 642517: 'AGAP9',\n",
       " 653234: 'AGAP10P',\n",
       " 119385: 'AGAP11',\n",
       " 414224: 'AGAP12P',\n",
       " 728005: 'AGAP13P',\n",
       " 653259: 'AGAP14P',\n",
       " 123624: 'AGBL1',\n",
       " 727915: 'AGBL1-AS1',\n",
       " 79841: 'AGBL2',\n",
       " 340351: 'AGBL3',\n",
       " 84871: 'AGBL4',\n",
       " 100874313: 'AGBL4-IT1',\n",
       " 60509: 'AGBL5',\n",
       " 100874031: 'AGBL5-AS1',\n",
       " 106481744: 'AGBL5-IT1',\n",
       " 177: 'AGER',\n",
       " 3267: 'AGFG1',\n",
       " 3268: 'AGFG2',\n",
       " 55109: 'AGGF1',\n",
       " 100132380: 'AGGF1P1',\n",
       " 644435: 'AGGF1P2',\n",
       " 391552: 'AGGF1P3',\n",
       " 100129351: 'AGGF1P4',\n",
       " 100128103: 'AGGF1P5',\n",
       " 106481737: 'AGGF1P6',\n",
       " 100132606: 'AGGF1P7',\n",
       " 100128804: 'AGGF1P8',\n",
       " 100127958: 'AGGF1P9',\n",
       " 100288774: 'AGGF1P10',\n",
       " 55750: 'AGK',\n",
       " 359793: 'AGKP1',\n",
       " 178: 'AGL',\n",
       " 79814: 'AGMAT',\n",
       " 392636: 'AGMO',\n",
       " 179: 'AGMX2',\n",
       " 26523: 'AGO1',\n",
       " 27161: 'AGO2',\n",
       " 192669: 'AGO3',\n",
       " 192670: 'AGO4',\n",
       " 10554: 'AGPAT1',\n",
       " 10555: 'AGPAT2',\n",
       " 56894: 'AGPAT3',\n",
       " 56895: 'AGPAT4',\n",
       " 79992: 'AGPAT4-IT1',\n",
       " 55326: 'AGPAT5',\n",
       " 646231: 'AGPAT5P1',\n",
       " 8540: 'AGPS',\n",
       " 10551: 'AGR2',\n",
       " 155465: 'AGR3',\n",
       " 375790: 'AGRN',\n",
       " 181: 'AGRP',\n",
       " 183: 'AGT',\n",
       " 23287: 'AGTPBP1',\n",
       " 185: 'AGTR1',\n",
       " 186: 'AGTR2',\n",
       " 57085: 'AGTRAP',\n",
       " 189: 'AGXT',\n",
       " 64902: 'AGXT2',\n",
       " 25909: 'AHCTF1',\n",
       " 285116: 'AHCTF1P1',\n",
       " 191: 'AHCY',\n",
       " 10768: 'AHCYL1',\n",
       " 23382: 'AHCYL2',\n",
       " 340844: 'AHCYP1',\n",
       " 392387: 'AHCYP2',\n",
       " 402093: 'AHCYP3',\n",
       " 129560: 'AHCYP4',\n",
       " 391470: 'AHCYP5',\n",
       " 100419714: 'AHCYP6',\n",
       " 645486: 'AHCYP7',\n",
       " 107063538: 'AHCYP8',\n",
       " 27245: 'AHDC1',\n",
       " 54806: 'AHI1',\n",
       " 79026: 'AHNAK',\n",
       " 113146: 'AHNAK2',\n",
       " 196: 'AHR',\n",
       " 57491: 'AHRR',\n",
       " 10598: 'AHSA1',\n",
       " 130872: 'AHSA2P',\n",
       " 197: 'AHSG',\n",
       " 51327: 'AHSP',\n",
       " 192: 'AIC',\n",
       " 57379: 'AICDA',\n",
       " 64853: 'AIDA',\n",
       " 199: 'AIF1',\n",
       " 83543: 'AIF1L',\n",
       " 9131: 'AIFM1',\n",
       " 645120: 'AIFM1P1',\n",
       " 84883: 'AIFM2',\n",
       " 150209: 'AIFM3',\n",
       " 51390: 'AIG1',\n",
       " 106479028: 'AIG1P1',\n",
       " 201: 'AIH3',\n",
       " 9447: 'AIM2',\n",
       " 9255: 'AIMP1',\n",
       " 170547: 'AIMP1P1',\n",
       " 100873064: 'AIMP1P2',\n",
       " 7965: 'AIMP2',\n",
       " 9049: 'AIP',\n",
       " 23746: 'AIPL1',\n",
       " 326: 'AIRE',\n",
       " 100271873: 'AIRN',\n",
       " 373071: 'AIS1',\n",
       " 378426: 'AIS2',\n",
       " 378427: 'AIS3',\n",
       " 55966: 'AJAP1',\n",
       " 389813: 'AJM1',\n",
       " 84962: 'AJUBA',\n",
       " 203: 'AK1',\n",
       " 204: 'AK2',\n",
       " 266920: 'AK2P1',\n",
       " 339736: 'AK2P2',\n",
       " 50808: 'AK3',\n",
       " 100419074: 'AK3P2',\n",
       " 100419075: 'AK3P3',\n",
       " 100129959: 'AK3P4',\n",
       " 100288319: 'AK3P5',\n",
       " 100873789: 'AK3P6',\n",
       " 205: 'AK4',\n",
       " 206: 'AK4P1',\n",
       " 100132104: 'AK4P2',\n",
       " 645619: 'AK4P3',\n",
       " 100128705: 'AK4P4',\n",
       " 100526416: 'AK4P5',\n",
       " 649288: 'AK4P6',\n",
       " 26289: 'AK5',\n",
       " 102157402: 'AK6',\n",
       " 100132086: 'AK6P1',\n",
       " 100128817: 'AK6P2',\n",
       " 122481: 'AK7',\n",
       " 158067: 'AK8',\n",
       " 221264: 'AK9',\n",
       " 642597: 'AKAIN1',\n",
       " 8165: 'AKAP1',\n",
       " 11217: 'AKAP2',\n",
       " 10566: 'AKAP3',\n",
       " 8852: 'AKAP4',\n",
       " 9495: 'AKAP5',\n",
       " 9472: 'AKAP6',\n",
       " 9465: 'AKAP7',\n",
       " 10270: 'AKAP8',\n",
       " 26993: 'AKAP8L',\n",
       " 646114: 'AKAP8P1',\n",
       " 10142: 'AKAP9',\n",
       " 11216: 'AKAP10',\n",
       " 11215: 'AKAP11',\n",
       " 9590: 'AKAP12',\n",
       " 11214: 'AKAP13',\n",
       " 158798: 'AKAP14',\n",
       " 8227: 'AKAP17A',\n",
       " 139516: 'AKAP17BP',\n",
       " 56672: 'AKIP1',\n",
       " 79647: 'AKIRIN1',\n",
       " 100418731: 'AKIRIN1P1',\n",
       " 106480306: 'AKIRIN1P2',\n",
       " 55122: 'AKIRIN2',\n",
       " 100216487: 'AKIRIN2P1',\n",
       " 80709: 'AKNA',\n",
       " 254268: 'AKNAD1',\n",
       " 10327: 'AKR1A1',\n",
       " 231: 'AKR1B1',\n",
       " 401982: 'AKR1B1P1',\n",
       " 236: 'AKR1B1P2',\n",
       " 729347: 'AKR1B1P3',\n",
       " 390402: 'AKR1B1P4',\n",
       " 390482: 'AKR1B1P5',\n",
       " 100129769: 'AKR1B1P6',\n",
       " 126242: 'AKR1B1P7',\n",
       " 392525: 'AKR1B1P8',\n",
       " 57016: 'AKR1B10',\n",
       " 340888: 'AKR1B10P1',\n",
       " 643582: 'AKR1B10P2',\n",
       " 441282: 'AKR1B15',\n",
       " 1645: 'AKR1C1',\n",
       " 1646: 'AKR1C2',\n",
       " 8644: 'AKR1C3',\n",
       " 1109: 'AKR1C4',\n",
       " 100996684: 'AKR1C5P',\n",
       " 389932: 'AKR1C6P',\n",
       " 648947: 'AKR1C7P',\n",
       " 340811: 'AKR1C8P',\n",
       " 6718: 'AKR1D1',\n",
       " 80701: 'AKR1D1P1',\n",
       " 83592: 'AKR1E2',\n",
       " 8574: 'AKR7A2',\n",
       " 246182: 'AKR7A2P1',\n",
       " 22977: 'AKR7A3',\n",
       " 246181: 'AKR7L',\n",
       " 207: 'AKT1',\n",
       " 84335: 'AKT1S1',\n",
       " 208: 'AKT2',\n",
       " 10000: 'AKT3',\n",
       " 100874263: 'AKT3-IT1',\n",
       " 64400: 'AKTIP',\n",
       " 210: 'ALAD',\n",
       " 211: 'ALAS1',\n",
       " 212: 'ALAS2',\n",
       " 213: 'ALB',\n",
       " 214: 'ALCAM',\n",
       " 216: 'ALDH1A1',\n",
       " 8854: 'ALDH1A2',\n",
       " 220: 'ALDH1A3',\n",
       " 219: 'ALDH1B1',\n",
       " 10840: 'ALDH1L1',\n",
       " 100874204: 'ALDH1L1-AS1',\n",
       " 100862662: 'ALDH1L1-AS2',\n",
       " 160428: 'ALDH1L2',\n",
       " 217: 'ALDH2',\n",
       " 218: 'ALDH3A1',\n",
       " 224: 'ALDH3A2',\n",
       " 221: 'ALDH3B1',\n",
       " 222: 'ALDH3B2',\n",
       " 8659: 'ALDH4A1',\n",
       " 7915: 'ALDH5A1',\n",
       " 4329: 'ALDH6A1',\n",
       " 501: 'ALDH7A1',\n",
       " 541: 'ALDH7A1P1',\n",
       " 542: 'ALDH7A1P2',\n",
       " 543: 'ALDH7A1P3',\n",
       " 544: 'ALDH7A1P4',\n",
       " 64577: 'ALDH8A1',\n",
       " 223: 'ALDH9A1',\n",
       " 126133: 'ALDH16A1',\n",
       " 5832: 'ALDH18A1',\n",
       " 226: 'ALDOA',\n",
       " 391538: 'ALDOAP1',\n",
       " 228: 'ALDOAP2',\n",
       " 229: 'ALDOB',\n",
       " 230: 'ALDOC',\n",
       " 56052: 'ALG1',\n",
       " 200810: 'ALG1L',\n",
       " 644974: 'ALG1L2',\n",
       " 100132066: 'ALG1L3P',\n",
       " 647415: 'ALG1L5P',\n",
       " 339879: 'ALG1L6P',\n",
       " 728263: 'ALG1L7P',\n",
       " 645015: 'ALG1L8P',\n",
       " 285407: 'ALG1L9P',\n",
       " 106479037: 'ALG1L10P',\n",
       " 106480789: 'ALG1L11P',\n",
       " 100421097: 'ALG1L12P',\n",
       " 106479038: 'ALG1L13P',\n",
       " 100996649: 'ALG1L14P',\n",
       " 730086: 'ALG1L15P',\n",
       " 85365: 'ALG2',\n",
       " 10195: 'ALG3',\n",
       " 442131: 'ALG3P1',\n",
       " 29880: 'ALG5',\n",
       " 29929: 'ALG6',\n",
       " 79053: 'ALG8',\n",
       " 79796: 'ALG9',\n",
       " 100874303: 'ALG9-IT1',\n",
       " 84920: 'ALG10',\n",
       " 144245: 'ALG10B',\n",
       " 440138: 'ALG11',\n",
       " 79087: 'ALG12',\n",
       " 79868: 'ALG13',\n",
       " 106478971: 'ALG13-AS1',\n",
       " 199857: 'ALG14',\n",
       " 238: 'ALK',\n",
       " 389658: 'ALKAL1',\n",
       " 285016: 'ALKAL2',\n",
       " 8846: 'ALKBH1',\n",
       " 121642: 'ALKBH2',\n",
       " 221120: 'ALKBH3',\n",
       " 100507300: 'ALKBH3-AS1',\n",
       " 54784: 'ALKBH4',\n",
       " 54890: 'ALKBH5',\n",
       " 84964: 'ALKBH6',\n",
       " 84266: 'ALKBH7',\n",
       " 91801: 'ALKBH8',\n",
       " 55821: 'ALLC',\n",
       " 7840: 'ALMS1',\n",
       " 100874291: 'ALMS1-IT1',\n",
       " 200420: 'ALMS1P1',\n",
       " 240: 'ALOX5',\n",
       " 241: 'ALOX5AP',\n",
       " 239: 'ALOX12',\n",
       " 100506713: 'ALOX12-AS1',\n",
       " 242: 'ALOX12B',\n",
       " 243: 'ALOX12P1',\n",
       " 245: 'ALOX12P2',\n",
       " 246: 'ALOX15',\n",
       " 247: 'ALOX15B',\n",
       " 100652883: 'ALOX15P1',\n",
       " 642959: 'ALOX15P2',\n",
       " 59344: 'ALOXE3',\n",
       " 100420216: 'ALOXE3P1',\n",
       " 251: 'ALPG',\n",
       " 248: 'ALPI',\n",
       " 80216: 'ALPK1',\n",
       " 115701: 'ALPK2',\n",
       " 57538: 'ALPK3',\n",
       " 249: 'ALPL',\n",
       " 250: 'ALPP',\n",
       " 260330: 'ALPPP',\n",
       " 57679: 'ALS2',\n",
       " 259173: 'ALS2CL',\n",
       " 130540: 'ALS2CR12',\n",
       " 253: 'ALS3',\n",
       " 255: 'ALS5',\n",
       " 406238: 'ALS7',\n",
       " 8092: 'ALX1',\n",
       " 257: 'ALX3',\n",
       " 60529: 'ALX4',\n",
       " 10189: 'ALYREF',\n",
       " 23600: 'AMACR',\n",
       " 258: 'AMBN',\n",
       " 259: 'AMBP',\n",
       " 55626: 'AMBRA1',\n",
       " 261: 'AMCN',\n",
       " 262: 'AMD1',\n",
       " 100133024: 'AMD1P1',\n",
       " 263: 'AMD1P2',\n",
       " 728931: 'AMD1P3',\n",
       " 100129761: 'AMD1P4',\n",
       " 144193: 'AMDHD1',\n",
       " 51005: 'AMDHD2',\n",
       " 265: 'AMELX',\n",
       " 266: 'AMELY',\n",
       " 139285: 'AMER1',\n",
       " 219287: 'AMER2',\n",
       " 205147: 'AMER3',\n",
       " 267: 'AMFR',\n",
       " 268: 'AMH',\n",
       " 269: 'AMHR2',\n",
       " 57463: 'AMIGO1',\n",
       " 347902: 'AMIGO2',\n",
       " 386724: 'AMIGO3',\n",
       " 9163: 'AMLCR2',\n",
       " 9949: 'AMMECR1',\n",
       " 100874352: 'AMMECR1-IT1',\n",
       " 83607: 'AMMECR1L',\n",
       " 100420921: 'AMMECR1LP1',\n",
       " 81693: 'AMN',\n",
       " 196394: 'AMN1',\n",
       " 154796: 'AMOT',\n",
       " 154810: 'AMOTL1',\n",
       " 51421: 'AMOTL2',\n",
       " 270: 'AMPD1',\n",
       " 271: 'AMPD2',\n",
       " 272: 'AMPD3',\n",
       " 273: 'AMPH',\n",
       " 275: 'AMT',\n",
       " 401138: 'AMTN',\n",
       " 276: 'AMY1A',\n",
       " 277: 'AMY1B',\n",
       " 278: 'AMY1C',\n",
       " 279: 'AMY2A',\n",
       " 280: 'AMY2B',\n",
       " 281: 'AMYP1',\n",
       " 155185: 'AMZ1',\n",
       " 51321: 'AMZ2',\n",
       " 201283: 'AMZ2P1',\n",
       " 100421018: 'AMZ2P2',\n",
       " 64682: 'ANAPC1',\n",
       " 100286979: 'ANAPC1P1',\n",
       " 29882: 'ANAPC2',\n",
       " 29945: 'ANAPC4',\n",
       " 51433: 'ANAPC5',\n",
       " 51434: 'ANAPC7',\n",
       " 10393: 'ANAPC10',\n",
       " 729198: 'ANAPC10P1',\n",
       " 51529: 'ANAPC11',\n",
       " 25847: 'ANAPC13',\n",
       " 25906: 'ANAPC15',\n",
       " 119504: 'ANAPC16',\n",
       " 282: 'ANCR',\n",
       " 283: 'ANG',\n",
       " 23357: 'ANGEL1',\n",
       " 90806: 'ANGEL2',\n",
       " 284: 'ANGPT1',\n",
       " 285: 'ANGPT2',\n",
       " 51378: 'ANGPT4',\n",
       " 9068: 'ANGPTL1',\n",
       " 23452: 'ANGPTL2',\n",
       " 27329: 'ANGPTL3',\n",
       " 51129: 'ANGPTL4',\n",
       " 253935: 'ANGPTL5',\n",
       " 83854: 'ANGPTL6',\n",
       " 10218: 'ANGPTL7',\n",
       " 55908: 'ANGPTL8',\n",
       " 647589: 'ANHX',\n",
       " 116833: 'ANIB1',\n",
       " 449013: 'ANIB2',\n",
       " 497657: 'ANIB3',\n",
       " 724058: 'ANIB4',\n",
       " 286: 'ANK1',\n",
       " 287: 'ANK2',\n",
       " 288: 'ANK3',\n",
       " 150709: 'ANKAR',\n",
       " 348094: 'ANKDD1A',\n",
       " 728780: 'ANKDD1B',\n",
       " 63926: 'ANKEF1',\n",
       " 162282: 'ANKFN1',\n",
       " 51479: 'ANKFY1',\n",
       " 56172: 'ANKH',\n",
       " 54882: 'ANKHD1',\n",
       " 404734: 'ANKHD1-EIF4EBP3',\n",
       " 54467: 'ANKIB1',\n",
       " 255239: 'ANKK1',\n",
       " 126549: 'ANKLE1',\n",
       " 23141: 'ANKLE2',\n",
       " 51281: 'ANKMY1',\n",
       " 57037: 'ANKMY2',\n",
       " 57763: 'ANKRA2',\n",
       " 27063: 'ANKRD1',\n",
       " 26287: 'ANKRD2',\n",
       " 22881: 'ANKRD6',\n",
       " 56311: 'ANKRD7',\n",
       " 122416: 'ANKRD9',\n",
       " 55608: 'ANKRD10',\n",
       " 100505494: 'ANKRD10-IT1',\n",
       " 29123: 'ANKRD11',\n",
       " 23253: 'ANKRD12',\n",
       " 88455: 'ANKRD13A',\n",
       " 124930: 'ANKRD13B',\n",
       " 81573: 'ANKRD13C',\n",
       " 338692: 'ANKRD13D',\n",
       " 54522: 'ANKRD16',\n",
       " 26057: 'ANKRD17',\n",
       " 253650: 'ANKRD18A',\n",
       " 441459: 'ANKRD18B',\n",
       " 101926917: 'ANKRD18CP',\n",
       " ...}"
      ]
     },
     "execution_count": 115,
     "metadata": {},
     "output_type": "execute_result"
    }
   ],
   "source": [
    "# load entrez mapping\n",
    "symbol_to_entrez = load_mapping(\"../data/protein/symbol_to_entrez.txt\", \"\\t\")\n",
    "entrez_to_symbol = {int(entrez): symbol for symbol, entrez in symbol_to_entrez.items() if entrez!=\"\"}\n",
    "entrez_to_symbol"
   ]
  },
  {
   "cell_type": "markdown",
   "metadata": {},
   "source": [
    "## Load Predictions\n",
    "Load predictions from a disease protein prediction method."
   ]
  },
  {
   "cell_type": "code",
   "execution_count": 13,
   "metadata": {},
   "outputs": [],
   "source": [
    "predictions= pd.read_csv(\"../experiments/dpp_predict/lci/predictions.csv\", index_col=0)"
   ]
  },
  {
   "cell_type": "markdown",
   "metadata": {},
   "source": [
    "## Load Enrichment Analysis\n",
    "Prepare an enrichment study"
   ]
  },
  {
   "cell_type": "code",
   "execution_count": 14,
   "metadata": {},
   "outputs": [
    {
     "name": "stdout",
     "output_type": "stream",
     "text": [
      "../data/go/go-basic.obo: fmt(1.2) rel(2019-01-19) 47,379 GO Terms\n"
     ]
    }
   ],
   "source": [
    "# load gene ontology\n",
    "obodag = GODag(\"../data/go/go-basic.obo\")"
   ]
  },
  {
   "cell_type": "code",
   "execution_count": 15,
   "metadata": {},
   "outputs": [
    {
     "name": "stdout",
     "output_type": "stream",
     "text": [
      "  20,385 items READ: ../data/go/gene2go.txt\n"
     ]
    }
   ],
   "source": [
    "geneid2go = read_ncbi_gene2go(\"../data/go/gene2go.txt\", taxids=[9606])"
   ]
  },
  {
   "cell_type": "code",
   "execution_count": 16,
   "metadata": {},
   "outputs": [
    {
     "name": "stdout",
     "output_type": "stream",
     "text": [
      "fisher module not installed.  Falling back on scipy.stats.fisher_exact\n"
     ]
    },
    {
     "name": "stderr",
     "output_type": "stream",
     "text": [
      "Propagating term counts to parents ..\n"
     ]
    },
    {
     "name": "stdout",
     "output_type": "stream",
     "text": [
      " 76% 16,420 of 21,557 population items found in association\n"
     ]
    }
   ],
   "source": [
    "goeaobj = GOEnrichmentStudy(network.get_proteins(), # List of mouse protein-coding genes\n",
    "                            geneid2go, # geneid/GO associations\n",
    "                            obodag, # Ontologies\n",
    "                            propagate_counts = True,\n",
    "                            alpha = 0.05, # default significance cut-off\n",
    "                            methods = ['fdr_bh']) # defult multipletest correction method"
   ]
  },
  {
   "cell_type": "markdown",
   "metadata": {},
   "source": [
    "## Perform Enrichment Analysis\n",
    "Perform an enrichment analysis on one disease. "
   ]
  },
  {
   "cell_type": "code",
   "execution_count": 225,
   "metadata": {
    "scrolled": true
   },
   "outputs": [
    {
     "name": "stdout",
     "output_type": "stream",
     "text": [
      "Thrombophilia: [FGA, MYD88, HRG, PLAT, THBD, HABP2, SERPINA10, PIGA, F2, F5, MTHFR, F8, F9, SERPIND1, PROC, PROS1]\n",
      "(1) PROZ, (2) F2RL3, (3) GP5, (4) SERPINA5, (5) F11, (6) SERPINB6, (7) GGCX\n"
     ]
    }
   ],
   "source": [
    "disease_id = \"C0398623\"\n",
    "disease_proteins = set(diseases_dict[disease_id].proteins)\n",
    "disease_symbols = [entrez_to_symbol[entrez] for entrez in disease_proteins if entrez in entrez_to_symbol]\n",
    "symbols_str=str(disease_symbols).replace('\\'', '')\n",
    "print(f\"{diseases_dict[disease_id].name}: {symbols_str}\")\n",
    "sorted_predictions = predictions.loc[disease_id].sort_values(ascending=False).index\n",
    "print_list([entrez_to_symbol[int(entrez)] for entrez in sorted_predictions[:7] if int(entrez) in entrez_to_symbol])"
   ]
  },
  {
   "cell_type": "code",
   "execution_count": 216,
   "metadata": {},
   "outputs": [
    {
     "name": "stdout",
     "output_type": "stream",
     "text": [
      "100%     12 of     12 study items found in association\n",
      "100%     12 of     12 study items found in population(21557)\n",
      "Calculating 21,968 uncorrected p-values using fisher_scipy_stats\n",
      "  21,968 GO terms are associated with 16,420 of 21,557 population items\n",
      "   1,212 GO terms are associated with     12 of     12 study items\n",
      "     218 GO terms found significant (< 0.05=alpha) after multitest correction: statsmodels fdr_bh\n"
     ]
    }
   ],
   "source": [
    "# run disease enrichment\n",
    "disease_results = goeaobj.run_study(disease_proteins)"
   ]
  },
  {
   "cell_type": "code",
   "execution_count": 212,
   "metadata": {},
   "outputs": [
    {
     "name": "stdout",
     "output_type": "stream",
     "text": [
      "(1) IL20RA, (2) NLRP2, (3) ATM, (4) LSP1, (5) MRE11\n",
      " 93%     14 of     15 study items found in association\n",
      "100%     15 of     15 study items found in population(21557)\n",
      "Calculating 21,968 uncorrected p-values using fisher_scipy_stats\n",
      "  21,968 GO terms are associated with 16,420 of 21,557 population items\n",
      "     952 GO terms are associated with     14 of     15 study items\n",
      "     179 GO terms found significant (< 0.05=alpha) after multitest correction: statsmodels fdr_bh\n"
     ]
    }
   ],
   "source": [
    "# run prediction enrichment\n",
    "pred_proteins = set(map(int, sorted_predictions[:len(disease_proteins)]))\n",
    "pred_results = goeaobj.run_study(pred_proteins)"
   ]
  },
  {
   "cell_type": "code",
   "execution_count": 206,
   "metadata": {},
   "outputs": [],
   "source": [
    "def print_list(term_list):\n",
    "    string = \"\"\n",
    "    for i, term in enumerate(term_list):\n",
    "        string += f\"({i+1}) {term}, \"\n",
    "    print(string[:-2])"
   ]
  },
  {
   "cell_type": "code",
   "execution_count": 207,
   "metadata": {},
   "outputs": [
    {
     "name": "stdout",
     "output_type": "stream",
     "text": [
      "(1) double-strand break repair, (2) cellular response to DNA damage stimulus, (3) DNA repair, (4) DNA metabolic process, (5) double-strand break repair via homologous recombination\n",
      "(1) DNA repair, (2) DNA integrity checkpoint, (3) chromosome organization, (4) telomere maintenance, (5) positive regulation of DNA metabolic process\n"
     ]
    }
   ],
   "source": [
    "k = 5\n",
    "disease_top_k = sorted(disease_results, key=lambda x: x.p_fdr_bh)[:k]\n",
    "disease_significant = [r for r in disease_results if r.p_fdr_bh < 0.05]\n",
    "print_list([result.goterm.name for result in disease_top_k])\n",
    "pred_top_k = sorted(pred_results, key=lambda x: x.p_fdr_bh)[:k]\n",
    "pred_significant = [r for r in pred_results if r.p_fdr_bh < 0.05]\n",
    "print_list([result.goterm.name for result in pred_top_k])"
   ]
  },
  {
   "cell_type": "code",
   "execution_count": 208,
   "metadata": {},
   "outputs": [
    {
     "name": "stdout",
     "output_type": "stream",
     "text": [
      "Jaccard Similarity: 0.1111111111111111\n"
     ]
    }
   ],
   "source": [
    "intersection = set([result.goterm.name for result in disease_top_k]) & set([result.goterm.name for result in pred_top_k])\n",
    "union = set([result.goterm.name for result in disease_top_k]) | set([result.goterm.name for result in pred_top_k])\n",
    "print(\"Jaccard Similarity: {}\".format(1.0*len(intersection)/len(union)))"
   ]
  },
  {
   "cell_type": "code",
   "execution_count": 209,
   "metadata": {},
   "outputs": [
    {
     "name": "stdout",
     "output_type": "stream",
     "text": [
      "Jaccard Similarity: 0.36981132075471695\n"
     ]
    }
   ],
   "source": [
    "intersection = set([result.goterm.name for result in pred_significant]) & set([result.goterm.name for result in disease_significant])\n",
    "union = set([result.goterm.name for result in pred_significant]) | set([result.goterm.name for result in disease_significant])\n",
    "\n",
    "print(\"Jaccard Similarity: {}\".format(1.0*len(intersection)/len(union)))"
   ]
  },
  {
   "cell_type": "markdown",
   "metadata": {},
   "source": [
    "## Load Enrichment Results\n",
    "Load enrichment study results"
   ]
  },
  {
   "cell_type": "code",
   "execution_count": 29,
   "metadata": {},
   "outputs": [],
   "source": [
    "lci_results = pd.read_csv(\"experiments/go_enrichment/lci/results.csv\", index_col=0)\n",
    "rw_results = pd.read_csv(\"experiments/go_enrichment/random_walk/results.csv\", index_col=0)"
   ]
  },
  {
   "cell_type": "code",
   "execution_count": 31,
   "metadata": {},
   "outputs": [],
   "source": [
    "lci_eval_results = pd.read_csv(\"experiments/dpp_evaluate/lci/metrics.csv\", index_col=0)"
   ]
  },
  {
   "cell_type": "code",
   "execution_count": 228,
   "metadata": {},
   "outputs": [
    {
     "data": {
      "image/png": "[encoded data removed]",
      "text/plain": [
       "<Figure size 432x288 with 1 Axes>"
      ]
     },
     "metadata": {},
     "output_type": "display_data"
    }
   ],
   "source": [
    "sns.distplot(lci_results[\"lci_jaccard_sim\"], bins=22, kde=False, label=\"LCI\", hist_kws={\"range\": (0, 1),\n",
    "                                                                                        \"color\": \"#E03C3F\",\n",
    "                                                                                        \"alpha\":0.8})\n",
    "sns.distplot(rw_results[\"lci_jaccard_sim\"], bins=22, kde=False, label=\"Random Walk\", hist_kws={\"range\": (0, 1),\n",
    "                                                                                      \"color\": \"lightgrey\",\n",
    "                                                                                      \"alpha\": 0.8})\n",
    "sns.despine()\n",
    "plt.yscale('log')\n",
    "plt.xlabel(\"Jaccard similarity of enriched GO terms\")\n",
    "plt.ylabel(\"# of diseases [log]\")\n",
    "plt.legend()\n",
    "plt.savefig(\"../experiments/go_enrichment/lci/lci_rw_go.pdf\")"
   ]
  },
  {
   "cell_type": "code",
   "execution_count": 34,
   "metadata": {},
   "outputs": [
    {
     "data": {
      "text/plain": [
       "0.11055276381909547"
      ]
     },
     "execution_count": 34,
     "metadata": {},
     "output_type": "execute_result"
    }
   ],
   "source": [
    "np.median(lci_results[\"lci_jaccard_sim\"])"
   ]
  },
  {
   "cell_type": "code",
   "execution_count": 35,
   "metadata": {},
   "outputs": [
    {
     "data": {
      "text/plain": [
       "0.09216589861751152"
      ]
     },
     "execution_count": 35,
     "metadata": {},
     "output_type": "execute_result"
    }
   ],
   "source": [
    "np.median(rw_results[\"lci_jaccard_sim\"])"
   ]
  },
  {
   "cell_type": "code",
   "execution_count": 26,
   "metadata": {},
   "outputs": [],
   "source": [
    "lci_jaccard = lci_results[\"lci_jaccard_sim\"].sort_index()"
   ]
  },
  {
   "cell_type": "code",
   "execution_count": 27,
   "metadata": {},
   "outputs": [],
   "source": [
    "lci_dpp = lci_eval_results[\"Recall-at-100\"].sort_index()"
   ]
  },
  {
   "cell_type": "code",
   "execution_count": 229,
   "metadata": {},
   "outputs": [
    {
     "data": {
      "image/png": "[encoded data removed]",
      "text/plain": [
       "<Figure size 360x360 with 1 Axes>"
      ]
     },
     "metadata": {},
     "output_type": "display_data"
    }
   ],
   "source": [
    "sns.lmplot(x='lci_jaccard_sim', y='Recall-at-100', data=pd.concat([lci_jaccard, lci_dpp], axis=1), scatter_kws={\"s\": 50, \"alpha\": 0.2})\n",
    "plt.xlabel(\"Jaccard similarity of enriched GO terms\")\n",
    "plt.ylabel(\"Recall-at-100\")\n",
    "\n",
    "\n",
    "\n",
    "pearsonr(lci_jaccard, lci_dpp)\n",
    "plt.savefig(\"../experiments/go_enrichment/lci/jaccard_recall_go.pdf\")"
   ]
  },
  {
   "cell_type": "markdown",
   "metadata": {},
   "source": [
    "## Metric Exploration"
   ]
  },
  {
   "cell_type": "code",
   "execution_count": 3,
   "metadata": {},
   "outputs": [],
   "source": [
    "experiment_dir = 'experiments/go_enrichment/precompute'"
   ]
  },
  {
   "cell_type": "code",
   "execution_count": 5,
   "metadata": {
    "collapsed": true
   },
   "outputs": [
    {
     "name": "stderr",
     "output_type": "stream",
     "text": [
      "Disease Protein Prediction\n",
      "Sabri Eyuboglu  -- SNAP Group\n",
      "======================================\n",
      "Loading Disease Associations...\n",
      "Loading Network...\n",
      "Loading enrichment study...\n"
     ]
    },
    {
     "name": "stdout",
     "output_type": "stream",
     "text": [
      "data/go/go-basic.obo: fmt(1.2) rel(2019-01-19) 47,379 GO Terms\n",
      "  20,385 items READ: data/go/gene2go.txt\n",
      "fisher module not installed.  Falling back on scipy.stats.fisher_exact\n"
     ]
    },
    {
     "name": "stderr",
     "output_type": "stream",
     "text": [
      "Propagating term counts to parents ..\n",
      "Loading predictions...\n"
     ]
    },
    {
     "ename": "FileNotFoundError",
     "evalue": "File b'experiments/dpp_predict/random_walk/predictions.csv' does not exist",
     "output_type": "error",
     "traceback": [
      "\u001b[0;31m---------------------------------------------------------------------------\u001b[0m",
      "\u001b[0;31mFileNotFoundError\u001b[0m                         Traceback (most recent call last)",
      "\u001b[0;32m<ipython-input-5-e12174fc5340>\u001b[0m in \u001b[0;36m<module>\u001b[0;34m\u001b[0m\n\u001b[1;32m      4\u001b[0m     \u001b[0mparams\u001b[0m \u001b[0;34m=\u001b[0m \u001b[0mjson\u001b[0m\u001b[0;34m.\u001b[0m\u001b[0mload\u001b[0m\u001b[0;34m(\u001b[0m\u001b[0mf\u001b[0m\u001b[0;34m)\u001b[0m\u001b[0;34m\u001b[0m\u001b[0;34m\u001b[0m\u001b[0m\n\u001b[1;32m      5\u001b[0m \u001b[0;34m\u001b[0m\u001b[0m\n\u001b[0;32m----> 6\u001b[0;31m \u001b[0mexp\u001b[0m \u001b[0;34m=\u001b[0m \u001b[0mGOEnrichment\u001b[0m\u001b[0;34m(\u001b[0m\u001b[0mexperiment_dir\u001b[0m\u001b[0;34m,\u001b[0m \u001b[0mparams\u001b[0m\u001b[0;34m[\u001b[0m\u001b[0;34m\"process_params\"\u001b[0m\u001b[0;34m]\u001b[0m\u001b[0;34m)\u001b[0m\u001b[0;34m\u001b[0m\u001b[0;34m\u001b[0m\u001b[0m\n\u001b[0m",
      "\u001b[0;32m~/Documents/School/SNAP/projects/disease-protein-prediction/dpp/experiments/go_enrichment.py\u001b[0m in \u001b[0;36m__init__\u001b[0;34m(self, dir, params)\u001b[0m\n\u001b[1;32m     66\u001b[0m         self.method_to_preds = {name: pd.read_csv(os.path.join(preds, \"predictions.csv\"), \n\u001b[1;32m     67\u001b[0m                                                   index_col=0) \n\u001b[0;32m---> 68\u001b[0;31m                                 for name, preds in self.params[\"method_to_preds\"].items()}\n\u001b[0m\u001b[1;32m     69\u001b[0m \u001b[0;34m\u001b[0m\u001b[0m\n\u001b[1;32m     70\u001b[0m         \u001b[0moutputs_path\u001b[0m \u001b[0;34m=\u001b[0m \u001b[0mos\u001b[0m\u001b[0;34m.\u001b[0m\u001b[0mpath\u001b[0m\u001b[0;34m.\u001b[0m\u001b[0mjoin\u001b[0m\u001b[0;34m(\u001b[0m\u001b[0mself\u001b[0m\u001b[0;34m.\u001b[0m\u001b[0mdir\u001b[0m\u001b[0;34m,\u001b[0m \u001b[0;34m\"outputs.pkl\"\u001b[0m\u001b[0;34m)\u001b[0m\u001b[0;34m\u001b[0m\u001b[0;34m\u001b[0m\u001b[0m\n",
      "\u001b[0;32m~/Documents/School/SNAP/projects/disease-protein-prediction/dpp/experiments/go_enrichment.py\u001b[0m in \u001b[0;36m<dictcomp>\u001b[0;34m(.0)\u001b[0m\n\u001b[1;32m     66\u001b[0m         self.method_to_preds = {name: pd.read_csv(os.path.join(preds, \"predictions.csv\"), \n\u001b[1;32m     67\u001b[0m                                                   index_col=0) \n\u001b[0;32m---> 68\u001b[0;31m                                 for name, preds in self.params[\"method_to_preds\"].items()}\n\u001b[0m\u001b[1;32m     69\u001b[0m \u001b[0;34m\u001b[0m\u001b[0m\n\u001b[1;32m     70\u001b[0m         \u001b[0moutputs_path\u001b[0m \u001b[0;34m=\u001b[0m \u001b[0mos\u001b[0m\u001b[0;34m.\u001b[0m\u001b[0mpath\u001b[0m\u001b[0;34m.\u001b[0m\u001b[0mjoin\u001b[0m\u001b[0;34m(\u001b[0m\u001b[0mself\u001b[0m\u001b[0;34m.\u001b[0m\u001b[0mdir\u001b[0m\u001b[0;34m,\u001b[0m \u001b[0;34m\"outputs.pkl\"\u001b[0m\u001b[0;34m)\u001b[0m\u001b[0;34m\u001b[0m\u001b[0;34m\u001b[0m\u001b[0m\n",
      "\u001b[0;32m~/Documents/School/SNAP/projects/disease-protein-prediction/env/lib/python3.7/site-packages/pandas/io/parsers.py\u001b[0m in \u001b[0;36mparser_f\u001b[0;34m(filepath_or_buffer, sep, delimiter, header, names, index_col, usecols, squeeze, prefix, mangle_dupe_cols, dtype, engine, converters, true_values, false_values, skipinitialspace, skiprows, nrows, na_values, keep_default_na, na_filter, verbose, skip_blank_lines, parse_dates, infer_datetime_format, keep_date_col, date_parser, dayfirst, iterator, chunksize, compression, thousands, decimal, lineterminator, quotechar, quoting, escapechar, comment, encoding, dialect, tupleize_cols, error_bad_lines, warn_bad_lines, skipfooter, doublequote, delim_whitespace, low_memory, memory_map, float_precision)\u001b[0m\n\u001b[1;32m    676\u001b[0m                     skip_blank_lines=skip_blank_lines)\n\u001b[1;32m    677\u001b[0m \u001b[0;34m\u001b[0m\u001b[0m\n\u001b[0;32m--> 678\u001b[0;31m         \u001b[0;32mreturn\u001b[0m \u001b[0m_read\u001b[0m\u001b[0;34m(\u001b[0m\u001b[0mfilepath_or_buffer\u001b[0m\u001b[0;34m,\u001b[0m \u001b[0mkwds\u001b[0m\u001b[0;34m)\u001b[0m\u001b[0;34m\u001b[0m\u001b[0;34m\u001b[0m\u001b[0m\n\u001b[0m\u001b[1;32m    679\u001b[0m \u001b[0;34m\u001b[0m\u001b[0m\n\u001b[1;32m    680\u001b[0m     \u001b[0mparser_f\u001b[0m\u001b[0;34m.\u001b[0m\u001b[0m__name__\u001b[0m \u001b[0;34m=\u001b[0m \u001b[0mname\u001b[0m\u001b[0;34m\u001b[0m\u001b[0;34m\u001b[0m\u001b[0m\n",
      "\u001b[0;32m~/Documents/School/SNAP/projects/disease-protein-prediction/env/lib/python3.7/site-packages/pandas/io/parsers.py\u001b[0m in \u001b[0;36m_read\u001b[0;34m(filepath_or_buffer, kwds)\u001b[0m\n\u001b[1;32m    438\u001b[0m \u001b[0;34m\u001b[0m\u001b[0m\n\u001b[1;32m    439\u001b[0m     \u001b[0;31m# Create the parser.\u001b[0m\u001b[0;34m\u001b[0m\u001b[0;34m\u001b[0m\u001b[0;34m\u001b[0m\u001b[0m\n\u001b[0;32m--> 440\u001b[0;31m     \u001b[0mparser\u001b[0m \u001b[0;34m=\u001b[0m \u001b[0mTextFileReader\u001b[0m\u001b[0;34m(\u001b[0m\u001b[0mfilepath_or_buffer\u001b[0m\u001b[0;34m,\u001b[0m \u001b[0;34m**\u001b[0m\u001b[0mkwds\u001b[0m\u001b[0;34m)\u001b[0m\u001b[0;34m\u001b[0m\u001b[0;34m\u001b[0m\u001b[0m\n\u001b[0m\u001b[1;32m    441\u001b[0m \u001b[0;34m\u001b[0m\u001b[0m\n\u001b[1;32m    442\u001b[0m     \u001b[0;32mif\u001b[0m \u001b[0mchunksize\u001b[0m \u001b[0;32mor\u001b[0m \u001b[0miterator\u001b[0m\u001b[0;34m:\u001b[0m\u001b[0;34m\u001b[0m\u001b[0;34m\u001b[0m\u001b[0m\n",
      "\u001b[0;32m~/Documents/School/SNAP/projects/disease-protein-prediction/env/lib/python3.7/site-packages/pandas/io/parsers.py\u001b[0m in \u001b[0;36m__init__\u001b[0;34m(self, f, engine, **kwds)\u001b[0m\n\u001b[1;32m    785\u001b[0m             \u001b[0mself\u001b[0m\u001b[0;34m.\u001b[0m\u001b[0moptions\u001b[0m\u001b[0;34m[\u001b[0m\u001b[0;34m'has_index_names'\u001b[0m\u001b[0;34m]\u001b[0m \u001b[0;34m=\u001b[0m \u001b[0mkwds\u001b[0m\u001b[0;34m[\u001b[0m\u001b[0;34m'has_index_names'\u001b[0m\u001b[0;34m]\u001b[0m\u001b[0;34m\u001b[0m\u001b[0;34m\u001b[0m\u001b[0m\n\u001b[1;32m    786\u001b[0m \u001b[0;34m\u001b[0m\u001b[0m\n\u001b[0;32m--> 787\u001b[0;31m         \u001b[0mself\u001b[0m\u001b[0;34m.\u001b[0m\u001b[0m_make_engine\u001b[0m\u001b[0;34m(\u001b[0m\u001b[0mself\u001b[0m\u001b[0;34m.\u001b[0m\u001b[0mengine\u001b[0m\u001b[0;34m)\u001b[0m\u001b[0;34m\u001b[0m\u001b[0;34m\u001b[0m\u001b[0m\n\u001b[0m\u001b[1;32m    788\u001b[0m \u001b[0;34m\u001b[0m\u001b[0m\n\u001b[1;32m    789\u001b[0m     \u001b[0;32mdef\u001b[0m \u001b[0mclose\u001b[0m\u001b[0;34m(\u001b[0m\u001b[0mself\u001b[0m\u001b[0;34m)\u001b[0m\u001b[0;34m:\u001b[0m\u001b[0;34m\u001b[0m\u001b[0;34m\u001b[0m\u001b[0m\n",
      "\u001b[0;32m~/Documents/School/SNAP/projects/disease-protein-prediction/env/lib/python3.7/site-packages/pandas/io/parsers.py\u001b[0m in \u001b[0;36m_make_engine\u001b[0;34m(self, engine)\u001b[0m\n\u001b[1;32m   1012\u001b[0m     \u001b[0;32mdef\u001b[0m \u001b[0m_make_engine\u001b[0m\u001b[0;34m(\u001b[0m\u001b[0mself\u001b[0m\u001b[0;34m,\u001b[0m \u001b[0mengine\u001b[0m\u001b[0;34m=\u001b[0m\u001b[0;34m'c'\u001b[0m\u001b[0;34m)\u001b[0m\u001b[0;34m:\u001b[0m\u001b[0;34m\u001b[0m\u001b[0;34m\u001b[0m\u001b[0m\n\u001b[1;32m   1013\u001b[0m         \u001b[0;32mif\u001b[0m \u001b[0mengine\u001b[0m \u001b[0;34m==\u001b[0m \u001b[0;34m'c'\u001b[0m\u001b[0;34m:\u001b[0m\u001b[0;34m\u001b[0m\u001b[0;34m\u001b[0m\u001b[0m\n\u001b[0;32m-> 1014\u001b[0;31m             \u001b[0mself\u001b[0m\u001b[0;34m.\u001b[0m\u001b[0m_engine\u001b[0m \u001b[0;34m=\u001b[0m \u001b[0mCParserWrapper\u001b[0m\u001b[0;34m(\u001b[0m\u001b[0mself\u001b[0m\u001b[0;34m.\u001b[0m\u001b[0mf\u001b[0m\u001b[0;34m,\u001b[0m \u001b[0;34m**\u001b[0m\u001b[0mself\u001b[0m\u001b[0;34m.\u001b[0m\u001b[0moptions\u001b[0m\u001b[0;34m)\u001b[0m\u001b[0;34m\u001b[0m\u001b[0;34m\u001b[0m\u001b[0m\n\u001b[0m\u001b[1;32m   1015\u001b[0m         \u001b[0;32melse\u001b[0m\u001b[0;34m:\u001b[0m\u001b[0;34m\u001b[0m\u001b[0;34m\u001b[0m\u001b[0m\n\u001b[1;32m   1016\u001b[0m             \u001b[0;32mif\u001b[0m \u001b[0mengine\u001b[0m \u001b[0;34m==\u001b[0m \u001b[0;34m'python'\u001b[0m\u001b[0;34m:\u001b[0m\u001b[0;34m\u001b[0m\u001b[0;34m\u001b[0m\u001b[0m\n",
      "\u001b[0;32m~/Documents/School/SNAP/projects/disease-protein-prediction/env/lib/python3.7/site-packages/pandas/io/parsers.py\u001b[0m in \u001b[0;36m__init__\u001b[0;34m(self, src, **kwds)\u001b[0m\n\u001b[1;32m   1706\u001b[0m         \u001b[0mkwds\u001b[0m\u001b[0;34m[\u001b[0m\u001b[0;34m'usecols'\u001b[0m\u001b[0;34m]\u001b[0m \u001b[0;34m=\u001b[0m \u001b[0mself\u001b[0m\u001b[0;34m.\u001b[0m\u001b[0musecols\u001b[0m\u001b[0;34m\u001b[0m\u001b[0;34m\u001b[0m\u001b[0m\n\u001b[1;32m   1707\u001b[0m \u001b[0;34m\u001b[0m\u001b[0m\n\u001b[0;32m-> 1708\u001b[0;31m         \u001b[0mself\u001b[0m\u001b[0;34m.\u001b[0m\u001b[0m_reader\u001b[0m \u001b[0;34m=\u001b[0m \u001b[0mparsers\u001b[0m\u001b[0;34m.\u001b[0m\u001b[0mTextReader\u001b[0m\u001b[0;34m(\u001b[0m\u001b[0msrc\u001b[0m\u001b[0;34m,\u001b[0m \u001b[0;34m**\u001b[0m\u001b[0mkwds\u001b[0m\u001b[0;34m)\u001b[0m\u001b[0;34m\u001b[0m\u001b[0;34m\u001b[0m\u001b[0m\n\u001b[0m\u001b[1;32m   1709\u001b[0m \u001b[0;34m\u001b[0m\u001b[0m\n\u001b[1;32m   1710\u001b[0m         \u001b[0mpassed_names\u001b[0m \u001b[0;34m=\u001b[0m \u001b[0mself\u001b[0m\u001b[0;34m.\u001b[0m\u001b[0mnames\u001b[0m \u001b[0;32mis\u001b[0m \u001b[0;32mNone\u001b[0m\u001b[0;34m\u001b[0m\u001b[0;34m\u001b[0m\u001b[0m\n",
      "\u001b[0;32mpandas/_libs/parsers.pyx\u001b[0m in \u001b[0;36mpandas._libs.parsers.TextReader.__cinit__\u001b[0;34m()\u001b[0m\n",
      "\u001b[0;32mpandas/_libs/parsers.pyx\u001b[0m in \u001b[0;36mpandas._libs.parsers.TextReader._setup_parser_source\u001b[0;34m()\u001b[0m\n",
      "\u001b[0;31mFileNotFoundError\u001b[0m: File b'experiments/dpp_predict/random_walk/predictions.csv' does not exist"
     ]
    }
   ],
   "source": [
    "with open(os.path.join(experiment_dir, \"params.json\")) as f:\n",
    "    params = json.load(f)\n",
    "\n",
    "exp = GOEnrichment(experiment_dir, params[\"process_params\"])"
   ]
  },
  {
   "cell_type": "code",
   "execution_count": 4,
   "metadata": {},
   "outputs": [],
   "source": [
    "outputs_path = os.path.join(experiment_dir, \"outputs.pkl\")\n",
    "if os.path.exists(outputs_path):\n",
    "    with open(outputs_path, 'rb') as f:\n",
    "        outputs = pickle.load(f)"
   ]
  },
  {
   "cell_type": "code",
   "execution_count": 8,
   "metadata": {},
   "outputs": [
    {
     "data": {
      "text/plain": [
       "dict_keys(['disease', 'lci', 'random_walk'])"
      ]
     },
     "execution_count": 8,
     "metadata": {},
     "output_type": "execute_result"
    }
   ],
   "source": [
    "outputs[\"C0013182\"].keys()"
   ]
  },
  {
   "cell_type": "code",
   "execution_count": 51,
   "metadata": {},
   "outputs": [],
   "source": [
    "def get_significant_terms(output, threshold=0.05):\n",
    "    \"\"\"\n",
    "    \"\"\"\n",
    "    terms, pvalues = list(zip(*output.items()))\n",
    "    significant_idxs = np.where(np.array(pvalues) < threshold)\n",
    "    return np.array(terms)[significant_idxs]"
   ]
  },
  {
   "cell_type": "markdown",
   "metadata": {},
   "source": [
    "### Jaccard"
   ]
  },
  {
   "cell_type": "code",
   "execution_count": 54,
   "metadata": {},
   "outputs": [],
   "source": [
    "def jaccard(a_terms, b_terms):\n",
    "    \"\"\"\n",
    "    \"\"\"\n",
    "    a_terms = set(a_terms)\n",
    "    b_terms = set(b_terms)\n",
    "    return (len(a_terms & b_terms) / len(a_terms | b_terms) if len(a_terms | b_terms) != 0 else 0)"
   ]
  },
  {
   "cell_type": "code",
   "execution_count": 74,
   "metadata": {},
   "outputs": [
    {
     "name": "stderr",
     "output_type": "stream",
     "text": [
      "100%|██████████| 1811/1811 [04:05<00:00,  6.94it/s]\n"
     ]
    }
   ],
   "source": [
    "output = outputs[\"C0013182\"]\n",
    "\n",
    "jaccard_results = {}\n",
    "for disease_id, output in tqdm(outputs.items()):\n",
    "    disease_terms = get_significant_terms(output[\"disease\"], threshold=0.01)\n",
    "    lci_terms = get_significant_terms(output[\"lci\"], threshold=0.01)\n",
    "    rw_terms = get_significant_terms(output[\"random_walk\"], threshold=0.01)\n",
    "    lci_jaccard = jaccard(disease_terms, lci_terms)\n",
    "    rw_jaccard = jaccard(disease_terms, rw_terms)\n",
    "    jaccard_results[disease_id] = {\n",
    "        \"lci\": lci_jaccard,\n",
    "        \"rw\": rw_jaccard\n",
    "    }"
   ]
  },
  {
   "cell_type": "code",
   "execution_count": 75,
   "metadata": {},
   "outputs": [],
   "source": [
    "jaccard_df = pd.DataFrame(list(jaccard_results.values()), index=list(jaccard_results.keys()))"
   ]
  },
  {
   "cell_type": "code",
   "execution_count": 81,
   "metadata": {},
   "outputs": [
    {
     "data": {
      "text/plain": [
       "<matplotlib.legend.Legend at 0x25f514160>"
      ]
     },
     "execution_count": 81,
     "metadata": {},
     "output_type": "execute_result"
    },
    {
     "data": {
      "image/png": "[encoded data removed]",
      "text/plain": [
       "<Figure size 432x288 with 1 Axes>"
      ]
     },
     "metadata": {},
     "output_type": "display_data"
    }
   ],
   "source": [
    "sns.distplot(jaccard_df[\"lci\"], bins=22, kde=False, label=\"LCI\", hist_kws={\"range\": (0, 1),\n",
    "                                                                                        \"color\": \"#E03C3F\",\n",
    "                                                                                        \"alpha\":0.8})\n",
    "sns.distplot(jaccard_df[\"rw\"], bins=22, kde=False, label=\"Random Walk\", hist_kws={\"range\": (0, 1),\n",
    "                                                                                      \"color\": \"lightgrey\",\n",
    "                                                                                      \"alpha\": 0.8})\n",
    "sns.despine()\n",
    "plt.yscale('linear')\n",
    "plt.xlabel(\"Jaccard similarity of enriched GO terms\")\n",
    "plt.ylabel(\"# of diseases [log]\")\n",
    "plt.legend()\n",
    "#plt.savefig(\"../experiments/go_enrichment/lci/lci_rw_go.pdf\")"
   ]
  },
  {
   "cell_type": "code",
   "execution_count": 80,
   "metadata": {},
   "outputs": [
    {
     "data": {
      "text/plain": [
       "<matplotlib.axes._subplots.AxesSubplot at 0x25f225978>"
      ]
     },
     "execution_count": 80,
     "metadata": {},
     "output_type": "execute_result"
    },
    {
     "data": {
      "image/png": "[encoded data removed]",
      "text/plain": [
       "<Figure size 432x288 with 1 Axes>"
      ]
     },
     "metadata": {},
     "output_type": "display_data"
    }
   ],
   "source": [
    "sns.distplot(jaccard_df[\"lci\"] - jaccard_df[\"rw\"])"
   ]
  },
  {
   "cell_type": "markdown",
   "metadata": {},
   "source": [
    "### Spearman"
   ]
  },
  {
   "cell_type": "code",
   "execution_count": 85,
   "metadata": {},
   "outputs": [],
   "source": [
    "from scipy.stats import spearmanr\n",
    " \n",
    "def compute_spearman_correlation(a_term_to_pval, b_term_to_pval):\n",
    "        \"\"\"\n",
    "        \"\"\"\n",
    "        terms = list(a_term_to_pval.keys())\n",
    "        sp_corr, sp_pval = spearmanr([a_term_to_pval[term] for term in terms],\n",
    "                                     [b_term_to_pval[term] for term in terms])\n",
    "        return sp_corr, sp_pval"
   ]
  },
  {
   "cell_type": "code",
   "execution_count": 92,
   "metadata": {},
   "outputs": [
    {
     "name": "stderr",
     "output_type": "stream",
     "text": [
      "  3%|▎         | 48/1811 [00:02<01:20, 21.80it/s]/Users/sabrieyuboglu/Documents/School/SNAP/projects/disease-protein-prediction/env/lib/python3.7/site-packages/numpy/lib/function_base.py:2530: RuntimeWarning: invalid value encountered in true_divide\n",
      "  c /= stddev[:, None]\n",
      "/Users/sabrieyuboglu/Documents/School/SNAP/projects/disease-protein-prediction/env/lib/python3.7/site-packages/numpy/lib/function_base.py:2531: RuntimeWarning: invalid value encountered in true_divide\n",
      "  c /= stddev[None, :]\n",
      "/Users/sabrieyuboglu/Documents/School/SNAP/projects/disease-protein-prediction/env/lib/python3.7/site-packages/scipy/stats/_distn_infrastructure.py:877: RuntimeWarning: invalid value encountered in greater\n",
      "  return (self.a < x) & (x < self.b)\n",
      "/Users/sabrieyuboglu/Documents/School/SNAP/projects/disease-protein-prediction/env/lib/python3.7/site-packages/scipy/stats/_distn_infrastructure.py:877: RuntimeWarning: invalid value encountered in less\n",
      "  return (self.a < x) & (x < self.b)\n",
      "/Users/sabrieyuboglu/Documents/School/SNAP/projects/disease-protein-prediction/env/lib/python3.7/site-packages/scipy/stats/_distn_infrastructure.py:1831: RuntimeWarning: invalid value encountered in less_equal\n",
      "  cond2 = cond0 & (x <= self.a)\n",
      "100%|██████████| 1811/1811 [01:18<00:00, 23.14it/s]\n"
     ]
    }
   ],
   "source": [
    "spearman_results = {}\n",
    "for disease_id, output in tqdm(outputs.items()):\n",
    "    lci_spearman, _ = compute_spearman_correlation(output[\"disease\"], output[\"lci\"])\n",
    "    rw_spearman, _ = compute_spearman_correlation(output[\"disease\"], output[\"random_walk\"])\n",
    "    spearman_results[disease_id] = {\n",
    "        \"lci\": lci_spearman,\n",
    "        \"rw\": rw_spearman\n",
    "    }"
   ]
  },
  {
   "cell_type": "code",
   "execution_count": 94,
   "metadata": {},
   "outputs": [],
   "source": [
    "spearman_df = pd.DataFrame(list(spearman_results.values()), index=list(spearman_results.keys()))"
   ]
  },
  {
   "cell_type": "code",
   "execution_count": 103,
   "metadata": {},
   "outputs": [
    {
     "name": "stderr",
     "output_type": "stream",
     "text": [
      "/Users/sabrieyuboglu/Documents/School/SNAP/projects/disease-protein-prediction/env/lib/python3.7/site-packages/statsmodels/nonparametric/kde.py:448: RuntimeWarning: invalid value encountered in greater\n",
      "  X = X[np.logical_and(X > clip[0], X < clip[1])] # won't work for two columns.\n",
      "/Users/sabrieyuboglu/Documents/School/SNAP/projects/disease-protein-prediction/env/lib/python3.7/site-packages/statsmodels/nonparametric/kde.py:448: RuntimeWarning: invalid value encountered in less\n",
      "  X = X[np.logical_and(X > clip[0], X < clip[1])] # won't work for two columns.\n"
     ]
    },
    {
     "data": {
      "text/plain": [
       "<matplotlib.legend.Legend at 0x263ded5c0>"
      ]
     },
     "execution_count": 103,
     "metadata": {},
     "output_type": "execute_result"
    },
    {
     "data": {
      "image/png": "[encoded data removed]",
      "text/plain": [
       "<Figure size 432x288 with 1 Axes>"
      ]
     },
     "metadata": {},
     "output_type": "display_data"
    }
   ],
   "source": [
    "sns.distplot(spearman_df[\"lci\"], bins=22, kde=True, hist=False, label=\"LCI\", hist_kws={\"range\": (0, 1),\n",
    "                                                                                        \"color\": \"#E03C3F\",\n",
    "                                                                                        \"alpha\":0.8})\n",
    "sns.distplot(spearman_df[\"rw\"], bins=22, kde=True, hist=False, label=\"Random Walk\", hist_kws={\"range\": (0, 1),\n",
    "                                                                                      \"color\": \"lightgrey\",\n",
    "                                                                                      \"alpha\": 0.8})\n",
    "sns.despine()\n",
    "plt.yscale('linear')\n",
    "plt.xlabel(\"Jaccard similarity of enriched GO terms\")\n",
    "plt.ylabel(\"# of diseases [linear]\")\n",
    "plt.legend()\n",
    "#plt.savefig(\"../experiments/go_enrichment/lci/lci_rw_go.pdf\")"
   ]
  },
  {
   "cell_type": "markdown",
   "metadata": {},
   "source": [
    "### Pearson"
   ]
  },
  {
   "cell_type": "code",
   "execution_count": 109,
   "metadata": {},
   "outputs": [],
   "source": [
    "from scipy.stats import pearsonr\n",
    " \n",
    "def compute_pearson_correlation(a_term_to_pval, b_term_to_pval):\n",
    "        \"\"\"\n",
    "        \"\"\"\n",
    "        terms = list(a_term_to_pval.keys())\n",
    "        sp_corr, sp_pval = pearsonr([a_term_to_pval[term] for term in terms],\n",
    "                                    [b_term_to_pval[term] for term in terms])\n",
    "        return sp_corr, sp_pval"
   ]
  },
  {
   "cell_type": "code",
   "execution_count": 110,
   "metadata": {},
   "outputs": [
    {
     "name": "stderr",
     "output_type": "stream",
     "text": [
      "100%|██████████| 1811/1811 [00:58<00:00, 39.14it/s]\n"
     ]
    }
   ],
   "source": [
    "pearson_results = {}\n",
    "for disease_id, output in tqdm(outputs.items()):\n",
    "    lci_pearson, _ = compute_pearson_correlation(output[\"disease\"], output[\"lci\"])\n",
    "    rw_pearson, _ = compute_pearson_correlation(output[\"disease\"], output[\"random_walk\"])\n",
    "    pearson_results[disease_id] = {\n",
    "        \"lci\": lci_pearson,\n",
    "        \"rw\": rw_pearson\n",
    "    }\n",
    "    "
   ]
  },
  {
   "cell_type": "code",
   "execution_count": 111,
   "metadata": {},
   "outputs": [],
   "source": [
    "pearson_df = pd.DataFrame(list(spearman_results.values()), index=list(spearman_results.keys()))"
   ]
  },
  {
   "cell_type": "code",
   "execution_count": 131,
   "metadata": {},
   "outputs": [
    {
     "data": {
      "text/plain": [
       "<matplotlib.legend.Legend at 0x2677fe748>"
      ]
     },
     "execution_count": 131,
     "metadata": {},
     "output_type": "execute_result"
    },
    {
     "data": {
      "image/png": "[encoded data removed]",
      "text/plain": [
       "<Figure size 432x288 with 1 Axes>"
      ]
     },
     "metadata": {},
     "output_type": "display_data"
    }
   ],
   "source": [
    "sns.distplot(pearson_df[\"lci\"].nlargest(250), bins=25, kde=False, hist=True, label=\"LCI\", hist_kws={\n",
    "                                                                                        \"color\": \"#E03C3F\",\n",
    "                                                                                        \"alpha\":0.8})\n",
    "sns.distplot(pearson_df[\"rw\"].nlargest(250), bins=25, kde=False, hist=True, label=\"Random Walk\", hist_kws={\n",
    "                                                                                      \"color\": \"lightgrey\",\n",
    "                                                                                      \"alpha\": 0.8})\n",
    "sns.despine()\n",
    "plt.yscale('linear')\n",
    "plt.xlabel(\"SpearmanR of Functional Terms (top 250)\")\n",
    "plt.ylabel(\"# of diseases [linear]\")\n",
    "plt.legend()\n",
    "#plt.savefig(\"../experiments/go_enrichment/lci/lci_rw_go.pdf\")"
   ]
  },
  {
   "cell_type": "code",
   "execution_count": 117,
   "metadata": {},
   "outputs": [
    {
     "data": {
      "text/plain": [
       "0.24662556342597527"
      ]
     },
     "execution_count": 117,
     "metadata": {},
     "output_type": "execute_result"
    }
   ],
   "source": [
    "np.mean(pearson_df[\"lci\"])"
   ]
  },
  {
   "cell_type": "code",
   "execution_count": 118,
   "metadata": {},
   "outputs": [
    {
     "data": {
      "text/plain": [
       "0.22427117693116"
      ]
     },
     "execution_count": 118,
     "metadata": {},
     "output_type": "execute_result"
    }
   ],
   "source": [
    "np.mean(pearson_df[\"rw\"])"
   ]
  },
  {
   "cell_type": "code",
   "execution_count": null,
   "metadata": {},
   "outputs": [],
   "source": []
  }
 ],
 "metadata": {
  "kernelspec": {
   "display_name": "disease-protein-prediction",
   "language": "python",
   "name": "disease-protein-prediction"
  },
  "language_info": {
   "codemirror_mode": {
    "name": "ipython",
    "version": 3
   },
   "file_extension": ".py",
   "mimetype": "text/x-python",
   "name": "python",
   "nbconvert_exporter": "python",
   "pygments_lexer": "ipython3",
   "version": "3.7.1"
  },
  "toc": {
   "base_numbering": 1,
   "nav_menu": {},
   "number_sections": true,
   "sideBar": true,
   "skip_h1_title": false,
   "title_cell": "Table of Contents",
   "title_sidebar": "Contents",
   "toc_cell": false,
   "toc_position": {},
   "toc_section_display": true,
   "toc_window_display": true
  }
 },
 "nbformat": 4,
 "nbformat_minor": 2
}
