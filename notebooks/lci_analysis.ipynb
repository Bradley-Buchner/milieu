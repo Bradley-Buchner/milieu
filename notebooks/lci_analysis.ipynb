{
 "cells": [
  {
   "cell_type": "code",
   "execution_count": 28,
   "metadata": {},
   "outputs": [
    {
     "name": "stdout",
     "output_type": "stream",
     "text": [
      "The autoreload extension is already loaded. To reload it, use:\n",
      "  %reload_ext autoreload\n"
     ]
    }
   ],
   "source": [
    "%load_ext autoreload\n",
    "%autoreload 2\n",
    "\n",
    "import sys, os\n",
    "import pickle\n",
    "\n",
    "import numpy as np\n",
    "import matplotlib.pyplot as plt \n",
    "import torch\n",
    "import seaborn as sns\n",
    "import numpy as np\n",
    "from scipy.stats import pearsonr\n",
    "import pandas as pd\n",
    "import networkx as nx\n",
    "from tqdm import tqdm\n",
    "#from tqdm import tqdm_notebook as tqdm\n",
    "\n",
    "from dpp.data.network import PPINetwork\n",
    "from dpp.util import Params, prepare_sns, load_mapping\n",
    "from dpp.data.associations import load_diseases\n",
    "\n",
    "os.chdir(\"/Users/sabrieyuboglu/Documents/School/SNAP/projects/disease-protein-prediction\")"
   ]
  },
  {
   "cell_type": "code",
   "execution_count": 22,
   "metadata": {},
   "outputs": [],
   "source": [
    "diseases = load_diseases(\"data/associations/disgenet-associations.csv\")\n",
    "entrez_to_name = load_mapping(\"data/protein/symbol_to_entrez.txt\", \"\\t\", reverse=True,\n",
    "                              b_transform=int)"
   ]
  },
  {
   "cell_type": "code",
   "execution_count": 6,
   "metadata": {},
   "outputs": [],
   "source": [
    "network = PPINetwork(\"data/networks/bio-pathways-network.txt\")"
   ]
  },
  {
   "cell_type": "markdown",
   "metadata": {},
   "source": [
    "# Common Interactors"
   ]
  },
  {
   "cell_type": "code",
   "execution_count": 23,
   "metadata": {},
   "outputs": [],
   "source": [
    "def compute_common_interactors(diseases, network, null=False): \n",
    "    \"\"\"\n",
    "    \"\"\"\n",
    "    adj = network.adj_matrix\n",
    "    ci_pairs = [set() for i in range(len(network))]\n",
    "    ci_diseases = [set() for i in range(len(network))]\n",
    "    for disease in tqdm(diseases.values()):\n",
    "        proteins = disease.to_node_array(network)\n",
    "        if null:\n",
    "            proteins = np.random.choice(adj.shape[0], len(proteins), replace=False)\n",
    "\n",
    "        for a, protein_a in enumerate(proteins):\n",
    "            for b, protein_b in enumerate(proteins):\n",
    "                if a < b:\n",
    "                    break \n",
    "                neighbors_a = adj[protein_a, :]\n",
    "                neighbors_b = adj[protein_b, :]\n",
    "                cis = np.where(np.multiply(neighbors_a, neighbors_b) == 1)[0]\n",
    "                for ci in cis:\n",
    "                    ci_pairs[ci].add((protein_a, protein_b))\n",
    "                    ci_diseases[ci].add(disease.id)\n",
    "    return ci_pairs, ci_diseases"
   ]
  },
  {
   "cell_type": "code",
   "execution_count": 24,
   "metadata": {},
   "outputs": [
    {
     "name": "stderr",
     "output_type": "stream",
     "text": [
      "100%|██████████| 2297/2297 [04:10<00:00,  9.16it/s]  \n",
      "100%|██████████| 2297/2297 [04:04<00:00,  9.39it/s]  \n",
      "100%|██████████| 2297/2297 [04:02<00:00,  9.48it/s]  \n",
      "100%|██████████| 2297/2297 [04:03<00:00,  9.43it/s]  \n",
      "100%|██████████| 2297/2297 [04:03<00:00,  9.44it/s]  \n",
      "100%|██████████| 2297/2297 [04:04<00:00,  9.40it/s]  \n",
      "100%|██████████| 2297/2297 [04:05<00:00,  9.37it/s]  \n",
      "100%|██████████| 2297/2297 [04:12<00:00,  9.09it/s]  \n",
      "100%|██████████| 2297/2297 [05:35<00:00,  6.85it/s]  \n",
      "100%|██████████| 2297/2297 [06:24<00:00,  5.97it/s]  \n",
      "100%|██████████| 2297/2297 [04:58<00:00,  7.68it/s]  \n",
      "100%|██████████| 2297/2297 [04:33<00:00,  8.41it/s]  \n",
      "100%|██████████| 2297/2297 [04:30<00:00,  8.49it/s]  \n",
      "100%|██████████| 2297/2297 [04:03<00:00,  9.44it/s]  \n",
      "100%|██████████| 2297/2297 [04:24<00:00,  8.67it/s]  \n",
      "100%|██████████| 2297/2297 [04:32<00:00,  8.42it/s]  \n",
      "100%|██████████| 2297/2297 [04:10<00:00,  9.18it/s]  \n",
      "100%|██████████| 2297/2297 [04:55<00:00,  7.78it/s]  \n",
      "100%|██████████| 2297/2297 [04:32<00:00,  8.44it/s]  \n",
      "100%|██████████| 2297/2297 [03:53<00:00,  9.83it/s]  \n",
      "100%|██████████| 2297/2297 [04:08<00:00,  9.25it/s]  \n",
      "100%|██████████| 2297/2297 [04:37<00:00,  8.27it/s]  \n",
      "100%|██████████| 2297/2297 [04:45<00:00,  8.03it/s]  \n",
      "100%|██████████| 2297/2297 [04:03<00:00,  9.45it/s]  \n",
      "100%|██████████| 2297/2297 [04:05<00:00,  9.35it/s]  \n",
      "100%|██████████| 2297/2297 [04:35<00:00,  8.33it/s]  \n",
      "100%|██████████| 2297/2297 [04:20<00:00,  8.81it/s]  \n",
      "100%|██████████| 2297/2297 [04:41<00:00,  8.16it/s]  \n",
      "100%|██████████| 2297/2297 [04:33<00:00,  8.40it/s]  \n",
      "100%|██████████| 2297/2297 [04:01<00:00,  9.53it/s]  \n"
     ]
    }
   ],
   "source": [
    "null_pairs = []\n",
    "null_diseases = []\n",
    "for i in range(30): \n",
    "    ci_pairs, ci_diseases  = compute_common_interactors(diseases, network, null=True)\n",
    "    null_pairs.append(ci_pairs)\n",
    "    null_diseases.append(ci_diseases)"
   ]
  },
  {
   "cell_type": "code",
   "execution_count": 25,
   "metadata": {},
   "outputs": [],
   "source": [
    "null_n_pairs = [np.array(map(len, pairs)) for pairs in null_pairs]"
   ]
  },
  {
   "cell_type": "code",
   "execution_count": null,
   "metadata": {},
   "outputs": [],
   "source": [
    "with open(\"experiments/dpp_evaluate/lci/null_pairs.pkl\",'wb') as f:\n",
    "    pickle.dump(null_pairs, f)"
   ]
  },
  {
   "cell_type": "code",
   "execution_count": null,
   "metadata": {},
   "outputs": [],
   "source": [
    "np.stack(null_n_pairs, axis=1).shape"
   ]
  },
  {
   "cell_type": "code",
   "execution_count": null,
   "metadata": {},
   "outputs": [],
   "source": [
    "mean_null_n_pairs = np.mean(np.stack(null_n_pairs, axis=1), axis=1)"
   ]
  },
  {
   "cell_type": "code",
   "execution_count": null,
   "metadata": {},
   "outputs": [],
   "source": [
    "degree_vec = np.array([network.nx.degree(node) for node in range(len(network))])"
   ]
  },
  {
   "cell_type": "code",
   "execution_count": null,
   "metadata": {},
   "outputs": [],
   "source": []
  }
 ],
 "metadata": {
  "kernelspec": {
   "display_name": "disease-protein-prediction",
   "language": "python",
   "name": "disease-protein-prediction"
  },
  "language_info": {
   "codemirror_mode": {
    "name": "ipython",
    "version": 3
   },
   "file_extension": ".py",
   "mimetype": "text/x-python",
   "name": "python",
   "nbconvert_exporter": "python",
   "pygments_lexer": "ipython3",
   "version": "3.7.1"
  },
  "toc": {
   "base_numbering": 1,
   "nav_menu": {},
   "number_sections": true,
   "sideBar": true,
   "skip_h1_title": false,
   "title_cell": "Table of Contents",
   "title_sidebar": "Contents",
   "toc_cell": false,
   "toc_position": {},
   "toc_section_display": true,
   "toc_window_display": false
  }
 },
 "nbformat": 4,
 "nbformat_minor": 2
}
