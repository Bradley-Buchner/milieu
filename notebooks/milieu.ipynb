{
 "cells": [
  {
   "cell_type": "markdown",
   "metadata": {},
   "source": [
    "# Milieu\n",
    "\n",
    "Milieu is a disease protein discovery algorithm based on the hypothesis that proteins associated with the same disease share mutual interactors in the protein-protein interaction network.   "
   ]
  },
  {
   "cell_type": "code",
   "execution_count": 1,
   "metadata": {},
   "outputs": [],
   "source": [
    "%load_ext autoreload\n",
    "%autoreload 2\n",
    "\n",
    "import os\n",
    "\n",
    "import networkx as nx\n",
    "\n",
    "from milieu.data.network import PPINetwork\n",
    "from milieu.data.associations import load_diseases\n",
    "from milieu.milieu import MilieuDataset, Milieu\n",
    "from milieu.paper.figures.network_vis import show_network\n",
    "\n",
    "#os.chdir(\"/dfs/scratch0/sabri/milieu\")\n",
    "os.chdir(\"/Users/sabrieyuboglu/Documents/sabri/research/projects/milieu/milieu\")"
   ]
  },
  {
   "cell_type": "markdown",
   "metadata": {},
   "source": [
    "## Load the PPI Network\n",
    "\n",
    "We use the protein-protein interaction network compiled by Menche *et al.*[1]. The network consists of 342,353 interactions between 21,557 proteins. Se\n",
    "In `data/networks`, you can find this network `bio-pathways-network.txt`. See methods for a more detailed description of the network. \n",
    "You can also find two other protein-protein interaction networks `string-network.txt` and `bio-grid-network.txt`. See Supplementary Note 3 for a detailed description."
   ]
  },
  {
   "cell_type": "code",
   "execution_count": 2,
   "metadata": {},
   "outputs": [],
   "source": [
    "network = PPINetwork(\"data/networks/bio-pathways-network.txt\")"
   ]
  },
  {
   "cell_type": "markdown",
   "metadata": {},
   "source": [
    "## Build the *Milieu* Model\n",
    "\n",
    "We use params"
   ]
  },
  {
   "cell_type": "code",
   "execution_count": 3,
   "metadata": {},
   "outputs": [],
   "source": [
    "params = {\n",
    "    \"cuda\": False,\n",
    "    \"device\": 2,\n",
    "    \n",
    "    \"batch_size\": 200,\n",
    "    \"num_workers\": 4,\n",
    "    \"num_epochs\": 10,\n",
    "    \n",
    "    \"optim_class\": \"Adam\",\n",
    "    \"optim_args\": {\n",
    "        \"lr\": 0.01,\n",
    "        \"weight_decay\": 0.0\n",
    "    },\n",
    "    \n",
    "    \"metric_configs\": [\n",
    "        {\n",
    "            \"name\": \"recall_at_25\",\n",
    "            \"fn\": \"batch_recall_at\", \n",
    "            \"args\": {\"k\":25}\n",
    "        }\n",
    "    ]\n",
    "}"
   ]
  },
  {
   "cell_type": "code",
   "execution_count": 4,
   "metadata": {},
   "outputs": [
    {
     "name": "stdout",
     "output_type": "stream",
     "text": [
      "Milieu\n",
      "Setting parameters...\n",
      "Building model...\n",
      "Building optimizer...\n",
      "Done.\n"
     ]
    }
   ],
   "source": [
    "milieu = Milieu(network, params)"
   ]
  },
  {
   "cell_type": "markdown",
   "metadata": {},
   "source": [
    "## Train the Model\n",
    "*Milieu* is trained on a large set of known disease-protein associations. We use"
   ]
  },
  {
   "cell_type": "code",
   "execution_count": 5,
   "metadata": {},
   "outputs": [],
   "source": [
    "diseases = list(load_diseases(\"data/go_associations/go_function/associations.csv\", exclude_splits=[\"none\"]).values())\n",
    "train_diseases = diseases[:int(len(diseases)* 0.9)]\n",
    "valid_diseases = diseases[int(len(diseases)* 0.9):]\n",
    "train_dataset = MilieuDataset(network, diseases=train_diseases)\n",
    "valid_dataset = MilieuDataset(network, diseases=valid_diseases)"
   ]
  },
  {
   "cell_type": "code",
   "execution_count": 6,
   "metadata": {},
   "outputs": [
    {
     "name": "stdout",
     "output_type": "stream",
     "text": [
      "Starting training for 10 epoch(s)\n",
      "Epoch 1 of 10\n",
      "Training\n"
     ]
    },
    {
     "name": "stderr",
     "output_type": "stream",
     "text": [
      "100%|██████████| 3/3 [00:07<00:00,  2.46s/it, loss=1.373]"
     ]
    },
    {
     "name": "stdout",
     "output_type": "stream",
     "text": [
      "Validation\n"
     ]
    },
    {
     "name": "stderr",
     "output_type": "stream",
     "text": [
      "\n",
      "100%|██████████| 1/1 [00:00<00:00,  1.38it/s]"
     ]
    },
    {
     "name": "stdout",
     "output_type": "stream",
     "text": [
      "Epoch 2 of 10\n",
      "Training\n"
     ]
    },
    {
     "name": "stderr",
     "output_type": "stream",
     "text": [
      "\n",
      "100%|██████████| 3/3 [00:07<00:00,  2.47s/it, loss=1.361]"
     ]
    },
    {
     "name": "stdout",
     "output_type": "stream",
     "text": [
      "Validation\n"
     ]
    },
    {
     "name": "stderr",
     "output_type": "stream",
     "text": [
      "\n",
      "100%|██████████| 1/1 [00:00<00:00,  1.31it/s]"
     ]
    },
    {
     "name": "stdout",
     "output_type": "stream",
     "text": [
      "Epoch 3 of 10\n",
      "Training\n"
     ]
    },
    {
     "name": "stderr",
     "output_type": "stream",
     "text": [
      "\n",
      "100%|██████████| 3/3 [00:07<00:00,  2.46s/it, loss=1.353]"
     ]
    },
    {
     "name": "stdout",
     "output_type": "stream",
     "text": [
      "Validation\n"
     ]
    },
    {
     "name": "stderr",
     "output_type": "stream",
     "text": [
      "\n",
      "100%|██████████| 1/1 [00:00<00:00,  1.37it/s]"
     ]
    },
    {
     "name": "stdout",
     "output_type": "stream",
     "text": [
      "Epoch 4 of 10\n",
      "Training\n"
     ]
    },
    {
     "name": "stderr",
     "output_type": "stream",
     "text": [
      "\n",
      "100%|██████████| 3/3 [00:07<00:00,  2.45s/it, loss=1.350]"
     ]
    },
    {
     "name": "stdout",
     "output_type": "stream",
     "text": [
      "Validation\n"
     ]
    },
    {
     "name": "stderr",
     "output_type": "stream",
     "text": [
      "\n",
      "100%|██████████| 1/1 [00:00<00:00,  1.37it/s]"
     ]
    },
    {
     "name": "stdout",
     "output_type": "stream",
     "text": [
      "Epoch 5 of 10\n",
      "Training\n"
     ]
    },
    {
     "name": "stderr",
     "output_type": "stream",
     "text": [
      "\n",
      "100%|██████████| 3/3 [00:07<00:00,  2.45s/it, loss=1.340]"
     ]
    },
    {
     "name": "stdout",
     "output_type": "stream",
     "text": [
      "Validation\n"
     ]
    },
    {
     "name": "stderr",
     "output_type": "stream",
     "text": [
      "\n",
      "100%|██████████| 1/1 [00:00<00:00,  1.15it/s]"
     ]
    },
    {
     "name": "stdout",
     "output_type": "stream",
     "text": [
      "Epoch 6 of 10\n",
      "Training\n"
     ]
    },
    {
     "name": "stderr",
     "output_type": "stream",
     "text": [
      "\n",
      "100%|██████████| 3/3 [00:07<00:00,  2.64s/it, loss=1.337]"
     ]
    },
    {
     "name": "stdout",
     "output_type": "stream",
     "text": [
      "Validation\n"
     ]
    },
    {
     "name": "stderr",
     "output_type": "stream",
     "text": [
      "\n",
      "100%|██████████| 1/1 [00:00<00:00,  1.31it/s]"
     ]
    },
    {
     "name": "stdout",
     "output_type": "stream",
     "text": [
      "Epoch 7 of 10\n",
      "Training\n"
     ]
    },
    {
     "name": "stderr",
     "output_type": "stream",
     "text": [
      "\n",
      "100%|██████████| 3/3 [00:07<00:00,  2.59s/it, loss=1.337]"
     ]
    },
    {
     "name": "stdout",
     "output_type": "stream",
     "text": [
      "Validation\n"
     ]
    },
    {
     "name": "stderr",
     "output_type": "stream",
     "text": [
      "\n",
      "100%|██████████| 1/1 [00:00<00:00,  1.34it/s]"
     ]
    },
    {
     "name": "stdout",
     "output_type": "stream",
     "text": [
      "Epoch 8 of 10\n",
      "Training\n"
     ]
    },
    {
     "name": "stderr",
     "output_type": "stream",
     "text": [
      "\n",
      "100%|██████████| 3/3 [00:07<00:00,  2.60s/it, loss=1.330]"
     ]
    },
    {
     "name": "stdout",
     "output_type": "stream",
     "text": [
      "Validation\n"
     ]
    },
    {
     "name": "stderr",
     "output_type": "stream",
     "text": [
      "\n",
      "100%|██████████| 1/1 [00:00<00:00,  1.33it/s]"
     ]
    },
    {
     "name": "stdout",
     "output_type": "stream",
     "text": [
      "Epoch 9 of 10\n",
      "Training\n"
     ]
    },
    {
     "name": "stderr",
     "output_type": "stream",
     "text": [
      "\n",
      "100%|██████████| 3/3 [00:07<00:00,  2.53s/it, loss=1.327]"
     ]
    },
    {
     "name": "stdout",
     "output_type": "stream",
     "text": [
      "Validation\n"
     ]
    },
    {
     "name": "stderr",
     "output_type": "stream",
     "text": [
      "\n",
      "100%|██████████| 1/1 [00:00<00:00,  1.36it/s]"
     ]
    },
    {
     "name": "stdout",
     "output_type": "stream",
     "text": [
      "Epoch 10 of 10\n",
      "Training\n"
     ]
    },
    {
     "name": "stderr",
     "output_type": "stream",
     "text": [
      "\n",
      "100%|██████████| 3/3 [00:07<00:00,  2.54s/it, loss=1.323]"
     ]
    },
    {
     "name": "stdout",
     "output_type": "stream",
     "text": [
      "Validation\n"
     ]
    },
    {
     "name": "stderr",
     "output_type": "stream",
     "text": [
      "\n",
      "100%|██████████| 1/1 [00:00<00:00,  1.26it/s]\n"
     ]
    },
    {
     "data": {
      "text/plain": [
       "([{'recall_at_25': 0.18099820483749055},\n",
       "  {'recall_at_25': 0.17019895259691176},\n",
       "  {'recall_at_25': 0.19315635460533417},\n",
       "  {'recall_at_25': 0.15077692743764173},\n",
       "  {'recall_at_25': 0.1838776455026455},\n",
       "  {'recall_at_25': 0.1591621720116618},\n",
       "  {'recall_at_25': 0.14619331065759636},\n",
       "  {'recall_at_25': 0.1802741874527589},\n",
       "  {'recall_at_25': 0.16835479429867184},\n",
       "  {'recall_at_25': 0.18434456322211423}],\n",
       " [defaultdict(list, {'recall_at_25': [0.19490476190476186]}),\n",
       "  defaultdict(list, {'recall_at_25': [0.1587142857142857]}),\n",
       "  defaultdict(list, {'recall_at_25': [0.2660476190476191]}),\n",
       "  defaultdict(list, {'recall_at_25': [0.18538095238095237]}),\n",
       "  defaultdict(list, {'recall_at_25': [0.1967142857142857]}),\n",
       "  defaultdict(list, {'recall_at_25': [0.20485714285714285]}),\n",
       "  defaultdict(list, {'recall_at_25': [0.2126666666666667]}),\n",
       "  defaultdict(list, {'recall_at_25': [0.2353333333333333]}),\n",
       "  defaultdict(list, {'recall_at_25': [0.244]}),\n",
       "  defaultdict(list, {'recall_at_25': [0.17652380952380953]})])"
      ]
     },
     "execution_count": 6,
     "metadata": {},
     "output_type": "execute_result"
    }
   ],
   "source": [
    "milieu.train_model(train_dataset, valid_dataset)"
   ]
  },
  {
   "cell_type": "markdown",
   "metadata": {},
   "source": [
    "## Predict Novel Associations"
   ]
  },
  {
   "cell_type": "code",
   "execution_count": 7,
   "metadata": {},
   "outputs": [],
   "source": [
    "cholecystitis_proteins = ['ENG', 'ALDOA', 'GDF2', 'GPI', 'HK1', 'SMAD4','ARSA', \n",
    "                          'ABCB4', 'PKLR', 'BPGM', 'TPI1', 'ACVRL1']"
   ]
  },
  {
   "cell_type": "code",
   "execution_count": 8,
   "metadata": {},
   "outputs": [],
   "source": [
    "diseases = load_diseases(\"data/go_associations/go_function/associations.csv\", exclude_splits=[\"none\"])"
   ]
  },
  {
   "cell_type": "code",
   "execution_count": 9,
   "metadata": {},
   "outputs": [],
   "source": [
    "import random"
   ]
  },
  {
   "cell_type": "code",
   "execution_count": 12,
   "metadata": {},
   "outputs": [
    {
     "data": {
      "text/plain": [
       "14"
      ]
     },
     "execution_count": 12,
     "metadata": {},
     "output_type": "execute_result"
    }
   ],
   "source": [
    "keys = list(diseases.keys())\n",
    "function = diseases[random.choice(keys)]\n",
    "function = diseases['GO:0008235']\n",
    "len(function.proteins)"
   ]
  },
  {
   "cell_type": "code",
   "execution_count": 13,
   "metadata": {},
   "outputs": [
    {
     "data": {
      "text/plain": [
       "('metalloexopeptidase activity', 'GO:0008235')"
      ]
     },
     "execution_count": 13,
     "metadata": {},
     "output_type": "execute_result"
    }
   ],
   "source": [
    "function.name, function.id"
   ]
  },
  {
   "cell_type": "code",
   "execution_count": 14,
   "metadata": {},
   "outputs": [],
   "source": [
    "predicted_proteins = milieu.discover(entrez_ids=function.proteins, top_k=5)\n",
    "predicted_proteins = list(zip(*predicted_proteins))[0]"
   ]
  },
  {
   "cell_type": "code",
   "execution_count": 15,
   "metadata": {},
   "outputs": [],
   "source": [
    "cy_vis = show_network(network, function.proteins, predicted_proteins, id_format=\"entrez\",\n",
    "                      model=milieu,\n",
    "                      show_seed_mi=True, excluded_interactions=[(\"mutual_interactor\", \"mutual_interactor\")],\n",
    "                      save_path=f\"experiments/network_vis/function/{function.id}_cy.json\")"
   ]
  },
  {
   "cell_type": "code",
   "execution_count": 16,
   "metadata": {},
   "outputs": [
    {
     "data": {
      "application/vnd.jupyter.widget-view+json": {
       "model_id": "e05fd806e24745acbe17394b79bdc26f",
       "version_major": 2,
       "version_minor": 0
      },
      "text/plain": [
       "Cytoscape(data={'elements': {'nodes': [{'data': {'role': 'seed', 'id': '3014', 'entrez': '4323', 'genbank': 'M…"
      ]
     },
     "metadata": {},
     "output_type": "display_data"
    }
   ],
   "source": [
    "cy_vis"
   ]
  },
  {
   "cell_type": "markdown",
   "metadata": {},
   "source": [
    "1. Menche, J. et al. Uncovering disease-disease relationships through the incomplete interactome. Science 347, 1257601–1257601 (2015).\n",
    "2."
   ]
  },
  {
   "cell_type": "code",
   "execution_count": null,
   "metadata": {},
   "outputs": [],
   "source": []
  }
 ],
 "metadata": {
  "kernelspec": {
   "display_name": "Python 3",
   "language": "python",
   "name": "python3"
  },
  "language_info": {
   "codemirror_mode": {
    "name": "ipython",
    "version": 3
   },
   "file_extension": ".py",
   "mimetype": "text/x-python",
   "name": "python",
   "nbconvert_exporter": "python",
   "pygments_lexer": "ipython3",
   "version": "3.7.0"
  },
  "toc": {
   "base_numbering": 1,
   "nav_menu": {},
   "number_sections": true,
   "sideBar": true,
   "skip_h1_title": false,
   "title_cell": "Table of Contents",
   "title_sidebar": "Contents",
   "toc_cell": false,
   "toc_position": {},
   "toc_section_display": true,
   "toc_window_display": false
  }
 },
 "nbformat": 4,
 "nbformat_minor": 4
}
