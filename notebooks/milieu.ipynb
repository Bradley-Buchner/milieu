{
 "cells": [
  {
   "cell_type": "markdown",
   "metadata": {},
   "source": [
    "# Milieu\n",
    "\n",
    "Milieu is a disease protein discovery algorithm based on the hypothesis that proteins associated with the same disease share mutual interactors in the protein-protein interaction network.   "
   ]
  },
  {
   "cell_type": "code",
   "execution_count": 138,
   "metadata": {},
   "outputs": [
    {
     "name": "stdout",
     "output_type": "stream",
     "text": [
      "The autoreload extension is already loaded. To reload it, use:\n",
      "  %reload_ext autoreload\n"
     ]
    }
   ],
   "source": [
    "%load_ext autoreload\n",
    "%autoreload 2\n",
    "\n",
    "import os\n",
    "\n",
    "import visJS2jupyter.visJS_module\n",
    "import networkx as nx\n",
    "\n",
    "from milieu.data.network import PPINetwork\n",
    "from milieu.data.associations import load_diseases\n",
    "from milieu.milieu import MilieuDataset, Milieu\n",
    "from milieu.figures.network_vis import show_network\n",
    "\n",
    "#os.chdir(\"/dfs/scratch0/sabri/milieu\")\n",
    "os.chdir(\"/Users/sabrieyuboglu/Documents/sabri/research/milieu\")"
   ]
  },
  {
   "cell_type": "markdown",
   "metadata": {},
   "source": [
    "## Load the PPI Network\n",
    "\n",
    "We use the protein-protein interaction network compiled by Menche *et al.*[1]. The network consists of 342,353 interactions between 21,557 proteins. Se\n",
    "In `data/networks`, you can find this network `bio-pathways-network.txt`. See methods for a more detailed description of the network. \n",
    "You can also find two other protein-protein interaction networks `string-network.txt` and `bio-grid-network.txt`. See Supplementary Note 3 for a detailed description."
   ]
  },
  {
   "cell_type": "code",
   "execution_count": 55,
   "metadata": {},
   "outputs": [],
   "source": [
    "network = PPINetwork(\"data/networks/bio-pathways-network.txt\")"
   ]
  },
  {
   "cell_type": "markdown",
   "metadata": {},
   "source": [
    "## Build the *Milieu* Model\n",
    "\n",
    "We use params"
   ]
  },
  {
   "cell_type": "code",
   "execution_count": 3,
   "metadata": {},
   "outputs": [],
   "source": [
    "params = {\n",
    "    \"cuda\": False,\n",
    "    \"device\": 2,\n",
    "    \n",
    "    \"batch_size\": 200,\n",
    "    \"num_workers\": 4,\n",
    "    \"num_epochs\": 3,\n",
    "    \n",
    "    \"optim_class\": \"Adam\",\n",
    "    \"optim_args\": {\n",
    "        \"lr\": 1,\n",
    "        \"weight_decay\": 0\n",
    "    },\n",
    "    \n",
    "    \"metric_configs\": [\n",
    "        {\n",
    "            \"name\": \"recall_at_25\",\n",
    "            \"fn\": \"batch_recall_at\", \n",
    "            \"args\": {\"k\":25}\n",
    "        }\n",
    "    ]\n",
    "}"
   ]
  },
  {
   "cell_type": "code",
   "execution_count": 4,
   "metadata": {},
   "outputs": [
    {
     "name": "stdout",
     "output_type": "stream",
     "text": [
      "Milieu\n",
      "Setting parameters...\n",
      "Building model...\n",
      "Building optimizer...\n",
      "Done.\n"
     ]
    }
   ],
   "source": [
    "milieu = Milieu(network, params)"
   ]
  },
  {
   "cell_type": "markdown",
   "metadata": {},
   "source": [
    "## Train the Model\n",
    "*Milieu* is trained on a large set of known disease-protein associations. We use"
   ]
  },
  {
   "cell_type": "code",
   "execution_count": 5,
   "metadata": {},
   "outputs": [],
   "source": [
    "diseases = list(load_diseases(\"data/associations/disgenet-associations.csv\", exclude_splits=[\"none\"]).values())\n",
    "train_diseases = diseases[:int(len(diseases)* 0.9)]\n",
    "valid_diseases = diseases[int(len(diseases)* 0.9):]\n",
    "train_dataset = MilieuDataset(network, diseases=train_diseases)\n",
    "valid_dataset = MilieuDataset(network, diseases=valid_diseases)"
   ]
  },
  {
   "cell_type": "markdown",
   "metadata": {},
   "source": [
    "## Predict Novel Associations"
   ]
  },
  {
   "cell_type": "code",
   "execution_count": 6,
   "metadata": {},
   "outputs": [],
   "source": [
    "cholecystitis_proteins = ['ENG', 'ALDOA', 'GDF2', 'GPI', 'HK1', 'SMAD4','ARSA', \n",
    "                          'ABCB4', 'PKLR', 'BPGM', 'TPI1', 'ACVRL1']"
   ]
  },
  {
   "cell_type": "code",
   "execution_count": 148,
   "metadata": {},
   "outputs": [],
   "source": [
    "predicted_proteins = milieu.discover(genbank_ids=cholecystitis_proteins, top_k=10)\n",
    "predicted_proteins = list(zip(*predicted_proteins))[0]"
   ]
  },
  {
   "cell_type": "code",
   "execution_count": 149,
   "metadata": {},
   "outputs": [
    {
     "name": "stdout",
     "output_type": "stream",
     "text": [
      "111\n"
     ]
    },
    {
     "data": {
      "application/vnd.jupyter.widget-view+json": {
       "model_id": "62aa348d39814e5a8fee53370eb365c7",
       "version_major": 2,
       "version_minor": 0
      },
      "text/plain": [
       "Cytoscape(data={'elements': {'nodes': [{'data': {'role': 'seed', 'id': 1443, 'entrez': 2022, 'genbank': 'ENG'}…"
      ]
     },
     "metadata": {},
     "output_type": "display_data"
    }
   ],
   "source": [
    "show_network(network, cholecystitis_proteins, predicted_proteins, style=style, show_seed_mi=False)"
   ]
  },
  {
   "cell_type": "code",
   "execution_count": null,
   "metadata": {},
   "outputs": [],
   "source": []
  },
  {
   "cell_type": "code",
   "execution_count": 32,
   "metadata": {},
   "outputs": [],
   "source": [
    "from cyjupyter import Cytoscape\n"
   ]
  },
  {
   "cell_type": "code",
   "execution_count": 33,
   "metadata": {},
   "outputs": [],
   "source": [
    "\n",
    "minimal_cyjs_network = {\n",
    "    'elements': {\n",
    "        'nodes': [\n",
    "            {'data' : {'id': 'node 1'}},\n",
    "            {'data' : {'id': 'node 2'}},\n",
    "            {'data' : {'id': 'node 3'}},\n",
    "            {'data' : {'id': 'node 4'}}\n",
    "        ],\n",
    "        'edges': [\n",
    "            { 'data': {'id': 'edge1','source': 'node 1','target': 'node 2'}},\n",
    "            { 'data': {'id': 'edge2','source': 'node 1','target': 'node 3'}},\n",
    "            { 'data': {'id': 'edge3','source': 'node 2','target': 'node 3'}},\n",
    "            { 'data': {'id': 'edge4','source': 'node 2','target': 'node 4'}},\n",
    "            { 'data': {'id': 'edge5','source': 'node 3','target': 'node 4'}}\n",
    "        ]\n",
    "    }\n",
    "}"
   ]
  },
  {
   "cell_type": "code",
   "execution_count": 34,
   "metadata": {},
   "outputs": [
    {
     "name": "stdout",
     "output_type": "stream",
     "text": [
      "Response code from NDEx:  200\n"
     ]
    }
   ],
   "source": [
    "\n",
    "# Python client for the NDEx database\n",
    "import ndex2.client as nc\n",
    "\n",
    "# Unique ID for a network entry in NDEx\n",
    "uuid ='f28356ce-362d-11e5-8ac5-06603eb7f303'\n",
    "\n",
    "# NDEx public server URL\n",
    "ndex_url = 'http://public.ndexbio.org/'\n",
    "\n",
    "# Create an instance of NDEx client\n",
    "ndex=nc.Ndex2(ndex_url)\n",
    "\n",
    "# Download the network in CX format\n",
    "response=ndex.get_network_as_cx_stream(uuid)\n",
    "print('Response code from NDEx: ', response.status_code)\n",
    "\n",
    "# Store the data in a Python object\n",
    "cx = response.json()"
   ]
  },
  {
   "cell_type": "code",
   "execution_count": 35,
   "metadata": {},
   "outputs": [
    {
     "data": {
      "application/vnd.jupyter.widget-view+json": {
       "model_id": "1c6150afd3d44a1094fdf0ff66c0de0b",
       "version_major": 2,
       "version_minor": 0
      },
      "text/plain": [
       "Cytoscape(data={'elements': {'nodes': [{'data': {'id': 'node 1'}}, {'data': {'id': 'node 2'}}, {'data': {'id':…"
      ]
     },
     "metadata": {},
     "output_type": "display_data"
    }
   ],
   "source": [
    "Cytoscape(data=minimal_cyjs_network)\n"
   ]
  },
  {
   "cell_type": "code",
   "execution_count": 14,
   "metadata": {},
   "outputs": [],
   "source": [
    "arnold_proteins = [\"FGFR1\", \"ERF\", \"MKS1\", \"POR\", \"FGFR3\", \"FGFR2\", \"NOTCH2\", \"PTCH1\", \"ZIC1\"]"
   ]
  },
  {
   "cell_type": "code",
   "execution_count": 15,
   "metadata": {},
   "outputs": [
    {
     "data": {
      "text/plain": [
       "[('PHEX', 0.9999964),\n",
       " ('COL3A1', 0.99689615),\n",
       " ('ZIC3', 0.9864237),\n",
       " ('FGFRL1', 0.9861942),\n",
       " ('COL6A1', 0.97802424),\n",
       " ('NRP1', 0.9757894),\n",
       " ('DUSP3', 0.9686838),\n",
       " ('FGFBP1', 0.96764284),\n",
       " ('PTCH2', 0.9665226),\n",
       " ('ZIC2', 0.96509117),\n",
       " ('HSPG2', 0.9603956),\n",
       " ('DESI1', 0.950775),\n",
       " ('FGF9', 0.94697315),\n",
       " ('DLL3', 0.9399293),\n",
       " ('CSHL1', 0.9371621),\n",
       " ('COL2A1', 0.9358387),\n",
       " ('COL1A1', 0.9207403),\n",
       " ('STK36', 0.8977488),\n",
       " ('PAX2', 0.87458116),\n",
       " ('CYB5A', 0.87166786),\n",
       " ('FGFR4', 0.85650355),\n",
       " ('STIL', 0.85361814)]"
      ]
     },
     "execution_count": 15,
     "metadata": {},
     "output_type": "execute_result"
    }
   ],
   "source": [
    "milieu.discover(genbank_ids=arnold_proteins, top_k=25)"
   ]
  },
  {
   "cell_type": "code",
   "execution_count": null,
   "metadata": {},
   "outputs": [],
   "source": []
  },
  {
   "cell_type": "code",
   "execution_count": 46,
   "metadata": {},
   "outputs": [],
   "source": [
    "import networkx as nx\n",
    "import visJS2jupyter.visJS_module"
   ]
  },
  {
   "cell_type": "code",
   "execution_count": 47,
   "metadata": {},
   "outputs": [],
   "source": [
    "G = nx.connected_watts_strogatz_graph(30, 5, 0.2)\n",
    "nodes = list(G.nodes()) # must cast to list to maintain compatibility between nx 1.11 and 2.0\n",
    "edges = list(G.edges()) # will return an \"EdgeView\" object in nx 2.0"
   ]
  },
  {
   "cell_type": "code",
   "execution_count": 50,
   "metadata": {},
   "outputs": [
    {
     "data": {
      "text/html": [
       "<!doctype html><html><head>  <title>Network | Basic usage</title></head><body><script type=\"text/javascript\">function setUpFrame() {     var frame = window.frames[\"style_file0\"];    frame.runVis([{\"id\": 0, \"x\": 222.46506811964397, \"y\": -172.45858460610228, \"node_shape\": \"dot\", \"color\": \"#8BA8D3\", \"border_width\": 0, \"title\": 0, \"degree\": 3.0}, {\"id\": 1, \"x\": 197.5400928569264, \"y\": -229.8733994367756, \"node_shape\": \"dot\", \"color\": \"#8BA8D3\", \"border_width\": 0, \"title\": 1, \"degree\": 3.0}, {\"id\": 2, \"x\": 133.66301490266818, \"y\": -245.2780654750479, \"node_shape\": \"dot\", \"color\": \"#8BA8D3\", \"border_width\": 0, \"title\": 2, \"degree\": 3.0}, {\"id\": 3, \"x\": 118.88220476655762, \"y\": -216.9654815977884, \"node_shape\": \"dot\", \"color\": \"#8BA8D3\", \"border_width\": 0, \"title\": 3, \"degree\": 3.0}, {\"id\": 4, \"x\": 0.7293296132913045, \"y\": -228.12438435938972, \"node_shape\": \"dot\", \"color\": \"#8BA8D3\", \"border_width\": 0, \"title\": 4, \"degree\": 3.0}, {\"id\": 5, \"x\": -87.92754208373094, \"y\": -253.11822147819342, \"node_shape\": \"dot\", \"color\": \"#8BA8D3\", \"border_width\": 0, \"title\": 5, \"degree\": 3.0}, {\"id\": 6, \"x\": -89.77186986432663, \"y\": -163.8093902570706, \"node_shape\": \"dot\", \"color\": \"#8BA8D3\", \"border_width\": 0, \"title\": 6, \"degree\": 3.0}, {\"id\": 7, \"x\": -159.05611739144373, \"y\": -215.4258533389817, \"node_shape\": \"dot\", \"color\": \"#8BA8D3\", \"border_width\": 0, \"title\": 7, \"degree\": 3.0}, {\"id\": 8, \"x\": -117.13950122018282, \"y\": -193.74727346839128, \"node_shape\": \"dot\", \"color\": \"#8BA8D3\", \"border_width\": 0, \"title\": 8, \"degree\": 3.0}, {\"id\": 9, \"x\": -187.83435425040787, \"y\": -126.61476133800329, \"node_shape\": \"dot\", \"color\": \"#8BA8D3\", \"border_width\": 0, \"title\": 9, \"degree\": 3.0}, {\"id\": 10, \"x\": -182.0906871553327, \"y\": -85.21042811949624, \"node_shape\": \"dot\", \"color\": \"#8BA8D3\", \"border_width\": 0, \"title\": 10, \"degree\": 3.0}, {\"id\": 11, \"x\": -211.15714393282684, \"y\": -22.1302525585258, \"node_shape\": \"dot\", \"color\": \"#8BA8D3\", \"border_width\": 0, \"title\": 11, \"degree\": 3.0}, {\"id\": 12, \"x\": -158.57071235768666, \"y\": 26.41854808415571, \"node_shape\": \"dot\", \"color\": \"#8BA8D3\", \"border_width\": 0, \"title\": 12, \"degree\": 3.0}, {\"id\": 13, \"x\": -124.94939853850958, \"y\": -16.807611215959486, \"node_shape\": \"dot\", \"color\": \"#8BA8D3\", \"border_width\": 0, \"title\": 13, \"degree\": 3.0}, {\"id\": 14, \"x\": -67.11530602862018, \"y\": 110.38892570156469, \"node_shape\": \"dot\", \"color\": \"#8BA8D3\", \"border_width\": 0, \"title\": 14, \"degree\": 3.0}, {\"id\": 15, \"x\": -61.01348855382618, \"y\": 65.58512050902434, \"node_shape\": \"dot\", \"color\": \"#8BA8D3\", \"border_width\": 0, \"title\": 15, \"degree\": 3.0}, {\"id\": 16, \"x\": -129.77783658255487, \"y\": 99.75609980980981, \"node_shape\": \"dot\", \"color\": \"#8BA8D3\", \"border_width\": 0, \"title\": 16, \"degree\": 3.0}, {\"id\": 17, \"x\": 39.91782379665812, \"y\": 131.3090784875066, \"node_shape\": \"dot\", \"color\": \"#8BA8D3\", \"border_width\": 0, \"title\": 17, \"degree\": 3.0}, {\"id\": 18, \"x\": -80.1553968654262, \"y\": 149.46796486110276, \"node_shape\": \"dot\", \"color\": \"#8BA8D3\", \"border_width\": 0, \"title\": 18, \"degree\": 3.0}, {\"id\": 19, \"x\": -84.78716543936723, \"y\": 268.16696184568264, \"node_shape\": \"dot\", \"color\": \"#8BA8D3\", \"border_width\": 0, \"title\": 19, \"degree\": 3.0}, {\"id\": 20, \"x\": -48.32740670746617, \"y\": 254.22738971296909, \"node_shape\": \"dot\", \"color\": \"#8BA8D3\", \"border_width\": 0, \"title\": 20, \"degree\": 3.0}, {\"id\": 21, \"x\": 2.671905079523035, \"y\": 300.0, \"node_shape\": \"dot\", \"color\": \"#8BA8D3\", \"border_width\": 0, \"title\": 21, \"degree\": 3.0}, {\"id\": 22, \"x\": 19.3635666228335, \"y\": 238.111571544291, \"node_shape\": \"dot\", \"color\": \"#8BA8D3\", \"border_width\": 0, \"title\": 22, \"degree\": 3.0}, {\"id\": 23, \"x\": 94.33004098322192, \"y\": 251.53966331109476, \"node_shape\": \"dot\", \"color\": \"#8BA8D3\", \"border_width\": 0, \"title\": 23, \"degree\": 3.0}, {\"id\": 24, \"x\": 46.311545685363996, \"y\": 186.30796810692726, \"node_shape\": \"dot\", \"color\": \"#8BA8D3\", \"border_width\": 0, \"title\": 24, \"degree\": 3.0}, {\"id\": 25, \"x\": 133.02974162773504, \"y\": 151.93666806490393, \"node_shape\": \"dot\", \"color\": \"#8BA8D3\", \"border_width\": 0, \"title\": 25, \"degree\": 3.0}, {\"id\": 26, \"x\": 213.56135519173492, \"y\": 66.04068623282359, \"node_shape\": \"dot\", \"color\": \"#8BA8D3\", \"border_width\": 0, \"title\": 26, \"degree\": 3.0}, {\"id\": 27, \"x\": 156.38456794488047, \"y\": 70.18987087011321, \"node_shape\": \"dot\", \"color\": \"#8BA8D3\", \"border_width\": 0, \"title\": 27, \"degree\": 3.0}, {\"id\": 28, \"x\": 214.91173282014165, \"y\": -45.87340787984378, \"node_shape\": \"dot\", \"color\": \"#8BA8D3\", \"border_width\": 0, \"title\": 28, \"degree\": 3.0}, {\"id\": 29, \"x\": 195.91193696052858, \"y\": -154.00940201239928, \"node_shape\": \"dot\", \"color\": \"#8BA8D3\", \"border_width\": 0, \"title\": 29, \"degree\": 3.0}], [{\"source\": 0, \"target\": 1, \"title\": \"test\"}, {\"source\": 0, \"target\": 29, \"title\": \"test\"}, {\"source\": 0, \"target\": 2, \"title\": \"test\"}, {\"source\": 0, \"target\": 28, \"title\": \"test\"}, {\"source\": 1, \"target\": 2, \"title\": \"test\"}, {\"source\": 1, \"target\": 3, \"title\": \"test\"}, {\"source\": 1, \"target\": 29, \"title\": \"test\"}, {\"source\": 2, \"target\": 3, \"title\": \"test\"}, {\"source\": 2, \"target\": 4, \"title\": \"test\"}, {\"source\": 3, \"target\": 4, \"title\": \"test\"}, {\"source\": 3, \"target\": 29, \"title\": \"test\"}, {\"source\": 4, \"target\": 5, \"title\": \"test\"}, {\"source\": 4, \"target\": 6, \"title\": \"test\"}, {\"source\": 4, \"target\": 8, \"title\": \"test\"}, {\"source\": 5, \"target\": 6, \"title\": \"test\"}, {\"source\": 5, \"target\": 7, \"title\": \"test\"}, {\"source\": 6, \"target\": 7, \"title\": \"test\"}, {\"source\": 6, \"target\": 13, \"title\": \"test\"}, {\"source\": 7, \"target\": 8, \"title\": \"test\"}, {\"source\": 7, \"target\": 9, \"title\": \"test\"}, {\"source\": 8, \"target\": 10, \"title\": \"test\"}, {\"source\": 9, \"target\": 10, \"title\": \"test\"}, {\"source\": 9, \"target\": 13, \"title\": \"test\"}, {\"source\": 10, \"target\": 11, \"title\": \"test\"}, {\"source\": 10, \"target\": 12, \"title\": \"test\"}, {\"source\": 11, \"target\": 12, \"title\": \"test\"}, {\"source\": 11, \"target\": 13, \"title\": \"test\"}, {\"source\": 12, \"target\": 13, \"title\": \"test\"}, {\"source\": 12, \"target\": 14, \"title\": \"test\"}, {\"source\": 12, \"target\": 16, \"title\": \"test\"}, {\"source\": 13, \"target\": 15, \"title\": \"test\"}, {\"source\": 13, \"target\": 18, \"title\": \"test\"}, {\"source\": 14, \"target\": 15, \"title\": \"test\"}, {\"source\": 14, \"target\": 16, \"title\": \"test\"}, {\"source\": 14, \"target\": 24, \"title\": \"test\"}, {\"source\": 15, \"target\": 16, \"title\": \"test\"}, {\"source\": 15, \"target\": 17, \"title\": \"test\"}, {\"source\": 16, \"target\": 18, \"title\": \"test\"}, {\"source\": 17, \"target\": 18, \"title\": \"test\"}, {\"source\": 17, \"target\": 22, \"title\": \"test\"}, {\"source\": 17, \"target\": 25, \"title\": \"test\"}, {\"source\": 17, \"target\": 27, \"title\": \"test\"}, {\"source\": 18, \"target\": 19, \"title\": \"test\"}, {\"source\": 18, \"target\": 20, \"title\": \"test\"}, {\"source\": 19, \"target\": 20, \"title\": \"test\"}, {\"source\": 19, \"target\": 21, \"title\": \"test\"}, {\"source\": 20, \"target\": 21, \"title\": \"test\"}, {\"source\": 20, \"target\": 22, \"title\": \"test\"}, {\"source\": 21, \"target\": 22, \"title\": \"test\"}, {\"source\": 21, \"target\": 23, \"title\": \"test\"}, {\"source\": 22, \"target\": 24, \"title\": \"test\"}, {\"source\": 23, \"target\": 24, \"title\": \"test\"}, {\"source\": 23, \"target\": 25, \"title\": \"test\"}, {\"source\": 24, \"target\": 25, \"title\": \"test\"}, {\"source\": 25, \"target\": 26, \"title\": \"test\"}, {\"source\": 25, \"target\": 27, \"title\": \"test\"}, {\"source\": 26, \"target\": 27, \"title\": \"test\"}, {\"source\": 26, \"target\": 28, \"title\": \"test\"}, {\"source\": 27, \"target\": 28, \"title\": \"test\"}, {\"source\": 28, \"target\": 29, \"title\": \"test\"}]);}</script><iframe name=\"style_file0\" src=\"style_file0.html\" width=\"100%;\" height=\"805px\"></iframe></body></html>"
      ],
      "text/plain": [
       "<IPython.core.display.HTML object>"
      ]
     },
     "execution_count": 50,
     "metadata": {},
     "output_type": "execute_result"
    }
   ],
   "source": [
    "# define the initial positions of the nodes using networkx's spring_layout function, and add to the nodes_dict.\n",
    "pos = nx.spring_layout(G)\n",
    "\n",
    "nodes_dict = [{\"id\":n,\n",
    "              \"x\":pos[n][0]*300,\n",
    "              \"y\":pos[n][1]*300} for n in nodes]\n",
    "\n",
    "node_map = dict(zip(nodes,range(len(nodes))))  # map to indices for source/target in edges\n",
    "\n",
    "edges_dict = [{\"source\":node_map[edges[i][0]], \"target\":node_map[edges[i][1]], \n",
    "              \"title\":'test'} for i in range(len(edges))]\n",
    "\n",
    "visJS2jupyter.visJS_module.visjs_network(nodes_dict, edges_dict)"
   ]
  },
  {
   "cell_type": "markdown",
   "metadata": {},
   "source": [
    "1. Menche, J. et al. Uncovering disease-disease relationships through the incomplete interactome. Science 347, 1257601–1257601 (2015).\n",
    "2."
   ]
  }
 ],
 "metadata": {
  "kernelspec": {
   "display_name": "Python 3",
   "language": "python",
   "name": "python3"
  },
  "language_info": {
   "codemirror_mode": {
    "name": "ipython",
    "version": 3
   },
   "file_extension": ".py",
   "mimetype": "text/x-python",
   "name": "python",
   "nbconvert_exporter": "python",
   "pygments_lexer": "ipython3",
   "version": "3.7.0"
  },
  "toc": {
   "base_numbering": 1,
   "nav_menu": {},
   "number_sections": true,
   "sideBar": true,
   "skip_h1_title": false,
   "title_cell": "Table of Contents",
   "title_sidebar": "Contents",
   "toc_cell": false,
   "toc_position": {},
   "toc_section_display": true,
   "toc_window_display": false
  }
 },
 "nbformat": 4,
 "nbformat_minor": 4
}
