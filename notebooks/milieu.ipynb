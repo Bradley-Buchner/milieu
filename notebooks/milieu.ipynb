{
 "cells": [
  {
   "cell_type": "markdown",
   "metadata": {},
   "source": [
    "# Milieu\n",
    "\n",
    "Milieu is a disease protein discovery algorithm based on the hypothesis that proteins associated with the same disease share mutual interactors in the protein-protein interaction network.   "
   ]
  },
  {
   "cell_type": "code",
   "execution_count": 42,
   "metadata": {},
   "outputs": [
    {
     "name": "stdout",
     "output_type": "stream",
     "text": [
      "The autoreload extension is already loaded. To reload it, use:\n",
      "  %reload_ext autoreload\n"
     ]
    }
   ],
   "source": [
    "%load_ext autoreload\n",
    "%autoreload 2\n",
    "\n",
    "import os\n",
    "\n",
    "import networkx as nx\n",
    "\n",
    "from milieu.data.network import PPINetwork\n",
    "from milieu.data.associations import load_diseases\n",
    "from milieu.milieu import MilieuDataset, Milieu\n",
    "from milieu.paper.figures.network_vis import show_network\n",
    "\n",
    "#os.chdir(\"/dfs/scratch0/sabri/milieu\")\n",
    "os.chdir(\"/Users/sabrieyuboglu/Documents/sabri/research/projects/milieu/milieu\")"
   ]
  },
  {
   "cell_type": "markdown",
   "metadata": {},
   "source": [
    "## Load the PPI Network\n",
    "\n",
    "We use the protein-protein interaction network compiled by Menche *et al.*[1]. The network consists of 342,353 interactions between 21,557 proteins. Se\n",
    "In `data/networks`, you can find this network `bio-pathways-network.txt`. See methods for a more detailed description of the network. \n",
    "You can also find two other protein-protein interaction networks `string-network.txt` and `bio-grid-network.txt`. See Supplementary Note 3 for a detailed description."
   ]
  },
  {
   "cell_type": "code",
   "execution_count": 43,
   "metadata": {},
   "outputs": [],
   "source": [
    "network = PPINetwork(\"data/networks/bio-pathways-network.txt\")"
   ]
  },
  {
   "cell_type": "markdown",
   "metadata": {},
   "source": [
    "## Build the *Milieu* Model\n",
    "\n",
    "We use params"
   ]
  },
  {
   "cell_type": "code",
   "execution_count": 49,
   "metadata": {},
   "outputs": [],
   "source": [
    "params = {\n",
    "    \"cuda\": False,\n",
    "    \"device\": 2,\n",
    "    \n",
    "    \"batch_size\": 200,\n",
    "    \"num_workers\": 4,\n",
    "    \"num_epochs\": 10,\n",
    "    \n",
    "    \"optim_class\": \"Adam\",\n",
    "    \"optim_args\": {\n",
    "        \"lr\": 0.01,\n",
    "        \"weight_decay\": 0.0\n",
    "    },\n",
    "    \n",
    "    \"metric_configs\": [\n",
    "        {\n",
    "            \"name\": \"recall_at_25\",\n",
    "            \"fn\": \"batch_recall_at\", \n",
    "            \"args\": {\"k\":25}\n",
    "        }\n",
    "    ]\n",
    "}"
   ]
  },
  {
   "cell_type": "code",
   "execution_count": 50,
   "metadata": {},
   "outputs": [
    {
     "name": "stdout",
     "output_type": "stream",
     "text": [
      "Milieu\n",
      "Setting parameters...\n",
      "Building model...\n",
      "Building optimizer...\n",
      "Done.\n"
     ]
    }
   ],
   "source": [
    "milieu = Milieu(network, params)"
   ]
  },
  {
   "cell_type": "markdown",
   "metadata": {},
   "source": [
    "## Train the Model\n",
    "*Milieu* is trained on a large set of known disease-protein associations. We use"
   ]
  },
  {
   "cell_type": "code",
   "execution_count": 51,
   "metadata": {},
   "outputs": [],
   "source": [
    "diseases = list(load_diseases(\"data/go_associations/go_function/associations.csv\", exclude_splits=[\"none\"]).values())\n",
    "train_diseases = diseases[:int(len(diseases)* 0.9)]\n",
    "valid_diseases = diseases[int(len(diseases)* 0.9):]\n",
    "train_dataset = MilieuDataset(network, diseases=train_diseases)\n",
    "valid_dataset = MilieuDataset(network, diseases=valid_diseases)"
   ]
  },
  {
   "cell_type": "code",
   "execution_count": 52,
   "metadata": {},
   "outputs": [
    {
     "name": "stdout",
     "output_type": "stream",
     "text": [
      "Starting training for 10 epoch(s)\n",
      "Epoch 1 of 10\n",
      "Training\n"
     ]
    },
    {
     "name": "stderr",
     "output_type": "stream",
     "text": [
      "100%|██████████| 3/3 [00:07<00:00,  2.55s/it, loss=1.394]"
     ]
    },
    {
     "name": "stdout",
     "output_type": "stream",
     "text": [
      "Validation\n"
     ]
    },
    {
     "name": "stderr",
     "output_type": "stream",
     "text": [
      "\n",
      "100%|██████████| 1/1 [00:00<00:00,  1.19it/s]"
     ]
    },
    {
     "name": "stdout",
     "output_type": "stream",
     "text": [
      "Epoch 2 of 10\n",
      "Training\n"
     ]
    },
    {
     "name": "stderr",
     "output_type": "stream",
     "text": [
      "\n",
      "100%|██████████| 3/3 [00:08<00:00,  2.74s/it, loss=1.388]"
     ]
    },
    {
     "name": "stdout",
     "output_type": "stream",
     "text": [
      "Validation\n"
     ]
    },
    {
     "name": "stderr",
     "output_type": "stream",
     "text": [
      "\n",
      "100%|██████████| 1/1 [00:00<00:00,  1.10it/s]"
     ]
    },
    {
     "name": "stdout",
     "output_type": "stream",
     "text": [
      "Epoch 3 of 10\n",
      "Training\n"
     ]
    },
    {
     "name": "stderr",
     "output_type": "stream",
     "text": [
      "\n",
      "100%|██████████| 3/3 [00:07<00:00,  2.69s/it, loss=1.384]"
     ]
    },
    {
     "name": "stdout",
     "output_type": "stream",
     "text": [
      "Validation\n"
     ]
    },
    {
     "name": "stderr",
     "output_type": "stream",
     "text": [
      "\n",
      "100%|██████████| 1/1 [00:00<00:00,  1.26it/s]"
     ]
    },
    {
     "name": "stdout",
     "output_type": "stream",
     "text": [
      "Epoch 4 of 10\n",
      "Training\n"
     ]
    },
    {
     "name": "stderr",
     "output_type": "stream",
     "text": [
      "\n",
      "100%|██████████| 3/3 [00:07<00:00,  2.77s/it, loss=1.381]"
     ]
    },
    {
     "name": "stdout",
     "output_type": "stream",
     "text": [
      "Validation\n"
     ]
    },
    {
     "name": "stderr",
     "output_type": "stream",
     "text": [
      "\n",
      "100%|██████████| 1/1 [00:00<00:00,  1.24it/s]"
     ]
    },
    {
     "name": "stdout",
     "output_type": "stream",
     "text": [
      "Epoch 5 of 10\n",
      "Training\n"
     ]
    },
    {
     "name": "stderr",
     "output_type": "stream",
     "text": [
      "\n",
      "100%|██████████| 3/3 [00:07<00:00,  2.55s/it, loss=1.380]"
     ]
    },
    {
     "name": "stdout",
     "output_type": "stream",
     "text": [
      "Validation\n"
     ]
    },
    {
     "name": "stderr",
     "output_type": "stream",
     "text": [
      "\n",
      "100%|██████████| 1/1 [00:00<00:00,  1.29it/s]"
     ]
    },
    {
     "name": "stdout",
     "output_type": "stream",
     "text": [
      "Epoch 6 of 10\n",
      "Training\n"
     ]
    },
    {
     "name": "stderr",
     "output_type": "stream",
     "text": [
      "\n",
      "100%|██████████| 3/3 [00:07<00:00,  2.63s/it, loss=1.379]"
     ]
    },
    {
     "name": "stdout",
     "output_type": "stream",
     "text": [
      "Validation\n"
     ]
    },
    {
     "name": "stderr",
     "output_type": "stream",
     "text": [
      "\n",
      "100%|██████████| 1/1 [00:00<00:00,  1.31it/s]"
     ]
    },
    {
     "name": "stdout",
     "output_type": "stream",
     "text": [
      "Epoch 7 of 10\n",
      "Training\n"
     ]
    },
    {
     "name": "stderr",
     "output_type": "stream",
     "text": [
      "\n",
      "100%|██████████| 3/3 [00:07<00:00,  2.55s/it, loss=1.376]"
     ]
    },
    {
     "name": "stdout",
     "output_type": "stream",
     "text": [
      "Validation\n"
     ]
    },
    {
     "name": "stderr",
     "output_type": "stream",
     "text": [
      "\n",
      "100%|██████████| 1/1 [00:00<00:00,  1.30it/s]"
     ]
    },
    {
     "name": "stdout",
     "output_type": "stream",
     "text": [
      "Epoch 8 of 10\n",
      "Training\n"
     ]
    },
    {
     "name": "stderr",
     "output_type": "stream",
     "text": [
      "\n",
      "100%|██████████| 3/3 [00:07<00:00,  2.55s/it, loss=1.374]"
     ]
    },
    {
     "name": "stdout",
     "output_type": "stream",
     "text": [
      "Validation\n"
     ]
    },
    {
     "name": "stderr",
     "output_type": "stream",
     "text": [
      "\n",
      "100%|██████████| 1/1 [00:00<00:00,  1.12it/s]"
     ]
    },
    {
     "name": "stdout",
     "output_type": "stream",
     "text": [
      "Epoch 9 of 10\n",
      "Training\n"
     ]
    },
    {
     "name": "stderr",
     "output_type": "stream",
     "text": [
      "\n",
      "100%|██████████| 3/3 [00:07<00:00,  2.71s/it, loss=1.371]"
     ]
    },
    {
     "name": "stdout",
     "output_type": "stream",
     "text": [
      "Validation\n"
     ]
    },
    {
     "name": "stderr",
     "output_type": "stream",
     "text": [
      "\n",
      "100%|██████████| 1/1 [00:00<00:00,  1.29it/s]"
     ]
    },
    {
     "name": "stdout",
     "output_type": "stream",
     "text": [
      "Epoch 10 of 10\n",
      "Training\n"
     ]
    },
    {
     "name": "stderr",
     "output_type": "stream",
     "text": [
      "\n",
      "100%|██████████| 3/3 [00:07<00:00,  2.54s/it, loss=1.368]"
     ]
    },
    {
     "name": "stdout",
     "output_type": "stream",
     "text": [
      "Validation\n"
     ]
    },
    {
     "name": "stderr",
     "output_type": "stream",
     "text": [
      "\n",
      "100%|██████████| 1/1 [00:00<00:00,  1.29it/s]\n"
     ]
    },
    {
     "data": {
      "text/plain": [
       "([{'recall_at_25': 0.05539358600583091},\n",
       "  {'recall_at_25': 0.17060255371990066},\n",
       "  {'recall_at_25': 0.1799940476190476},\n",
       "  {'recall_at_25': 0.17862846884785658},\n",
       "  {'recall_at_25': 0.16781490929705214},\n",
       "  {'recall_at_25': 0.15434363189720332},\n",
       "  {'recall_at_25': 0.16298665100961018},\n",
       "  {'recall_at_25': 0.17565523431594857},\n",
       "  {'recall_at_25': 0.17982823129251702},\n",
       "  {'recall_at_25': 0.20525925925925925}],\n",
       " [defaultdict(list, {'recall_at_25': [0.231]}),\n",
       "  defaultdict(list, {'recall_at_25': [0.2561904761904762]}),\n",
       "  defaultdict(list, {'recall_at_25': [0.2053809523809524]}),\n",
       "  defaultdict(list, {'recall_at_25': [0.234047619047619]}),\n",
       "  defaultdict(list, {'recall_at_25': [0.2187142857142857]}),\n",
       "  defaultdict(list, {'recall_at_25': [0.17219047619047614]}),\n",
       "  defaultdict(list, {'recall_at_25': [0.19904761904761906]}),\n",
       "  defaultdict(list, {'recall_at_25': [0.1367142857142857]}),\n",
       "  defaultdict(list, {'recall_at_25': [0.20219047619047617]}),\n",
       "  defaultdict(list, {'recall_at_25': [0.21819047619047618]})])"
      ]
     },
     "execution_count": 52,
     "metadata": {},
     "output_type": "execute_result"
    }
   ],
   "source": [
    "milieu.train_model(train_dataset, valid_dataset)"
   ]
  },
  {
   "cell_type": "markdown",
   "metadata": {},
   "source": [
    "## Predict Novel Associations"
   ]
  },
  {
   "cell_type": "code",
   "execution_count": 32,
   "metadata": {},
   "outputs": [],
   "source": [
    "cholecystitis_proteins = ['ENG', 'ALDOA', 'GDF2', 'GPI', 'HK1', 'SMAD4','ARSA', \n",
    "                          'ABCB4', 'PKLR', 'BPGM', 'TPI1', 'ACVRL1']"
   ]
  },
  {
   "cell_type": "code",
   "execution_count": 53,
   "metadata": {},
   "outputs": [],
   "source": [
    "diseases = load_diseases(\"data/go_associations/go_function/associations.csv\", exclude_splits=[\"none\"])"
   ]
  },
  {
   "cell_type": "code",
   "execution_count": 54,
   "metadata": {},
   "outputs": [
    {
     "data": {
      "text/plain": [
       "11"
      ]
     },
     "execution_count": 54,
     "metadata": {},
     "output_type": "execute_result"
    }
   ],
   "source": [
    "function = diseases[\"GO:0009975\"] \n",
    "len(function.proteins)"
   ]
  },
  {
   "cell_type": "code",
   "execution_count": 60,
   "metadata": {},
   "outputs": [
    {
     "data": {
      "text/plain": [
       "'cyclase activity'"
      ]
     },
     "execution_count": 60,
     "metadata": {},
     "output_type": "execute_result"
    }
   ],
   "source": [
    "function.name"
   ]
  },
  {
   "cell_type": "code",
   "execution_count": 55,
   "metadata": {},
   "outputs": [],
   "source": [
    "predicted_proteins = milieu.discover(entrez_ids=function.proteins, top_k=5)\n",
    "predicted_proteins = list(zip(*predicted_proteins))[0]"
   ]
  },
  {
   "cell_type": "code",
   "execution_count": 58,
   "metadata": {},
   "outputs": [],
   "source": [
    "cy_vis = show_network(network, function.proteins, predicted_proteins, id_format=\"entrez\",\n",
    "                      model=milieu,\n",
    "                      show_seed_mi=True, excluded_interactions=[(\"mutual_interactor\", \"mutual_interactor\")],\n",
    "                      save_path=f\"experiments/network_vis/function/{function.id}_cy.json\")"
   ]
  },
  {
   "cell_type": "code",
   "execution_count": 59,
   "metadata": {},
   "outputs": [
    {
     "data": {
      "application/vnd.jupyter.widget-view+json": {
       "model_id": "c1f50bacc7434f9b840a5d76629ba41a",
       "version_major": 2,
       "version_minor": 0
      },
      "text/plain": [
       "Cytoscape(data={'elements': {'nodes': [{'data': {'role': 'seed', 'id': '14273', 'entrez': '55811', 'genbank': …"
      ]
     },
     "metadata": {},
     "output_type": "display_data"
    }
   ],
   "source": [
    "cy_vis"
   ]
  },
  {
   "cell_type": "markdown",
   "metadata": {},
   "source": [
    "1. Menche, J. et al. Uncovering disease-disease relationships through the incomplete interactome. Science 347, 1257601–1257601 (2015).\n",
    "2."
   ]
  },
  {
   "cell_type": "code",
   "execution_count": null,
   "metadata": {},
   "outputs": [],
   "source": []
  }
 ],
 "metadata": {
  "kernelspec": {
   "display_name": "Python 3",
   "language": "python",
   "name": "python3"
  },
  "language_info": {
   "codemirror_mode": {
    "name": "ipython",
    "version": 3
   },
   "file_extension": ".py",
   "mimetype": "text/x-python",
   "name": "python",
   "nbconvert_exporter": "python",
   "pygments_lexer": "ipython3",
   "version": "3.7.0"
  },
  "toc": {
   "base_numbering": 1,
   "nav_menu": {},
   "number_sections": true,
   "sideBar": true,
   "skip_h1_title": false,
   "title_cell": "Table of Contents",
   "title_sidebar": "Contents",
   "toc_cell": false,
   "toc_position": {},
   "toc_section_display": true,
   "toc_window_display": false
  }
 },
 "nbformat": 4,
 "nbformat_minor": 4
}
