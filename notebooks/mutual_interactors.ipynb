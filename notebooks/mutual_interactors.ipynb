{
 "cells": [
  {
   "cell_type": "markdown",
   "metadata": {},
   "source": [
    "# Mutual Interactors \n",
    "\n",
    "*Mutual Interactors* is a machine learning algorithm for node set expansion in large networks. The algorithm is motivated by the structure of disease-associated proteins, drug targets and protein functions in molecular networks, and can be used to  predict molecular phenotypes *in silico*. For a detailed description of the algorithm, please see our [paper](TODO).  \n",
    "\n",
    "In this notebook, we'll walk through how we train a *Mutual Interactors* model to predict novel disease protein associations. We use a PPI network and a large set of disease-protein associations to train the model. \n",
    "\n",
    "Although this notebook uses a PPI network and disease protein associations, it can easily be retrofitted to work with any network and any node set type. "
   ]
  },
  {
   "cell_type": "code",
   "execution_count": 1,
   "metadata": {},
   "outputs": [],
   "source": [
    "%load_ext autoreload\n",
    "%autoreload 2\n",
    "\n",
    "import os\n",
    "\n",
    "import networkx as nx\n",
    "\n",
    "from milieu.data.network import Network\n",
    "from milieu.data.associations import load_diseases\n",
    "from milieu.util.util import load_mapping\n",
    "from milieu.milieu import MilieuDataset, Milieu\n",
    "from milieu.paper.figures.network_vis import show_network\n",
    "\n",
    "# change director to root directory of package\n",
    "root_dir = os.path.dirname(os.getcwd())\n",
    "os.chdir(root_dir)"
   ]
  },
  {
   "cell_type": "markdown",
   "metadata": {},
   "source": [
    "## Load a Network\n",
    "To use *Mutual Interactors* we need a network! \n",
    "\n",
    "We'll use the human protein-protein interaction network compiled by Menche *et al.*[1]. The network consists of 342,353 interactions between 21,557 proteins. Se\n",
    "In `data/networks`, you can find this network `bio-pathways-network.txt`. See methods for a more detailed description of the network. \n",
    "\n",
    "We use the class `milieu.data.network.Network` to load and represent networks. The constructor accepts a path to an edge list."
   ]
  },
  {
   "cell_type": "code",
   "execution_count": 4,
   "metadata": {},
   "outputs": [],
   "source": [
    "network = Network(\"data/networks/species_9606/bio-pathways/network.txt\")"
   ]
  },
  {
   "cell_type": "markdown",
   "metadata": {},
   "source": [
    "## Build the *Milieu* Model\n",
    "\n",
    "The *Mutual Interactors* is parameterized by a few important hyperparameters.\n",
    "\n",
    "We find that learning rate parameter (i.e. `optim_args/lr` in the nested dictionary below) can have significant impact on performance. The optimal value varies substantially between networks and applications, so we recommend tuning it. \n",
    "\n",
    "If you have a GPU available, setting `cuda` to `True` and specifying an available `device` should speed up training considerably. That being said, training *Mutual Interactors* is usually tractable on CPU for networks with $n <= 30k$. "
   ]
  },
  {
   "cell_type": "code",
   "execution_count": 4,
   "metadata": {},
   "outputs": [],
   "source": [
    "params = {\n",
    "    \"cuda\": False,\n",
    "    \"device\": 2,\n",
    "    \n",
    "    \"batch_size\": 200,\n",
    "    \"num_workers\": 4,\n",
    "    \"num_epochs\": 10,\n",
    "    \n",
    "    \"optim_class\": \"Adam\",\n",
    "    \"optim_args\": {\n",
    "        \"lr\": 0.01,\n",
    "        \"weight_decay\": 0.0\n",
    "    },\n",
    "    \n",
    "    \"metric_configs\": [\n",
    "        {\n",
    "            \"name\": \"recall_at_25\",\n",
    "            \"fn\": \"batch_recall_at\", \n",
    "            \"args\": {\"k\":25}\n",
    "        }\n",
    "    ]\n",
    "}"
   ]
  },
  {
   "cell_type": "markdown",
   "metadata": {},
   "source": [
    "We've implemented the *Mutual Interactors* model in a self-contained class `milieu.milieu.Milieu`. This class contains methods for training the model `Milieu.train_model`, evaluating the model on a test set `Milieu.score` and predicting node set expansions `Milieu.expand`. \n",
    "\n",
    "The constructor accepts the network and the dictionary of params we defined above. \n"
   ]
  },
  {
   "cell_type": "code",
   "execution_count": 5,
   "metadata": {},
   "outputs": [
    {
     "name": "stdout",
     "output_type": "stream",
     "text": [
      "Milieu\n",
      "Setting parameters...\n",
      "Building model...\n",
      "Building optimizer...\n",
      "Done.\n"
     ]
    }
   ],
   "source": [
    "milieu = Milieu(network, params)"
   ]
  },
  {
   "cell_type": "markdown",
   "metadata": {},
   "source": [
    "## Train the Model\n",
    "*Mutual Interactors* is trained on a dataset of groups of nodes known to be associated with one another in some way.  \n",
    "In this example, we use sets of proteins associated with the same disease. Our disease-protein associations come from disgenet and are found at `data/disease_associations/disgenet-associations.csv`. \n",
    "\n",
    "We load the disease-protein associations with `milieu.data.associations.load_diseases` which returns a list of `milieu.data.associations.NodeSet`. Each NodeSet represents the set of proteins associated with on disease.\n",
    "\n",
    "To evaluate the model as we train it, we'll split the set of diseases into train set and a validation set. Next, we'll create a `milieu.milieu.MilieuDataset` for each. A `MilieuDataset` is simply a PyTorch dataset that creates training examples for the *Mutual Interactors* momdel. "
   ]
  },
  {
   "cell_type": "code",
   "execution_count": 5,
   "metadata": {},
   "outputs": [],
   "source": [
    "node_sets = list(load_diseases(\"data/associations/disgenet/associations.csv\", exclude_splits=[\"none\"]).values())\n",
    "train_node_sets = node_sets[:int(len(node_sets)* 0.9)]\n",
    "valid_node_sets = node_sets[int(len(node_sets)* 0.9):]\n",
    "train_dataset = MilieuDataset(network, node_sets=train_node_sets)\n",
    "valid_dataset = MilieuDataset(network, node_sets=valid_node_sets)"
   ]
  },
  {
   "cell_type": "code",
   "execution_count": 11,
   "metadata": {},
   "outputs": [
    {
     "name": "stdout",
     "output_type": "stream",
     "text": [
      "Starting training for 10 epoch(s)\n",
      "Epoch 1 of 10\n",
      "Training\n"
     ]
    },
    {
     "name": "stderr",
     "output_type": "stream",
     "text": [
      "100%|██████████| 9/9 [00:26<00:00,  2.51s/it, loss=1.584]"
     ]
    },
    {
     "name": "stdout",
     "output_type": "stream",
     "text": [
      "Validation\n"
     ]
    },
    {
     "name": "stderr",
     "output_type": "stream",
     "text": [
      "\n",
      "100%|██████████| 1/1 [00:02<00:00,  2.73s/it]"
     ]
    },
    {
     "name": "stdout",
     "output_type": "stream",
     "text": [
      "Epoch 2 of 10\n",
      "Training\n"
     ]
    },
    {
     "name": "stderr",
     "output_type": "stream",
     "text": [
      "\n",
      "100%|██████████| 9/9 [00:28<00:00,  2.55s/it, loss=1.503]"
     ]
    },
    {
     "name": "stdout",
     "output_type": "stream",
     "text": [
      "Validation\n"
     ]
    },
    {
     "name": "stderr",
     "output_type": "stream",
     "text": [
      "\n",
      "100%|██████████| 1/1 [00:02<00:00,  2.41s/it]"
     ]
    },
    {
     "name": "stdout",
     "output_type": "stream",
     "text": [
      "Epoch 3 of 10\n",
      "Training\n"
     ]
    },
    {
     "name": "stderr",
     "output_type": "stream",
     "text": [
      "\n",
      "100%|██████████| 9/9 [00:25<00:00,  2.36s/it, loss=1.441]"
     ]
    },
    {
     "name": "stdout",
     "output_type": "stream",
     "text": [
      "Validation\n"
     ]
    },
    {
     "name": "stderr",
     "output_type": "stream",
     "text": [
      "\n",
      "100%|██████████| 1/1 [00:02<00:00,  2.34s/it]"
     ]
    },
    {
     "name": "stdout",
     "output_type": "stream",
     "text": [
      "Epoch 4 of 10\n",
      "Training\n"
     ]
    },
    {
     "name": "stderr",
     "output_type": "stream",
     "text": [
      "\n",
      "100%|██████████| 9/9 [00:25<00:00,  2.38s/it, loss=1.389]"
     ]
    },
    {
     "name": "stdout",
     "output_type": "stream",
     "text": [
      "Validation\n"
     ]
    },
    {
     "name": "stderr",
     "output_type": "stream",
     "text": [
      "\n",
      "100%|██████████| 1/1 [00:02<00:00,  2.38s/it]"
     ]
    },
    {
     "name": "stdout",
     "output_type": "stream",
     "text": [
      "Epoch 5 of 10\n",
      "Training\n"
     ]
    },
    {
     "name": "stderr",
     "output_type": "stream",
     "text": [
      "\n",
      "100%|██████████| 9/9 [00:26<00:00,  2.46s/it, loss=1.350]"
     ]
    },
    {
     "name": "stdout",
     "output_type": "stream",
     "text": [
      "Validation\n"
     ]
    },
    {
     "name": "stderr",
     "output_type": "stream",
     "text": [
      "\n",
      "100%|██████████| 1/1 [00:02<00:00,  2.39s/it]"
     ]
    },
    {
     "name": "stdout",
     "output_type": "stream",
     "text": [
      "Epoch 6 of 10\n",
      "Training\n"
     ]
    },
    {
     "name": "stderr",
     "output_type": "stream",
     "text": [
      "\n",
      "100%|██████████| 9/9 [00:26<00:00,  2.43s/it, loss=1.325]"
     ]
    },
    {
     "name": "stdout",
     "output_type": "stream",
     "text": [
      "Validation\n"
     ]
    },
    {
     "name": "stderr",
     "output_type": "stream",
     "text": [
      "\n",
      "100%|██████████| 1/1 [00:02<00:00,  2.36s/it]"
     ]
    },
    {
     "name": "stdout",
     "output_type": "stream",
     "text": [
      "Epoch 7 of 10\n",
      "Training\n"
     ]
    },
    {
     "name": "stderr",
     "output_type": "stream",
     "text": [
      "\n",
      "100%|██████████| 9/9 [00:26<00:00,  2.48s/it, loss=1.303]"
     ]
    },
    {
     "name": "stdout",
     "output_type": "stream",
     "text": [
      "Validation\n"
     ]
    },
    {
     "name": "stderr",
     "output_type": "stream",
     "text": [
      "\n",
      "100%|██████████| 1/1 [00:02<00:00,  2.39s/it]"
     ]
    },
    {
     "name": "stdout",
     "output_type": "stream",
     "text": [
      "Epoch 8 of 10\n",
      "Training\n"
     ]
    },
    {
     "name": "stderr",
     "output_type": "stream",
     "text": [
      "\n",
      "100%|██████████| 9/9 [00:27<00:00,  2.55s/it, loss=1.287]"
     ]
    },
    {
     "name": "stdout",
     "output_type": "stream",
     "text": [
      "Validation\n"
     ]
    },
    {
     "name": "stderr",
     "output_type": "stream",
     "text": [
      "\n",
      "100%|██████████| 1/1 [00:02<00:00,  2.45s/it]"
     ]
    },
    {
     "name": "stdout",
     "output_type": "stream",
     "text": [
      "Epoch 9 of 10\n",
      "Training\n"
     ]
    },
    {
     "name": "stderr",
     "output_type": "stream",
     "text": [
      "\n",
      "100%|██████████| 9/9 [00:28<00:00,  2.77s/it, loss=1.277]"
     ]
    },
    {
     "name": "stdout",
     "output_type": "stream",
     "text": [
      "Validation\n"
     ]
    },
    {
     "name": "stderr",
     "output_type": "stream",
     "text": [
      "\n",
      "100%|██████████| 1/1 [00:03<00:00,  3.18s/it]"
     ]
    },
    {
     "name": "stdout",
     "output_type": "stream",
     "text": [
      "Epoch 10 of 10\n",
      "Training\n"
     ]
    },
    {
     "name": "stderr",
     "output_type": "stream",
     "text": [
      "\n",
      "100%|██████████| 9/9 [00:32<00:00,  2.91s/it, loss=1.264]"
     ]
    },
    {
     "name": "stdout",
     "output_type": "stream",
     "text": [
      "Validation\n"
     ]
    },
    {
     "name": "stderr",
     "output_type": "stream",
     "text": [
      "\n",
      "100%|██████████| 1/1 [00:02<00:00,  2.71s/it]\n"
     ]
    },
    {
     "data": {
      "text/plain": [
       "([{'recall_at_25': 0.05622317725766016},\n",
       "  {'recall_at_25': 0.057041638494999596},\n",
       "  {'recall_at_25': 0.06314191199974062},\n",
       "  {'recall_at_25': 0.06293379194140619},\n",
       "  {'recall_at_25': 0.07390836548325869},\n",
       "  {'recall_at_25': 0.06672080551383561},\n",
       "  {'recall_at_25': 0.06160882956753036},\n",
       "  {'recall_at_25': 0.06786463317964866},\n",
       "  {'recall_at_25': 0.06509961636312872},\n",
       "  {'recall_at_25': 0.0671994546838794}],\n",
       " [defaultdict(list, {'recall_at_25': [0.04652185421416191]}),\n",
       "  defaultdict(list, {'recall_at_25': [0.04717101681387396]}),\n",
       "  defaultdict(list, {'recall_at_25': [0.05337757480614624]}),\n",
       "  defaultdict(list, {'recall_at_25': [0.05485644103342195]}),\n",
       "  defaultdict(list, {'recall_at_25': [0.0822745341542334]}),\n",
       "  defaultdict(list, {'recall_at_25': [0.061185832889129585]}),\n",
       "  defaultdict(list, {'recall_at_25': [0.05309115139942208]}),\n",
       "  defaultdict(list, {'recall_at_25': [0.08251139885755271]}),\n",
       "  defaultdict(list, {'recall_at_25': [0.0589163447246154]}),\n",
       "  defaultdict(list, {'recall_at_25': [0.08372294489992581]})])"
      ]
     },
     "execution_count": 11,
     "metadata": {},
     "output_type": "execute_result"
    }
   ],
   "source": [
    "milieu.train_model(train_dataset, valid_dataset)"
   ]
  },
  {
   "cell_type": "markdown",
   "metadata": {},
   "source": [
    "## Predict Novel Associations\n",
    "Now that we've got a trained *Mutual Interactors* model, we can use it to expand some node sets!\n",
    "\n",
    "In particular, here we are going to use it to predict which proetins are associated with Tracheomalacia, a condition characterized by flaccidity of the supporting tracheal cartilage. \n",
    "\n",
    "To do so, we specify the set of proteins associated with Tracheomalacia using GenBank IDs. "
   ]
  },
  {
   "cell_type": "code",
   "execution_count": 309,
   "metadata": {},
   "outputs": [],
   "source": [
    "# Specify a set of proteins by their GenBank IDs\n",
    "# For example, we use the proteins associated with Tracheomalacia\n",
    "# Swap out these GenBank IDs for another set of proteins! \n",
    "tracheomalacia_proteins = ['COL2A1', 'HRAS', 'DCHS1', 'SNRPB', 'ORC4', 'LTBP4', \n",
    "                           'FLNB', 'PRRX1', 'RAB3GAP2', 'FGFR2','TRIM2']"
   ]
  },
  {
   "cell_type": "code",
   "execution_count": 310,
   "metadata": {},
   "outputs": [],
   "source": [
    "# Convert genbank ids to entrez ids, since our network uses entrez ids\n",
    "genbank_to_entrez = load_mapping(\"data/protein_attrs/genbank_to_entrez.txt\",\n",
    "                                 b_transform=int, delimiter='\\t')\n",
    "tracheomalacia_entrez = [genbank_to_entrez[protein] for protein in tracheomalacia_proteins]"
   ]
  },
  {
   "cell_type": "code",
   "execution_count": 300,
   "metadata": {},
   "outputs": [],
   "source": [
    "# Expand the set of proteins using our trained model! \n",
    "# Change the number of predicted proteins using the top_k parameter\n",
    "predicted_entrez = milieu.expand(node_names=tracheomalacia_entrez, top_k=5)\n",
    "predicted_entrez = list(zip(*predicted_entrez))[0]"
   ]
  },
  {
   "cell_type": "markdown",
   "metadata": {},
   "source": [
    "Using the function `milieu.paper.figures.network_vis.show_network` we can generate a Cytoscape visualization of the predictions!"
   ]
  },
  {
   "cell_type": "code",
   "execution_count": 302,
   "metadata": {},
   "outputs": [],
   "source": [
    "# Generate a network visualization with cytoscape \n",
    "# Note: it is recommended to limit the size of the visualization to ~250 nodes  \n",
    "cy_vis = show_network(network, tracheomalacia_entrez, predicted_entrez, id_format=\"entrez\",\n",
    "                      model=milieu,\n",
    "                      show_seed_mi=True, excluded_interactions=[(\"mutual_interactor\", \"mutual_interactor\")],\n",
    "                      size_limit=250)"
   ]
  },
  {
   "cell_type": "code",
   "execution_count": 303,
   "metadata": {},
   "outputs": [
    {
     "data": {
      "application/vnd.jupyter.widget-view+json": {
       "model_id": "d51b6b90011c4e21ae83bda0bd91d58f",
       "version_major": 2,
       "version_minor": 0
      },
      "text/plain": [
       "Cytoscape(data={'elements': {'nodes': [{'data': {'role': 'seed', 'id': '925', 'entrez': '1280', 'genbank': 'CO…"
      ]
     },
     "metadata": {},
     "output_type": "display_data"
    }
   ],
   "source": [
    "# Show the visualization!\n",
    "# Red nodes are the seed nodes fed to the momdel. \n",
    "# Orange nodes are predicted nodes. Blue nodes are the interactors between them. \n",
    "cy_vis"
   ]
  },
  {
   "cell_type": "markdown",
   "metadata": {},
   "source": [
    "1. Menche, J. et al. Uncovering disease-disease relationships through the incomplete interactome. Science 347, 1257601–1257601 (2015).\n",
    "2."
   ]
  },
  {
   "cell_type": "code",
   "execution_count": null,
   "metadata": {},
   "outputs": [],
   "source": []
  }
 ],
 "metadata": {
  "kernelspec": {
   "display_name": "Python 3",
   "language": "python",
   "name": "python3"
  },
  "language_info": {
   "codemirror_mode": {
    "name": "ipython",
    "version": 3
   },
   "file_extension": ".py",
   "mimetype": "text/x-python",
   "name": "python",
   "nbconvert_exporter": "python",
   "pygments_lexer": "ipython3",
   "version": "3.7.0"
  },
  "toc": {
   "base_numbering": 1,
   "nav_menu": {},
   "number_sections": true,
   "sideBar": true,
   "skip_h1_title": false,
   "title_cell": "Table of Contents",
   "title_sidebar": "Contents",
   "toc_cell": false,
   "toc_position": {},
   "toc_section_display": true,
   "toc_window_display": false
  }
 },
 "nbformat": 4,
 "nbformat_minor": 4
}
