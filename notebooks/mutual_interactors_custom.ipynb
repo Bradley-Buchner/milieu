{
 "nbformat": 4,
 "nbformat_minor": 0,
 "metadata": {
  "colab": {
   "provenance": [],
   "gpuType": "T4"
  },
  "kernelspec": {
   "name": "python3",
   "display_name": "Python 3 (ipykernel)",
   "language": "python"
  },
  "language_info": {
   "name": "python"
  },
  "accelerator": "GPU",
  "widgets": {
   "application/vnd.jupyter.widget-state+json": {
    "96d6acc3170d41c8bc95dd97e480ddba": {
     "model_module": "cytoscape-jupyter-widget",
     "model_name": "CytoscapeModel",
     "model_module_version": "^0.1.0",
     "state": {
      "_dom_classes": [],
      "_model_module": "cytoscape-jupyter-widget",
      "_model_module_version": "^0.1.0",
      "_model_name": "CytoscapeModel",
      "_view_count": null,
      "_view_module": "cytoscape-jupyter-widget",
      "_view_module_version": "^0.1.0",
      "_view_name": "CytoscapeView",
      "background": "#FFFFFF",
      "data": {
       "elements": {
        "nodes": [
         {
          "data": {
           "role": "seed",
           "id": "925",
           "entrez": "1280",
           "genbank": "COL2A1",
           "normalized_milieu_weight": 1
          }
         },
         {
          "data": {
           "role": "seed",
           "id": "2271",
           "entrez": "3265",
           "genbank": "HRAS",
           "normalized_milieu_weight": 1
          }
         },
         {
          "data": {
           "role": "seed",
           "id": "5941",
           "entrez": "8642",
           "genbank": "DCHS1",
           "normalized_milieu_weight": 1
          }
         },
         {
          "data": {
           "role": "seed",
           "id": "4662",
           "entrez": "6628",
           "genbank": "SNRPB",
           "normalized_milieu_weight": 1
          }
         },
         {
          "data": {
           "role": "seed",
           "id": "3435",
           "entrez": "5000",
           "genbank": "ORC4",
           "normalized_milieu_weight": 1
          }
         },
         {
          "data": {
           "role": "seed",
           "id": "5774",
           "entrez": "8425",
           "genbank": "LTBP4",
           "normalized_milieu_weight": 1
          }
         },
         {
          "data": {
           "role": "seed",
           "id": "1663",
           "entrez": "2317",
           "genbank": "FLNB",
           "normalized_milieu_weight": 1
          }
         },
         {
          "data": {
           "role": "seed",
           "id": "3734",
           "entrez": "5396",
           "genbank": "PRRX1",
           "normalized_milieu_weight": 1
          }
         },
         {
          "data": {
           "role": "seed",
           "id": "10732",
           "entrez": "25782",
           "genbank": "RAB3GAP2",
           "normalized_milieu_weight": 1
          }
         },
         {
          "data": {
           "role": "seed",
           "id": "1623",
           "entrez": "2263",
           "genbank": "FGFR2",
           "normalized_milieu_weight": 1
          }
         },
         {
          "data": {
           "role": "seed",
           "id": "10132",
           "entrez": "23321",
           "genbank": "TRIM2",
           "normalized_milieu_weight": 1
          }
         },
         {
          "data": {
           "role": "pred",
           "id": "1624",
           "entrez": "2264",
           "genbank": "FGFR4",
           "normalized_milieu_weight": 1
          }
         },
         {
          "data": {
           "role": "pred",
           "id": "1621",
           "entrez": "2261",
           "genbank": "FGFR3",
           "normalized_milieu_weight": 1
          }
         },
         {
          "data": {
           "role": "pred",
           "id": "1620",
           "entrez": "2260",
           "genbank": "FGFR1",
           "normalized_milieu_weight": 1
          }
         },
         {
          "data": {
           "role": "pred",
           "id": "926",
           "entrez": "1281",
           "genbank": "COL3A1",
           "normalized_milieu_weight": 1
          }
         },
         {
          "data": {
           "role": "pred",
           "id": "936",
           "entrez": "1291",
           "genbank": "COL6A1",
           "normalized_milieu_weight": 1
          }
         },
         {
          "data": {
           "role": "mutual_interactor",
           "id": "4698",
           "entrez": "6667",
           "genbank": "SP1",
           "normalized_milieu_weight": 0.08941420912742615
          }
         },
         {
          "data": {
           "role": "mutual_interactor",
           "id": "1607",
           "entrez": "2247",
           "genbank": "FGF2",
           "normalized_milieu_weight": 0.2813691794872284
          }
         },
         {
          "data": {
           "role": "mutual_interactor",
           "id": "1608",
           "entrez": "2248",
           "genbank": "FGF3",
           "normalized_milieu_weight": 0.6101864576339722
          }
         },
         {
          "data": {
           "role": "mutual_interactor",
           "id": "4752",
           "entrez": "6733",
           "genbank": "SRPK2",
           "normalized_milieu_weight": 0.07476813346147537
          }
         },
         {
          "data": {
           "role": "mutual_interactor",
           "id": "2422",
           "entrez": "3500",
           "genbank": "IGHG1",
           "normalized_milieu_weight": 0.1838444620370865
          }
         },
         {
          "data": {
           "role": "mutual_interactor",
           "id": "14290",
           "entrez": "55832",
           "genbank": "CAND1",
           "normalized_milieu_weight": 0.0672144964337349
          }
         },
         {
          "data": {
           "role": "mutual_interactor",
           "id": "11026",
           "entrez": "26270",
           "genbank": "FBXO6",
           "normalized_milieu_weight": 0.06804771721363068
          }
         },
         {
          "data": {
           "role": "mutual_interactor",
           "id": "6727",
           "entrez": "9656",
           "genbank": "MDC1",
           "normalized_milieu_weight": 0.13044388592243195
          }
         },
         {
          "data": {
           "role": "mutual_interactor",
           "id": "3190",
           "entrez": "4670",
           "genbank": "HNRNPM",
           "normalized_milieu_weight": 0.08951427042484283
          }
         }
        ],
        "edges": [
         {
          "data": {
           "source": "5774",
           "target": "2422",
           "roles": "seed-mutual_interactor"
          }
         },
         {
          "data": {
           "source": "5774",
           "target": "11026",
           "roles": "seed-mutual_interactor"
          }
         },
         {
          "data": {
           "source": "4752",
           "target": "1621",
           "roles": "mutual_interactor-pred"
          }
         },
         {
          "data": {
           "source": "4752",
           "target": "4662",
           "roles": "mutual_interactor-seed"
          }
         },
         {
          "data": {
           "source": "11026",
           "target": "936",
           "roles": "mutual_interactor-pred"
          }
         },
         {
          "data": {
           "source": "11026",
           "target": "3435",
           "roles": "mutual_interactor-seed"
          }
         },
         {
          "data": {
           "source": "925",
           "target": "936",
           "roles": "seed-pred"
          }
         },
         {
          "data": {
           "source": "925",
           "target": "4698",
           "roles": "seed-mutual_interactor"
          }
         },
         {
          "data": {
           "source": "926",
           "target": "4698",
           "roles": "pred-mutual_interactor"
          }
         },
         {
          "data": {
           "source": "926",
           "target": "14290",
           "roles": "pred-mutual_interactor"
          }
         },
         {
          "data": {
           "source": "4662",
           "target": "3190",
           "roles": "seed-mutual_interactor"
          }
         },
         {
          "data": {
           "source": "4662",
           "target": "6727",
           "roles": "seed-mutual_interactor"
          }
         },
         {
          "data": {
           "source": "4662",
           "target": "14290",
           "roles": "seed-mutual_interactor"
          }
         },
         {
          "data": {
           "source": "1607",
           "target": "1620",
           "roles": "mutual_interactor-pred"
          }
         },
         {
          "data": {
           "source": "1607",
           "target": "1621",
           "roles": "mutual_interactor-pred"
          }
         },
         {
          "data": {
           "source": "1607",
           "target": "1623",
           "roles": "mutual_interactor-seed"
          }
         },
         {
          "data": {
           "source": "1607",
           "target": "1624",
           "roles": "mutual_interactor-pred"
          }
         },
         {
          "data": {
           "source": "1608",
           "target": "1620",
           "roles": "mutual_interactor-pred"
          }
         },
         {
          "data": {
           "source": "1608",
           "target": "1621",
           "roles": "mutual_interactor-pred"
          }
         },
         {
          "data": {
           "source": "1608",
           "target": "1623",
           "roles": "mutual_interactor-seed"
          }
         },
         {
          "data": {
           "source": "1608",
           "target": "1624",
           "roles": "mutual_interactor-pred"
          }
         },
         {
          "data": {
           "source": "6727",
           "target": "1663",
           "roles": "mutual_interactor-seed"
          }
         },
         {
          "data": {
           "source": "1620",
           "target": "2422",
           "roles": "pred-mutual_interactor"
          }
         },
         {
          "data": {
           "source": "1621",
           "target": "1623",
           "roles": "pred-seed"
          }
         },
         {
          "data": {
           "source": "1624",
           "target": "4698",
           "roles": "pred-mutual_interactor"
          }
         },
         {
          "data": {
           "source": "3190",
           "target": "1663",
           "roles": "mutual_interactor-seed"
          }
         }
        ]
       }
      },
      "format": "cyjs",
      "layout": "IPY_MODEL_76cc0692b14e473ab4874f285fa4692e",
      "layout_name": "",
      "visual_style": [
       {
        "selector": "node",
        "css": {
         "content": "data(genbank)",
         "border-color": "rgb(256,256,256)",
         "border-opacity": 1,
         "border-width": 2
        }
       },
       {
        "selector": "node[role = 'seed']",
        "css": {
         "background-color": "#f53e37",
         "width": 20,
         "height": 20
        }
       },
       {
        "selector": "node[role = 'pred']",
        "css": {
         "background-color": "#ff9529",
         "width": 20,
         "height": 20
        }
       },
       {
        "selector": "node[role = 'mutual_interactor']",
        "css": {
         "background-color": "#6599d1",
         "width": 20,
         "height": 20
        }
       }
      ]
     }
    }
   }
  }
 },
 "cells": [
  {
   "cell_type": "markdown",
   "source": [
    "# Mutual Interactors\n",
    "Mutual Interactors is a machine learning algorithm for node set expansion in large networks. The algorithm is motivated by the structure of disease-associated proteins, drug targets and protein functions in molecular networks, and can be used to predict molecular phenotypes in silico. For a detailed description of the algorithm, please see our paper.\n",
    "\n",
    "In this notebook, we will walk through how we train a Mutual Interactors model to predict novel disease protein associations. We use a PPI network and a large set of disease-protein associations to train the model.\n",
    "\n",
    "Although this notebook uses a PPI network and disease protein associations, it can easily be retrofitted to work with any network and any node set type."
   ],
   "metadata": {
    "id": "ADStrGThaS2a"
   }
  },
  {
   "cell_type": "code",
   "source": [
    "# !pip install torch goatools parse ndex2 cyjupyter\n",
    "%load_ext autoreload\n",
    "%autoreload 2\n",
    "\n",
    "import os\n",
    "\n",
    "import networkx as nx\n",
    "\n",
    "from milieu.data.network import Network\n",
    "from milieu.data.associations import load_diseases\n",
    "from milieu.util.util import load_mapping\n",
    "from milieu.milieu import MilieuDataset, Milieu\n",
    "from milieu.paper.figures.network_vis import show_network"
   ],
   "metadata": {
    "colab": {
     "base_uri": "https://localhost:8080/"
    },
    "collapsed": true,
    "id": "AZbhcN6UMDuS",
    "outputId": "38dc52be-566b-4a1e-936c-3e1b1a87182b",
    "ExecuteTime": {
     "end_time": "2025-03-17T02:37:15.553850Z",
     "start_time": "2025-03-17T02:36:46.170814Z"
    }
   },
   "outputs": [
    {
     "name": "stderr",
     "output_type": "stream",
     "text": [
      "\n",
      "A module that was compiled using NumPy 1.x cannot be run in\n",
      "NumPy 2.2.4 as it may crash. To support both 1.x and 2.x\n",
      "versions of NumPy, modules must be compiled with NumPy 2.0.\n",
      "Some module may need to rebuild instead e.g. with 'pybind11>=2.12'.\n",
      "\n",
      "If you are a user of the module, the easiest solution will be to\n",
      "downgrade to 'numpy<2' or try to upgrade the affected module.\n",
      "We expect that some modules will need time to support NumPy 2.\n",
      "\n",
      "Traceback (most recent call last):  File \"<frozen runpy>\", line 198, in _run_module_as_main\n",
      "  File \"<frozen runpy>\", line 88, in _run_code\n",
      "  File \"/Users/bradleybuchner/Desktop/Grad School/Research/Aging Project/milieu/.venv/lib/python3.11/site-packages/ipykernel_launcher.py\", line 18, in <module>\n",
      "    app.launch_new_instance()\n",
      "  File \"/Users/bradleybuchner/Desktop/Grad School/Research/Aging Project/milieu/.venv/lib/python3.11/site-packages/traitlets/config/application.py\", line 1075, in launch_instance\n",
      "    app.start()\n",
      "  File \"/Users/bradleybuchner/Desktop/Grad School/Research/Aging Project/milieu/.venv/lib/python3.11/site-packages/ipykernel/kernelapp.py\", line 739, in start\n",
      "    self.io_loop.start()\n",
      "  File \"/Users/bradleybuchner/Desktop/Grad School/Research/Aging Project/milieu/.venv/lib/python3.11/site-packages/tornado/platform/asyncio.py\", line 205, in start\n",
      "    self.asyncio_loop.run_forever()\n",
      "  File \"/Library/Frameworks/Python.framework/Versions/3.11/lib/python3.11/asyncio/base_events.py\", line 607, in run_forever\n",
      "    self._run_once()\n",
      "  File \"/Library/Frameworks/Python.framework/Versions/3.11/lib/python3.11/asyncio/base_events.py\", line 1919, in _run_once\n",
      "    handle._run()\n",
      "  File \"/Library/Frameworks/Python.framework/Versions/3.11/lib/python3.11/asyncio/events.py\", line 80, in _run\n",
      "    self._context.run(self._callback, *self._args)\n",
      "  File \"/Users/bradleybuchner/Desktop/Grad School/Research/Aging Project/milieu/.venv/lib/python3.11/site-packages/ipykernel/kernelbase.py\", line 545, in dispatch_queue\n",
      "    await self.process_one()\n",
      "  File \"/Users/bradleybuchner/Desktop/Grad School/Research/Aging Project/milieu/.venv/lib/python3.11/site-packages/ipykernel/kernelbase.py\", line 534, in process_one\n",
      "    await dispatch(*args)\n",
      "  File \"/Users/bradleybuchner/Desktop/Grad School/Research/Aging Project/milieu/.venv/lib/python3.11/site-packages/ipykernel/kernelbase.py\", line 437, in dispatch_shell\n",
      "    await result\n",
      "  File \"/Users/bradleybuchner/Desktop/Grad School/Research/Aging Project/milieu/.venv/lib/python3.11/site-packages/ipykernel/ipkernel.py\", line 362, in execute_request\n",
      "    await super().execute_request(stream, ident, parent)\n",
      "  File \"/Users/bradleybuchner/Desktop/Grad School/Research/Aging Project/milieu/.venv/lib/python3.11/site-packages/ipykernel/kernelbase.py\", line 778, in execute_request\n",
      "    reply_content = await reply_content\n",
      "  File \"/Users/bradleybuchner/Desktop/Grad School/Research/Aging Project/milieu/.venv/lib/python3.11/site-packages/ipykernel/ipkernel.py\", line 449, in do_execute\n",
      "    res = shell.run_cell(\n",
      "  File \"/Users/bradleybuchner/Desktop/Grad School/Research/Aging Project/milieu/.venv/lib/python3.11/site-packages/ipykernel/zmqshell.py\", line 549, in run_cell\n",
      "    return super().run_cell(*args, **kwargs)\n",
      "  File \"/Users/bradleybuchner/Desktop/Grad School/Research/Aging Project/milieu/.venv/lib/python3.11/site-packages/IPython/core/interactiveshell.py\", line 3047, in run_cell\n",
      "    result = self._run_cell(\n",
      "  File \"/Users/bradleybuchner/Desktop/Grad School/Research/Aging Project/milieu/.venv/lib/python3.11/site-packages/IPython/core/interactiveshell.py\", line 3102, in _run_cell\n",
      "    result = runner(coro)\n",
      "  File \"/Users/bradleybuchner/Desktop/Grad School/Research/Aging Project/milieu/.venv/lib/python3.11/site-packages/IPython/core/async_helpers.py\", line 128, in _pseudo_sync_runner\n",
      "    coro.send(None)\n",
      "  File \"/Users/bradleybuchner/Desktop/Grad School/Research/Aging Project/milieu/.venv/lib/python3.11/site-packages/IPython/core/interactiveshell.py\", line 3306, in run_cell_async\n",
      "    has_raised = await self.run_ast_nodes(code_ast.body, cell_name,\n",
      "  File \"/Users/bradleybuchner/Desktop/Grad School/Research/Aging Project/milieu/.venv/lib/python3.11/site-packages/IPython/core/interactiveshell.py\", line 3489, in run_ast_nodes\n",
      "    if await self.run_code(code, result, async_=asy):\n",
      "  File \"/Users/bradleybuchner/Desktop/Grad School/Research/Aging Project/milieu/.venv/lib/python3.11/site-packages/IPython/core/interactiveshell.py\", line 3549, in run_code\n",
      "    exec(code_obj, self.user_global_ns, self.user_ns)\n",
      "  File \"/var/folders/9b/rqsdb64x5td5s2cc_ptlmj7c0000gn/T/ipykernel_4285/1842356391.py\", line 10, in <module>\n",
      "    from milieu.data.associations import load_diseases\n",
      "  File \"/Users/bradleybuchner/Desktop/Grad School/Research/Aging Project/milieu/milieu/data/associations.py\", line 9, in <module>\n",
      "    from milieu.util.util import load_mapping\n",
      "  File \"/Users/bradleybuchner/Desktop/Grad School/Research/Aging Project/milieu/milieu/util/util.py\", line 14, in <module>\n",
      "    import torch\n",
      "  File \"/Users/bradleybuchner/Desktop/Grad School/Research/Aging Project/milieu/.venv/lib/python3.11/site-packages/torch/__init__.py\", line 1477, in <module>\n",
      "    from .functional import *  # noqa: F403\n",
      "  File \"/Users/bradleybuchner/Desktop/Grad School/Research/Aging Project/milieu/.venv/lib/python3.11/site-packages/torch/functional.py\", line 9, in <module>\n",
      "    import torch.nn.functional as F\n",
      "  File \"/Users/bradleybuchner/Desktop/Grad School/Research/Aging Project/milieu/.venv/lib/python3.11/site-packages/torch/nn/__init__.py\", line 1, in <module>\n",
      "    from .modules import *  # noqa: F403\n",
      "  File \"/Users/bradleybuchner/Desktop/Grad School/Research/Aging Project/milieu/.venv/lib/python3.11/site-packages/torch/nn/modules/__init__.py\", line 35, in <module>\n",
      "    from .transformer import TransformerEncoder, TransformerDecoder, \\\n",
      "  File \"/Users/bradleybuchner/Desktop/Grad School/Research/Aging Project/milieu/.venv/lib/python3.11/site-packages/torch/nn/modules/transformer.py\", line 20, in <module>\n",
      "    device: torch.device = torch.device(torch._C._get_default_device()),  # torch.device('cpu'),\n",
      "/Users/bradleybuchner/Desktop/Grad School/Research/Aging Project/milieu/.venv/lib/python3.11/site-packages/torch/nn/modules/transformer.py:20: UserWarning: Failed to initialize NumPy: _ARRAY_API not found (Triggered internally at /Users/runner/work/pytorch/pytorch/pytorch/torch/csrc/utils/tensor_numpy.cpp:84.)\n",
      "  device: torch.device = torch.device(torch._C._get_default_device()),  # torch.device('cpu'),\n"
     ]
    }
   ],
   "execution_count": 1
  },
  {
   "metadata": {
    "ExecuteTime": {
     "end_time": "2025-03-17T02:37:16.065828Z",
     "start_time": "2025-03-17T02:37:15.586063Z"
    }
   },
   "cell_type": "code",
   "source": [
    "# Set the working directory\n",
    "os.chdir('/Users/bradleybuchner/Desktop/Grad School/Research/Aging Project/milieu')\n",
    "print(\"Current Working Directory:\", os.getcwd())"
   ],
   "outputs": [
    {
     "name": "stdout",
     "output_type": "stream",
     "text": [
      "Current Working Directory: /Users/bradleybuchner/Desktop/Grad School/Research/Aging Project/milieu\n"
     ]
    }
   ],
   "execution_count": 2
  },
  {
   "cell_type": "markdown",
   "source": [
    "## Load a Network\n",
    "To use Mutual Interactors we need a network!\n",
    "\n",
    "We'll use the human protein-protein interaction network compiled by Menche et al.[1]. The network consists of 342,353 interactions between 21,557 proteins. Se In data/networks, you can find this network bio-pathways-network.txt. See methods for a more detailed description of the network.\n",
    "\n",
    "We use the class milieu.data.network.Network to load and represent networks. The constructor accepts a path to an edge list."
   ],
   "metadata": {
    "id": "IYMenqUdaM9o"
   }
  },
  {
   "cell_type": "code",
   "source": [
    "# Patch the __init__ method for the Network class\n",
    "import os\n",
    "import logging\n",
    "import random\n",
    "\n",
    "import numpy as np\n",
    "import pandas as pd\n",
    "import networkx as nx\n",
    "\n",
    "def _patched__init__(self, network_path, remove_edges=0, remove_nodes=0):\n",
    "        \"\"\"\n",
    "        Patched __init__ method for the Network class.\n",
    "        Replaces nx.from_numpy_matrix with nx.from_numpy_array.\n",
    "\n",
    "        Load a protein-proetin interaction network from an adjacency list.\n",
    "        args:\n",
    "            network_path (string)\n",
    "            remove_edges (double) fraction between 0 and 1 inclusive indicating\n",
    "            fraction of edges to randomly remove\n",
    "            remove_nodes (double) fraction between 0 and 1 inclusive indicating\n",
    "            fraction of nodes to randomly remove\n",
    "        \"\"\"\n",
    "        # map protein entrez ids to node index\n",
    "        node_names = set()\n",
    "        edges = []\n",
    "        with open(network_path) as network_file:\n",
    "            for line in network_file:\n",
    "                if remove_edges > 0 and random.random() < remove_edges:\n",
    "                    continue\n",
    "                p1, p2 = [int(a) for a in line.split()]\n",
    "                node_names.add(p1)\n",
    "                node_names.add(p2)\n",
    "                edges.append((p1, p2))\n",
    "        if remove_nodes > 0:\n",
    "            assert(remove_nodes < 1)\n",
    "            node_names = random.sample(node_names, 1 - remove_nodes)\n",
    "\n",
    "        self.name_to_node = {p: n for n, p in enumerate(node_names)}\n",
    "        self.node_to_name = {n: p for p, n in self.name_to_node.items()}\n",
    "\n",
    "        # build adjacency matrix\n",
    "        self.adj_matrix = np.zeros((len(self.name_to_node),\n",
    "                                    len(self.name_to_node)))\n",
    "        for p1, p2 in edges:\n",
    "            n1, n2 = self.name_to_node[p1], self.name_to_node[p2]\n",
    "            self.adj_matrix[n1, n2] = 1\n",
    "            self.adj_matrix[n2, n1] = 1\n",
    "\n",
    "        # self.nx = nx.from_numpy_matrix(self.adj_matrix)\n",
    "        self.nx = nx.from_numpy_array(self.adj_matrix)\n",
    "\n",
    "\n",
    "# Apply the patch\n",
    "Network.__init__ = _patched__init__\n",
    "\n",
    "# Now you can use the Network class as before\n",
    "network = Network(\"data/networks/species_9606/bio-pathways/network.txt\")"
   ],
   "metadata": {
    "id": "QVKUVHJdO77h",
    "ExecuteTime": {
     "end_time": "2025-03-17T02:38:15.138764Z",
     "start_time": "2025-03-17T02:37:44.195550Z"
    }
   },
   "outputs": [],
   "execution_count": 3
  },
  {
   "cell_type": "markdown",
   "source": [
    "## Build the Milieu Model\n",
    "The Mutual Interactors is parameterized by a few important hyperparameters.\n",
    "\n",
    "We find that learning rate parameter (i.e. optim_args/lr in the nested dictionary below) can have significant impact on performance. The optimal value varies substantially between networks and applications, so we recommend tuning it.\n",
    "\n",
    "If you have a GPU available, setting cuda to True and specifying an available device should speed up training considerably. That being said, training Mutual Interactors is usually tractable on CPU for networks with\n",
    "."
   ],
   "metadata": {
    "id": "NGcUiugGaGZz"
   }
  },
  {
   "cell_type": "code",
   "source": [
    "# Patch the build_model method for the Milieu class\n",
    "# import os\n",
    "import json\n",
    "import logging\n",
    "from shutil import copyfile\n",
    "from collections import defaultdict\n",
    "from copy import deepcopy\n",
    "\n",
    "import numpy as np\n",
    "import networkx as nx\n",
    "import torch\n",
    "import torch.nn as nn\n",
    "from torch.autograd import Variable\n",
    "import torch.optim as optim\n",
    "from torch.utils.data import Dataset, DataLoader\n",
    "from tqdm import tqdm\n",
    "from scipy.sparse import coo_matrix, csr_matrix\n",
    "import parse\n",
    "\n",
    "from milieu.paper.methods.method import DPPMethod\n",
    "from milieu.data.associations import load_node_sets\n",
    "from milieu.util.metrics import compute_metrics\n",
    "from milieu.util.util import set_logger, load_mapping\n",
    "\n",
    "def _patched_build_model(self):\n",
    "        \"\"\"\n",
    "        Initialize the variables and parameters of the Milieu model.\n",
    "        See Methods, Equation (2) for corresponding mathematical definition.\n",
    "        \"\"\"\n",
    "        # degree vector, (D^{-0.5} in Equation (2))\n",
    "        degree = np.sum(self.adj_matrix, axis=1, dtype=float)\n",
    "        inv_sqrt_degree = np.power(degree, -0.5)\n",
    "        inv_sqrt_degree = torch.tensor(inv_sqrt_degree, dtype=torch.float)\n",
    "\n",
    "        # adjacency matrix of network, (A in Equation (2))\n",
    "        adj_matrix = torch.tensor(self.adj_matrix, dtype=torch.float)\n",
    "\n",
    "        # precompute the symmetric normalized adj matrix, used on the left of Equation (2)\n",
    "        adj_matrix_left = torch.mul(torch.mul(inv_sqrt_degree.view(1, -1),\n",
    "                                              adj_matrix),\n",
    "                                    inv_sqrt_degree.view(-1, 1))\n",
    "\n",
    "        # precompute the normalized adj matrix, used on the right of Equation (2)\n",
    "        adj_matrix_right = torch.mul(inv_sqrt_degree.view(1, -1),\n",
    "                                     adj_matrix)\n",
    "        self.register_buffer(\"adj_matrix_right\", adj_matrix_right)\n",
    "        self.register_buffer(\"adj_matrix_left\", adj_matrix_left)\n",
    "\n",
    "        # milieu weight vector, ('W' in Equation (2))\n",
    "        self.milieu_weights = nn.Parameter(torch.ones(1, 1, adj_matrix.shape[0],\n",
    "                                           dtype=torch.float,\n",
    "                                           requires_grad=True))\n",
    "\n",
    "        # scaling parameter, ('a' in in Equation (2))\n",
    "        self.scale = nn.Linear(1, 1)\n",
    "\n",
    "        # the bias parameter, ('b' in Equation (2))\n",
    "        self.bias = nn.Parameter(torch.ones(size=(1,),\n",
    "                                            dtype=torch.float,\n",
    "                                            requires_grad=True))\n",
    "\n",
    "\n",
    "# Apply the patch\n",
    "Milieu._build_model = _patched_build_model"
   ],
   "metadata": {
    "id": "r3pIXfX8QsCU",
    "ExecuteTime": {
     "end_time": "2025-03-17T02:38:20.622308Z",
     "start_time": "2025-03-17T02:38:20.405376Z"
    }
   },
   "outputs": [],
   "execution_count": 4
  },
  {
   "cell_type": "code",
   "source": [
    "params = {\n",
    "    \"cuda\": False,\n",
    "    \"device\": 2,\n",
    "\n",
    "    \"batch_size\": 200,\n",
    "    \"num_workers\": 4,\n",
    "    \"num_epochs\": 10,\n",
    "\n",
    "    \"optim_class\": \"Adam\",\n",
    "    \"optim_args\": {\n",
    "        \"lr\": 0.01,\n",
    "        \"weight_decay\": 0.0\n",
    "    },\n",
    "\n",
    "    \"metric_configs\": [\n",
    "        {\n",
    "            \"name\": \"recall_at_25\",\n",
    "            \"fn\": \"batch_recall_at\",\n",
    "            \"args\": {\"k\":25}\n",
    "        }\n",
    "    ]\n",
    "}"
   ],
   "metadata": {
    "id": "StmDeRejNQ0g",
    "ExecuteTime": {
     "end_time": "2025-03-17T02:38:25.378661Z",
     "start_time": "2025-03-17T02:38:25.258052Z"
    }
   },
   "outputs": [],
   "execution_count": 5
  },
  {
   "cell_type": "markdown",
   "source": [
    "We've implemented the Mutual Interactors model in a self-contained class milieu.milieu.Milieu. This class contains methods for training the model Milieu.train_model, evaluating the model on a test set Milieu.score and predicting node set expansions Milieu.expand.\n",
    "\n",
    "The constructor accepts the network and the dictionary of params we defined above."
   ],
   "metadata": {
    "id": "IPpJ2CTOZ-nc"
   }
  },
  {
   "cell_type": "code",
   "source": [
    "milieu = Milieu(network, params)"
   ],
   "metadata": {
    "colab": {
     "base_uri": "https://localhost:8080/"
    },
    "id": "sgmTgLqYQWph",
    "outputId": "bf29400e-3c09-4c0a-8059-6db68598445b",
    "jupyter": {
     "is_executing": true
    },
    "ExecuteTime": {
     "start_time": "2025-03-17T02:38:29.061945Z"
    }
   },
   "outputs": [
    {
     "name": "stdout",
     "output_type": "stream",
     "text": [
      "Milieu\n",
      "Setting parameters...\n",
      "Building model...\n"
     ]
    }
   ],
   "execution_count": null
  },
  {
   "cell_type": "markdown",
   "source": [
    "## Train the Model\n",
    "Mutual Interactors is trained on a dataset of groups of nodes known to be associated with one another in some way.\n",
    "In this example, we use sets of proteins associated with the same disease. Our disease-protein associations come from disgenet and are found at data/disease_associations/disgenet-associations.csv.\n",
    "\n",
    "We load the disease-protein associations with milieu.data.associations.load_diseases which returns a list of milieu.data.associations.NodeSet. Each NodeSet represents the set of proteins associated with on disease.\n",
    "\n",
    "To evaluate the model as we train it, we'll split the set of diseases into train set and a validation set. Next, we'll create a milieu.milieu.MilieuDataset for each. A MilieuDataset is simply a PyTorch dataset that creates training examples for the Mutual Interactors momdel."
   ],
   "metadata": {
    "id": "G5dEwk7yZ3qS"
   }
  },
  {
   "cell_type": "code",
   "source": [
    "node_sets = list(load_diseases(\"data/associations/disgenet/associations.csv\", exclude_splits=[\"none\"]).values())\n",
    "train_node_sets = node_sets[:int(len(node_sets)* 0.9)]\n",
    "valid_node_sets = node_sets[int(len(node_sets)* 0.9):]\n",
    "train_dataset = MilieuDataset(network, node_sets=train_node_sets)\n",
    "valid_dataset = MilieuDataset(network, node_sets=valid_node_sets)"
   ],
   "metadata": {
    "id": "u_lVPqXcQX7n"
   },
   "execution_count": 8,
   "outputs": []
  },
  {
   "cell_type": "code",
   "source": [
    "milieu.train_model(train_dataset, valid_dataset)"
   ],
   "metadata": {
    "colab": {
     "base_uri": "https://localhost:8080/"
    },
    "id": "O2xswDHPWtoJ",
    "outputId": "dc14cf04-ce9e-4c55-8351-be2f53ec5112"
   },
   "execution_count": 9,
   "outputs": [
    {
     "output_type": "stream",
     "name": "stderr",
     "text": [
      "INFO:root:Starting training for 10 epoch(s)\n",
      "/usr/local/lib/python3.11/dist-packages/torch/utils/data/dataloader.py:624: UserWarning: This DataLoader will create 4 worker processes in total. Our suggested max number of worker in current system is 2, which is smaller than what this DataLoader is going to create. Please be aware that excessive worker creation might get DataLoader running slow or even freeze, lower the worker number to avoid potential slowness/freeze if necessary.\n",
      "  warnings.warn(\n",
      "INFO:root:Epoch 1 of 10\n",
      "INFO:root:Training\n",
      "100%|██████████| 9/9 [00:58<00:00,  6.48s/it, loss=1.405]\n",
      "INFO:root:Validation\n",
      "  0%|          | 0/1 [00:00<?, ?it/s]/usr/local/lib/python3.11/dist-packages/torch/utils/data/dataloader.py:624: UserWarning: This DataLoader will create 4 worker processes in total. Our suggested max number of worker in current system is 2, which is smaller than what this DataLoader is going to create. Please be aware that excessive worker creation might get DataLoader running slow or even freeze, lower the worker number to avoid potential slowness/freeze if necessary.\n",
      "  warnings.warn(\n",
      "100%|██████████| 1/1 [00:06<00:00,  6.13s/it]\n",
      "INFO:root:Epoch 2 of 10\n",
      "INFO:root:Training\n",
      "  0%|          | 0/9 [00:00<?, ?it/s]/usr/local/lib/python3.11/dist-packages/torch/utils/data/dataloader.py:624: UserWarning: This DataLoader will create 4 worker processes in total. Our suggested max number of worker in current system is 2, which is smaller than what this DataLoader is going to create. Please be aware that excessive worker creation might get DataLoader running slow or even freeze, lower the worker number to avoid potential slowness/freeze if necessary.\n",
      "  warnings.warn(\n",
      "100%|██████████| 9/9 [00:58<00:00,  6.55s/it, loss=1.386]\n",
      "INFO:root:Validation\n",
      "  0%|          | 0/1 [00:00<?, ?it/s]/usr/local/lib/python3.11/dist-packages/torch/utils/data/dataloader.py:624: UserWarning: This DataLoader will create 4 worker processes in total. Our suggested max number of worker in current system is 2, which is smaller than what this DataLoader is going to create. Please be aware that excessive worker creation might get DataLoader running slow or even freeze, lower the worker number to avoid potential slowness/freeze if necessary.\n",
      "  warnings.warn(\n",
      "100%|██████████| 1/1 [00:06<00:00,  6.04s/it]\n",
      "INFO:root:Epoch 3 of 10\n",
      "INFO:root:Training\n",
      "  0%|          | 0/9 [00:00<?, ?it/s]/usr/local/lib/python3.11/dist-packages/torch/utils/data/dataloader.py:624: UserWarning: This DataLoader will create 4 worker processes in total. Our suggested max number of worker in current system is 2, which is smaller than what this DataLoader is going to create. Please be aware that excessive worker creation might get DataLoader running slow or even freeze, lower the worker number to avoid potential slowness/freeze if necessary.\n",
      "  warnings.warn(\n",
      "100%|██████████| 9/9 [00:58<00:00,  6.45s/it, loss=1.379]\n",
      "INFO:root:Validation\n",
      "  0%|          | 0/1 [00:00<?, ?it/s]/usr/local/lib/python3.11/dist-packages/torch/utils/data/dataloader.py:624: UserWarning: This DataLoader will create 4 worker processes in total. Our suggested max number of worker in current system is 2, which is smaller than what this DataLoader is going to create. Please be aware that excessive worker creation might get DataLoader running slow or even freeze, lower the worker number to avoid potential slowness/freeze if necessary.\n",
      "  warnings.warn(\n",
      "100%|██████████| 1/1 [00:06<00:00,  6.00s/it]\n",
      "INFO:root:Epoch 4 of 10\n",
      "INFO:root:Training\n",
      "  0%|          | 0/9 [00:00<?, ?it/s]/usr/local/lib/python3.11/dist-packages/torch/utils/data/dataloader.py:624: UserWarning: This DataLoader will create 4 worker processes in total. Our suggested max number of worker in current system is 2, which is smaller than what this DataLoader is going to create. Please be aware that excessive worker creation might get DataLoader running slow or even freeze, lower the worker number to avoid potential slowness/freeze if necessary.\n",
      "  warnings.warn(\n",
      "100%|██████████| 9/9 [01:00<00:00,  6.69s/it, loss=1.374]\n",
      "INFO:root:Validation\n",
      "  0%|          | 0/1 [00:00<?, ?it/s]/usr/local/lib/python3.11/dist-packages/torch/utils/data/dataloader.py:624: UserWarning: This DataLoader will create 4 worker processes in total. Our suggested max number of worker in current system is 2, which is smaller than what this DataLoader is going to create. Please be aware that excessive worker creation might get DataLoader running slow or even freeze, lower the worker number to avoid potential slowness/freeze if necessary.\n",
      "  warnings.warn(\n",
      "100%|██████████| 1/1 [00:05<00:00,  5.97s/it]\n",
      "INFO:root:Epoch 5 of 10\n",
      "INFO:root:Training\n",
      "  0%|          | 0/9 [00:00<?, ?it/s]/usr/local/lib/python3.11/dist-packages/torch/utils/data/dataloader.py:624: UserWarning: This DataLoader will create 4 worker processes in total. Our suggested max number of worker in current system is 2, which is smaller than what this DataLoader is going to create. Please be aware that excessive worker creation might get DataLoader running slow or even freeze, lower the worker number to avoid potential slowness/freeze if necessary.\n",
      "  warnings.warn(\n",
      "100%|██████████| 9/9 [01:00<00:00,  6.76s/it, loss=1.367]\n",
      "INFO:root:Validation\n",
      "  0%|          | 0/1 [00:00<?, ?it/s]/usr/local/lib/python3.11/dist-packages/torch/utils/data/dataloader.py:624: UserWarning: This DataLoader will create 4 worker processes in total. Our suggested max number of worker in current system is 2, which is smaller than what this DataLoader is going to create. Please be aware that excessive worker creation might get DataLoader running slow or even freeze, lower the worker number to avoid potential slowness/freeze if necessary.\n",
      "  warnings.warn(\n",
      "100%|██████████| 1/1 [00:05<00:00,  5.29s/it]\n",
      "INFO:root:Epoch 6 of 10\n",
      "INFO:root:Training\n",
      "  0%|          | 0/9 [00:00<?, ?it/s]/usr/local/lib/python3.11/dist-packages/torch/utils/data/dataloader.py:624: UserWarning: This DataLoader will create 4 worker processes in total. Our suggested max number of worker in current system is 2, which is smaller than what this DataLoader is going to create. Please be aware that excessive worker creation might get DataLoader running slow or even freeze, lower the worker number to avoid potential slowness/freeze if necessary.\n",
      "  warnings.warn(\n",
      "100%|██████████| 9/9 [00:59<00:00,  6.59s/it, loss=1.360]\n",
      "INFO:root:Validation\n",
      "  0%|          | 0/1 [00:00<?, ?it/s]/usr/local/lib/python3.11/dist-packages/torch/utils/data/dataloader.py:624: UserWarning: This DataLoader will create 4 worker processes in total. Our suggested max number of worker in current system is 2, which is smaller than what this DataLoader is going to create. Please be aware that excessive worker creation might get DataLoader running slow or even freeze, lower the worker number to avoid potential slowness/freeze if necessary.\n",
      "  warnings.warn(\n",
      "100%|██████████| 1/1 [00:06<00:00,  6.02s/it]\n",
      "INFO:root:Epoch 7 of 10\n",
      "INFO:root:Training\n",
      "  0%|          | 0/9 [00:00<?, ?it/s]/usr/local/lib/python3.11/dist-packages/torch/utils/data/dataloader.py:624: UserWarning: This DataLoader will create 4 worker processes in total. Our suggested max number of worker in current system is 2, which is smaller than what this DataLoader is going to create. Please be aware that excessive worker creation might get DataLoader running slow or even freeze, lower the worker number to avoid potential slowness/freeze if necessary.\n",
      "  warnings.warn(\n",
      "100%|██████████| 9/9 [00:58<00:00,  6.47s/it, loss=1.352]\n",
      "INFO:root:Validation\n",
      "  0%|          | 0/1 [00:00<?, ?it/s]/usr/local/lib/python3.11/dist-packages/torch/utils/data/dataloader.py:624: UserWarning: This DataLoader will create 4 worker processes in total. Our suggested max number of worker in current system is 2, which is smaller than what this DataLoader is going to create. Please be aware that excessive worker creation might get DataLoader running slow or even freeze, lower the worker number to avoid potential slowness/freeze if necessary.\n",
      "  warnings.warn(\n",
      "100%|██████████| 1/1 [00:06<00:00,  6.40s/it]\n",
      "INFO:root:Epoch 8 of 10\n",
      "INFO:root:Training\n",
      "  0%|          | 0/9 [00:00<?, ?it/s]/usr/local/lib/python3.11/dist-packages/torch/utils/data/dataloader.py:624: UserWarning: This DataLoader will create 4 worker processes in total. Our suggested max number of worker in current system is 2, which is smaller than what this DataLoader is going to create. Please be aware that excessive worker creation might get DataLoader running slow or even freeze, lower the worker number to avoid potential slowness/freeze if necessary.\n",
      "  warnings.warn(\n",
      "100%|██████████| 9/9 [00:59<00:00,  6.59s/it, loss=1.345]\n",
      "INFO:root:Validation\n",
      "  0%|          | 0/1 [00:00<?, ?it/s]/usr/local/lib/python3.11/dist-packages/torch/utils/data/dataloader.py:624: UserWarning: This DataLoader will create 4 worker processes in total. Our suggested max number of worker in current system is 2, which is smaller than what this DataLoader is going to create. Please be aware that excessive worker creation might get DataLoader running slow or even freeze, lower the worker number to avoid potential slowness/freeze if necessary.\n",
      "  warnings.warn(\n",
      "100%|██████████| 1/1 [00:06<00:00,  6.17s/it]\n",
      "INFO:root:Epoch 9 of 10\n",
      "INFO:root:Training\n",
      "  0%|          | 0/9 [00:00<?, ?it/s]/usr/local/lib/python3.11/dist-packages/torch/utils/data/dataloader.py:624: UserWarning: This DataLoader will create 4 worker processes in total. Our suggested max number of worker in current system is 2, which is smaller than what this DataLoader is going to create. Please be aware that excessive worker creation might get DataLoader running slow or even freeze, lower the worker number to avoid potential slowness/freeze if necessary.\n",
      "  warnings.warn(\n",
      "100%|██████████| 9/9 [00:59<00:00,  6.61s/it, loss=1.332]\n",
      "INFO:root:Validation\n",
      "  0%|          | 0/1 [00:00<?, ?it/s]/usr/local/lib/python3.11/dist-packages/torch/utils/data/dataloader.py:624: UserWarning: This DataLoader will create 4 worker processes in total. Our suggested max number of worker in current system is 2, which is smaller than what this DataLoader is going to create. Please be aware that excessive worker creation might get DataLoader running slow or even freeze, lower the worker number to avoid potential slowness/freeze if necessary.\n",
      "  warnings.warn(\n",
      "100%|██████████| 1/1 [00:05<00:00,  5.61s/it]\n",
      "INFO:root:Epoch 10 of 10\n",
      "INFO:root:Training\n",
      "  0%|          | 0/9 [00:00<?, ?it/s]/usr/local/lib/python3.11/dist-packages/torch/utils/data/dataloader.py:624: UserWarning: This DataLoader will create 4 worker processes in total. Our suggested max number of worker in current system is 2, which is smaller than what this DataLoader is going to create. Please be aware that excessive worker creation might get DataLoader running slow or even freeze, lower the worker number to avoid potential slowness/freeze if necessary.\n",
      "  warnings.warn(\n",
      "100%|██████████| 9/9 [01:00<00:00,  6.69s/it, loss=1.326]\n",
      "INFO:root:Validation\n",
      "  0%|          | 0/1 [00:00<?, ?it/s]/usr/local/lib/python3.11/dist-packages/torch/utils/data/dataloader.py:624: UserWarning: This DataLoader will create 4 worker processes in total. Our suggested max number of worker in current system is 2, which is smaller than what this DataLoader is going to create. Please be aware that excessive worker creation might get DataLoader running slow or even freeze, lower the worker number to avoid potential slowness/freeze if necessary.\n",
      "  warnings.warn(\n",
      "100%|██████████| 1/1 [00:05<00:00,  5.82s/it]\n"
     ]
    },
    {
     "output_type": "execute_result",
     "data": {
      "text/plain": [
       "([{'recall_at_25': 0.006091663764077557},\n",
       "  {'recall_at_25': 0.059985388050820466},\n",
       "  {'recall_at_25': 0.06066606852165254},\n",
       "  {'recall_at_25': 0.06508019929380804},\n",
       "  {'recall_at_25': 0.05829975091137153},\n",
       "  {'recall_at_25': 0.06253906905967097},\n",
       "  {'recall_at_25': 0.0612237380727925},\n",
       "  {'recall_at_25': 0.07128082395445749},\n",
       "  {'recall_at_25': 0.07040908104168589},\n",
       "  {'recall_at_25': 0.0709470499921994}],\n",
       " [defaultdict(list, {'recall_at_25': [0.04710632773819586]}),\n",
       "  defaultdict(list, {'recall_at_25': [0.056331763474620614]}),\n",
       "  defaultdict(list, {'recall_at_25': [0.06323854368967151]}),\n",
       "  defaultdict(list, {'recall_at_25': [0.030811247157401005]}),\n",
       "  defaultdict(list, {'recall_at_25': [0.06288809031724012]}),\n",
       "  defaultdict(list, {'recall_at_25': [0.048472360972360976]}),\n",
       "  defaultdict(list, {'recall_at_25': [0.055701502404799104]}),\n",
       "  defaultdict(list, {'recall_at_25': [0.05781070433326072]}),\n",
       "  defaultdict(list, {'recall_at_25': [0.06087483596882092]}),\n",
       "  defaultdict(list, {'recall_at_25': [0.06776840536239032]})])"
      ]
     },
     "metadata": {},
     "execution_count": 9
    }
   ]
  },
  {
   "cell_type": "markdown",
   "source": [
    "##Predict Novel Associations\n",
    "Now that we've got a trained Mutual Interactors model, we can use it to expand some node sets!\n",
    "\n",
    "In particular, here we are going to use it to predict which proetins are associated with Tracheomalacia, a condition characterized by flaccidity of the supporting tracheal cartilage.\n",
    "\n",
    "To do so, we specify the set of proteins associated with Tracheomalacia using GenBank IDs."
   ],
   "metadata": {
    "id": "GO8U2m3Ibza6"
   }
  },
  {
   "cell_type": "code",
   "source": [
    "# Specify a set of proteins by their GenBank IDs\n",
    "# For example, we use the proteins associated with Tracheomalacia\n",
    "# Swap out these GenBank IDs for another set of proteins!\n",
    "tracheomalacia_proteins = ['COL2A1', 'HRAS', 'DCHS1', 'SNRPB', 'ORC4', 'LTBP4',\n",
    "                           'FLNB', 'PRRX1', 'RAB3GAP2', 'FGFR2','TRIM2']"
   ],
   "metadata": {
    "id": "2673vqy5WwHS"
   },
   "execution_count": 10,
   "outputs": []
  },
  {
   "cell_type": "code",
   "source": [
    "# Convert genbank ids to entrez ids, since our network uses entrez ids\n",
    "genbank_to_entrez = load_mapping(\"data/protein_attrs/genbank_to_entrez.txt\",\n",
    "                                 b_transform=int, delimiter='\\t')\n",
    "tracheomalacia_entrez = [genbank_to_entrez[protein] for protein in tracheomalacia_proteins]"
   ],
   "metadata": {
    "id": "_U2xoFWeb6I3"
   },
   "execution_count": 11,
   "outputs": []
  },
  {
   "cell_type": "code",
   "source": [
    "# Expand the set of proteins using our trained model!\n",
    "# Change the number of predicted proteins using the top_k parameter\n",
    "predicted_entrez = milieu.expand(node_names=tracheomalacia_entrez, top_k=5)\n",
    "predicted_entrez = list(zip(*predicted_entrez))[0]"
   ],
   "metadata": {
    "id": "989HQdYCb86t"
   },
   "execution_count": 12,
   "outputs": []
  },
  {
   "cell_type": "markdown",
   "source": [
    "Using the function milieu.paper.figures.network_vis.show_network we can generate a Cytoscape visualization of the predictions!"
   ],
   "metadata": {
    "id": "xwB4wBkvb9k5"
   }
  },
  {
   "cell_type": "code",
   "source": [
    "from google.colab import output\n",
    "output.enable_custom_widget_manager()"
   ],
   "metadata": {
    "id": "gLHiQu04gpL9"
   },
   "execution_count": 26,
   "outputs": []
  },
  {
   "cell_type": "code",
   "source": [
    " # Patch the show_network and get_network functiosn in milieu.paper.figures.network_vis\n",
    "import json\n",
    "import os\n",
    "import random\n",
    "\n",
    "import ndex2.client as nc\n",
    "from cyjupyter import Cytoscape\n",
    "import networkx as nx\n",
    "import numpy as np\n",
    "\n",
    "from milieu.util.util import load_mapping\n",
    "from milieu.util.util import ensure_dir_exists\n",
    "\n",
    "def patched_show_network(network, seed_proteins, pred_proteins,\n",
    "                 id_format=\"genbank\", style=None, show_seed_mi=True,\n",
    "                 model=None, excluded_interactions=[], save_path=None,\n",
    "                 size_limit=200):\n",
    "    \"\"\"\n",
    "    Generate a cytoscape jupyter visualization for the induced subgraph of seed_proteins,\n",
    "    pred_proteins and the mutual interactors between them.\n",
    "    \"\"\"\n",
    "    if id_format == \"genbank\":\n",
    "        genbank_to_entrez = load_mapping(\"data/protein_attrs/genbank_to_entrez.txt\",\n",
    "                                         b_transform=int, delimiter='\\t')\n",
    "        seed_proteins = [genbank_to_entrez[protein]\n",
    "                         for protein in seed_proteins if protein in genbank_to_entrez]\n",
    "        pred_proteins = [genbank_to_entrez[protein]\n",
    "                         for protein in pred_proteins if protein in genbank_to_entrez]\n",
    "        seed_nodes = network.get_nodes(seed_proteins)\n",
    "        pred_nodes = network.get_nodes(pred_proteins)\n",
    "\n",
    "    elif id_format == \"entrez\":\n",
    "        seed_nodes = network.get_nodes(seed_proteins)\n",
    "        pred_nodes = network.get_nodes(pred_proteins)\n",
    "    else:\n",
    "        raise ValueError(\"id_format is not recognized.\")\n",
    "\n",
    "    cyjs_network = patched_get_network(network, seed_nodes, pred_nodes, model,\n",
    "                               show_seed_mi, excluded_interactions, size_limit)\n",
    "    # Unique ID for a network entry in NDEx\n",
    "    uuid = 'f28356ce-362d-11e5-8ac5-06603eb7f303'\n",
    "\n",
    "    # NDEx public server URL\n",
    "    ndex_url = 'http://public.ndexbio.org/'\n",
    "\n",
    "    # Create an instance of NDEx client\n",
    "    #ndex = nc.Ndex2(ndex_url)\n",
    "\n",
    "    # Download the network in CX format\n",
    "    #response = ndex.get_network_as_cx_stream(uuid)\n",
    "\n",
    "    # Store the data in a Python object\n",
    "    #cx = response.json()\n",
    "\n",
    "    if style is None:\n",
    "        style = [\n",
    "            {\n",
    "                \"selector\": \"node\",\n",
    "                \"css\": {\n",
    "                    \"content\": \"data(genbank)\",\n",
    "                    \"border-color\" : \"rgb(256,256,256)\",\n",
    "                    \"border-opacity\" : 1.0,\n",
    "                    \"border-width\" : 2,\n",
    "\n",
    "                },\n",
    "            },\n",
    "            {\n",
    "                \"selector\": \"node[role = 'seed']\",\n",
    "                \"css\": {\n",
    "                    \"background-color\": \"#f53e37\",\n",
    "                    \"width\": 20,\n",
    "                    \"height\": 20\n",
    "                },\n",
    "            },\n",
    "            {\n",
    "                \"selector\": \"node[role = 'pred']\",\n",
    "                \"css\": {\n",
    "                    \"background-color\": \"#ff9529\",\n",
    "                    \"width\": 20,\n",
    "                    \"height\": 20\n",
    "                },\n",
    "            },\n",
    "            {\n",
    "                \"selector\": \"node[role = 'mutual_interactor']\",\n",
    "                \"css\": {\n",
    "                    \"background-color\": \"#6599d1\",\n",
    "                    \"width\": 20,\n",
    "                    \"height\": 20\n",
    "                },\n",
    "            }\n",
    "        ]\n",
    "\n",
    "    if save_path is not None:\n",
    "        with open(save_path, 'w') as f:\n",
    "            json.dump(cyjs_network, f, indent=4)\n",
    "\n",
    "    cytoscape = Cytoscape(data=cyjs_network, visual_style=style)\n",
    "    return cytoscape\n",
    "\n",
    "def patched_get_network(network, seed_nodes, pred_nodes, model=None,\n",
    "                show_seed_mi=True, excluded_interactions=[], size_limit=200):\n",
    "    \"\"\" Get the disease subgraph of\n",
    "    Args:\n",
    "        disease: (Disease) A disease object\n",
    "    \"\"\"\n",
    "    entrez_to_genbank = load_mapping(\"data/protein_attrs/genbank_to_entrez.txt\",\n",
    "                                     b_transform=int, delimiter='\\t', reverse=True)\n",
    "    nodes = {}\n",
    "\n",
    "    def add_node(node, role=\"seed\"):\n",
    "        if node not in nodes:\n",
    "            if model is not None and role == \"mutual_interactor\":\n",
    "                weight = float(model.milieu_weights[0, 0, node] / np.sqrt(network.nx.degree(node)))\n",
    "            else:\n",
    "                weight = 1.0\n",
    "            nodes[node] = {\n",
    "                \"data\": {\n",
    "                    \"role\": role,\n",
    "                    \"id\": str(node),\n",
    "                    \"entrez\": str(network.get_name(node)),\n",
    "                    \"genbank\": entrez_to_genbank.get(network.get_name(node), \"\"),\n",
    "                    \"normalized_milieu_weight\": weight\n",
    "                }\n",
    "            }\n",
    "\n",
    "    # add seed nodes\n",
    "    for seed_node in seed_nodes:\n",
    "        add_node(seed_node, role=\"seed\")\n",
    "\n",
    "    # get seed node neighbors\n",
    "    seed_node_to_nbrs = {node: set(network.nx.neighbors(node))\n",
    "                         for node in seed_nodes}\n",
    "    # get mutual interactors between preds and seed\n",
    "    for pred_node in pred_nodes:\n",
    "        add_node(pred_node, role=\"pred\")\n",
    "    for pred_node in pred_nodes:\n",
    "        pred_nbrs = set(network.nx.neighbors(pred_node))\n",
    "        for seed_node in seed_nodes:\n",
    "            seed_nbrs = seed_node_to_nbrs[seed_node]\n",
    "            common_nbrs = seed_nbrs & pred_nbrs\n",
    "            for common_nbr in common_nbrs:\n",
    "                add_node(common_nbr, role=\"mutual_interactor\")\n",
    "\n",
    "    # the set of nodes intermediate between nodes in the\n",
    "    if show_seed_mi:\n",
    "        for a, node_a in enumerate(seed_nodes):\n",
    "            for b, node_b in enumerate(seed_nodes):\n",
    "                # avoid repeat pairs\n",
    "                if a >= b:\n",
    "                    continue\n",
    "                common_nbrs = seed_node_to_nbrs[node_a] & seed_node_to_nbrs[node_b]\n",
    "                for common_nbr in common_nbrs:\n",
    "                    add_node(common_nbr, role=\"mutual_interactor\")\n",
    "\n",
    "    if size_limit is not None:\n",
    "        if size_limit < len(seed_nodes) + len(pred_nodes):\n",
    "            raise ValueError(f\"size_limit ({size_limit}) must be at least as large as the total number\" +\n",
    "                             f\"of seed and predicted nodes ({len(seed_nodes) + len(pred_nodes)}).\")\n",
    "        while len(nodes) > size_limit:\n",
    "            node = random.choice(list(nodes.keys()))\n",
    "            node_data = nodes[node][\"data\"]\n",
    "            if node_data[\"role\"] == \"mutual_interactor\":\n",
    "                del nodes[node]\n",
    "\n",
    "    # get induced subgraph\n",
    "    subgraph = nx.Graph(network.nx.subgraph(nodes.keys()))\n",
    "\n",
    "    # subgraph.remove_edges_from(subgraph.selfloop_edges())\n",
    "    subgraph.remove_edges_from(list(nx.selfloop_edges(subgraph)))  # Use nx.selfloop_edges to get self-loop edges\n",
    "\n",
    "    edges = []\n",
    "    for edge in subgraph.edges():\n",
    "        if (nodes[edge[0]][\"data\"][\"role\"],\n",
    "            nodes[edge[1]][\"data\"][\"role\"]) in excluded_interactions:\n",
    "            continue\n",
    "        edges.append({\n",
    "            \"data\": {\n",
    "                \"source\": str(edge[0]),\n",
    "                \"target\": str(edge[1]),\n",
    "                \"roles\": f'{nodes[edge[0]][\"data\"][\"role\"]}-{nodes[edge[1]][\"data\"][\"role\"]}'\n",
    "            }\n",
    "        })\n",
    "\n",
    "    return {\"elements\": {\"nodes\": list(nodes.values()), \"edges\": edges}}"
   ],
   "metadata": {
    "id": "Gg_uiMtOfISy"
   },
   "execution_count": 27,
   "outputs": []
  },
  {
   "cell_type": "code",
   "source": [
    "# Generate a network visualization with cytoscape\n",
    "# Note: it is recommended to limit the size of the visualization to ~250 nodes\n",
    "cy_vis = patched_show_network(network, tracheomalacia_entrez, predicted_entrez, id_format=\"entrez\",\n",
    "                      model=milieu,\n",
    "                      show_seed_mi=True, excluded_interactions=[(\"mutual_interactor\", \"mutual_interactor\")],\n",
    "                      size_limit=250)"
   ],
   "metadata": {
    "id": "SQ0gct_6cCgJ"
   },
   "execution_count": 33,
   "outputs": []
  },
  {
   "cell_type": "code",
   "source": [
    "# Show the visualization!\n",
    "# Red nodes are the seed nodes fed to the momdel.\n",
    "# Orange nodes are predicted nodes. Blue nodes are the interactors between them.\n",
    "cy_vis"
   ],
   "metadata": {
    "colab": {
     "base_uri": "https://localhost:8080/",
     "height": 17,
     "referenced_widgets": [
      "96d6acc3170d41c8bc95dd97e480ddba"
     ]
    },
    "id": "INMn0YpHcH4b",
    "outputId": "297b982f-9581-4ee8-b071-ae5bba9f7293"
   },
   "execution_count": 32,
   "outputs": [
    {
     "output_type": "display_data",
     "data": {
      "text/plain": [
       "Cytoscape(data={'elements': {'nodes': [{'data': {'role': 'seed', 'id': '925', 'entrez': '1280', 'genbank': 'CO…"
      ],
      "application/vnd.jupyter.widget-view+json": {
       "version_major": 2,
       "version_minor": 0,
       "model_id": "96d6acc3170d41c8bc95dd97e480ddba"
      }
     },
     "metadata": {
      "application/vnd.jupyter.widget-view+json": {
       "colab": {
        "custom_widget_manager": {
         "url": "https://ssl.gstatic.com/colaboratory-static/widgets/colab-cdn-widget-manager/2b70e893a8ba7c0f/manager.min.js"
        }
       }
      }
     }
    }
   ]
  },
  {
   "cell_type": "markdown",
   "source": [
    "# Milieu model for C. elegans"
   ],
   "metadata": {
    "id": "vibvId4Y08TK"
   }
  },
  {
   "cell_type": "code",
   "source": [
    "# Load data\n",
    "network = Network(\"data/networks/species_9606/bio-pathways/network.txt\")"
   ],
   "metadata": {
    "id": "tmrjl-As2vmA"
   },
   "execution_count": null,
   "outputs": []
  },
  {
   "cell_type": "code",
   "source": [
    "# Patch the __init__ method for the Network class\n",
    "import os\n",
    "import logging\n",
    "import random\n",
    "\n",
    "import numpy as np\n",
    "import pandas as pd\n",
    "import networkx as nx\n",
    "\n",
    "class PULoss(nn.Module):\n",
    "    def __init__(self, positive_weight=1.0, unlabeled_weight=0.1):\n",
    "        \"\"\"\n",
    "        PU Learning loss function for Mutual Interactors model.\n",
    "\n",
    "        Args:\n",
    "        - positive_weight (float): Weight for known positives.\n",
    "        - unlabeled_weight (float): Initial weight for unlabeled nodes.\n",
    "        \"\"\"\n",
    "        super(PULoss, self).__init__()\n",
    "        self.positive_weight = positive_weight\n",
    "        self.unlabeled_weight = unlabeled_weight\n",
    "\n",
    "    def forward(self, outputs, labels, unlabeled_mask):\n",
    "        \"\"\"\n",
    "        Compute PU learning loss.\n",
    "\n",
    "        Args:\n",
    "        - outputs (Tensor): Model probability outputs (logits).\n",
    "        - labels (Tensor): Binary tensor (1 for positive nodes, 0 for others).\n",
    "        - unlabeled_mask (Tensor): Binary tensor (1 for unlabeled nodes, 0 for positives).\n",
    "\n",
    "        Returns:\n",
    "        - loss (Tensor): Weighted binary cross-entropy loss.\n",
    "        \"\"\"\n",
    "        pos_loss = -self.positive_weight * labels * torch.log(torch.sigmoid(outputs) + 1e-8)\n",
    "        w_j = self.unlabeled_weight  # Can be refined dynamically\n",
    "        unlabeled_loss = -w_j * unlabeled_mask * torch.log(1 - torch.sigmoid(outputs) + 1e-8)\n",
    "\n",
    "        loss = pos_loss + unlabeled_loss\n",
    "        return loss.mean()\n",
    "\n",
    "class MilieuWorm(nn.Module):\n",
    "    def __init__(self, ...):\n",
    "        super(Milieu, self).__init__()\n",
    "        self.loss_fn = PULoss(positive_weight=1.0, unlabeled_weight=0.5)  # Replace BCE loss\n",
    "\n",
    "    def loss(self, outputs, targets, unlabeled_mask):\n",
    "        return self.loss_fn(outputs, targets, unlabeled_mask)\n",
    "\n",
    "    # def _build_model(self):\n",
    "    #     \"\"\"\n",
    "    #     Initialize the variables and parameters of the Milieu model.\n",
    "    #     See Methods, Equation (2) for corresponding mathematical definition.\n",
    "    #     \"\"\"\n",
    "    #     # degree vector, (D^{-0.5} in Equation (2))\n",
    "    #     degree = np.sum(self.adj_matrix, axis=1, dtype=float)\n",
    "    #     inv_sqrt_degree = np.power(degree, -0.5)\n",
    "    #     inv_sqrt_degree = torch.tensor(inv_sqrt_degree, dtype=torch.float)\n",
    "\n",
    "    #     # adjacency matrix of network, (A in Equation (2))\n",
    "    #     adj_matrix = torch.tensor(self.adj_matrix, dtype=torch.float)\n",
    "\n",
    "    #     # precompute the symmetric normalized adj matrix, used on the left of Equation (2)\n",
    "    #     adj_matrix_left = torch.mul(torch.mul(inv_sqrt_degree.view(1, -1),\n",
    "    #                                           adj_matrix),\n",
    "    #                                 inv_sqrt_degree.view(-1, 1))\n",
    "\n",
    "    #     # precompute the normalized adj matrix, used on the right of Equation (2)\n",
    "    #     adj_matrix_right = torch.mul(inv_sqrt_degree.view(1, -1),\n",
    "    #                                  adj_matrix)\n",
    "    #     self.register_buffer(\"adj_matrix_right\", adj_matrix_right)\n",
    "    #     self.register_buffer(\"adj_matrix_left\", adj_matrix_left)\n",
    "\n",
    "    #     # milieu weight vector, ('W' in Equation (2))\n",
    "    #     self.milieu_weights = nn.Parameter(torch.ones(1, 1, adj_matrix.shape[0],\n",
    "    #                                        dtype=torch.float,\n",
    "    #                                        requires_grad=True))\n",
    "\n",
    "    #     # scaling parameter, ('a' in in Equation (2))\n",
    "    #     self.scale = nn.Linear(1, 1)\n",
    "\n",
    "    #     # the bias parameter, ('b' in Equation (2))\n",
    "    #     self.bias = nn.Parameter(torch.ones(size=(1,),\n",
    "    #                                         dtype=torch.float,\n",
    "    #                                         requires_grad=True))\n",
    "\n"
   ],
   "metadata": {
    "id": "wkNFwN3J08zN"
   },
   "execution_count": null,
   "outputs": []
  }
 ]
}
